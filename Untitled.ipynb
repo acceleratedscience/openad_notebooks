{
 "cells": [
  {
   "cell_type": "code",
   "execution_count": 2,
   "id": "2d4a48dd-af80-44cf-90e2-f6520b66c0d2",
   "metadata": {
    "execution": {
     "iopub.execute_input": "2024-10-04T03:43:52.022861Z",
     "iopub.status.busy": "2024-10-04T03:43:52.022458Z",
     "iopub.status.idle": "2024-10-04T03:43:52.082194Z",
     "shell.execute_reply": "2024-10-04T03:43:52.081491Z",
     "shell.execute_reply.started": "2024-10-04T03:43:52.022829Z"
    },
    "tags": []
   },
   "outputs": [
    {
     "data": {
      "text/markdown": [
       "<span style=\"color: #090\">Molecule <span style=\"color: #dc0\">False</span> was added</span> <br> \n"
      ],
      "text/plain": [
       "<IPython.core.display.Markdown object>"
      ]
     },
     "metadata": {},
     "output_type": "display_data"
    }
   ],
   "source": [
    "%openad add mol CCO basic force"
   ]
  },
  {
   "cell_type": "code",
   "execution_count": null,
   "id": "76648948-d8c7-42d3-802a-13515da85c23",
   "metadata": {},
   "outputs": [],
   "source": []
  }
 ],
 "metadata": {
  "kernelspec": {
   "display_name": "ad-moe",
   "language": "python",
   "name": "ad-moe"
  },
  "language_info": {
   "codemirror_mode": {
    "name": "ipython",
    "version": 3
   },
   "file_extension": ".py",
   "mimetype": "text/x-python",
   "name": "python",
   "nbconvert_exporter": "python",
   "pygments_lexer": "ipython3",
   "version": "3.11.7"
  }
 },
 "nbformat": 4,
 "nbformat_minor": 5
}
