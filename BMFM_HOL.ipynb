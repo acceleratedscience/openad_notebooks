{
 "cells": [
  {
   "cell_type": "code",
   "execution_count": null,
   "id": "3d7c5ff1-94f6-4a37-9611-ad074587b230",
   "metadata": {
    "execution": {
     "iopub.execute_input": "2024-10-17T03:46:54.483933Z",
     "iopub.status.busy": "2024-10-17T03:46:54.483585Z",
     "iopub.status.idle": "2024-10-17T03:46:54.564424Z",
     "shell.execute_reply": "2024-10-17T03:46:54.563698Z",
     "shell.execute_reply.started": "2024-10-17T03:46:54.483906Z"
    },
    "tags": []
   },
   "outputs": [],
   "source": [
    "# Import styles\n",
    "import sys\n",
    "sys.path.append('./styles')\n",
    "from init_style import init\n",
    "init()"
   ]
  },
  {
   "cell_type": "markdown",
   "id": "10a09eb9-df76-48bc-8e2c-d401e44d85e4",
   "metadata": {},
   "source": [
    "<!-- Header banner -->\n",
    "<div class=\"banner\"><div>Mammal Model Introduction</div><b>OpenAD <span>Tutorial</span></b></div>"
   ]
  },
  {
   "cell_type": "markdown",
   "id": "9c262c6a-96c8-409d-b085-c81c2caf1fc6",
   "metadata": {},
   "source": [
    "### Table of Contents\n",
    "\n",
    "- [Introduction to OpenAD](#Introduction-to-OpenAD)\n",
    "- [Introduction to BMFM Mammal](#Introduction-to-BMFM-Mammal)<br>\n",
    "    -[Foundation models for Targets Discovery](#Foundation-models-for-Targets-Discovery)<br>\n",
    "    -[Foundation Models for Biologics Discovery](#Foundation-Models-for-Biologics-Discovery)<br>\n",
    "    -[Foundation Models for Small Molecules Discovery](#Foundation-Models-for-Small-Molecules-Discovery)<br>\n",
    "- [Working With OpenAD Magic Commands](#Working-with-OpenAD-Commands)\n",
    "- [The Hands on Lab](#The-Hands-on-Lab)"
   ]
  },
  {
   "cell_type": "markdown",
   "id": "69532fc9-35e2-48e0-8330-f3751c59f39e",
   "metadata": {
    "tags": []
   },
   "source": [
    "## Introduction to OpenAD"
   ]
  },
  {
   "cell_type": "markdown",
   "id": "57bdb745-fa32-476f-a3f9-da7e27be1791",
   "metadata": {
    "execution": {
     "iopub.execute_input": "2024-10-16T21:32:53.626573Z",
     "iopub.status.busy": "2024-10-16T21:32:53.626280Z",
     "iopub.status.idle": "2024-10-16T21:32:53.635047Z",
     "shell.execute_reply": "2024-10-16T21:32:53.633728Z",
     "shell.execute_reply.started": "2024-10-16T21:32:53.626548Z"
    },
    "tags": []
   },
   "source": [
    "OpenAD is an open-source framework for molecular and materials discovery developed by IBM Research.\n",
    "\n",
    "The OpenAD client is accessible from a command line interface, Jupyter Notebook and an API. It provides unified access to a variety of tools and AI models for literature knowledge extraction, forward and retrosynthesis prediction, generative methods and property inference. You can train models on your own data as well as visualize and filter candidate molecules.\n",
    "\n",
    "#### Home Page <br><a href=\"https://accelerate.science/projects/openad\">accelerate.science/projects/openad</a>\n",
    "\n",
    "#### PyPi <br><a href=\"https://pypi.org/project/openad/\"> OpenAD on PYPI</a>\n",
    "\n",
    "#### Online Documentation\n",
    "This opens the OpenAD documentation website:<br><a href=\"https://acceleratedscience.github.io/openad-docs/\">acceleratedscience.github.io/openad-docs</a>"
   ]
  },
  {
   "cell_type": "markdown",
   "id": "2d480fd6-20ae-4037-a039-e33bc6e4f336",
   "metadata": {
    "tags": []
   },
   "source": [
    "## Introduction to BMFM Mammal"
   ]
  },
  {
   "cell_type": "markdown",
   "id": "fdd48ec1-b04d-4cef-b01e-70b1ee37c458",
   "metadata": {},
   "source": [
    "Learning a molecular language for protein interactions is crucial for advancing drug discovery. Foundation models, trained on diverse biomedical data like antibody-antigen interactions and small molecule-protein interactions, are transforming this field. Unlike traditional computational approaches, they widen the search scope for novel molecules and refine it to eliminate unsuitable ones, emphasizing the detailed nuances in molecular structure and dynamics.\n",
    "\n",
    "IBM Research biomedical foundation model (BMFM) technologies leverage multi-modal data of different types, including drug-like small molecules and proteins (covering a total of more than a billion molecules), as well as single-cell RNA sequence and other biomedical data.\n",
    "\n",
    "Our research team has a diverse range of expertise, including computational chemistry, medicinal chemistry, artificial intelligence, computational biology, physical sciences, and biomedical informatics.\n",
    "\n",
    "Our BMFM Technologies currently cover the following three domains:\n",
    "- Foundation models for Targets Discovery\n",
    "- Foundation Models for Biologics Discovery\n",
    "- Foundation Models for Small Molecules Discovery"
   ]
  },
  {
   "cell_type": "markdown",
   "id": "6d9c9d7b-f7d4-4d65-a737-77c10b8de222",
   "metadata": {
    "execution": {
     "iopub.execute_input": "2024-10-16T21:05:09.120446Z",
     "iopub.status.busy": "2024-10-16T21:05:09.120164Z",
     "iopub.status.idle": "2024-10-16T21:05:09.291640Z",
     "shell.execute_reply": "2024-10-16T21:05:09.290599Z",
     "shell.execute_reply.started": "2024-10-16T21:05:09.120421Z"
    },
    "tags": []
   },
   "source": [
    "<img src=\"./media/BMFM_Technologies_for_Drug_Discovery_1_625f4be741.jpeg\" width=1000 >"
   ]
  },
  {
   "cell_type": "markdown",
   "id": "ef1f7e26-ef91-47eb-b473-3138735830b3",
   "metadata": {},
   "source": [
    "### Foundation models for Targets Discovery\n",
    "\n",
    "Targets discovery models learn the representation of DNA, bulk RNA, single-cell RNA expression data and other cell level signaling information for the identification of novel diagnostic and therapeutic targets, allowing tasks such as cell type annotation and classification, gene perturbation prediction, disease state prediction, splice variants prediction, promoter region, and treatment response."
   ]
  },
  {
   "cell_type": "markdown",
   "id": "3b7b0a9d-ffef-42b7-adc0-7c65d6648a6b",
   "metadata": {},
   "source": [
    "<img src=\"./media/BMFM_1_1ce4bc0401.png\" style=\"background-color:white;\" width=1000>"
   ]
  },
  {
   "cell_type": "markdown",
   "id": "f9f53786-6e34-4824-a3eb-b5fb013e12a3",
   "metadata": {},
   "source": [
    "### Foundation Models for Biologics Discovery\n",
    "\n",
    "Biologics discovery models focus on biologic therapeutics discovery, with the goal of leveraging large-scale representations of protein sequences, structures, and dynamics for diverse downstream tasks associated with multiple biologics modalities. These models produce unified representations of biological molecular entities, integrating data such as protein sequences, protein complex structures, and protein-protein complex binding free energies into a single framework. These models can serve as the basis for diverse downstream tasks in therapeutic design, including candidate generation and assessment, across antibody, TCR, vaccine, and other modalities."
   ]
  },
  {
   "cell_type": "markdown",
   "id": "0dca6987-c72d-41a1-a355-28fcc97ab81f",
   "metadata": {},
   "source": [
    "<img src=\"./media/BMFM_2_ae4ec386c4.png\" style=\"background-color:white;\"width=1000>"
   ]
  },
  {
   "cell_type": "markdown",
   "id": "5c7b3cca-ab39-49e3-bfd3-d2034be25b62",
   "metadata": {},
   "source": [
    "### Foundation Models for Small Molecules Discovery\n",
    "\n",
    "Small molecules models can address a wide variety of downstream predictive and generative tasks. These models are trained on multiple representations of small molecules data to learn rich low-dimensional representations of biochemical entities relevant to drug discovery, allowing tasks such as property and affinity prediction, multi-model late fusion prediction, and scaffold-based generation. Predictive models are transformer models pretrained on multiple views (i.e., modalities) of small molecule data and learn rich latent representations by maximizing mutual information across different views of molecules. Generative models learn by driving input molecules to output mutant molecules with a cognate property embedding of the mutant via diffusive denoising networks. Given a set of desired properties and a desired template molecule (3D-strcutures), a set of designer molecules (3D-strcutures) can be obtained."
   ]
  },
  {
   "cell_type": "markdown",
   "id": "bd2dd03b-f76c-46c8-ae32-46b8d3b7a85c",
   "metadata": {
    "execution": {
     "iopub.execute_input": "2024-10-16T21:10:32.593151Z",
     "iopub.status.busy": "2024-10-16T21:10:32.592849Z",
     "iopub.status.idle": "2024-10-16T21:10:32.601362Z",
     "shell.execute_reply": "2024-10-16T21:10:32.599815Z",
     "shell.execute_reply.started": "2024-10-16T21:10:32.593123Z"
    },
    "tags": []
   },
   "source": [
    "<img src=\"./media/BMFM_3_6ef1496dbf.png\" style=\"background-color:white;\" width=1000>"
   ]
  },
  {
   "cell_type": "markdown",
   "id": "72032dbd-8ac8-43c9-8c17-7d1264e92097",
   "metadata": {},
   "source": [
    "## Working with OpenAD Commands"
   ]
  },
  {
   "cell_type": "markdown",
   "id": "5bf4c8b6-ffe0-4115-a280-12dcb118c3b9",
   "metadata": {
    "execution": {
     "iopub.execute_input": "2024-10-16T19:45:46.376712Z",
     "iopub.status.busy": "2024-10-16T19:45:46.376418Z",
     "iopub.status.idle": "2024-10-16T19:45:46.402679Z",
     "shell.execute_reply": "2024-10-16T19:45:46.401901Z",
     "shell.execute_reply.started": "2024-10-16T19:45:46.376686Z"
    },
    "tags": []
   },
   "source": [
    "When using Magic commands to access the Openad toolkit you have 2 options \n",
    "\n",
    "1. **Default mode:** `%openad`<br>\n",
    "This is the recommended mode, which will display your data and warnings visually in your Notebook.<br>\n",
    "Whenever displaying data, follow-up commands are displayed that allow you to further process the data, eg. `result open`, `result edit`, `result copy`<br><br>\n",
    "Example usage:\n",
    "    \n",
    "        %openad display data 'sample.csv'\n",
    "\n",
    "\n",
    "<br>\n",
    "\n",
    "2. **Data mode:** `%openadd`<br>\n",
    "This mode skips visualisation and returns your results in a dataframe or list format that can then be used programatically in functions or flows in your Notebook. This is useful for prebuilt Notebook process flows.<br><br>\n",
    "Example usage:\n",
    "\n",
    "        my_data = %openadd display data 'sample.csv'\n",
    "\n",
    "    This is essentially shorthand for:\n",
    "    \n",
    "        %openad display data 'sample.csv'\n",
    "        my_data = %openad result as dataframe\n",
    "\n",
    "#### Using variables\n",
    "Magic commands can access variables from your Notebook, using the `{variable_name}` syntax.\n",
    "\n",
    "    external_file = '~/openad_notebooks/examples/base_molecules.csv'\n",
    "    new_filename = '<imported_data.csv>'\n",
    "    import from '{molecules_file}' to '{new_filename}'"
   ]
  },
  {
   "cell_type": "markdown",
   "id": "9f66c247-8892-4689-893d-baac197cd2be",
   "metadata": {},
   "source": [
    "## The Hands on Lab"
   ]
  },
  {
   "cell_type": "code",
   "execution_count": 1,
   "id": "5a112679-a038-40ef-9e7d-42a0b0c2ba8c",
   "metadata": {
    "execution": {
     "iopub.execute_input": "2024-10-17T02:54:13.053546Z",
     "iopub.status.busy": "2024-10-17T02:54:13.053241Z",
     "iopub.status.idle": "2024-10-17T02:54:13.060156Z",
     "shell.execute_reply": "2024-10-17T02:54:13.059180Z",
     "shell.execute_reply.started": "2024-10-17T02:54:13.053520Z"
    },
    "tags": []
   },
   "outputs": [],
   "source": [
    "import os\n"
   ]
  },
  {
   "cell_type": "code",
   "execution_count": null,
   "id": "8b81997c-9842-491a-84e4-f901a2a1817d",
   "metadata": {
    "execution": {
     "iopub.execute_input": "2024-10-17T02:54:14.758365Z",
     "iopub.status.busy": "2024-10-17T02:54:14.758069Z",
     "iopub.status.idle": "2024-10-17T02:54:35.042403Z",
     "shell.execute_reply": "2024-10-17T02:54:35.041900Z",
     "shell.execute_reply.started": "2024-10-17T02:54:14.758339Z"
    },
    "tags": []
   },
   "outputs": [],
   "source": [
    "%openad uncatalog model service  mammal\n",
    "%openad uncatalog model service sm"
   ]
  },
  {
   "cell_type": "code",
   "execution_count": null,
   "id": "9ea67c37-2c83-4aad-93c5-5047333cffe3",
   "metadata": {
    "execution": {
     "iopub.execute_input": "2024-10-17T02:54:35.054050Z",
     "iopub.status.busy": "2024-10-17T02:54:35.053810Z",
     "iopub.status.idle": "2024-10-17T02:54:39.345224Z",
     "shell.execute_reply": "2024-10-17T02:54:39.344179Z",
     "shell.execute_reply.started": "2024-10-17T02:54:35.054031Z"
    },
    "tags": []
   },
   "outputs": [],
   "source": [
    "%openad catalog model service from remote '{mammal_url}' as mammal\n",
    "%openad catalog model service from remote '{sm_url}' as sm"
   ]
  },
  {
   "cell_type": "code",
   "execution_count": null,
   "id": "440d3adb-dcbd-46ab-bf94-5bf6fd4561ec",
   "metadata": {
    "execution": {
     "iopub.execute_input": "2024-10-17T02:54:39.347693Z",
     "iopub.status.busy": "2024-10-17T02:54:39.347453Z",
     "iopub.status.idle": "2024-10-17T02:54:51.358308Z",
     "shell.execute_reply": "2024-10-17T02:54:51.357441Z",
     "shell.execute_reply.started": "2024-10-17T02:54:39.347671Z"
    },
    "tags": []
   },
   "outputs": [],
   "source": [
    "%openad model service status"
   ]
  },
  {
   "cell_type": "markdown",
   "id": "2c061bf6-763f-4589-ab5c-94c4969c4c17",
   "metadata": {},
   "source": [
    "### Initializing the Data we will be working with"
   ]
  },
  {
   "cell_type": "markdown",
   "id": "5de488a7-12a8-49f6-9ea0-d3ec39e6372c",
   "metadata": {},
   "source": [
    "#### First Lets initialise the Drug Small Molecules we will be working with as a List in Python"
   ]
  },
  {
   "cell_type": "code",
   "execution_count": null,
   "id": "a53d9c7a-3d3b-4dba-a95f-0690668319f9",
   "metadata": {
    "execution": {
     "iopub.execute_input": "2024-10-17T02:54:51.359825Z",
     "iopub.status.busy": "2024-10-17T02:54:51.359365Z",
     "iopub.status.idle": "2024-10-17T02:54:51.393381Z",
     "shell.execute_reply": "2024-10-17T02:54:51.392619Z",
     "shell.execute_reply.started": "2024-10-17T02:54:51.359784Z"
    },
    "tags": []
   },
   "outputs": [],
   "source": [
    "%openad clear molecules Force\n",
    "drug_smiles = [ 'CC(C)C(CO)NC1=NC(=C2C(=N1)N(C=N2)C(C)C)NC3=CC(=C(C=C3)C(=O)O)Cl', 'Ruboxistaurin','flavopiridol','fasudil','Quercitin',\\\n",
    "                 'h89','Purvalanol','gefitinib','PD173955','C1=CC=C2C(=C1)C(=C(N2)O)C3=C(C4=CC=CC=C4N3)N=O','lapatinib','LY294002','PP2']"
   ]
  },
  {
   "cell_type": "markdown",
   "id": "90ec7840-e28d-41b2-a441-ee60277ef1e7",
   "metadata": {
    "execution": {
     "iopub.execute_input": "2024-10-16T21:42:56.648732Z",
     "iopub.status.busy": "2024-10-16T21:42:56.648448Z",
     "iopub.status.idle": "2024-10-16T21:42:56.663972Z",
     "shell.execute_reply": "2024-10-16T21:42:56.662376Z",
     "shell.execute_reply.started": "2024-10-16T21:42:56.648709Z"
    },
    "tags": []
   },
   "source": [
    "#### Now Lets Look at the Protein Targets we are defining"
   ]
  },
  {
   "cell_type": "code",
   "execution_count": 7,
   "id": "d0e5a353-db9d-425a-aaa5-409211e133f5",
   "metadata": {
    "execution": {
     "iopub.execute_input": "2024-10-17T02:54:51.394982Z",
     "iopub.status.busy": "2024-10-17T02:54:51.394644Z",
     "iopub.status.idle": "2024-10-17T02:54:51.402098Z",
     "shell.execute_reply": "2024-10-17T02:54:51.401137Z",
     "shell.execute_reply.started": "2024-10-17T02:54:51.394955Z"
    },
    "tags": []
   },
   "outputs": [],
   "source": [
    "# this proteins will be used in our analysis later on \n",
    "proteins= ['SVERIYQKKTQLEHILLRPDTYIGSVELVTQQMWVYDEDVGINYREVTFVPGLYKIFDEILVNAADNKQRDPKMSCIRVTIDPENNLISIWNNGKGIPVVEHKVEKMYVPALIFGQLLTSSNYDDDE\\\n",
    "KKVTGGRNGYGAKLCNIFSTKFTVETASREYKKMFKQTWMDNMGRAGEMELKPFNGEDYTCITFQPDLSKFKMQSLDKDIVALMVRRAYDIAGSTKDVKVFLNGNKLPVKGFRSYVDMYLKDKLDETGNSLKVIHEQVNH\\\n",
    "RWEVCLTMSEKGFQQISFVNSIATSKGGRHVDYVADQIVTKLVDVVKKKNKGGVAVKAHQVKNHMWIFVNALIENPTFDSQTKENMTLQPKSFGSTCQLSEKFIKAAIGCGIVESILNWVKFKAQVQLNKKCS',\\\n",
    "'TTYADFIASGRTGRRNAIHD','KVTMNDFDYLKLLGKGTFGKVILVREKATGRYYAMKILRKEVIIAKDEVAHTVTESRVLQNTRHPFLTALKYAFQTHDRLCFVMEYANGGELFFHLSRERVFTEERARFYGAEIVSA\\\n",
    "LEYLHSRDVVYRDIKLENLMLDKDGHIKITDFGLCKEGISDGATMKTFCGTPEYLAPEVLEDNDYGRAVDWWGLGVVMYEMMCGRLPFYNQDHERLFELILMEEIRFPRTLSPEAKSLLAGLLKKDPKQRLGGGPSDAKEVM\\\n",
    "EHRFFLSINWQDVVQKKLLPPFKPQVTSEVDTRYFDDEFTAQSITITPPDRYDSLGLLELDQRTHFPQFDYSASIR',\\\n",
    "'GAMDPKVTMNDFDYLKLLGKGTFGKVILVREKATGRYYAMKILRKEVIIAKDEVAHTVTESRVLQNTRHPFLTALKYAFQTHDRLCFVMEYANGGELFFHLSRERVFTEERARFYGAEIVSALEYLHSRDVVYRDIKLENL\\\n",
    "MLDKDGHIKITDFGLCKEGISDGATMKTFCGTPEYLAPEVLEDNDYGRAVDWWGLGVVMYEMMCGRLPFYNQDHERLFELILMEEIRFPRTLSPEAKSLLAGLLKKDPKQRLGGGPSDAKEVMEHRFFLSINWQDVVQKKLLP\\\n",
    "PFKPQVTSEVDTRYFDDEFTAQSITITPPDRYDSLGLLELDQREEQEMFEDFDYIADW']"
   ]
  },
  {
   "cell_type": "markdown",
   "id": "8628d67c-be83-4aba-8321-99254ade22b8",
   "metadata": {
    "execution": {
     "iopub.execute_input": "2024-10-16T21:46:30.344325Z",
     "iopub.status.busy": "2024-10-16T21:46:30.344005Z",
     "iopub.status.idle": "2024-10-16T21:46:30.350106Z",
     "shell.execute_reply": "2024-10-16T21:46:30.349267Z",
     "shell.execute_reply.started": "2024-10-16T21:46:30.344298Z"
    },
    "tags": []
   },
   "source": [
    "#### Adding the Molecules"
   ]
  },
  {
   "cell_type": "markdown",
   "id": "5b2c7ebd-6847-4ea6-9674-c39ff8a24af0",
   "metadata": {
    "execution": {
     "iopub.execute_input": "2024-10-17T01:52:07.600024Z",
     "iopub.status.busy": "2024-10-17T01:52:07.599765Z",
     "iopub.status.idle": "2024-10-17T01:52:07.664401Z",
     "shell.execute_reply": "2024-10-17T01:52:07.663251Z",
     "shell.execute_reply.started": "2024-10-17T01:52:07.600001Z"
    },
    "tags": []
   },
   "source": [
    "There are different ways molecules can be loaded into the Molecule Working set in OpenAD "
   ]
  },
  {
   "cell_type": "markdown",
   "id": "e592470c-1746-4df5-8a12-3460a914cdfe",
   "metadata": {
    "execution": {
     "iopub.execute_input": "2024-10-17T01:53:09.197683Z",
     "iopub.status.busy": "2024-10-17T01:53:09.197402Z",
     "iopub.status.idle": "2024-10-17T01:53:09.264409Z",
     "shell.execute_reply": "2024-10-17T01:53:09.262877Z",
     "shell.execute_reply.started": "2024-10-17T01:53:09.197658Z"
    },
    "tags": []
   },
   "source": [
    "****Using the Load Molecules Function:****"
   ]
  },
  {
   "cell_type": "code",
   "execution_count": null,
   "id": "f4f8457e-5c18-4e90-9799-8eb5ca97b2da",
   "metadata": {
    "execution": {
     "iopub.execute_input": "2024-10-17T02:54:51.403409Z",
     "iopub.status.busy": "2024-10-17T02:54:51.402969Z",
     "iopub.status.idle": "2024-10-17T02:54:51.421408Z",
     "shell.execute_reply": "2024-10-17T02:54:51.420715Z",
     "shell.execute_reply.started": "2024-10-17T02:54:51.403379Z"
    },
    "tags": []
   },
   "outputs": [],
   "source": [
    "%openad load molecules ?"
   ]
  },
  {
   "cell_type": "code",
   "execution_count": null,
   "id": "d469d991-b6d9-4a1f-aa04-97e62912db90",
   "metadata": {
    "execution": {
     "iopub.execute_input": "2024-10-17T02:54:51.449921Z",
     "iopub.status.busy": "2024-10-17T02:54:51.449393Z",
     "iopub.status.idle": "2024-10-17T02:54:51.486868Z",
     "shell.execute_reply": "2024-10-17T02:54:51.485761Z",
     "shell.execute_reply.started": "2024-10-17T02:54:51.449886Z"
    },
    "tags": []
   },
   "outputs": [],
   "source": [
    "%openad load molecules|mols from dataframe ?\n",
    "%openad load molecules|mols from file ?"
   ]
  },
  {
   "cell_type": "markdown",
   "id": "e7f8cda6-a05c-46ab-ac83-5daae004688b",
   "metadata": {},
   "source": [
    "But today we will be simply adding them one by one using different identifers and retrieving the base molecule details from pubchem\n",
    "\n",
    "For every Molecule  in the list add it to the Working Molecule set forcing through wihtout conformation"
   ]
  },
  {
   "cell_type": "code",
   "execution_count": null,
   "id": "370edb2b-3098-4128-ad61-a733ae9f8df9",
   "metadata": {
    "execution": {
     "iopub.execute_input": "2024-10-17T02:54:51.488531Z",
     "iopub.status.busy": "2024-10-17T02:54:51.488104Z",
     "iopub.status.idle": "2024-10-17T02:55:21.847882Z",
     "shell.execute_reply": "2024-10-17T02:55:21.847178Z",
     "shell.execute_reply.started": "2024-10-17T02:54:51.488490Z"
    },
    "tags": []
   },
   "outputs": [],
   "source": [
    "\n",
    "for i in drug_smiles:\n",
    "    %openad add molecule {i} force "
   ]
  },
  {
   "cell_type": "markdown",
   "id": "ee35292e-89eb-44c5-85f6-af50e595e540",
   "metadata": {
    "execution": {
     "iopub.execute_input": "2024-10-17T02:00:35.860442Z",
     "iopub.status.busy": "2024-10-17T02:00:35.860139Z",
     "iopub.status.idle": "2024-10-17T02:00:35.928100Z",
     "shell.execute_reply": "2024-10-17T02:00:35.926708Z",
     "shell.execute_reply.started": "2024-10-17T02:00:35.860417Z"
    },
    "tags": []
   },
   "source": [
    "#### Viewing the Molecules We have Added\n",
    "Now we will use the Molecule Viewer in OpenAD to view our molecules.\n",
    "\n",
    "Ths view an be enlarged into a different window and the Molecules can be individually selected,\n",
    "\n",
    "As youb cursor over a box you will see some icons, choose the one that looks like a light bulb that is located right of each molecules box then select and display that molecule in 3D and its properties."
   ]
  },
  {
   "cell_type": "code",
   "execution_count": null,
   "id": "cb8b7400-a588-42e0-909e-fba3b4d6bace",
   "metadata": {
    "execution": {
     "iopub.execute_input": "2024-10-17T02:55:21.897681Z",
     "iopub.status.busy": "2024-10-17T02:55:21.897494Z",
     "iopub.status.idle": "2024-10-17T02:55:21.979379Z",
     "shell.execute_reply": "2024-10-17T02:55:21.978489Z",
     "shell.execute_reply.started": "2024-10-17T02:55:21.897660Z"
    },
    "tags": []
   },
   "outputs": [],
   "source": [
    "%openad show Molecules"
   ]
  },
  {
   "cell_type": "markdown",
   "id": "f2582081-de18-4f43-b458-b8990aa4aeb2",
   "metadata": {},
   "source": [
    "Now we can also List the molecules or export them as a raw data frame. Below we will simply list"
   ]
  },
  {
   "cell_type": "code",
   "execution_count": null,
   "id": "4c260fbb-d31d-4596-978b-a8862b6b371b",
   "metadata": {
    "execution": {
     "iopub.execute_input": "2024-10-17T02:55:30.804730Z",
     "iopub.status.busy": "2024-10-17T02:55:30.804423Z",
     "iopub.status.idle": "2024-10-17T02:55:30.893884Z",
     "shell.execute_reply": "2024-10-17T02:55:30.893084Z",
     "shell.execute_reply.started": "2024-10-17T02:55:30.804704Z"
    },
    "tags": []
   },
   "outputs": [],
   "source": [
    "%openadd list mols\n",
    "\n"
   ]
  },
  {
   "cell_type": "markdown",
   "id": "700d1e3f-5bde-4c9e-acaf-86152af7e9c5",
   "metadata": {},
   "source": [
    "### Running our First Inference with Foundation Models for Small Molecules Discovery"
   ]
  },
  {
   "cell_type": "markdown",
   "id": "09e69aa9-99bd-4c3a-b523-9bf5c94e243d",
   "metadata": {
    "execution": {
     "iopub.execute_input": "2024-10-17T02:06:52.506482Z",
     "iopub.status.busy": "2024-10-17T02:06:52.506194Z",
     "iopub.status.idle": "2024-10-17T02:06:52.584239Z",
     "shell.execute_reply": "2024-10-17T02:06:52.583071Z",
     "shell.execute_reply.started": "2024-10-17T02:06:52.506458Z"
    },
    "tags": []
   },
   "source": [
    "Now we are going to run our first inference using the Foundation Models for Small Molecules Discovery, we have a select number of properties available.\n",
    "\n",
    "Run the following command  to view the help showing available molecule properties in the service."
   ]
  },
  {
   "cell_type": "code",
   "execution_count": null,
   "id": "980748c0-1564-4484-8164-69476e932278",
   "metadata": {
    "execution": {
     "iopub.execute_input": "2024-10-17T02:55:41.220024Z",
     "iopub.status.busy": "2024-10-17T02:55:41.219540Z",
     "iopub.status.idle": "2024-10-17T02:55:41.728905Z",
     "shell.execute_reply": "2024-10-17T02:55:41.728100Z",
     "shell.execute_reply.started": "2024-10-17T02:55:41.219997Z"
    },
    "scrolled": true,
    "tags": []
   },
   "outputs": [],
   "source": [
    "%openad  sm get molecule property ?"
   ]
  },
  {
   "cell_type": "markdown",
   "id": "961bc88e-f55c-4341-954e-1d269036b515",
   "metadata": {},
   "source": [
    "As we run the servces rather than respecifying our molecules in the command we can refer to them in the command by using `@mols` which is a shortcut to the list of molecules , we also haved added the clause ` merge with molecules` to merge the data back in to our molecule working set."
   ]
  },
  {
   "cell_type": "code",
   "execution_count": null,
   "id": "7d45912e-13b2-4d90-aac7-e3ee9c0d2723",
   "metadata": {
    "execution": {
     "iopub.execute_input": "2024-10-17T02:55:44.237293Z",
     "iopub.status.busy": "2024-10-17T02:55:44.236762Z",
     "iopub.status.idle": "2024-10-17T03:00:46.504777Z",
     "shell.execute_reply": "2024-10-17T03:00:46.503979Z",
     "shell.execute_reply.started": "2024-10-17T02:55:44.237265Z"
    },
    "scrolled": true,
    "tags": []
   },
   "outputs": [],
   "source": [
    "%openad sm get molecule property [ BACE, BBBP,  ESOL, FREESOLV, LIPOPHILICITY, QM7,  TOX21 ] for @mols merge with molecules"
   ]
  },
  {
   "cell_type": "markdown",
   "id": "30977196-d198-4266-b4c1-0597a70176e8",
   "metadata": {},
   "source": [
    "### Performing Drug Target Interaction Analysis (DTI)"
   ]
  },
  {
   "cell_type": "markdown",
   "id": "a2cefdb9-49fa-4277-b48d-f0a6ff81d666",
   "metadata": {},
   "source": [
    "In the following we are going to extract the list of molecules we have in our working set, place the SMILES for each in a list, then retrieve for each one their ESOL property we generated earlier and their Molecular weight and performan arbitary filtering of the molecules based on the below if statement. We remove those that do not meet the criteria from the list and run a DTI analysis against each molecule against our selected proteins that we defined earlier."
   ]
  },
  {
   "cell_type": "code",
   "execution_count": null,
   "id": "60209bdb-aaad-45fd-87e6-555de68f1075",
   "metadata": {
    "execution": {
     "iopub.execute_input": "2024-10-17T03:00:46.520415Z",
     "iopub.status.busy": "2024-10-17T03:00:46.519972Z",
     "iopub.status.idle": "2024-10-17T03:03:22.299423Z",
     "shell.execute_reply": "2024-10-17T03:03:22.298936Z",
     "shell.execute_reply.started": "2024-10-17T03:00:46.520393Z"
    },
    "scrolled": true,
    "tags": []
   },
   "outputs": [],
   "source": [
    "mols = %openadd export molecules\n",
    "\n",
    "from pandas import DataFrame as pd\n",
    "results =[]\n",
    "for x in mols['canonical_smiles'].to_list():\n",
    "    molecular_weight = %openadd @{x}>>molecular_weight\n",
    "    ESOL = %openadd @{x}>>ESOL\n",
    "    \n",
    "    if 4.40 < float(molecular_weight) and ESOL > float(-5.0) :\n",
    "        name = %openadd @'{x}'>>name\n",
    "        display(Markdown(f\"#### Drug Target Interaction Indicator for {name} : {x}\"))\n",
    "        result = %openadd mammal get protein property dti for {proteins} using (drug_smiles='{x}')\n",
    "        result\n",
    "        results.append(result)\n",
    "    else:\n",
    "        %openad remove molecule {x} Force\n",
    "\n",
    "import pandas as pd\n",
    "results = pd.concat(results, ignore_index=True)\n"
   ]
  },
  {
   "cell_type": "markdown",
   "id": "bc4ddf47-478f-4822-ace2-eb087f1ec687",
   "metadata": {},
   "source": [
    "### Now Lets display the Results as one Data frame"
   ]
  },
  {
   "cell_type": "code",
   "execution_count": null,
   "id": "fdd724d7-b923-45e5-8fa5-b73fda0acce2",
   "metadata": {
    "execution": {
     "iopub.execute_input": "2024-10-17T03:03:22.300677Z",
     "iopub.status.busy": "2024-10-17T03:03:22.300364Z",
     "iopub.status.idle": "2024-10-17T03:03:22.339332Z",
     "shell.execute_reply": "2024-10-17T03:03:22.338677Z",
     "shell.execute_reply.started": "2024-10-17T03:03:22.300654Z"
    },
    "tags": []
   },
   "outputs": [],
   "source": [
    "results"
   ]
  },
  {
   "cell_type": "markdown",
   "id": "febdbfd6-4a93-4c59-bb7f-f2ac560373b1",
   "metadata": {},
   "source": [
    "### Now Lets Review our Molecule Working Set\n",
    "\n",
    "Notice the ones idenfified as removed are no longer there"
   ]
  },
  {
   "cell_type": "code",
   "execution_count": null,
   "id": "baf6524c-d2ee-4564-b7d2-92a6cfd4e9f6",
   "metadata": {
    "execution": {
     "iopub.execute_input": "2024-10-17T03:03:22.340692Z",
     "iopub.status.busy": "2024-10-17T03:03:22.340165Z",
     "iopub.status.idle": "2024-10-17T03:03:22.542158Z",
     "shell.execute_reply": "2024-10-17T03:03:22.541580Z",
     "shell.execute_reply.started": "2024-10-17T03:03:22.340663Z"
    },
    "tags": []
   },
   "outputs": [],
   "source": [
    "%openad show molecules"
   ]
  },
  {
   "cell_type": "markdown",
   "id": "88f3e2e6-a66f-4969-9bd1-b6754fb2d0ca",
   "metadata": {
    "execution": {
     "iopub.execute_input": "2024-10-17T01:28:06.046341Z",
     "iopub.status.busy": "2024-10-17T01:28:06.045912Z",
     "iopub.status.idle": "2024-10-17T01:28:06.104832Z",
     "shell.execute_reply": "2024-10-17T01:28:06.104240Z",
     "shell.execute_reply.started": "2024-10-17T01:28:06.046312Z"
    },
    "tags": []
   },
   "source": [
    "### Visualizing Proteins "
   ]
  },
  {
   "cell_type": "markdown",
   "id": "36d91de1-147f-4df5-b1e5-6c2d0675c95f",
   "metadata": {},
   "source": [
    "Now Lets to finish off by using the protein viewer and generate the solubility for each of the proteins in our list"
   ]
  },
  {
   "cell_type": "code",
   "execution_count": null,
   "id": "d5349a0c-8bcf-495d-b4c8-f0679d29e321",
   "metadata": {
    "execution": {
     "iopub.execute_input": "2024-10-17T03:03:22.543344Z",
     "iopub.status.busy": "2024-10-17T03:03:22.543157Z",
     "iopub.status.idle": "2024-10-17T03:03:45.786360Z",
     "shell.execute_reply": "2024-10-17T03:03:45.785553Z",
     "shell.execute_reply.started": "2024-10-17T03:03:22.543325Z"
    },
    "tags": []
   },
   "outputs": [],
   "source": [
    "for protein in proteins:\n",
    "    %openad show protein '{protein}'\n",
    "    %openadd mammal get protein property sol for protein"
   ]
  },
  {
   "cell_type": "code",
   "execution_count": null,
   "id": "8281fe29-5c1d-49cd-89be-ef7197c38c65",
   "metadata": {},
   "outputs": [],
   "source": []
  }
 ],
 "metadata": {
  "kernelspec": {
   "display_name": "ad-moe",
   "language": "python",
   "name": "ad-moe"
  },
  "language_info": {
   "codemirror_mode": {
    "name": "ipython",
    "version": 3
   },
   "file_extension": ".py",
   "mimetype": "text/x-python",
   "name": "python",
   "nbconvert_exporter": "python",
   "pygments_lexer": "ipython3",
   "version": "3.11.7"
  }
 },
 "nbformat": 4,
 "nbformat_minor": 5
}
