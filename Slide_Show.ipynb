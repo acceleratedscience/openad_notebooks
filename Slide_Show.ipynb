{
 "cells": [
  {
   "cell_type": "code",
   "execution_count": null,
   "id": "2fe2630a-7eb1-4914-a249-836e88883433",
   "metadata": {
    "jupyter": {
     "source_hidden": true
    },
    "tags": []
   },
   "outputs": [],
   "source": [
    "# Import styles\n",
    "import sys\n",
    "sys.path.append('./styles')\n",
    "from init_style import init\n",
    "init()"
   ]
  },
  {
   "cell_type": "markdown",
   "id": "ccf182de-544f-4552-82f1-e670e3883baa",
   "metadata": {
    "slideshow": {
     "slide_type": "slide"
    },
    "tags": []
   },
   "source": [
    "<!-- Header banner -->\n",
    "<div class=\"banner\"><div>Slide Show Demonstrations</div><b>OpenAD <span>Tutorial</span></b></div>"
   ]
  },
  {
   "cell_type": "markdown",
   "id": "0460cf50-6e3e-4685-9533-e40723b5d623",
   "metadata": {
    "execution": {
     "iopub.execute_input": "2024-06-20T02:25:23.889942Z",
     "iopub.status.busy": "2024-06-20T02:25:23.889643Z",
     "iopub.status.idle": "2024-06-20T02:25:23.897370Z",
     "shell.execute_reply": "2024-06-20T02:25:23.896079Z",
     "shell.execute_reply.started": "2024-06-20T02:25:23.889913Z"
    },
    "tags": []
   },
   "source": [
    "# Demonstration : Source PFAS Molecules and find Alternatives\n",
    "\n",
    "### - Add list of PFAS molecules\n",
    "### - Use IBM's OpenAD's open-source property generation to generate additional properties\n",
    "### - Merge and collate molecule data with OpenAD toolkit\n",
    "### - Generate similar molecules with IBM open-source Regression Transformer with higher soluability\n",
    "### - Generate properties and display those molecules and the existing PFAS Moelcules\n",
    "\n"
   ]
  },
  {
   "cell_type": "markdown",
   "id": "f54412c2-22e3-4c5f-a3f3-aabf7865130c",
   "metadata": {
    "slideshow": {
     "slide_type": "slide"
    },
    "tags": []
   },
   "source": [
    "## Step 1 Add a set of Pubchem Molecules that deemed PFAS molecules </span>"
   ]
  },
  {
   "cell_type": "code",
   "execution_count": 6,
   "id": "d015f355-942e-4922-8b9f-2021612e1e98",
   "metadata": {
    "execution": {
     "iopub.execute_input": "2024-10-04T03:47:45.262992Z",
     "iopub.status.busy": "2024-10-04T03:47:45.262714Z",
     "iopub.status.idle": "2024-10-04T03:47:56.941024Z",
     "shell.execute_reply": "2024-10-04T03:47:56.940317Z",
     "shell.execute_reply.started": "2024-10-04T03:47:45.262967Z"
    },
    "tags": []
   },
   "outputs": [
    {
     "data": {
      "text/markdown": [
       "<span style=\"color: #090\">Molecule <span style=\"color: #dc0\">2,3,3,3-tetrafluoro-2-(heptafluoropropoxy)propanoic acid</span> was added</span> <br> \n"
      ],
      "text/plain": [
       "<IPython.core.display.Markdown object>"
      ]
     },
     "metadata": {},
     "output_type": "display_data"
    },
    {
     "data": {
      "text/markdown": [
       "<span style=\"color: #090\">Molecule <span style=\"color: #dc0\">Perfluorononanoic acid</span> was added</span> <br> \n"
      ],
      "text/plain": [
       "<IPython.core.display.Markdown object>"
      ]
     },
     "metadata": {},
     "output_type": "display_data"
    },
    {
     "data": {
      "text/markdown": [
       "<span style=\"color: #090\">Molecule <span style=\"color: #dc0\">Perfluorooctane sulfonic acid</span> was added</span> <br> \n"
      ],
      "text/plain": [
       "<IPython.core.display.Markdown object>"
      ]
     },
     "metadata": {},
     "output_type": "display_data"
    },
    {
     "data": {
      "text/markdown": [
       "<span style=\"color: #090\">Molecule <span style=\"color: #dc0\">Perfluorohexanesulphonic acid</span> was added</span> <br> \n"
      ],
      "text/plain": [
       "<IPython.core.display.Markdown object>"
      ]
     },
     "metadata": {},
     "output_type": "display_data"
    },
    {
     "data": {
      "text/markdown": [
       "<span style=\"color: #090\">Molecule <span style=\"color: #dc0\">perfluorohexanesulfonate</span> was added</span> <br> \n"
      ],
      "text/plain": [
       "<IPython.core.display.Markdown object>"
      ]
     },
     "metadata": {},
     "output_type": "display_data"
    }
   ],
   "source": [
    "%openad add molecule '2,3,3,3-tetrafluoro-2-(heptafluoropropoxy)propanoic acid' force \n",
    "\n",
    "%openad add molecule 'Perfluorononanoic acid' force \n",
    "\n",
    "%openad add molecule 'Perfluorooctane sulfonic acid' force\n",
    "\n",
    "%openad add molecule  'Perfluorohexanesulphonic acid' force \n",
    "\n",
    "%openad add molecule 16760155 force \n"
   ]
  },
  {
   "cell_type": "markdown",
   "id": "ec328022-7087-4e02-9a02-147a0610c4db",
   "metadata": {
    "slideshow": {
     "slide_type": "slide"
    },
    "tags": []
   },
   "source": [
    "## Step 2: Use IBM's OpenAD open-source property generation to generate additional properties</span>"
   ]
  },
  {
   "cell_type": "markdown",
   "id": "918a7d43-c202-4b18-86ba-d9844037056e",
   "metadata": {},
   "source": [
    "Load molecules into a OpenAD molecule set and Initialize the list of additional proerties to generate"
   ]
  },
  {
   "cell_type": "code",
   "execution_count": 7,
   "id": "8827ef75-1bf6-41d6-84a3-33f58f6b6745",
   "metadata": {
    "execution": {
     "iopub.execute_input": "2024-10-04T03:48:08.864138Z",
     "iopub.status.busy": "2024-10-04T03:48:08.863814Z",
     "iopub.status.idle": "2024-10-04T03:48:08.873270Z",
     "shell.execute_reply": "2024-10-04T03:48:08.872583Z",
     "shell.execute_reply.started": "2024-10-04T03:48:08.864108Z"
    },
    "tags": []
   },
   "outputs": [],
   "source": [
    "\n",
    "\n",
    "#Define list of Delta to be inferred properties\n",
    "properties = ['is_scaffold', 'bertz', 'tpsa', 'logp', 'qed', 'plogp', 'penalized_logp', 'lipinski', 'sas', 'esol']"
   ]
  },
  {
   "cell_type": "markdown",
   "id": "f9d7563d-5506-42ba-8878-67639adda15f",
   "metadata": {
    "tags": []
   },
   "source": [
    "Generate and merge the additional properties"
   ]
  },
  {
   "cell_type": "code",
   "execution_count": 9,
   "id": "0d42da8e-82e2-40d7-999c-85807f239805",
   "metadata": {
    "execution": {
     "iopub.execute_input": "2024-10-04T03:48:32.436371Z",
     "iopub.status.busy": "2024-10-04T03:48:32.436101Z",
     "iopub.status.idle": "2024-10-04T03:48:33.951534Z",
     "shell.execute_reply": "2024-10-04T03:48:33.950862Z",
     "shell.execute_reply.started": "2024-10-04T03:48:32.436349Z"
    },
    "tags": []
   },
   "outputs": [
    {
     "data": {
      "application/vnd.jupyter.widget-view+json": {
       "model_id": "dabd85e836d14af4948de5329eca35b9",
       "version_major": 2,
       "version_minor": 0
      },
      "text/plain": [
       "Output()"
      ]
     },
     "metadata": {},
     "output_type": "display_data"
    },
    {
     "data": {
      "text/markdown": [
       "<span style=\"color: #090\">Data merged into your working set</span> <br> \n"
      ],
      "text/plain": [
       "<IPython.core.display.Markdown object>"
      ]
     },
     "metadata": {},
     "output_type": "display_data"
    }
   ],
   "source": [
    "# Generate SMILES properties\n",
    "mol_properties = %openadd prop get molecule property {properties} for  @mols\n",
    "%openad merge molecules data from dataframe mol_properties"
   ]
  },
  {
   "cell_type": "markdown",
   "id": "5a6bd729-2a6f-4184-99fe-b1de20f68fd7",
   "metadata": {
    "execution": {
     "iopub.execute_input": "2024-05-13T07:28:42.461718Z",
     "iopub.status.busy": "2024-05-13T07:28:42.461365Z",
     "iopub.status.idle": "2024-05-13T07:28:42.468797Z",
     "shell.execute_reply": "2024-05-13T07:28:42.467947Z",
     "shell.execute_reply.started": "2024-05-13T07:28:42.461687Z"
    },
    "slideshow": {
     "slide_type": "slide"
    },
    "tags": []
   },
   "source": [
    "### Let's Examine the available Molecules"
   ]
  },
  {
   "cell_type": "code",
   "execution_count": 10,
   "id": "c6b67566-a444-4e13-98e5-3f5de94922f0",
   "metadata": {
    "execution": {
     "iopub.execute_input": "2024-10-04T03:48:43.473332Z",
     "iopub.status.busy": "2024-10-04T03:48:43.473091Z",
     "iopub.status.idle": "2024-10-04T03:48:43.504269Z",
     "shell.execute_reply": "2024-10-04T03:48:43.503522Z",
     "shell.execute_reply.started": "2024-10-04T03:48:43.473310Z"
    },
    "tags": []
   },
   "outputs": [
    {
     "data": {
      "text/html": [
       "\n",
       "            <style>\n",
       "                #btn-wrap-1728013723 { height:12px; right:20px; display:flex; flex-direction:row-reverse; position:relative }\n",
       "                #btn-wrap-1728013723 a { color:#393939; width:24px; height:24px; padding:4px; box-sizing:border-box; background:white }\n",
       "                #btn-wrap-1728013723 a:hover { color: #0f62fe }\n",
       "            </style>\n",
       "            <div id=\"btn-wrap-1728013723\"><a target=\"_blank\" href=\"http://127.0.0.1:8026/my-mols\"><svg width=\"16\" height=\"16\" viewBox=\"0 0 16 16\" fill=\"none\" xmlns=\"http://www.w3.org/2000/svg\"><path d=\"M13 14H3C2.73489 13.9996 2.48075 13.8942 2.29329 13.7067C2.10583 13.5193 2.00036 13.2651 2 13V3C2.00036 2.73489 2.10583 2.48075 2.29329 2.29329C2.48075 2.10583 2.73489 2.00036 3 2H8V3H3V13H13V8H14V13C13.9996 13.2651 13.8942 13.5193 13.7067 13.7067C13.5193 13.8942 13.2651 13.9996 13 14Z\" fill=\"currentColor\"/><path d=\"M10 1V2H13.293L9 6.293L9.707 7L14 2.707V6H15V1H10Z\" fill=\"currentColor\"/></svg></a><a href=\"#\" onclick=\"event.preventDefault(); document.querySelector('#btn-wrap-1728013723 + iframe').src=document.querySelector('#btn-wrap-1728013723 + iframe').src;\"><svg width=\"16\" height=\"16\" viewBox=\"0 0 16 16\" fill=\"none\" xmlns=\"http://www.w3.org/2000/svg\"><path d=\"M9 14C10.1867 14 11.3467 13.6481 12.3334 12.9888C13.3201 12.3295 14.0892 11.3925 14.5433 10.2961C14.9974 9.19975 15.1162 7.99335 14.8847 6.82946C14.6532 5.66558 14.0818 4.59648 13.2426 3.75736C12.4035 2.91825 11.3344 2.3468 10.1705 2.11529C9.00666 1.88378 7.80026 2.0026 6.7039 2.45673C5.60754 2.91085 4.67047 3.67989 4.01118 4.66658C3.35189 5.65328 3 6.81331 3 8V11.1L1.2 9.3L0.5 10L3.5 13L6.5 10L5.8 9.3L4 11.1V8C4 7.0111 4.29324 6.0444 4.84265 5.22215C5.39206 4.39991 6.17295 3.75904 7.08658 3.38061C8.00021 3.00217 9.00555 2.90315 9.97545 3.09608C10.9454 3.289 11.8363 3.76521 12.5355 4.46447C13.2348 5.16373 13.711 6.05465 13.9039 7.02455C14.0969 7.99446 13.9978 8.99979 13.6194 9.91342C13.241 10.8271 12.6001 11.6079 11.7779 12.1574C10.9556 12.7068 9.98891 13 9 13V14Z\" fill=\"currentColor\"/></svg></a></div><iframe src=\"http://127.0.0.1:8026/headless/my-mols\" crossorigin=\"anonymous\" width=\"100%\" height=\"700\" style=\"border:solid 1px #ddd;box-sizing:border-box;width:calc(100% + 20px)\"></iframe>"
      ],
      "text/plain": [
       "<IPython.core.display.HTML object>"
      ]
     },
     "metadata": {},
     "output_type": "display_data"
    }
   ],
   "source": [
    "%openad show molecules"
   ]
  },
  {
   "cell_type": "markdown",
   "id": "efcf4407-66ad-4243-b66e-4b42bb5b2c36",
   "metadata": {
    "slideshow": {
     "slide_type": "slide"
    },
    "tags": []
   },
   "source": [
    "### Drilling in on the details of a molecule"
   ]
  },
  {
   "cell_type": "code",
   "execution_count": 11,
   "id": "9029b147-99d2-4645-843e-26bf5410ab9e",
   "metadata": {
    "execution": {
     "iopub.execute_input": "2024-10-04T03:48:49.415113Z",
     "iopub.status.busy": "2024-10-04T03:48:49.414820Z",
     "iopub.status.idle": "2024-10-04T03:48:49.449487Z",
     "shell.execute_reply": "2024-10-04T03:48:49.448669Z",
     "shell.execute_reply.started": "2024-10-04T03:48:49.415086Z"
    },
    "tags": []
   },
   "outputs": [
    {
     "data": {
      "text/html": [
       "\n",
       "            <style>\n",
       "                #btn-wrap-1728013729 { height:12px; right:20px; display:flex; flex-direction:row-reverse; position:relative }\n",
       "                #btn-wrap-1728013729 a { color:#393939; width:24px; height:24px; padding:4px; box-sizing:border-box; background:white }\n",
       "                #btn-wrap-1728013729 a:hover { color: #0f62fe }\n",
       "            </style>\n",
       "            <div id=\"btn-wrap-1728013729\"><a target=\"_blank\" href=\"http://127.0.0.1:8026/smol/Perfluorononanoic%20acid\"><svg width=\"16\" height=\"16\" viewBox=\"0 0 16 16\" fill=\"none\" xmlns=\"http://www.w3.org/2000/svg\"><path d=\"M13 14H3C2.73489 13.9996 2.48075 13.8942 2.29329 13.7067C2.10583 13.5193 2.00036 13.2651 2 13V3C2.00036 2.73489 2.10583 2.48075 2.29329 2.29329C2.48075 2.10583 2.73489 2.00036 3 2H8V3H3V13H13V8H14V13C13.9996 13.2651 13.8942 13.5193 13.7067 13.7067C13.5193 13.8942 13.2651 13.9996 13 14Z\" fill=\"currentColor\"/><path d=\"M10 1V2H13.293L9 6.293L9.707 7L14 2.707V6H15V1H10Z\" fill=\"currentColor\"/></svg></a><a href=\"#\" onclick=\"event.preventDefault(); document.querySelector('#btn-wrap-1728013729 + iframe').src=document.querySelector('#btn-wrap-1728013729 + iframe').src;\"><svg width=\"16\" height=\"16\" viewBox=\"0 0 16 16\" fill=\"none\" xmlns=\"http://www.w3.org/2000/svg\"><path d=\"M9 14C10.1867 14 11.3467 13.6481 12.3334 12.9888C13.3201 12.3295 14.0892 11.3925 14.5433 10.2961C14.9974 9.19975 15.1162 7.99335 14.8847 6.82946C14.6532 5.66558 14.0818 4.59648 13.2426 3.75736C12.4035 2.91825 11.3344 2.3468 10.1705 2.11529C9.00666 1.88378 7.80026 2.0026 6.7039 2.45673C5.60754 2.91085 4.67047 3.67989 4.01118 4.66658C3.35189 5.65328 3 6.81331 3 8V11.1L1.2 9.3L0.5 10L3.5 13L6.5 10L5.8 9.3L4 11.1V8C4 7.0111 4.29324 6.0444 4.84265 5.22215C5.39206 4.39991 6.17295 3.75904 7.08658 3.38061C8.00021 3.00217 9.00555 2.90315 9.97545 3.09608C10.9454 3.289 11.8363 3.76521 12.5355 4.46447C13.2348 5.16373 13.711 6.05465 13.9039 7.02455C14.0969 7.99446 13.9978 8.99979 13.6194 9.91342C13.241 10.8271 12.6001 11.6079 11.7779 12.1574C10.9556 12.7068 9.98891 13 9 13V14Z\" fill=\"currentColor\"/></svg></a></div><iframe src=\"http://127.0.0.1:8026/headless/smol/Perfluorononanoic%20acid\" crossorigin=\"anonymous\" width=\"100%\" height=\"700\" style=\"border:solid 1px #ddd;box-sizing:border-box;width:calc(100% + 20px)\"></iframe>"
      ],
      "text/plain": [
       "<IPython.core.display.HTML object>"
      ]
     },
     "metadata": {},
     "output_type": "display_data"
    }
   ],
   "source": [
    "%openad show molecule 'Perfluorononanoic acid'"
   ]
  },
  {
   "cell_type": "markdown",
   "id": "7d3960d0-219f-405b-b8d4-95ec5a8b87a6",
   "metadata": {
    "slideshow": {
     "slide_type": "slide"
    },
    "tags": []
   },
   "source": [
    "##  Step 3: Generate Similar Molecules with IBM's open-source Regression Transformer"
   ]
  },
  {
   "cell_type": "code",
   "execution_count": 12,
   "id": "da7a67ce-522f-4553-83d4-664c4dc5a75b",
   "metadata": {
    "execution": {
     "iopub.execute_input": "2024-10-04T03:48:55.470374Z",
     "iopub.status.busy": "2024-10-04T03:48:55.470077Z",
     "iopub.status.idle": "2024-10-04T03:49:21.194355Z",
     "shell.execute_reply": "2024-10-04T03:49:21.193535Z",
     "shell.execute_reply.started": "2024-10-04T03:48:55.470349Z"
    },
    "scrolled": true,
    "tags": []
   },
   "outputs": [
    {
     "data": {
      "text/plain": [
       "'Generating Molecules for C(=O)(C(C(C(C(C(C(C(C(F)(F)F)(F)F)(F)F)(F)F)(F)F)(F)F)(F)F)(F)F)O with soluability:-6.5519409880260815'"
      ]
     },
     "metadata": {},
     "output_type": "display_data"
    },
    {
     "data": {
      "application/vnd.jupyter.widget-view+json": {
       "model_id": "4f0185d4648546ae890be67f94fee03b",
       "version_major": 2,
       "version_minor": 0
      },
      "text/plain": [
       "Output()"
      ]
     },
     "metadata": {},
     "output_type": "display_data"
    },
    {
     "data": {
      "text/html": [
       "<div>\n",
       "<style scoped>\n",
       "    .dataframe tbody tr th:only-of-type {\n",
       "        vertical-align: middle;\n",
       "    }\n",
       "\n",
       "    .dataframe tbody tr th {\n",
       "        vertical-align: top;\n",
       "    }\n",
       "\n",
       "    .dataframe thead th {\n",
       "        text-align: right;\n",
       "    }\n",
       "</style>\n",
       "<table border=\"1\" class=\"dataframe\">\n",
       "  <thead>\n",
       "    <tr style=\"text-align: right;\">\n",
       "      <th></th>\n",
       "      <th>0</th>\n",
       "      <th>1</th>\n",
       "    </tr>\n",
       "  </thead>\n",
       "  <tbody>\n",
       "    <tr>\n",
       "      <th>0</th>\n",
       "      <td>C(=O)(C(C(C(C(C(C(OC(F)(F)F)(F)F)([O-]))(F)F)(...</td>\n",
       "      <td>&lt;esol&gt;-6.852</td>\n",
       "    </tr>\n",
       "    <tr>\n",
       "      <th>1</th>\n",
       "      <td>C(=O)(C(C(C(C(C(C(F)(F)F)CF)(F)F)(F)F)(F)F)(F)F)O</td>\n",
       "      <td>&lt;esol&gt;-6.8935</td>\n",
       "    </tr>\n",
       "    <tr>\n",
       "      <th>2</th>\n",
       "      <td>C(=O)(C(C(C(C(C(C(OC(F)(F)OCF)(F)F)(O)F)(F)F)(...</td>\n",
       "      <td>&lt;esol&gt;-6.852</td>\n",
       "    </tr>\n",
       "    <tr>\n",
       "      <th>3</th>\n",
       "      <td>C(=O)(C(C(C(C(C(C(OC(F)(F)F)(F)F))(F)F)(F)F)(F...</td>\n",
       "      <td>&lt;esol&gt;-6.852</td>\n",
       "    </tr>\n",
       "    <tr>\n",
       "      <th>4</th>\n",
       "      <td>C(=O)(C(C(C(C(C(C(C(C(F)(F)F)(F)O)(F)F)(F)F)(F...</td>\n",
       "      <td>&lt;esol&gt;-6.8935</td>\n",
       "    </tr>\n",
       "    <tr>\n",
       "      <th>5</th>\n",
       "      <td>C(=O)(C(C(C(C(C(C(F)(F)F)(F)F)(F)F)(F)F)(F)F)(...</td>\n",
       "      <td>&lt;esol&gt;-6.852</td>\n",
       "    </tr>\n",
       "    <tr>\n",
       "      <th>6</th>\n",
       "      <td>C(=O)(C(C(C(C(C(C(C(C(F)(F)F)(F)F)(F)F))(F)))F...</td>\n",
       "      <td>&lt;esol&gt;-6.8935</td>\n",
       "    </tr>\n",
       "    <tr>\n",
       "      <th>7</th>\n",
       "      <td>C(=O)(C(C(C(C(C(C(C(C(F)(F)F)(F)F)))(F)F))F)(F...</td>\n",
       "      <td>&lt;esol&gt;-6.852</td>\n",
       "    </tr>\n",
       "    <tr>\n",
       "      <th>8</th>\n",
       "      <td>C(=O)(C(C(C(C(C(C(C(C(F)(F)F))))(F)F))(F)F)(F)F)O</td>\n",
       "      <td>&lt;esol&gt;-6.852</td>\n",
       "    </tr>\n",
       "    <tr>\n",
       "      <th>9</th>\n",
       "      <td>C(=O)(C(C(C(C(C(C(C(C(F)(F)F)(F)F)(F)F))(C)))F...</td>\n",
       "      <td>&lt;esol&gt;-6.852</td>\n",
       "    </tr>\n",
       "  </tbody>\n",
       "</table>\n",
       "</div>"
      ],
      "text/plain": [
       "                                                   0              1\n",
       "0  C(=O)(C(C(C(C(C(C(OC(F)(F)F)(F)F)([O-]))(F)F)(...   <esol>-6.852\n",
       "1  C(=O)(C(C(C(C(C(C(F)(F)F)CF)(F)F)(F)F)(F)F)(F)F)O  <esol>-6.8935\n",
       "2  C(=O)(C(C(C(C(C(C(OC(F)(F)OCF)(F)F)(O)F)(F)F)(...   <esol>-6.852\n",
       "3  C(=O)(C(C(C(C(C(C(OC(F)(F)F)(F)F))(F)F)(F)F)(F...   <esol>-6.852\n",
       "4  C(=O)(C(C(C(C(C(C(C(C(F)(F)F)(F)O)(F)F)(F)F)(F...  <esol>-6.8935\n",
       "5  C(=O)(C(C(C(C(C(C(F)(F)F)(F)F)(F)F)(F)F)(F)F)(...   <esol>-6.852\n",
       "6  C(=O)(C(C(C(C(C(C(C(C(F)(F)F)(F)F)(F)F))(F)))F...  <esol>-6.8935\n",
       "7  C(=O)(C(C(C(C(C(C(C(C(F)(F)F)(F)F)))(F)F))F)(F...   <esol>-6.852\n",
       "8  C(=O)(C(C(C(C(C(C(C(C(F)(F)F))))(F)F))(F)F)(F)F)O   <esol>-6.852\n",
       "9  C(=O)(C(C(C(C(C(C(C(C(F)(F)F)(F)F)(F)F))(C)))F...   <esol>-6.852"
      ]
     },
     "metadata": {},
     "output_type": "display_data"
    },
    {
     "data": {
      "text/plain": [
       "'Generating Molecules for C(=O)(C(C(F)(F)F)(OC(C(C(F)(F)F)(F)F)(F)F)F)O with soluability:-4.211602675454153'"
      ]
     },
     "metadata": {},
     "output_type": "display_data"
    },
    {
     "data": {
      "application/vnd.jupyter.widget-view+json": {
       "model_id": "05d54a03cc77465799c5fbf2d40b3984",
       "version_major": 2,
       "version_minor": 0
      },
      "text/plain": [
       "Output()"
      ]
     },
     "metadata": {},
     "output_type": "display_data"
    },
    {
     "data": {
      "text/html": [
       "<div>\n",
       "<style scoped>\n",
       "    .dataframe tbody tr th:only-of-type {\n",
       "        vertical-align: middle;\n",
       "    }\n",
       "\n",
       "    .dataframe tbody tr th {\n",
       "        vertical-align: top;\n",
       "    }\n",
       "\n",
       "    .dataframe thead th {\n",
       "        text-align: right;\n",
       "    }\n",
       "</style>\n",
       "<table border=\"1\" class=\"dataframe\">\n",
       "  <thead>\n",
       "    <tr style=\"text-align: right;\">\n",
       "      <th></th>\n",
       "      <th>0</th>\n",
       "      <th>1</th>\n",
       "    </tr>\n",
       "  </thead>\n",
       "  <tbody>\n",
       "    <tr>\n",
       "      <th>0</th>\n",
       "      <td>C(F)(C(C(F)(F)F)(OC(OC(F)(F)F)(F)F)F)O</td>\n",
       "      <td>&lt;esol&gt;-5.4681</td>\n",
       "    </tr>\n",
       "    <tr>\n",
       "      <th>1</th>\n",
       "      <td>C(O)(C(C(F)(F)F)(OC(OC(F)(F)F)(F)F)F)O</td>\n",
       "      <td>&lt;esol&gt;-5.4681</td>\n",
       "    </tr>\n",
       "    <tr>\n",
       "      <th>2</th>\n",
       "      <td>C(O)(C(C(F)(F)F)(OC(C(C(F)(F)F)(F)F)(F)F)F)O</td>\n",
       "      <td>&lt;esol&gt;-5.4681</td>\n",
       "    </tr>\n",
       "    <tr>\n",
       "      <th>3</th>\n",
       "      <td>C(F)(C(F)(F)F)(OC(C(C(F)(F)F)(F)F)(F)F)F</td>\n",
       "      <td>&lt;esol&gt;-5.4681</td>\n",
       "    </tr>\n",
       "    <tr>\n",
       "      <th>4</th>\n",
       "      <td>C(=O)C(C(F)(F)F)(OC(N(C(F)(F)F)CF)(F)F)F</td>\n",
       "      <td>&lt;esol&gt;-5.5096</td>\n",
       "    </tr>\n",
       "    <tr>\n",
       "      <th>5</th>\n",
       "      <td>C(=O)(C(C(F)(F)F)(OC(C(C(F)(F)F)(F)O)(F)F)F)O</td>\n",
       "      <td>&lt;esol&gt;-5.7449</td>\n",
       "    </tr>\n",
       "    <tr>\n",
       "      <th>6</th>\n",
       "      <td>C(=O)(C(C(F)(F)F)OOC(C(C(F)(F)F)(F)F)(F)F)O</td>\n",
       "      <td>&lt;esol&gt;-5.4681</td>\n",
       "    </tr>\n",
       "    <tr>\n",
       "      <th>7</th>\n",
       "      <td>C(=O)(C(C(F)(F)F)(C)C(C(C(F)(F)F)(F)F)(F)F)O</td>\n",
       "      <td>&lt;esol&gt;-5.4681</td>\n",
       "    </tr>\n",
       "    <tr>\n",
       "      <th>8</th>\n",
       "      <td>C(=O)(C(C(F)(F)F)OCC(C(C(F)(F)F)(F)F)(F)F)O</td>\n",
       "      <td>&lt;esol&gt;-5.4681</td>\n",
       "    </tr>\n",
       "    <tr>\n",
       "      <th>9</th>\n",
       "      <td>C(=O)(C(C(F)(F)F)(S)C(C(C(F)(F)F)(F)F)(F)F)O</td>\n",
       "      <td>&lt;esol&gt;-5.4681</td>\n",
       "    </tr>\n",
       "  </tbody>\n",
       "</table>\n",
       "</div>"
      ],
      "text/plain": [
       "                                               0              1\n",
       "0         C(F)(C(C(F)(F)F)(OC(OC(F)(F)F)(F)F)F)O  <esol>-5.4681\n",
       "1         C(O)(C(C(F)(F)F)(OC(OC(F)(F)F)(F)F)F)O  <esol>-5.4681\n",
       "2   C(O)(C(C(F)(F)F)(OC(C(C(F)(F)F)(F)F)(F)F)F)O  <esol>-5.4681\n",
       "3       C(F)(C(F)(F)F)(OC(C(C(F)(F)F)(F)F)(F)F)F  <esol>-5.4681\n",
       "4       C(=O)C(C(F)(F)F)(OC(N(C(F)(F)F)CF)(F)F)F  <esol>-5.5096\n",
       "5  C(=O)(C(C(F)(F)F)(OC(C(C(F)(F)F)(F)O)(F)F)F)O  <esol>-5.7449\n",
       "6    C(=O)(C(C(F)(F)F)OOC(C(C(F)(F)F)(F)F)(F)F)O  <esol>-5.4681\n",
       "7   C(=O)(C(C(F)(F)F)(C)C(C(C(F)(F)F)(F)F)(F)F)O  <esol>-5.4681\n",
       "8    C(=O)(C(C(F)(F)F)OCC(C(C(F)(F)F)(F)F)(F)F)O  <esol>-5.4681\n",
       "9   C(=O)(C(C(F)(F)F)(S)C(C(C(F)(F)F)(F)F)(F)F)O  <esol>-5.4681"
      ]
     },
     "metadata": {},
     "output_type": "display_data"
    },
    {
     "data": {
      "text/plain": [
       "'Generating Molecules for C(C(C(C(C(F)(F)S(=O)(=O)O)(F)F)(F)F)(F)F)(C(C(C(F)(F)F)(F)F)(F)F)(F)F with soluability:-6.612922026752669'"
      ]
     },
     "metadata": {},
     "output_type": "display_data"
    },
    {
     "data": {
      "application/vnd.jupyter.widget-view+json": {
       "model_id": "3cedd1ad39dc49a1ae8b1af912d12f01",
       "version_major": 2,
       "version_minor": 0
      },
      "text/plain": [
       "Output()"
      ]
     },
     "metadata": {},
     "output_type": "display_data"
    },
    {
     "data": {
      "text/html": [
       "<div>\n",
       "<style scoped>\n",
       "    .dataframe tbody tr th:only-of-type {\n",
       "        vertical-align: middle;\n",
       "    }\n",
       "\n",
       "    .dataframe tbody tr th {\n",
       "        vertical-align: top;\n",
       "    }\n",
       "\n",
       "    .dataframe thead th {\n",
       "        text-align: right;\n",
       "    }\n",
       "</style>\n",
       "<table border=\"1\" class=\"dataframe\">\n",
       "  <thead>\n",
       "    <tr style=\"text-align: right;\">\n",
       "      <th></th>\n",
       "      <th>0</th>\n",
       "      <th>1</th>\n",
       "    </tr>\n",
       "  </thead>\n",
       "  <tbody>\n",
       "    <tr>\n",
       "      <th>0</th>\n",
       "      <td>C(C(C(C(C(F)(F)S(=O)(=O)O)(F)F)(F)F)(F)F)(C(C)...</td>\n",
       "      <td>&lt;esol&gt;-6.8935</td>\n",
       "    </tr>\n",
       "    <tr>\n",
       "      <th>1</th>\n",
       "      <td>C(C(C(C(C(F)(F)S(=O)(=O)O)(F)F)(F)F)(F)F)(C(C(...</td>\n",
       "      <td>&lt;esol&gt;-6.8935</td>\n",
       "    </tr>\n",
       "    <tr>\n",
       "      <th>2</th>\n",
       "      <td>C(C(C(C(C(F)(F)S(=O)(=O)O)(F)F)(F)F)(F)F)(C(C)...</td>\n",
       "      <td>&lt;esol&gt;-6.8935</td>\n",
       "    </tr>\n",
       "    <tr>\n",
       "      <th>3</th>\n",
       "      <td>C(C(C(C(C(F)(F)S(=O)(=O)O)(F)F)(F)F)(F)F)SC(C(...</td>\n",
       "      <td>&lt;esol&gt;-6.8935</td>\n",
       "    </tr>\n",
       "    <tr>\n",
       "      <th>4</th>\n",
       "      <td>C(C(C(C(C(F)(F)S(=O)(=O)O)(F)F)(F)F)(F)F)(C)(C...</td>\n",
       "      <td>&lt;esol&gt;-6.8935</td>\n",
       "    </tr>\n",
       "    <tr>\n",
       "      <th>5</th>\n",
       "      <td>C(C(C(C(C(F)(F))))S(=O)(=O)OCF)(C(C(C(F)(F)F)(...</td>\n",
       "      <td>&lt;esol&gt;-6.8935</td>\n",
       "    </tr>\n",
       "    <tr>\n",
       "      <th>6</th>\n",
       "      <td>C(C(C(C(C(F)(F)S(=O)(=O)O)(F)F)(F)F)(F)F)(C(C(...</td>\n",
       "      <td>&lt;esol&gt;-6.8935</td>\n",
       "    </tr>\n",
       "    <tr>\n",
       "      <th>7</th>\n",
       "      <td>C(C(C(C(C(F)(F)S(=O)(=O)O)(F)F)(F)F)(F)F)(C(C)...</td>\n",
       "      <td>&lt;esol&gt;-6.8935</td>\n",
       "    </tr>\n",
       "    <tr>\n",
       "      <th>8</th>\n",
       "      <td>C(C(C(C(C(F)(C)S(=O))))(O)OCCF)(C(C(C(F)(F)F)(...</td>\n",
       "      <td>&lt;esol&gt;-6.8935</td>\n",
       "    </tr>\n",
       "    <tr>\n",
       "      <th>9</th>\n",
       "      <td>C(C(C(C(C(F)(F)S(=O)(=O)O)(F)F))CCF)(C(C(C(F)(...</td>\n",
       "      <td>&lt;esol&gt;-6.8935</td>\n",
       "    </tr>\n",
       "  </tbody>\n",
       "</table>\n",
       "</div>"
      ],
      "text/plain": [
       "                                                   0              1\n",
       "0  C(C(C(C(C(F)(F)S(=O)(=O)O)(F)F)(F)F)(F)F)(C(C)...  <esol>-6.8935\n",
       "1  C(C(C(C(C(F)(F)S(=O)(=O)O)(F)F)(F)F)(F)F)(C(C(...  <esol>-6.8935\n",
       "2  C(C(C(C(C(F)(F)S(=O)(=O)O)(F)F)(F)F)(F)F)(C(C)...  <esol>-6.8935\n",
       "3  C(C(C(C(C(F)(F)S(=O)(=O)O)(F)F)(F)F)(F)F)SC(C(...  <esol>-6.8935\n",
       "4  C(C(C(C(C(F)(F)S(=O)(=O)O)(F)F)(F)F)(F)F)(C)(C...  <esol>-6.8935\n",
       "5  C(C(C(C(C(F)(F))))S(=O)(=O)OCF)(C(C(C(F)(F)F)(...  <esol>-6.8935\n",
       "6  C(C(C(C(C(F)(F)S(=O)(=O)O)(F)F)(F)F)(F)F)(C(C(...  <esol>-6.8935\n",
       "7  C(C(C(C(C(F)(F)S(=O)(=O)O)(F)F)(F)F)(F)F)(C(C)...  <esol>-6.8935\n",
       "8  C(C(C(C(C(F)(C)S(=O))))(O)OCCF)(C(C(C(F)(F)F)(...  <esol>-6.8935\n",
       "9  C(C(C(C(C(F)(F)S(=O)(=O)O)(F)F))CCF)(C(C(C(F)(...  <esol>-6.8935"
      ]
     },
     "metadata": {},
     "output_type": "display_data"
    },
    {
     "data": {
      "text/plain": [
       "'Generating Molecules for C(C(C(C(F)(F)S(=O)(=O)O)(F)F)(F)F)(C(C(F)(F)F)(F)F)(F)F with soluability:-5.0159731222667325'"
      ]
     },
     "metadata": {},
     "output_type": "display_data"
    },
    {
     "data": {
      "application/vnd.jupyter.widget-view+json": {
       "model_id": "de772fc83aaf4564805b06a1e10eb8cd",
       "version_major": 2,
       "version_minor": 0
      },
      "text/plain": [
       "Output()"
      ]
     },
     "metadata": {},
     "output_type": "display_data"
    },
    {
     "data": {
      "text/html": [
       "<div>\n",
       "<style scoped>\n",
       "    .dataframe tbody tr th:only-of-type {\n",
       "        vertical-align: middle;\n",
       "    }\n",
       "\n",
       "    .dataframe tbody tr th {\n",
       "        vertical-align: top;\n",
       "    }\n",
       "\n",
       "    .dataframe thead th {\n",
       "        text-align: right;\n",
       "    }\n",
       "</style>\n",
       "<table border=\"1\" class=\"dataframe\">\n",
       "  <thead>\n",
       "    <tr style=\"text-align: right;\">\n",
       "      <th></th>\n",
       "      <th>0</th>\n",
       "      <th>1</th>\n",
       "    </tr>\n",
       "  </thead>\n",
       "  <tbody>\n",
       "    <tr>\n",
       "      <th>0</th>\n",
       "      <td>C(C(C(C(F)(F)S(=O)(=O)O)CCF)(F)F)(C(C(F)(F)F)(...</td>\n",
       "      <td>&lt;esol&gt;-5.4681</td>\n",
       "    </tr>\n",
       "    <tr>\n",
       "      <th>1</th>\n",
       "      <td>C(C(COSC(F)(F)S(=O)(=O)OCF)(F)F)(C(C(F)(F)F)(F...</td>\n",
       "      <td>&lt;esol&gt;-5.5096</td>\n",
       "    </tr>\n",
       "    <tr>\n",
       "      <th>2</th>\n",
       "      <td>C(C(CCSC(F)(F)S(=O)(=O)OCF)F)(C(C(F)(F)F)(F)F)...</td>\n",
       "      <td>&lt;esol&gt;-6.8935</td>\n",
       "    </tr>\n",
       "    <tr>\n",
       "      <th>3</th>\n",
       "      <td>C(C(COSC(F)(F)S(=O)(=O)OCF)(F)F)(C(C(F)(F)F)(F...</td>\n",
       "      <td>&lt;esol&gt;-5.4681</td>\n",
       "    </tr>\n",
       "    <tr>\n",
       "      <th>4</th>\n",
       "      <td>C(C(CCSC(F)(F)S(=O)(=O)OCF)(F)F)(C(C(F)(F)F)(F...</td>\n",
       "      <td>&lt;esol&gt;-6.8935</td>\n",
       "    </tr>\n",
       "    <tr>\n",
       "      <th>5</th>\n",
       "      <td>C(C(CC(F)(F)S(=O)(=O)OCF))(C(C(F)(F)F)(F)F)(F)F</td>\n",
       "      <td>&lt;esol&gt;-5.5096</td>\n",
       "    </tr>\n",
       "    <tr>\n",
       "      <th>6</th>\n",
       "      <td>C(C(CC(F)(F)S(=O)(=O)C(F)F)(F)C)(C)(C(F)(F)F)CF</td>\n",
       "      <td>&lt;esol&gt;-5.5096</td>\n",
       "    </tr>\n",
       "    <tr>\n",
       "      <th>7</th>\n",
       "      <td>C(C(CC(F)(F)S(=O)(=O)C(F)F)OCF)(C)(C(F)(F)F)CF</td>\n",
       "      <td>&lt;esol&gt;-5.4681</td>\n",
       "    </tr>\n",
       "    <tr>\n",
       "      <th>8</th>\n",
       "      <td>C(C(CC(F)(F)S(=O)(=O)C(F)F)(F)N)(C)(C(F)(F)F)CF</td>\n",
       "      <td>&lt;esol&gt;-5.5096</td>\n",
       "    </tr>\n",
       "    <tr>\n",
       "      <th>9</th>\n",
       "      <td>C(C(CC(F)(F)S(=O)(=O)N(F)F)(F)C)(C)(C(F)(F)F)CF</td>\n",
       "      <td>&lt;esol&gt;-5.5096</td>\n",
       "    </tr>\n",
       "  </tbody>\n",
       "</table>\n",
       "</div>"
      ],
      "text/plain": [
       "                                                   0              1\n",
       "0  C(C(C(C(F)(F)S(=O)(=O)O)CCF)(F)F)(C(C(F)(F)F)(...  <esol>-5.4681\n",
       "1  C(C(COSC(F)(F)S(=O)(=O)OCF)(F)F)(C(C(F)(F)F)(F...  <esol>-5.5096\n",
       "2  C(C(CCSC(F)(F)S(=O)(=O)OCF)F)(C(C(F)(F)F)(F)F)...  <esol>-6.8935\n",
       "3  C(C(COSC(F)(F)S(=O)(=O)OCF)(F)F)(C(C(F)(F)F)(F...  <esol>-5.4681\n",
       "4  C(C(CCSC(F)(F)S(=O)(=O)OCF)(F)F)(C(C(F)(F)F)(F...  <esol>-6.8935\n",
       "5    C(C(CC(F)(F)S(=O)(=O)OCF))(C(C(F)(F)F)(F)F)(F)F  <esol>-5.5096\n",
       "6    C(C(CC(F)(F)S(=O)(=O)C(F)F)(F)C)(C)(C(F)(F)F)CF  <esol>-5.5096\n",
       "7     C(C(CC(F)(F)S(=O)(=O)C(F)F)OCF)(C)(C(F)(F)F)CF  <esol>-5.4681\n",
       "8    C(C(CC(F)(F)S(=O)(=O)C(F)F)(F)N)(C)(C(F)(F)F)CF  <esol>-5.5096\n",
       "9    C(C(CC(F)(F)S(=O)(=O)N(F)F)(F)C)(C)(C(F)(F)F)CF  <esol>-5.5096"
      ]
     },
     "metadata": {},
     "output_type": "display_data"
    },
    {
     "data": {
      "text/plain": [
       "'Generating Molecules for C(C(C(C(F)(F)S(=O)(=O)[O-])(F)F)(F)F)(C(C(F)(F)F)(F)F)(F)F with soluability:-4.755208830342681'"
      ]
     },
     "metadata": {},
     "output_type": "display_data"
    },
    {
     "data": {
      "application/vnd.jupyter.widget-view+json": {
       "model_id": "79e86b7b88034ccc89ad0ab23c302f0d",
       "version_major": 2,
       "version_minor": 0
      },
      "text/plain": [
       "Output()"
      ]
     },
     "metadata": {},
     "output_type": "display_data"
    },
    {
     "data": {
      "text/html": [
       "<div>\n",
       "<style scoped>\n",
       "    .dataframe tbody tr th:only-of-type {\n",
       "        vertical-align: middle;\n",
       "    }\n",
       "\n",
       "    .dataframe tbody tr th {\n",
       "        vertical-align: top;\n",
       "    }\n",
       "\n",
       "    .dataframe thead th {\n",
       "        text-align: right;\n",
       "    }\n",
       "</style>\n",
       "<table border=\"1\" class=\"dataframe\">\n",
       "  <thead>\n",
       "    <tr style=\"text-align: right;\">\n",
       "      <th></th>\n",
       "      <th>0</th>\n",
       "      <th>1</th>\n",
       "    </tr>\n",
       "  </thead>\n",
       "  <tbody>\n",
       "    <tr>\n",
       "      <th>0</th>\n",
       "      <td>C(C(C(C(F)(F)C(=O)C=O)(F)F)(F)O)(C(C(F)(F)F)(F...</td>\n",
       "      <td>&lt;esol&gt;-5.4681</td>\n",
       "    </tr>\n",
       "    <tr>\n",
       "      <th>1</th>\n",
       "      <td>C(OC(C(F)(F)S(=O)(=O)[O-])(F)F)(C(C(F)(F)F)(F)...</td>\n",
       "      <td>&lt;esol&gt;-5.4681</td>\n",
       "    </tr>\n",
       "    <tr>\n",
       "      <th>2</th>\n",
       "      <td>N(C(C(C(F)(F)S(=O)(=O)[O-])(F)F)(F)F)(C(C(F)(F...</td>\n",
       "      <td>&lt;esol&gt;-5.5096</td>\n",
       "    </tr>\n",
       "    <tr>\n",
       "      <th>3</th>\n",
       "      <td>C(C(C(C(F)(F)C=O)(F)F)(F)F)(C(C(F)(F)F)(F)F)(F)F</td>\n",
       "      <td>&lt;esol&gt;-6.8935</td>\n",
       "    </tr>\n",
       "    <tr>\n",
       "      <th>4</th>\n",
       "      <td>C(C(C(C(F)(F)S(=O)(=O)[O-])(F)F)(F))(C(C(F)(F)...</td>\n",
       "      <td>&lt;esol&gt;-6.8935</td>\n",
       "    </tr>\n",
       "    <tr>\n",
       "      <th>5</th>\n",
       "      <td>C(C(C(C(F)(F)S(=O)(=O)[O-])(F)F)(F)F)(C(F)(F)F...</td>\n",
       "      <td>&lt;esol&gt;-5.5096</td>\n",
       "    </tr>\n",
       "    <tr>\n",
       "      <th>6</th>\n",
       "      <td>C(C(C(C(F)(F)S(=O)(=O)[O-])(F)F)(F)Cl)(C(C(F)(...</td>\n",
       "      <td>&lt;esol&gt;-5.4681</td>\n",
       "    </tr>\n",
       "    <tr>\n",
       "      <th>7</th>\n",
       "      <td>C(C(C(C(F)(F)S(O)(=O)[O-])(F)F)(F)F)(C(C(F)(F)...</td>\n",
       "      <td>&lt;esol&gt;-5.4681</td>\n",
       "    </tr>\n",
       "    <tr>\n",
       "      <th>8</th>\n",
       "      <td>C(C(C(C(F)(F)N(N)C=O)(F)F)(F)F)(C(C(F)(F)F)(F)...</td>\n",
       "      <td>&lt;esol&gt;-6.852</td>\n",
       "    </tr>\n",
       "    <tr>\n",
       "      <th>9</th>\n",
       "      <td>C(C(C(C(F)(F)SCCOC=O)(F)F)(F)F)(C(C(F)(F)F)(F)...</td>\n",
       "      <td>&lt;esol&gt;-6.852</td>\n",
       "    </tr>\n",
       "  </tbody>\n",
       "</table>\n",
       "</div>"
      ],
      "text/plain": [
       "                                                   0              1\n",
       "0  C(C(C(C(F)(F)C(=O)C=O)(F)F)(F)O)(C(C(F)(F)F)(F...  <esol>-5.4681\n",
       "1  C(OC(C(F)(F)S(=O)(=O)[O-])(F)F)(C(C(F)(F)F)(F)...  <esol>-5.4681\n",
       "2  N(C(C(C(F)(F)S(=O)(=O)[O-])(F)F)(F)F)(C(C(F)(F...  <esol>-5.5096\n",
       "3   C(C(C(C(F)(F)C=O)(F)F)(F)F)(C(C(F)(F)F)(F)F)(F)F  <esol>-6.8935\n",
       "4  C(C(C(C(F)(F)S(=O)(=O)[O-])(F)F)(F))(C(C(F)(F)...  <esol>-6.8935\n",
       "5  C(C(C(C(F)(F)S(=O)(=O)[O-])(F)F)(F)F)(C(F)(F)F...  <esol>-5.5096\n",
       "6  C(C(C(C(F)(F)S(=O)(=O)[O-])(F)F)(F)Cl)(C(C(F)(...  <esol>-5.4681\n",
       "7  C(C(C(C(F)(F)S(O)(=O)[O-])(F)F)(F)F)(C(C(F)(F)...  <esol>-5.4681\n",
       "8  C(C(C(C(F)(F)N(N)C=O)(F)F)(F)F)(C(C(F)(F)F)(F)...   <esol>-6.852\n",
       "9  C(C(C(C(F)(F)SCCOC=O)(F)F)(F)F)(C(C(F)(F)F)(F)...   <esol>-6.852"
      ]
     },
     "metadata": {},
     "output_type": "display_data"
    }
   ],
   "source": [
    "datasets = []\n",
    "mol_list = %openadd export molecules\n",
    "for row in mol_list.to_dict(\"records\"):\n",
    "    MY_SMILES= row['canonical_smiles']\n",
    "    esol= float(row['esol'])+3 #higher soluability\n",
    "    MY_PARAMS = { \"fraction_to_mask\": 0.1 , \"property_goal\": { \"<esol>\": esol} }\n",
    "    display(\"Generating Molecules for \"+MY_SMILES+\" with soluability:\"+str(row['esol']) )\n",
    "    result = %openadd gen generate with RegressionTransformerMolecules data for $MY_SMILES sample 10 \\\n",
    "    using(algorithm_version=solubility  search=sample temperature=1.5 tolerance=60.0 sampling_wrapper = \"$MY_PARAMS\" )\n",
    "    display(result)\n",
    "    datasets.append(result)"
   ]
  },
  {
   "cell_type": "code",
   "execution_count": 24,
   "id": "c2fee715-3ec5-4766-bea8-19f89cfe16e9",
   "metadata": {
    "execution": {
     "iopub.execute_input": "2024-10-04T04:03:00.503979Z",
     "iopub.status.busy": "2024-10-04T04:03:00.503677Z",
     "iopub.status.idle": "2024-10-04T04:03:09.757387Z",
     "shell.execute_reply": "2024-10-04T04:03:09.756680Z",
     "shell.execute_reply.started": "2024-10-04T04:03:00.503954Z"
    },
    "scrolled": true,
    "tags": []
   },
   "outputs": [
    {
     "name": "stdout",
     "output_type": "stream",
     "text": [
      "C(=O)(C(C(C(C(C(C(OC(F)(F)F)(F)F)([O-]))(F)F)(F)F)(F)F)(F)F)O\n"
     ]
    },
    {
     "data": {
      "text/markdown": [
       "<span style=\"color: #090\">Molecule <span style=\"color: #dc0\">False</span> was added</span> <br> \n"
      ],
      "text/plain": [
       "<IPython.core.display.Markdown object>"
      ]
     },
     "metadata": {},
     "output_type": "display_data"
    },
    {
     "name": "stdout",
     "output_type": "stream",
     "text": [
      "C(=O)(C(C(C(C(C(C(F)(F)F)CF)(F)F)(F)F)(F)F)(F)F)O\n"
     ]
    },
    {
     "data": {
      "text/markdown": [
       "<span style=\"color: #090\">Molecule <span style=\"color: #dc0\">False</span> was added</span> <br> \n"
      ],
      "text/plain": [
       "<IPython.core.display.Markdown object>"
      ]
     },
     "metadata": {},
     "output_type": "display_data"
    },
    {
     "name": "stdout",
     "output_type": "stream",
     "text": [
      "C(=O)(C(C(C(C(C(C(OC(F)(F)OCF)(F)F)(O)F)(F)F)(F)F)(F)F)(F)F)O\n"
     ]
    },
    {
     "data": {
      "text/markdown": [
       "<span style=\"color: #090\">Molecule <span style=\"color: #dc0\">False</span> was added</span> <br> \n"
      ],
      "text/plain": [
       "<IPython.core.display.Markdown object>"
      ]
     },
     "metadata": {},
     "output_type": "display_data"
    },
    {
     "name": "stdout",
     "output_type": "stream",
     "text": [
      "C(=O)(C(C(C(C(C(C(OC(F)(F)F)(F)F))(F)F)(F)F)(F)F)(F)F)O\n"
     ]
    },
    {
     "data": {
      "text/markdown": [
       "<span style=\"color: #090\">Molecule <span style=\"color: #dc0\">False</span> was added</span> <br> \n"
      ],
      "text/plain": [
       "<IPython.core.display.Markdown object>"
      ]
     },
     "metadata": {},
     "output_type": "display_data"
    },
    {
     "name": "stdout",
     "output_type": "stream",
     "text": [
      "C(=O)(C(C(C(C(C(C(C(C(F)(F)F)(F)O)(F)F)(F)F)(F)F)(F)F)(F)F)(F)F)O\n"
     ]
    },
    {
     "data": {
      "text/markdown": [
       "<span style=\"color: #090\">Molecule <span style=\"color: #dc0\">False</span> was added</span> <br> \n"
      ],
      "text/plain": [
       "<IPython.core.display.Markdown object>"
      ]
     },
     "metadata": {},
     "output_type": "display_data"
    },
    {
     "name": "stdout",
     "output_type": "stream",
     "text": [
      "C(=O)(C(C(C(C(C(C(F)(F)F)(F)F)(F)F)(F)F)(F)F)(F)F)O\n"
     ]
    },
    {
     "data": {
      "text/markdown": [
       "<span style=\"color: #090\">Molecule <span style=\"color: #dc0\">False</span> was added</span> <br> \n"
      ],
      "text/plain": [
       "<IPython.core.display.Markdown object>"
      ]
     },
     "metadata": {},
     "output_type": "display_data"
    },
    {
     "name": "stdout",
     "output_type": "stream",
     "text": [
      "C(=O)(C(C(C(C(C(C(C(C(F)(F)F)(F)F)(F)F))(F)))F)(F)F)O\n"
     ]
    },
    {
     "data": {
      "text/markdown": [
       "<span style=\"color: #090\">Molecule <span style=\"color: #dc0\">False</span> was added</span> <br> \n"
      ],
      "text/plain": [
       "<IPython.core.display.Markdown object>"
      ]
     },
     "metadata": {},
     "output_type": "display_data"
    },
    {
     "name": "stdout",
     "output_type": "stream",
     "text": [
      "C(=O)(C(C(C(C(C(C(C(C(F)(F)F)(F)F)))(F)F))F)(F)F)O\n"
     ]
    },
    {
     "data": {
      "text/markdown": [
       "<span style=\"color: #090\">Molecule <span style=\"color: #dc0\">False</span> was added</span> <br> \n"
      ],
      "text/plain": [
       "<IPython.core.display.Markdown object>"
      ]
     },
     "metadata": {},
     "output_type": "display_data"
    },
    {
     "name": "stdout",
     "output_type": "stream",
     "text": [
      "C(=O)(C(C(C(C(C(C(C(C(F)(F)F))))(F)F))(F)F)(F)F)O\n"
     ]
    },
    {
     "data": {
      "text/markdown": [
       "<span style=\"color: #090\">Molecule <span style=\"color: #dc0\">False</span> was added</span> <br> \n"
      ],
      "text/plain": [
       "<IPython.core.display.Markdown object>"
      ]
     },
     "metadata": {},
     "output_type": "display_data"
    },
    {
     "name": "stdout",
     "output_type": "stream",
     "text": [
      "C(=O)(C(C(C(C(C(C(C(C(F)(F)F)(F)F)(F)F))(C)))F)(F)F)O\n"
     ]
    },
    {
     "data": {
      "text/markdown": [
       "<span style=\"color: #090\">Molecule <span style=\"color: #dc0\">False</span> was added</span> <br> \n"
      ],
      "text/plain": [
       "<IPython.core.display.Markdown object>"
      ]
     },
     "metadata": {},
     "output_type": "display_data"
    },
    {
     "name": "stdout",
     "output_type": "stream",
     "text": [
      "C(F)(C(C(F)(F)F)(OC(OC(F)(F)F)(F)F)F)O\n"
     ]
    },
    {
     "data": {
      "text/markdown": [
       "<span style=\"color: #090\">Molecule <span style=\"color: #dc0\">False</span> was added</span> <br> \n"
      ],
      "text/plain": [
       "<IPython.core.display.Markdown object>"
      ]
     },
     "metadata": {},
     "output_type": "display_data"
    },
    {
     "name": "stdout",
     "output_type": "stream",
     "text": [
      "C(O)(C(C(F)(F)F)(OC(OC(F)(F)F)(F)F)F)O\n"
     ]
    },
    {
     "data": {
      "text/markdown": [
       "<span style=\"color: #090\">Molecule <span style=\"color: #dc0\">False</span> was added</span> <br> \n"
      ],
      "text/plain": [
       "<IPython.core.display.Markdown object>"
      ]
     },
     "metadata": {},
     "output_type": "display_data"
    },
    {
     "name": "stdout",
     "output_type": "stream",
     "text": [
      "C(O)(C(C(F)(F)F)(OC(C(C(F)(F)F)(F)F)(F)F)F)O\n"
     ]
    },
    {
     "data": {
      "text/markdown": [
       "<span style=\"color: #090\">Molecule <span style=\"color: #dc0\">False</span> was added</span> <br> \n"
      ],
      "text/plain": [
       "<IPython.core.display.Markdown object>"
      ]
     },
     "metadata": {},
     "output_type": "display_data"
    },
    {
     "name": "stdout",
     "output_type": "stream",
     "text": [
      "C(F)(C(F)(F)F)(OC(C(C(F)(F)F)(F)F)(F)F)F\n"
     ]
    },
    {
     "data": {
      "text/markdown": [
       "<span style=\"color: #090\">Molecule <span style=\"color: #dc0\">False</span> was added</span> <br> \n"
      ],
      "text/plain": [
       "<IPython.core.display.Markdown object>"
      ]
     },
     "metadata": {},
     "output_type": "display_data"
    },
    {
     "name": "stdout",
     "output_type": "stream",
     "text": [
      "C(=O)C(C(F)(F)F)(OC(N(C(F)(F)F)CF)(F)F)F\n"
     ]
    },
    {
     "data": {
      "text/markdown": [
       "<span style=\"color: #090\">Molecule <span style=\"color: #dc0\">False</span> was added</span> <br> \n"
      ],
      "text/plain": [
       "<IPython.core.display.Markdown object>"
      ]
     },
     "metadata": {},
     "output_type": "display_data"
    },
    {
     "name": "stdout",
     "output_type": "stream",
     "text": [
      "C(=O)(C(C(F)(F)F)(OC(C(C(F)(F)F)(F)O)(F)F)F)O\n"
     ]
    },
    {
     "data": {
      "text/markdown": [
       "<span style=\"color: #090\">Molecule <span style=\"color: #dc0\">False</span> was added</span> <br> \n"
      ],
      "text/plain": [
       "<IPython.core.display.Markdown object>"
      ]
     },
     "metadata": {},
     "output_type": "display_data"
    },
    {
     "name": "stdout",
     "output_type": "stream",
     "text": [
      "C(=O)(C(C(F)(F)F)OOC(C(C(F)(F)F)(F)F)(F)F)O\n"
     ]
    },
    {
     "data": {
      "text/markdown": [
       "<span style=\"color: #090\">Molecule <span style=\"color: #dc0\">False</span> was added</span> <br> \n"
      ],
      "text/plain": [
       "<IPython.core.display.Markdown object>"
      ]
     },
     "metadata": {},
     "output_type": "display_data"
    },
    {
     "name": "stdout",
     "output_type": "stream",
     "text": [
      "C(=O)(C(C(F)(F)F)(C)C(C(C(F)(F)F)(F)F)(F)F)O\n"
     ]
    },
    {
     "data": {
      "text/markdown": [
       "<span style=\"color: #090\">Molecule <span style=\"color: #dc0\">False</span> was added</span> <br> \n"
      ],
      "text/plain": [
       "<IPython.core.display.Markdown object>"
      ]
     },
     "metadata": {},
     "output_type": "display_data"
    },
    {
     "name": "stdout",
     "output_type": "stream",
     "text": [
      "C(=O)(C(C(F)(F)F)OCC(C(C(F)(F)F)(F)F)(F)F)O\n"
     ]
    },
    {
     "data": {
      "text/markdown": [
       "<span style=\"color: #090\">Molecule <span style=\"color: #dc0\">False</span> was added</span> <br> \n"
      ],
      "text/plain": [
       "<IPython.core.display.Markdown object>"
      ]
     },
     "metadata": {},
     "output_type": "display_data"
    },
    {
     "name": "stdout",
     "output_type": "stream",
     "text": [
      "C(=O)(C(C(F)(F)F)(S)C(C(C(F)(F)F)(F)F)(F)F)O\n"
     ]
    },
    {
     "data": {
      "text/markdown": [
       "<span style=\"color: #090\">Molecule <span style=\"color: #dc0\">False</span> was added</span> <br> \n"
      ],
      "text/plain": [
       "<IPython.core.display.Markdown object>"
      ]
     },
     "metadata": {},
     "output_type": "display_data"
    },
    {
     "name": "stdout",
     "output_type": "stream",
     "text": [
      "C(C(C(C(C(F)(F)S(=O)(=O)O)(F)F)(F)F)(F)F)(C(C)(C(F)(F)F)CF)(F)F\n"
     ]
    },
    {
     "data": {
      "text/markdown": [
       "<span style=\"color: #090\">Molecule <span style=\"color: #dc0\">False</span> was added</span> <br> \n"
      ],
      "text/plain": [
       "<IPython.core.display.Markdown object>"
      ]
     },
     "metadata": {},
     "output_type": "display_data"
    },
    {
     "name": "stdout",
     "output_type": "stream",
     "text": [
      "C(C(C(C(C(F)(F)S(=O)(=O)O)(F)F)(F)F)(F)F)(C(C(C(F)(F)))F)(F)F\n"
     ]
    },
    {
     "data": {
      "text/markdown": [
       "<span style=\"color: #090\">Molecule <span style=\"color: #dc0\">False</span> was added</span> <br> \n"
      ],
      "text/plain": [
       "<IPython.core.display.Markdown object>"
      ]
     },
     "metadata": {},
     "output_type": "display_data"
    },
    {
     "name": "stdout",
     "output_type": "stream",
     "text": [
      "C(C(C(C(C(F)(F)S(=O)(=O)O)(F)F)(F)F)(F)F)(C(C)(C(F)(F)F)CF)(O)F\n"
     ]
    },
    {
     "data": {
      "text/markdown": [
       "<span style=\"color: #090\">Molecule <span style=\"color: #dc0\">False</span> was added</span> <br> \n"
      ],
      "text/plain": [
       "<IPython.core.display.Markdown object>"
      ]
     },
     "metadata": {},
     "output_type": "display_data"
    },
    {
     "name": "stdout",
     "output_type": "stream",
     "text": [
      "C(C(C(C(C(F)(F)S(=O)(=O)O)(F)F)(F)F)(F)F)SC(C(C(F)(F)F)(F)F)(F)F\n"
     ]
    },
    {
     "data": {
      "text/markdown": [
       "<span style=\"color: #090\">Molecule <span style=\"color: #dc0\">False</span> was added</span> <br> \n"
      ],
      "text/plain": [
       "<IPython.core.display.Markdown object>"
      ]
     },
     "metadata": {},
     "output_type": "display_data"
    },
    {
     "name": "stdout",
     "output_type": "stream",
     "text": [
      "C(C(C(C(C(F)(F)S(=O)(=O)O)(F)F)(F)F)(F)F)(C)(C(C(F)(F)F)(F)F)CF\n"
     ]
    },
    {
     "data": {
      "text/markdown": [
       "<span style=\"color: #090\">Molecule <span style=\"color: #dc0\">False</span> was added</span> <br> \n"
      ],
      "text/plain": [
       "<IPython.core.display.Markdown object>"
      ]
     },
     "metadata": {},
     "output_type": "display_data"
    },
    {
     "name": "stdout",
     "output_type": "stream",
     "text": [
      "C(C(C(C(C(F)(F))))S(=O)(=O)OCF)(C(C(C(F)(F)F)(F)F)(F)F)(F)F\n"
     ]
    },
    {
     "data": {
      "text/markdown": [
       "<span style=\"color: #090\">Molecule <span style=\"color: #dc0\">False</span> was added</span> <br> \n"
      ],
      "text/plain": [
       "<IPython.core.display.Markdown object>"
      ]
     },
     "metadata": {},
     "output_type": "display_data"
    },
    {
     "name": "stdout",
     "output_type": "stream",
     "text": [
      "C(C(C(C(C(F)(F)S(=O)(=O)O)(F)F)(F)F)(F)F)(C(C(C(F)(F)F)(F)F)(F)F)(F)O\n"
     ]
    },
    {
     "data": {
      "text/markdown": [
       "<span style=\"color: #090\">Molecule <span style=\"color: #dc0\">False</span> was added</span> <br> \n"
      ],
      "text/plain": [
       "<IPython.core.display.Markdown object>"
      ]
     },
     "metadata": {},
     "output_type": "display_data"
    },
    {
     "name": "stdout",
     "output_type": "stream",
     "text": [
      "C(C(C(C(C(F)(F)S(=O)(=O)O)(F)F)(F)F)(F)F)(C(C))C(F)(F)F\n"
     ]
    },
    {
     "data": {
      "text/markdown": [
       "<span style=\"color: #090\">Molecule <span style=\"color: #dc0\">False</span> was added</span> <br> \n"
      ],
      "text/plain": [
       "<IPython.core.display.Markdown object>"
      ]
     },
     "metadata": {},
     "output_type": "display_data"
    },
    {
     "name": "stdout",
     "output_type": "stream",
     "text": [
      "C(C(C(C(C(F)(C)S(=O))))(O)OCCF)(C(C(C(F)(F)F)(F)F)(F)F)(F)F\n"
     ]
    },
    {
     "data": {
      "text/markdown": [
       "<span style=\"color: #090\">Molecule <span style=\"color: #dc0\">False</span> was added</span> <br> \n"
      ],
      "text/plain": [
       "<IPython.core.display.Markdown object>"
      ]
     },
     "metadata": {},
     "output_type": "display_data"
    },
    {
     "name": "stdout",
     "output_type": "stream",
     "text": [
      "C(C(C(C(C(F)(F)S(=O)(=O)O)(F)F))CCF)(C(C(C(F)(F)F)(F)F)(F)F)(F)F\n"
     ]
    },
    {
     "data": {
      "text/markdown": [
       "<span style=\"color: #090\">Molecule <span style=\"color: #dc0\">False</span> was added</span> <br> \n"
      ],
      "text/plain": [
       "<IPython.core.display.Markdown object>"
      ]
     },
     "metadata": {},
     "output_type": "display_data"
    },
    {
     "name": "stdout",
     "output_type": "stream",
     "text": [
      "C(C(C(C(F)(F)S(=O)(=O)O)CCF)(F)F)(C(C(F)(F)F)(F)F)(F)F\n"
     ]
    },
    {
     "data": {
      "text/markdown": [
       "<span style=\"color: #090\">Molecule <span style=\"color: #dc0\">False</span> was added</span> <br> \n"
      ],
      "text/plain": [
       "<IPython.core.display.Markdown object>"
      ]
     },
     "metadata": {},
     "output_type": "display_data"
    },
    {
     "name": "stdout",
     "output_type": "stream",
     "text": [
      "C(C(COSC(F)(F)S(=O)(=O)OCF)(F)F)(C(C(F)(F)F)(F)F)(F)F\n"
     ]
    },
    {
     "data": {
      "text/markdown": [
       "<span style=\"color: #090\">Molecule <span style=\"color: #dc0\">False</span> was added</span> <br> \n"
      ],
      "text/plain": [
       "<IPython.core.display.Markdown object>"
      ]
     },
     "metadata": {},
     "output_type": "display_data"
    },
    {
     "name": "stdout",
     "output_type": "stream",
     "text": [
      "C(C(CCSC(F)(F)S(=O)(=O)OCF)F)(C(C(F)(F)F)(F)F)(F)F\n"
     ]
    },
    {
     "data": {
      "text/markdown": [
       "<span style=\"color: #090\">Molecule <span style=\"color: #dc0\">False</span> was added</span> <br> \n"
      ],
      "text/plain": [
       "<IPython.core.display.Markdown object>"
      ]
     },
     "metadata": {},
     "output_type": "display_data"
    },
    {
     "name": "stdout",
     "output_type": "stream",
     "text": [
      "C(C(COSC(F)(F)S(=O)(=O)OCF)(F)F)(C(C(F)(F)F)(F)F)(F)F\n"
     ]
    },
    {
     "data": {
      "text/markdown": [
       "<span style=\"color: #d00\">Molecule already in list: O=S(=O)(OCF)C(F)(F)SOCC(F)(F)C(F)(F)C(F)(F)C(F)(F)F</span> <br> \n"
      ],
      "text/plain": [
       "<IPython.core.display.Markdown object>"
      ]
     },
     "metadata": {},
     "output_type": "display_data"
    },
    {
     "name": "stdout",
     "output_type": "stream",
     "text": [
      "C(C(CCSC(F)(F)S(=O)(=O)OCF)(F)F)(C(C(F)(F)F)(F)F)(F)F\n"
     ]
    },
    {
     "data": {
      "text/markdown": [
       "<span style=\"color: #090\">Molecule <span style=\"color: #dc0\">False</span> was added</span> <br> \n"
      ],
      "text/plain": [
       "<IPython.core.display.Markdown object>"
      ]
     },
     "metadata": {},
     "output_type": "display_data"
    },
    {
     "name": "stdout",
     "output_type": "stream",
     "text": [
      "C(C(CC(F)(F)S(=O)(=O)OCF))(C(C(F)(F)F)(F)F)(F)F\n"
     ]
    },
    {
     "data": {
      "text/markdown": [
       "<span style=\"color: #090\">Molecule <span style=\"color: #dc0\">False</span> was added</span> <br> \n"
      ],
      "text/plain": [
       "<IPython.core.display.Markdown object>"
      ]
     },
     "metadata": {},
     "output_type": "display_data"
    },
    {
     "name": "stdout",
     "output_type": "stream",
     "text": [
      "C(C(CC(F)(F)S(=O)(=O)C(F)F)(F)C)(C)(C(F)(F)F)CF\n"
     ]
    },
    {
     "data": {
      "text/markdown": [
       "<span style=\"color: #090\">Molecule <span style=\"color: #dc0\">False</span> was added</span> <br> \n"
      ],
      "text/plain": [
       "<IPython.core.display.Markdown object>"
      ]
     },
     "metadata": {},
     "output_type": "display_data"
    },
    {
     "name": "stdout",
     "output_type": "stream",
     "text": [
      "C(C(CC(F)(F)S(=O)(=O)C(F)F)OCF)(C)(C(F)(F)F)CF\n"
     ]
    },
    {
     "data": {
      "text/markdown": [
       "<span style=\"color: #090\">Molecule <span style=\"color: #dc0\">False</span> was added</span> <br> \n"
      ],
      "text/plain": [
       "<IPython.core.display.Markdown object>"
      ]
     },
     "metadata": {},
     "output_type": "display_data"
    },
    {
     "name": "stdout",
     "output_type": "stream",
     "text": [
      "C(C(CC(F)(F)S(=O)(=O)C(F)F)(F)N)(C)(C(F)(F)F)CF\n"
     ]
    },
    {
     "data": {
      "text/markdown": [
       "<span style=\"color: #090\">Molecule <span style=\"color: #dc0\">False</span> was added</span> <br> \n"
      ],
      "text/plain": [
       "<IPython.core.display.Markdown object>"
      ]
     },
     "metadata": {},
     "output_type": "display_data"
    },
    {
     "name": "stdout",
     "output_type": "stream",
     "text": [
      "C(C(CC(F)(F)S(=O)(=O)N(F)F)(F)C)(C)(C(F)(F)F)CF\n"
     ]
    },
    {
     "data": {
      "text/markdown": [
       "<span style=\"color: #090\">Molecule <span style=\"color: #dc0\">False</span> was added</span> <br> \n"
      ],
      "text/plain": [
       "<IPython.core.display.Markdown object>"
      ]
     },
     "metadata": {},
     "output_type": "display_data"
    },
    {
     "name": "stdout",
     "output_type": "stream",
     "text": [
      "C(C(C(C(F)(F)C(=O)C=O)(F)F)(F)O)(C(C(F)(F)F)(F)F)(F)F\n"
     ]
    },
    {
     "data": {
      "text/markdown": [
       "<span style=\"color: #090\">Molecule <span style=\"color: #dc0\">False</span> was added</span> <br> \n"
      ],
      "text/plain": [
       "<IPython.core.display.Markdown object>"
      ]
     },
     "metadata": {},
     "output_type": "display_data"
    },
    {
     "name": "stdout",
     "output_type": "stream",
     "text": [
      "C(OC(C(F)(F)S(=O)(=O)[O-])(F)F)(C(C(F)(F)F)(F)F)(F)F\n"
     ]
    },
    {
     "data": {
      "text/markdown": [
       "<span style=\"color: #090\">Molecule <span style=\"color: #dc0\">False</span> was added</span> <br> \n"
      ],
      "text/plain": [
       "<IPython.core.display.Markdown object>"
      ]
     },
     "metadata": {},
     "output_type": "display_data"
    },
    {
     "name": "stdout",
     "output_type": "stream",
     "text": [
      "N(C(C(C(F)(F)S(=O)(=O)[O-])(F)F)(F)F)(C(C(F)(F)F)(F)F)CF\n"
     ]
    },
    {
     "data": {
      "text/markdown": [
       "<span style=\"color: #090\">Molecule <span style=\"color: #dc0\">False</span> was added</span> <br> \n"
      ],
      "text/plain": [
       "<IPython.core.display.Markdown object>"
      ]
     },
     "metadata": {},
     "output_type": "display_data"
    },
    {
     "name": "stdout",
     "output_type": "stream",
     "text": [
      "C(C(C(C(F)(F)C=O)(F)F)(F)F)(C(C(F)(F)F)(F)F)(F)F\n"
     ]
    },
    {
     "data": {
      "text/markdown": [
       "<span style=\"color: #090\">Molecule <span style=\"color: #dc0\">False</span> was added</span> <br> \n"
      ],
      "text/plain": [
       "<IPython.core.display.Markdown object>"
      ]
     },
     "metadata": {},
     "output_type": "display_data"
    },
    {
     "name": "stdout",
     "output_type": "stream",
     "text": [
      "C(C(C(C(F)(F)S(=O)(=O)[O-])(F)F)(F))(C(C(F)(F)F)(F)F)(F)F\n"
     ]
    },
    {
     "data": {
      "text/markdown": [
       "<span style=\"color: #090\">Molecule <span style=\"color: #dc0\">False</span> was added</span> <br> \n"
      ],
      "text/plain": [
       "<IPython.core.display.Markdown object>"
      ]
     },
     "metadata": {},
     "output_type": "display_data"
    },
    {
     "name": "stdout",
     "output_type": "stream",
     "text": [
      "C(C(C(C(F)(F)S(=O)(=O)[O-])(F)F)(F)F)(C(F)(F)F)(F)F\n"
     ]
    },
    {
     "data": {
      "text/markdown": [
       "<span style=\"color: #090\">Molecule <span style=\"color: #dc0\">False</span> was added</span> <br> \n"
      ],
      "text/plain": [
       "<IPython.core.display.Markdown object>"
      ]
     },
     "metadata": {},
     "output_type": "display_data"
    },
    {
     "name": "stdout",
     "output_type": "stream",
     "text": [
      "C(C(C(C(F)(F)S(=O)(=O)[O-])(F)F)(F)Cl)(C(C(F)(F)F)(F)F)OCF\n"
     ]
    },
    {
     "data": {
      "text/markdown": [
       "<span style=\"color: #090\">Molecule <span style=\"color: #dc0\">False</span> was added</span> <br> \n"
      ],
      "text/plain": [
       "<IPython.core.display.Markdown object>"
      ]
     },
     "metadata": {},
     "output_type": "display_data"
    },
    {
     "name": "stdout",
     "output_type": "stream",
     "text": [
      "C(C(C(C(F)(F)S(O)(=O)[O-])(F)F)(F)F)(C(C(F)(F)F)(F)F)(F)F\n"
     ]
    },
    {
     "data": {
      "text/markdown": [
       "<span style=\"color: #090\">Molecule <span style=\"color: #dc0\">False</span> was added</span> <br> \n"
      ],
      "text/plain": [
       "<IPython.core.display.Markdown object>"
      ]
     },
     "metadata": {},
     "output_type": "display_data"
    },
    {
     "name": "stdout",
     "output_type": "stream",
     "text": [
      "C(C(C(C(F)(F)N(N)C=O)(F)F)(F)F)(C(C(F)(F)F)(F)F)(F)F\n"
     ]
    },
    {
     "data": {
      "text/markdown": [
       "<span style=\"color: #090\">Molecule <span style=\"color: #dc0\">False</span> was added</span> <br> \n"
      ],
      "text/plain": [
       "<IPython.core.display.Markdown object>"
      ]
     },
     "metadata": {},
     "output_type": "display_data"
    },
    {
     "name": "stdout",
     "output_type": "stream",
     "text": [
      "C(C(C(C(F)(F)SCCOC=O)(F)F)(F)F)(C(C(F)(F)F)(F)F)(F)F\n"
     ]
    },
    {
     "data": {
      "text/markdown": [
       "<span style=\"color: #090\">Molecule <span style=\"color: #dc0\">False</span> was added</span> <br> \n"
      ],
      "text/plain": [
       "<IPython.core.display.Markdown object>"
      ]
     },
     "metadata": {},
     "output_type": "display_data"
    }
   ],
   "source": [
    "x = 0\n",
    "patent_count=0\n",
    "patents_to_search=[]\n",
    "patented_molecules=[]\n",
    "non_patented_molecules=[]\n",
    "searched_list=[]\n",
    "\n",
    "# For all the molecules in the data set search for those with patents\n",
    "for result in datasets:  \n",
    "    for mol in result['0'].to_list():\n",
    "        print (mol)\n",
    "        %openad add molecule {mol} basic force \n"
   ]
  },
  {
   "cell_type": "code",
   "execution_count": 27,
   "id": "6c239041-c243-4eca-a41f-ee65ae061104",
   "metadata": {
    "execution": {
     "iopub.execute_input": "2024-10-04T04:04:43.917118Z",
     "iopub.status.busy": "2024-10-04T04:04:43.916827Z",
     "iopub.status.idle": "2024-10-04T04:04:49.444904Z",
     "shell.execute_reply": "2024-10-04T04:04:49.444122Z",
     "shell.execute_reply.started": "2024-10-04T04:04:43.917089Z"
    },
    "tags": []
   },
   "outputs": [
    {
     "data": {
      "text/markdown": [
       "<span style=\"color: #dc0\">Add molecule <span style=\"color: #090\">False</span> O=C(O)C(F)(F)C(F)(F)C(F)(F)C(F)(F)C(CF)C(F)(F)F to your molecule working set?</span> <br> \n"
      ],
      "text/plain": [
       "<IPython.core.display.Markdown object>"
      ]
     },
     "metadata": {},
     "output_type": "display_data"
    },
    {
     "name": "stdin",
     "output_type": "stream",
     "text": [
      "(y/n):  y\n"
     ]
    },
    {
     "data": {
      "text/markdown": [
       "<span style=\"color: #090\">Molecule <span style=\"color: #dc0\">False</span> was added</span> <br> \n"
      ],
      "text/plain": [
       "<IPython.core.display.Markdown object>"
      ]
     },
     "metadata": {},
     "output_type": "display_data"
    }
   ],
   "source": [
    "%openad add molecule C(=O)(C(C(C(C(C(C(F)(F)F)CF)(F)F)(F)F)(F)F)(F)F)O"
   ]
  },
  {
   "cell_type": "code",
   "execution_count": 28,
   "id": "6b9bb4dc-803f-45a6-bf5c-18268778d33d",
   "metadata": {
    "execution": {
     "iopub.execute_input": "2024-10-04T04:05:32.162107Z",
     "iopub.status.busy": "2024-10-04T04:05:32.161836Z",
     "iopub.status.idle": "2024-10-04T04:05:34.231919Z",
     "shell.execute_reply": "2024-10-04T04:05:34.231237Z",
     "shell.execute_reply.started": "2024-10-04T04:05:32.162082Z"
    },
    "tags": []
   },
   "outputs": [
    {
     "data": {
      "text/markdown": [
       "<span style=\"color: #dc0\">Add molecule <span style=\"color: #090\">False</span> O=C(O)C(F)(F)C(F)(F)C(F)(F)C(F)(F)CC(F)(F)OC(F)(F)F to your molecule working set?</span> <br> \n"
      ],
      "text/plain": [
       "<IPython.core.display.Markdown object>"
      ]
     },
     "metadata": {},
     "output_type": "display_data"
    },
    {
     "name": "stdin",
     "output_type": "stream",
     "text": [
      "(y/n):  y\n"
     ]
    },
    {
     "data": {
      "text/markdown": [
       "<span style=\"color: #090\">Molecule <span style=\"color: #dc0\">False</span> was added</span> <br> \n"
      ],
      "text/plain": [
       "<IPython.core.display.Markdown object>"
      ]
     },
     "metadata": {},
     "output_type": "display_data"
    }
   ],
   "source": [
    "%openad add molecule C(=O)(C(C(C(C(C(C(OC(F)(F)F)(F)F))(F)F)(F)F)(F)F)(F)F)O Basic"
   ]
  },
  {
   "cell_type": "code",
   "execution_count": 29,
   "id": "921d8f97-eed3-412a-838e-aee6e1c36d21",
   "metadata": {
    "execution": {
     "iopub.execute_input": "2024-10-04T04:06:26.303609Z",
     "iopub.status.busy": "2024-10-04T04:06:26.303297Z",
     "iopub.status.idle": "2024-10-04T04:06:29.523621Z",
     "shell.execute_reply": "2024-10-04T04:06:29.522707Z",
     "shell.execute_reply.started": "2024-10-04T04:06:26.303578Z"
    },
    "tags": []
   },
   "outputs": [
    {
     "data": {
      "text/markdown": [
       "<span style=\"color: #dc0\">Add molecule <span style=\"color: #090\">False</span> CCO to your molecule working set?</span> <br> \n"
      ],
      "text/plain": [
       "<IPython.core.display.Markdown object>"
      ]
     },
     "metadata": {},
     "output_type": "display_data"
    },
    {
     "name": "stdin",
     "output_type": "stream",
     "text": [
      "(y/n):  y\n"
     ]
    },
    {
     "data": {
      "text/markdown": [
       "<span style=\"color: #090\">Molecule <span style=\"color: #dc0\">False</span> was added</span> <br> \n"
      ],
      "text/plain": [
       "<IPython.core.display.Markdown object>"
      ]
     },
     "metadata": {},
     "output_type": "display_data"
    }
   ],
   "source": [
    "%openad add molecule CCO Basic"
   ]
  },
  {
   "cell_type": "code",
   "execution_count": 32,
   "id": "7928d2c7-362d-42d0-9a8b-92d2435c28bb",
   "metadata": {
    "execution": {
     "iopub.execute_input": "2024-10-04T04:06:58.282902Z",
     "iopub.status.busy": "2024-10-04T04:06:58.282635Z",
     "iopub.status.idle": "2024-10-04T04:07:04.160628Z",
     "shell.execute_reply": "2024-10-04T04:07:04.159585Z",
     "shell.execute_reply.started": "2024-10-04T04:06:58.282881Z"
    },
    "tags": []
   },
   "outputs": [
    {
     "data": {
      "text/markdown": [
       "<span style=\"color: #dc0\">Add molecule <span style=\"color: #090\">ethanol</span> CCO to your molecule working set?</span> <br> \n"
      ],
      "text/plain": [
       "<IPython.core.display.Markdown object>"
      ]
     },
     "metadata": {},
     "output_type": "display_data"
    },
    {
     "name": "stdin",
     "output_type": "stream",
     "text": [
      "(y/n):  y\n"
     ]
    },
    {
     "data": {
      "text/markdown": [
       "<span style=\"color: #090\">Molecule <span style=\"color: #dc0\">ethanol</span> was added</span> <br> \n"
      ],
      "text/plain": [
       "<IPython.core.display.Markdown object>"
      ]
     },
     "metadata": {},
     "output_type": "display_data"
    }
   ],
   "source": [
    "%openad add molecule CCO "
   ]
  },
  {
   "cell_type": "code",
   "execution_count": 33,
   "id": "52e5ae71-9ad8-4e0a-a936-b22e1a03610d",
   "metadata": {
    "execution": {
     "iopub.execute_input": "2024-10-04T04:07:04.163749Z",
     "iopub.status.busy": "2024-10-04T04:07:04.163378Z",
     "iopub.status.idle": "2024-10-04T04:07:43.187668Z",
     "shell.execute_reply": "2024-10-04T04:07:43.186871Z",
     "shell.execute_reply.started": "2024-10-04T04:07:04.163719Z"
    },
    "tags": []
   },
   "outputs": [
    {
     "data": {
      "text/markdown": [
       "<span style=\"color: #dc0\">Clear the molecule working set?</span> <br> \n"
      ],
      "text/plain": [
       "<IPython.core.display.Markdown object>"
      ]
     },
     "metadata": {},
     "output_type": "display_data"
    },
    {
     "name": "stdin",
     "output_type": "stream",
     "text": [
      "(y/n):  y\n"
     ]
    },
    {
     "data": {
      "text/markdown": [
       "<span style=\"color: #090\">Molecule working set was cleared</span> <br> \n"
      ],
      "text/plain": [
       "<IPython.core.display.Markdown object>"
      ]
     },
     "metadata": {},
     "output_type": "display_data"
    }
   ],
   "source": [
    "%openad clear mols"
   ]
  },
  {
   "cell_type": "markdown",
   "id": "56de6738-59a5-469b-83fb-0cdede1d0677",
   "metadata": {
    "execution": {
     "iopub.execute_input": "2024-05-14T03:57:35.526422Z",
     "iopub.status.busy": "2024-05-14T03:57:35.525909Z",
     "iopub.status.idle": "2024-05-14T03:57:35.531773Z",
     "shell.execute_reply": "2024-05-14T03:57:35.531012Z",
     "shell.execute_reply.started": "2024-05-14T03:57:35.526394Z"
    },
    "slideshow": {
     "slide_type": "slide"
    },
    "tags": []
   },
   "source": [
    "Step 5: Add the Non Patented molecules to our list and generate properties for them "
   ]
  },
  {
   "cell_type": "code",
   "execution_count": 16,
   "id": "07c23766-a774-4342-a24d-c224f4e2a886",
   "metadata": {
    "execution": {
     "iopub.execute_input": "2024-10-04T03:49:41.005033Z",
     "iopub.status.busy": "2024-10-04T03:49:41.004781Z",
     "iopub.status.idle": "2024-10-04T03:49:46.113382Z",
     "shell.execute_reply": "2024-10-04T03:49:46.112711Z",
     "shell.execute_reply.started": "2024-10-04T03:49:41.005013Z"
    },
    "scrolled": true,
    "tags": []
   },
   "outputs": [
    {
     "data": {
      "application/vnd.jupyter.widget-view+json": {
       "model_id": "0da743ca50f94df5a024ce0a30802861",
       "version_major": 2,
       "version_minor": 0
      },
      "text/plain": [
       "Output()"
      ]
     },
     "metadata": {},
     "output_type": "display_data"
    },
    {
     "data": {
      "text/markdown": [
       "<span style=\"color: #090\">Data merged into your working set</span> <br> \n"
      ],
      "text/plain": [
       "<IPython.core.display.Markdown object>"
      ]
     },
     "metadata": {},
     "output_type": "display_data"
    },
    {
     "name": "stdout",
     "output_type": "stream",
     "text": [
      "123\n",
      "inchikey UZUFPBIDKMEQEQ-UHFFFAOYSA-N\n",
      "456 [{'smiles': 'O=C(O)C(F)(F)C(F)(F)C(F)(F)C(F)(F)C(F)(F)C(F)(F)C(F)(F)C(F)(F)F', 'toolkit': 'RXN', 'function': 'Predict_Retrosynthesis', 'parameters': {}, 'results': {'0': {'confidence': 0.952, 'reactions': ['CC(C)=O + CC(C)=O.O=S(=O)(O)O.O=[Cr](=O)=O + OCC(F)(F)C(F)(F)C(F)(F)C(F)(F)C(F)(F)C(F)(F)C(F)(F)C(F)(F)F --->> O=C(O)C(F)(F)C(F)(F)C(F)(F)C(F)(F)C(F)(F)C(F)(F)C(F)(F)C(F)(F)F']}, '1': {'confidence': 0.932, 'reactions': ['N#CC(F)(F)C(F)(F)C(F)(F)C(F)(F)C(F)(F)C(F)(F)C(F)(F)C(F)(F)F + O + O=S(=O)(O)O --->> O=C(O)C(F)(F)C(F)(F)C(F)(F)C(F)(F)C(F)(F)C(F)(F)C(F)(F)C(F)(F)F', 'NC(=O)C(F)(F)C(F)(F)C(F)(F)C(F)(F)C(F)(F)C(F)(F)C(F)(F)C(F)(F)F + O.O + O=P(Cl)(Cl)Cl --->> N#CC(F)(F)C(F)(F)C(F)(F)C(F)(F)C(F)(F)C(F)(F)C(F)(F)C(F)(F)F', 'COC(=O)C(F)(F)C(F)(F)C(F)(F)C(F)(F)C(F)(F)C(F)(F)C(F)(F)C(F)(F)F + [NH4+].[OH-] --->> NC(=O)C(F)(F)C(F)(F)C(F)(F)C(F)(F)C(F)(F)C(F)(F)C(F)(F)C(F)(F)F']}, '2': {'confidence': 0.932, 'reactions': ['N#CC(F)(F)C(F)(F)C(F)(F)C(F)(F)C(F)(F)C(F)(F)C(F)(F)C(F)(F)F + O + O=S(=O)(O)O --->> O=C(O)C(F)(F)C(F)(F)C(F)(F)C(F)(F)C(F)(F)C(F)(F)C(F)(F)C(F)(F)F', 'NC(=O)C(F)(F)C(F)(F)C(F)(F)C(F)(F)C(F)(F)C(F)(F)C(F)(F)C(F)(F)F + O.O + O=P(Cl)(Cl)Cl --->> N#CC(F)(F)C(F)(F)C(F)(F)C(F)(F)C(F)(F)C(F)(F)C(F)(F)C(F)(F)F', 'CCOC(=O)C(F)(F)C(F)(F)C(F)(F)C(F)(F)C(F)(F)C(F)(F)C(F)(F)C(F)(F)F + N --->> NC(=O)C(F)(F)C(F)(F)C(F)(F)C(F)(F)C(F)(F)C(F)(F)C(F)(F)C(F)(F)F']}}}, {'smiles': 'O=C(O)C(F)(F)C(F)(F)C(F)(F)C(F)(F)C(F)(F)C(F)(F)C(F)(F)C(F)(F)F', 'toolkit': 'DS4SD', 'function': 'Patents_For_Molecule', 'parameters': '', 'results': [{'PATENT ID': 'US9127088'}, {'PATENT ID': 'US9447314'}, {'PATENT ID': 'US9783592'}, {'PATENT ID': 'US9955898'}, {'PATENT ID': 'US11351268'}, {'PATENT ID': 'US20130123178A1'}, {'PATENT ID': 'US20140065223A1'}, {'PATENT ID': 'US20150152187'}, {'PATENT ID': 'US20150320871'}, {'PATENT ID': 'US20150351662A1'}, {'PATENT ID': 'US20160237339A1'}, {'PATENT ID': 'US20190142963A1'}, {'PATENT ID': 'US20190382790A1'}, {'PATENT ID': 'US20200360530A1'}]}, {'smiles': 'O=C(O)C(F)(F)C(F)(F)C(F)(F)C(F)(F)C(F)(F)C(F)(F)C(F)(F)C(F)(F)F', 'toolkit': 'RXN', 'function': 'Predict_Retrosynthesis', 'parameters': {}, 'results': {'0': {'confidence': 0.952, 'reactions': ['CC(C)=O + CC(C)=O.O=S(=O)(O)O.O=[Cr](=O)=O + OCC(F)(F)C(F)(F)C(F)(F)C(F)(F)C(F)(F)C(F)(F)C(F)(F)C(F)(F)F --->> O=C(O)C(F)(F)C(F)(F)C(F)(F)C(F)(F)C(F)(F)C(F)(F)C(F)(F)C(F)(F)F']}, '1': {'confidence': 0.932, 'reactions': ['N#CC(F)(F)C(F)(F)C(F)(F)C(F)(F)C(F)(F)C(F)(F)C(F)(F)C(F)(F)F + O + O=S(=O)(O)O --->> O=C(O)C(F)(F)C(F)(F)C(F)(F)C(F)(F)C(F)(F)C(F)(F)C(F)(F)C(F)(F)F', 'NC(=O)C(F)(F)C(F)(F)C(F)(F)C(F)(F)C(F)(F)C(F)(F)C(F)(F)C(F)(F)F + O.O + O=P(Cl)(Cl)Cl --->> N#CC(F)(F)C(F)(F)C(F)(F)C(F)(F)C(F)(F)C(F)(F)C(F)(F)C(F)(F)F', 'COC(=O)C(F)(F)C(F)(F)C(F)(F)C(F)(F)C(F)(F)C(F)(F)C(F)(F)C(F)(F)F + [NH4+].[OH-] --->> NC(=O)C(F)(F)C(F)(F)C(F)(F)C(F)(F)C(F)(F)C(F)(F)C(F)(F)C(F)(F)F']}, '2': {'confidence': 0.932, 'reactions': ['N#CC(F)(F)C(F)(F)C(F)(F)C(F)(F)C(F)(F)C(F)(F)C(F)(F)C(F)(F)F + O + O=S(=O)(O)O --->> O=C(O)C(F)(F)C(F)(F)C(F)(F)C(F)(F)C(F)(F)C(F)(F)C(F)(F)C(F)(F)F', 'NC(=O)C(F)(F)C(F)(F)C(F)(F)C(F)(F)C(F)(F)C(F)(F)C(F)(F)C(F)(F)F + O.O + O=P(Cl)(Cl)Cl --->> N#CC(F)(F)C(F)(F)C(F)(F)C(F)(F)C(F)(F)C(F)(F)C(F)(F)C(F)(F)F', 'CCOC(=O)C(F)(F)C(F)(F)C(F)(F)C(F)(F)C(F)(F)C(F)(F)C(F)(F)C(F)(F)F + N --->> NC(=O)C(F)(F)C(F)(F)C(F)(F)C(F)(F)C(F)(F)C(F)(F)C(F)(F)C(F)(F)F']}, '3': {'confidence': 0.932, 'reactions': ['N#CC(F)(F)C(F)(F)C(F)(F)C(F)(F)C(F)(F)C(F)(F)C(F)(F)C(F)(F)F + O + O=S(=O)(O)O --->> O=C(O)C(F)(F)C(F)(F)C(F)(F)C(F)(F)C(F)(F)C(F)(F)C(F)(F)C(F)(F)F', 'NC(=O)C(F)(F)C(F)(F)C(F)(F)C(F)(F)C(F)(F)C(F)(F)C(F)(F)C(F)(F)F + O.O + O=P(Cl)(Cl)Cl --->> N#CC(F)(F)C(F)(F)C(F)(F)C(F)(F)C(F)(F)C(F)(F)C(F)(F)C(F)(F)F', 'COC(=O)C(F)(F)C(F)(F)C(F)(F)C(F)(F)C(F)(F)C(F)(F)C(F)(F)C(F)(F)F + N --->> NC(=O)C(F)(F)C(F)(F)C(F)(F)C(F)(F)C(F)(F)C(F)(F)C(F)(F)C(F)(F)F']}, '4': {'confidence': 0.932, 'reactions': ['N#CC(F)(F)C(F)(F)C(F)(F)C(F)(F)C(F)(F)C(F)(F)C(F)(F)C(F)(F)F + O + O=S(=O)(O)O --->> O=C(O)C(F)(F)C(F)(F)C(F)(F)C(F)(F)C(F)(F)C(F)(F)C(F)(F)C(F)(F)F', 'NC(=O)C(F)(F)C(F)(F)C(F)(F)C(F)(F)C(F)(F)C(F)(F)C(F)(F)C(F)(F)F + O.O + O=P(Cl)(Cl)Cl --->> N#CC(F)(F)C(F)(F)C(F)(F)C(F)(F)C(F)(F)C(F)(F)C(F)(F)C(F)(F)F', 'CO.N + COC(=O)C(F)(F)C(F)(F)C(F)(F)C(F)(F)C(F)(F)C(F)(F)C(F)(F)C(F)(F)F --->> NC(=O)C(F)(F)C(F)(F)C(F)(F)C(F)(F)C(F)(F)C(F)(F)C(F)(F)C(F)(F)F']}, '5': {'confidence': 0.831, 'reactions': ['CO + COC(=O)C(F)(F)C(F)(F)C(F)(F)C(F)(F)C(F)(F)C(F)(F)C(F)(F)C(F)(F)F + O + O[Na] --->> O=C(O)C(F)(F)C(F)(F)C(F)(F)C(F)(F)C(F)(F)C(F)(F)C(F)(F)C(F)(F)F']}, '6': {'confidence': 0.932, 'reactions': ['N#CC(F)(F)C(F)(F)C(F)(F)C(F)(F)C(F)(F)C(F)(F)C(F)(F)C(F)(F)F + O + O=S(=O)(O)O --->> O=C(O)C(F)(F)C(F)(F)C(F)(F)C(F)(F)C(F)(F)C(F)(F)C(F)(F)C(F)(F)F', 'NC(=O)C(F)(F)C(F)(F)C(F)(F)C(F)(F)C(F)(F)C(F)(F)C(F)(F)C(F)(F)F + O.O + O=P(Cl)(Cl)Cl --->> N#CC(F)(F)C(F)(F)C(F)(F)C(F)(F)C(F)(F)C(F)(F)C(F)(F)C(F)(F)F', 'CO + COC(=O)C(F)(F)C(F)(F)C(F)(F)C(F)(F)C(F)(F)C(F)(F)C(F)(F)C(F)(F)F + N --->> NC(=O)C(F)(F)C(F)(F)C(F)(F)C(F)(F)C(F)(F)C(F)(F)C(F)(F)C(F)(F)F']}, '7': {'confidence': 0.755, 'reactions': ['CCOC(=O)C(F)(F)C(F)(F)C(F)(F)C(F)(F)C(F)(F)C(F)(F)C(F)(F)C(F)(F)F + CO + O + O[K] --->> O=C(O)C(F)(F)C(F)(F)C(F)(F)C(F)(F)C(F)(F)C(F)(F)C(F)(F)C(F)(F)F']}, '8': {'confidence': 0.932, 'reactions': ['N#CC(F)(F)C(F)(F)C(F)(F)C(F)(F)C(F)(F)C(F)(F)C(F)(F)C(F)(F)F + O + O=S(=O)(O)O --->> O=C(O)C(F)(F)C(F)(F)C(F)(F)C(F)(F)C(F)(F)C(F)(F)C(F)(F)C(F)(F)F', 'NC(=O)C(F)(F)C(F)(F)C(F)(F)C(F)(F)C(F)(F)C(F)(F)C(F)(F)C(F)(F)F + O.O + O=P(Cl)(Cl)Cl --->> N#CC(F)(F)C(F)(F)C(F)(F)C(F)(F)C(F)(F)C(F)(F)C(F)(F)C(F)(F)F', 'O=C(F)C(F)(F)C(F)(F)C(F)(F)C(F)(F)C(F)(F)C(F)(F)C(F)(F)C(F)(F)F + [NH4+].[OH-] --->> NC(=O)C(F)(F)C(F)(F)C(F)(F)C(F)(F)C(F)(F)C(F)(F)C(F)(F)C(F)(F)F', 'O=C(Cl)C(F)(F)C(F)(F)C(F)(F)C(F)(F)C(F)(F)C(F)(F)C(F)(F)C(F)(F)F + [F-].[K+] --->> O=C(F)C(F)(F)C(F)(F)C(F)(F)C(F)(F)C(F)(F)C(F)(F)C(F)(F)C(F)(F)F']}, '9': {'confidence': 0.72, 'reactions': ['CO + COC(=O)C(F)(F)C(F)(F)C(F)(F)C(F)(F)C(F)(F)C(F)(F)C(F)(F)C(F)(F)F + O[Na] --->> O=C(O)C(F)(F)C(F)(F)C(F)(F)C(F)(F)C(F)(F)C(F)(F)C(F)(F)C(F)(F)F']}, '10': {'confidence': 0.717, 'reactions': ['CO + COC(=O)C(F)(F)C(F)(F)C(F)(F)C(F)(F)C(F)(F)C(F)(F)C(F)(F)C(F)(F)F + O + O[K] --->> O=C(O)C(F)(F)C(F)(F)C(F)(F)C(F)(F)C(F)(F)C(F)(F)C(F)(F)C(F)(F)F']}, '11': {'confidence': 0.932, 'reactions': ['N#CC(F)(F)C(F)(F)C(F)(F)C(F)(F)C(F)(F)C(F)(F)C(F)(F)C(F)(F)F + O + O=S(=O)(O)O --->> O=C(O)C(F)(F)C(F)(F)C(F)(F)C(F)(F)C(F)(F)C(F)(F)C(F)(F)C(F)(F)F', 'NC(=O)C(F)(F)C(F)(F)C(F)(F)C(F)(F)C(F)(F)C(F)(F)C(F)(F)C(F)(F)F + O.O + O=P(Cl)(Cl)Cl --->> N#CC(F)(F)C(F)(F)C(F)(F)C(F)(F)C(F)(F)C(F)(F)C(F)(F)C(F)(F)F', 'N + O=C(Cl)C(F)(F)C(F)(F)C(F)(F)C(F)(F)C(F)(F)C(F)(F)C(F)(F)C(F)(F)F --->> NC(=O)C(F)(F)C(F)(F)C(F)(F)C(F)(F)C(F)(F)C(F)(F)C(F)(F)C(F)(F)F']}, '12': {'confidence': 0.932, 'reactions': ['N#CC(F)(F)C(F)(F)C(F)(F)C(F)(F)C(F)(F)C(F)(F)C(F)(F)C(F)(F)F + O + O=S(=O)(O)O --->> O=C(O)C(F)(F)C(F)(F)C(F)(F)C(F)(F)C(F)(F)C(F)(F)C(F)(F)C(F)(F)F', 'NC(=O)C(F)(F)C(F)(F)C(F)(F)C(F)(F)C(F)(F)C(F)(F)C(F)(F)C(F)(F)F + O.O + O=P(Cl)(Cl)Cl --->> N#CC(F)(F)C(F)(F)C(F)(F)C(F)(F)C(F)(F)C(F)(F)C(F)(F)C(F)(F)F', 'O=C(F)C(F)(F)C(F)(F)C(F)(F)C(F)(F)C(F)(F)C(F)(F)C(F)(F)C(F)(F)F + [NH4+].[OH-] --->> NC(=O)C(F)(F)C(F)(F)C(F)(F)C(F)(F)C(F)(F)C(F)(F)C(F)(F)C(F)(F)F', 'COC(=O)C(F)(F)C(F)(F)C(F)(F)C(F)(F)C(F)(F)C(F)(F)C(F)(F)C(F)(F)F + F[K] --->> O=C(F)C(F)(F)C(F)(F)C(F)(F)C(F)(F)C(F)(F)C(F)(F)C(F)(F)C(F)(F)F']}, '13': {'confidence': 0.932, 'reactions': ['N#CC(F)(F)C(F)(F)C(F)(F)C(F)(F)C(F)(F)C(F)(F)C(F)(F)C(F)(F)F + O + O=S(=O)(O)O --->> O=C(O)C(F)(F)C(F)(F)C(F)(F)C(F)(F)C(F)(F)C(F)(F)C(F)(F)C(F)(F)F', 'CN(C)C=O + FC(F)(F)C(F)(F)C(F)(F)C(F)(F)C(F)(F)C(F)(F)C(F)(F)C(F)(F)I + [C-]#N.[C-]#N.[Cu+2] --->> N#CC(F)(F)C(F)(F)C(F)(F)C(F)(F)C(F)(F)C(F)(F)C(F)(F)C(F)(F)F']}, '14': {'confidence': 0.932, 'reactions': ['N#CC(F)(F)C(F)(F)C(F)(F)C(F)(F)C(F)(F)C(F)(F)C(F)(F)C(F)(F)F + O + O=S(=O)(O)O --->> O=C(O)C(F)(F)C(F)(F)C(F)(F)C(F)(F)C(F)(F)C(F)(F)C(F)(F)C(F)(F)F', 'NC(=O)C(F)(F)C(F)(F)C(F)(F)C(F)(F)C(F)(F)C(F)(F)C(F)(F)C(F)(F)F + O.O + O=P(Cl)(Cl)Cl --->> N#CC(F)(F)C(F)(F)C(F)(F)C(F)(F)C(F)(F)C(F)(F)C(F)(F)C(F)(F)F', 'O=C(F)C(F)(F)C(F)(F)C(F)(F)C(F)(F)C(F)(F)C(F)(F)C(F)(F)C(F)(F)F + [NH4+].[OH-] --->> NC(=O)C(F)(F)C(F)(F)C(F)(F)C(F)(F)C(F)(F)C(F)(F)C(F)(F)C(F)(F)F', 'F[K] + O=C(Cl)C(F)(F)C(F)(F)C(F)(F)C(F)(F)C(F)(F)C(F)(F)C(F)(F)F --->> O=C(F)C(F)(F)C(F)(F)C(F)(F)C(F)(F)C(F)(F)C(F)(F)C(F)(F)C(F)(F)F']}, '15': {'confidence': 0.932, 'reactions': ['N#CC(F)(F)C(F)(F)C(F)(F)C(F)(F)C(F)(F)C(F)(F)C(F)(F)C(F)(F)F + O + O=S(=O)(O)O --->> O=C(O)C(F)(F)C(F)(F)C(F)(F)C(F)(F)C(F)(F)C(F)(F)C(F)(F)C(F)(F)F', 'NC(=O)C(F)(F)C(F)(F)C(F)(F)C(F)(F)C(F)(F)C(F)(F)C(F)(F)C(F)(F)F + O.O + O=P(Cl)(Cl)Cl --->> N#CC(F)(F)C(F)(F)C(F)(F)C(F)(F)C(F)(F)C(F)(F)C(F)(F)C(F)(F)F', 'O=C(F)C(F)(F)C(F)(F)C(F)(F)C(F)(F)C(F)(F)C(F)(F)C(F)(F)C(F)(F)F + [NH4+].[OH-] --->> NC(=O)C(F)(F)C(F)(F)C(F)(F)C(F)(F)C(F)(F)C(F)(F)C(F)(F)C(F)(F)F', 'COC(=O)C(F)(F)C(F)(F)C(F)(F)C(F)(F)C(F)(F)C(F)(F)C(F)(F)C(F)(F)F + F --->> O=C(F)C(F)(F)C(F)(F)C(F)(F)C(F)(F)C(F)(F)C(F)(F)C(F)(F)C(F)(F)F']}}}, {'toolkit': 'RXN', 'function': 'Predict_Retrosynthesis', 'smiles': 'O=C(O)C(F)(F)C(F)(F)C(F)(F)C(F)(F)C(F)(F)C(F)(F)C(F)(F)C(F)(F)F', 'parameters': {}, 'results': {'0': {'confidence': 0.952, 'reactions': ['CC(C)=O + CC(C)=O.O=S(=O)(O)O.O=[Cr](=O)=O + OCC(F)(F)C(F)(F)C(F)(F)C(F)(F)C(F)(F)C(F)(F)C(F)(F)C(F)(F)F --->> O=C(O)C(F)(F)C(F)(F)C(F)(F)C(F)(F)C(F)(F)C(F)(F)C(F)(F)C(F)(F)F']}, '1': {'confidence': 0.932, 'reactions': ['N#CC(F)(F)C(F)(F)C(F)(F)C(F)(F)C(F)(F)C(F)(F)C(F)(F)C(F)(F)F + O + O=S(=O)(O)O --->> O=C(O)C(F)(F)C(F)(F)C(F)(F)C(F)(F)C(F)(F)C(F)(F)C(F)(F)C(F)(F)F', 'NC(=O)C(F)(F)C(F)(F)C(F)(F)C(F)(F)C(F)(F)C(F)(F)C(F)(F)C(F)(F)F + O.O + O=P(Cl)(Cl)Cl --->> N#CC(F)(F)C(F)(F)C(F)(F)C(F)(F)C(F)(F)C(F)(F)C(F)(F)C(F)(F)F', 'COC(=O)C(F)(F)C(F)(F)C(F)(F)C(F)(F)C(F)(F)C(F)(F)C(F)(F)C(F)(F)F + [NH4+].[OH-] --->> NC(=O)C(F)(F)C(F)(F)C(F)(F)C(F)(F)C(F)(F)C(F)(F)C(F)(F)C(F)(F)F']}, '2': {'confidence': 0.932, 'reactions': ['N#CC(F)(F)C(F)(F)C(F)(F)C(F)(F)C(F)(F)C(F)(F)C(F)(F)C(F)(F)F + O + O=S(=O)(O)O --->> O=C(O)C(F)(F)C(F)(F)C(F)(F)C(F)(F)C(F)(F)C(F)(F)C(F)(F)C(F)(F)F', 'NC(=O)C(F)(F)C(F)(F)C(F)(F)C(F)(F)C(F)(F)C(F)(F)C(F)(F)C(F)(F)F + O.O + O=P(Cl)(Cl)Cl --->> N#CC(F)(F)C(F)(F)C(F)(F)C(F)(F)C(F)(F)C(F)(F)C(F)(F)C(F)(F)F', 'CCOC(=O)C(F)(F)C(F)(F)C(F)(F)C(F)(F)C(F)(F)C(F)(F)C(F)(F)C(F)(F)F + N --->> NC(=O)C(F)(F)C(F)(F)C(F)(F)C(F)(F)C(F)(F)C(F)(F)C(F)(F)C(F)(F)F']}}}, {'smiles': 'O=C(O)C(F)(F)C(F)(F)C(F)(F)C(F)(F)C(F)(F)C(F)(F)C(F)(F)C(F)(F)F', 'toolkit': 'RXN', 'function': 'Predict_Retrosynthesis', 'parameters': {}, 'results': {'0': {'confidence': 0.952, 'reactions': ['CC(C)=O + CC(C)=O.O=S(=O)(O)O.O=[Cr](=O)=O + OCC(F)(F)C(F)(F)C(F)(F)C(F)(F)C(F)(F)C(F)(F)C(F)(F)C(F)(F)F --->> O=C(O)C(F)(F)C(F)(F)C(F)(F)C(F)(F)C(F)(F)C(F)(F)C(F)(F)C(F)(F)F']}, '1': {'confidence': 0.932, 'reactions': ['N#CC(F)(F)C(F)(F)C(F)(F)C(F)(F)C(F)(F)C(F)(F)C(F)(F)C(F)(F)F + O + O=S(=O)(O)O --->> O=C(O)C(F)(F)C(F)(F)C(F)(F)C(F)(F)C(F)(F)C(F)(F)C(F)(F)C(F)(F)F', 'NC(=O)C(F)(F)C(F)(F)C(F)(F)C(F)(F)C(F)(F)C(F)(F)C(F)(F)C(F)(F)F + O.O + O=P(Cl)(Cl)Cl --->> N#CC(F)(F)C(F)(F)C(F)(F)C(F)(F)C(F)(F)C(F)(F)C(F)(F)C(F)(F)F', 'COC(=O)C(F)(F)C(F)(F)C(F)(F)C(F)(F)C(F)(F)C(F)(F)C(F)(F)C(F)(F)F + [NH4+].[OH-] --->> NC(=O)C(F)(F)C(F)(F)C(F)(F)C(F)(F)C(F)(F)C(F)(F)C(F)(F)C(F)(F)F']}, '2': {'confidence': 0.932, 'reactions': ['N#CC(F)(F)C(F)(F)C(F)(F)C(F)(F)C(F)(F)C(F)(F)C(F)(F)C(F)(F)F + O + O=S(=O)(O)O --->> O=C(O)C(F)(F)C(F)(F)C(F)(F)C(F)(F)C(F)(F)C(F)(F)C(F)(F)C(F)(F)F', 'NC(=O)C(F)(F)C(F)(F)C(F)(F)C(F)(F)C(F)(F)C(F)(F)C(F)(F)C(F)(F)F + O.O + O=P(Cl)(Cl)Cl --->> N#CC(F)(F)C(F)(F)C(F)(F)C(F)(F)C(F)(F)C(F)(F)C(F)(F)C(F)(F)F', 'CCOC(=O)C(F)(F)C(F)(F)C(F)(F)C(F)(F)C(F)(F)C(F)(F)C(F)(F)C(F)(F)F + N --->> NC(=O)C(F)(F)C(F)(F)C(F)(F)C(F)(F)C(F)(F)C(F)(F)C(F)(F)C(F)(F)F']}}}, {'smiles': 'O=C(O)C(F)(F)C(F)(F)C(F)(F)C(F)(F)C(F)(F)C(F)(F)C(F)(F)C(F)(F)F', 'toolkit': 'RXN', 'function': 'Predict_Retrosynthesis', 'parameters': {}, 'results': {'0': {'confidence': 0.952, 'reactions': ['CC(C)=O + CC(C)=O.O=S(=O)(O)O.O=[Cr](=O)=O + OCC(F)(F)C(F)(F)C(F)(F)C(F)(F)C(F)(F)C(F)(F)C(F)(F)C(F)(F)F --->> O=C(O)C(F)(F)C(F)(F)C(F)(F)C(F)(F)C(F)(F)C(F)(F)C(F)(F)C(F)(F)F']}, '1': {'confidence': 0.932, 'reactions': ['N#CC(F)(F)C(F)(F)C(F)(F)C(F)(F)C(F)(F)C(F)(F)C(F)(F)C(F)(F)F + O + O=S(=O)(O)O --->> O=C(O)C(F)(F)C(F)(F)C(F)(F)C(F)(F)C(F)(F)C(F)(F)C(F)(F)C(F)(F)F', 'NC(=O)C(F)(F)C(F)(F)C(F)(F)C(F)(F)C(F)(F)C(F)(F)C(F)(F)C(F)(F)F + O.O + O=P(Cl)(Cl)Cl --->> N#CC(F)(F)C(F)(F)C(F)(F)C(F)(F)C(F)(F)C(F)(F)C(F)(F)C(F)(F)F', 'COC(=O)C(F)(F)C(F)(F)C(F)(F)C(F)(F)C(F)(F)C(F)(F)C(F)(F)C(F)(F)F + [NH4+].[OH-] --->> NC(=O)C(F)(F)C(F)(F)C(F)(F)C(F)(F)C(F)(F)C(F)(F)C(F)(F)C(F)(F)F']}, '2': {'confidence': 0.932, 'reactions': ['N#CC(F)(F)C(F)(F)C(F)(F)C(F)(F)C(F)(F)C(F)(F)C(F)(F)C(F)(F)F + O + O=S(=O)(O)O --->> O=C(O)C(F)(F)C(F)(F)C(F)(F)C(F)(F)C(F)(F)C(F)(F)C(F)(F)C(F)(F)F', 'NC(=O)C(F)(F)C(F)(F)C(F)(F)C(F)(F)C(F)(F)C(F)(F)C(F)(F)C(F)(F)F + O.O + O=P(Cl)(Cl)Cl --->> N#CC(F)(F)C(F)(F)C(F)(F)C(F)(F)C(F)(F)C(F)(F)C(F)(F)C(F)(F)F', 'CCOC(=O)C(F)(F)C(F)(F)C(F)(F)C(F)(F)C(F)(F)C(F)(F)C(F)(F)C(F)(F)F + N --->> NC(=O)C(F)(F)C(F)(F)C(F)(F)C(F)(F)C(F)(F)C(F)(F)C(F)(F)C(F)(F)F']}}}, {'smiles': 'O=C(O)C(F)(F)C(F)(F)C(F)(F)C(F)(F)C(F)(F)C(F)(F)C(F)(F)C(F)(F)F', 'toolkit': 'RXN', 'function': 'Predict_Retrosynthesis', 'parameters': {}, 'results': {'0': {'confidence': 0.952, 'reactions': ['CC(C)=O + CC(C)=O.O=S(=O)(O)O.O=[Cr](=O)=O + OCC(F)(F)C(F)(F)C(F)(F)C(F)(F)C(F)(F)C(F)(F)C(F)(F)C(F)(F)F --->> O=C(O)C(F)(F)C(F)(F)C(F)(F)C(F)(F)C(F)(F)C(F)(F)C(F)(F)C(F)(F)F']}, '1': {'confidence': 0.932, 'reactions': ['N#CC(F)(F)C(F)(F)C(F)(F)C(F)(F)C(F)(F)C(F)(F)C(F)(F)C(F)(F)F + O + O=S(=O)(O)O --->> O=C(O)C(F)(F)C(F)(F)C(F)(F)C(F)(F)C(F)(F)C(F)(F)C(F)(F)C(F)(F)F', 'NC(=O)C(F)(F)C(F)(F)C(F)(F)C(F)(F)C(F)(F)C(F)(F)C(F)(F)C(F)(F)F + O.O + O=P(Cl)(Cl)Cl --->> N#CC(F)(F)C(F)(F)C(F)(F)C(F)(F)C(F)(F)C(F)(F)C(F)(F)C(F)(F)F', 'COC(=O)C(F)(F)C(F)(F)C(F)(F)C(F)(F)C(F)(F)C(F)(F)C(F)(F)C(F)(F)F + [NH4+].[OH-] --->> NC(=O)C(F)(F)C(F)(F)C(F)(F)C(F)(F)C(F)(F)C(F)(F)C(F)(F)C(F)(F)F']}, '2': {'confidence': 0.932, 'reactions': ['N#CC(F)(F)C(F)(F)C(F)(F)C(F)(F)C(F)(F)C(F)(F)C(F)(F)C(F)(F)F + O + O=S(=O)(O)O --->> O=C(O)C(F)(F)C(F)(F)C(F)(F)C(F)(F)C(F)(F)C(F)(F)C(F)(F)C(F)(F)F', 'NC(=O)C(F)(F)C(F)(F)C(F)(F)C(F)(F)C(F)(F)C(F)(F)C(F)(F)C(F)(F)F + O.O + O=P(Cl)(Cl)Cl --->> N#CC(F)(F)C(F)(F)C(F)(F)C(F)(F)C(F)(F)C(F)(F)C(F)(F)C(F)(F)F', 'CCOC(=O)C(F)(F)C(F)(F)C(F)(F)C(F)(F)C(F)(F)C(F)(F)C(F)(F)C(F)(F)F + N --->> NC(=O)C(F)(F)C(F)(F)C(F)(F)C(F)(F)C(F)(F)C(F)(F)C(F)(F)C(F)(F)F']}}}, {'smiles': 'O=C(O)C(F)(F)C(F)(F)C(F)(F)C(F)(F)C(F)(F)C(F)(F)C(F)(F)C(F)(F)F', 'toolkit': 'RXN', 'function': 'Predict_Retrosynthesis', 'parameters': {}, 'results': {'0': {'confidence': 0.952, 'reactions': ['CC(C)=O + CC(C)=O.O=S(=O)(O)O.O=[Cr](=O)=O + OCC(F)(F)C(F)(F)C(F)(F)C(F)(F)C(F)(F)C(F)(F)C(F)(F)C(F)(F)F --->> O=C(O)C(F)(F)C(F)(F)C(F)(F)C(F)(F)C(F)(F)C(F)(F)C(F)(F)C(F)(F)F']}, '1': {'confidence': 0.932, 'reactions': ['N#CC(F)(F)C(F)(F)C(F)(F)C(F)(F)C(F)(F)C(F)(F)C(F)(F)C(F)(F)F + O + O=S(=O)(O)O --->> O=C(O)C(F)(F)C(F)(F)C(F)(F)C(F)(F)C(F)(F)C(F)(F)C(F)(F)C(F)(F)F', 'NC(=O)C(F)(F)C(F)(F)C(F)(F)C(F)(F)C(F)(F)C(F)(F)C(F)(F)C(F)(F)F + O.O + O=P(Cl)(Cl)Cl --->> N#CC(F)(F)C(F)(F)C(F)(F)C(F)(F)C(F)(F)C(F)(F)C(F)(F)C(F)(F)F', 'COC(=O)C(F)(F)C(F)(F)C(F)(F)C(F)(F)C(F)(F)C(F)(F)C(F)(F)C(F)(F)F + [NH4+].[OH-] --->> NC(=O)C(F)(F)C(F)(F)C(F)(F)C(F)(F)C(F)(F)C(F)(F)C(F)(F)C(F)(F)F']}, '2': {'confidence': 0.932, 'reactions': ['N#CC(F)(F)C(F)(F)C(F)(F)C(F)(F)C(F)(F)C(F)(F)C(F)(F)C(F)(F)F + O + O=S(=O)(O)O --->> O=C(O)C(F)(F)C(F)(F)C(F)(F)C(F)(F)C(F)(F)C(F)(F)C(F)(F)C(F)(F)F', 'NC(=O)C(F)(F)C(F)(F)C(F)(F)C(F)(F)C(F)(F)C(F)(F)C(F)(F)C(F)(F)F + O.O + O=P(Cl)(Cl)Cl --->> N#CC(F)(F)C(F)(F)C(F)(F)C(F)(F)C(F)(F)C(F)(F)C(F)(F)C(F)(F)F', 'CCOC(=O)C(F)(F)C(F)(F)C(F)(F)C(F)(F)C(F)(F)C(F)(F)C(F)(F)C(F)(F)F + N --->> NC(=O)C(F)(F)C(F)(F)C(F)(F)C(F)(F)C(F)(F)C(F)(F)C(F)(F)C(F)(F)F']}}}, {'smiles': 'O=C(O)C(F)(F)C(F)(F)C(F)(F)C(F)(F)C(F)(F)C(F)(F)C(F)(F)C(F)(F)F', 'toolkit': 'RXN', 'function': 'Predict_Retrosynthesis', 'parameters': {}, 'results': {'0': {'confidence': 0.952, 'reactions': ['CC(C)=O + CC(C)=O.O=S(=O)(O)O.O=[Cr](=O)=O + OCC(F)(F)C(F)(F)C(F)(F)C(F)(F)C(F)(F)C(F)(F)C(F)(F)C(F)(F)F --->> O=C(O)C(F)(F)C(F)(F)C(F)(F)C(F)(F)C(F)(F)C(F)(F)C(F)(F)C(F)(F)F']}, '1': {'confidence': 0.932, 'reactions': ['N#CC(F)(F)C(F)(F)C(F)(F)C(F)(F)C(F)(F)C(F)(F)C(F)(F)C(F)(F)F + O + O=S(=O)(O)O --->> O=C(O)C(F)(F)C(F)(F)C(F)(F)C(F)(F)C(F)(F)C(F)(F)C(F)(F)C(F)(F)F', 'NC(=O)C(F)(F)C(F)(F)C(F)(F)C(F)(F)C(F)(F)C(F)(F)C(F)(F)C(F)(F)F + O.O + O=P(Cl)(Cl)Cl --->> N#CC(F)(F)C(F)(F)C(F)(F)C(F)(F)C(F)(F)C(F)(F)C(F)(F)C(F)(F)F', 'COC(=O)C(F)(F)C(F)(F)C(F)(F)C(F)(F)C(F)(F)C(F)(F)C(F)(F)C(F)(F)F + [NH4+].[OH-] --->> NC(=O)C(F)(F)C(F)(F)C(F)(F)C(F)(F)C(F)(F)C(F)(F)C(F)(F)C(F)(F)F']}, '2': {'confidence': 0.932, 'reactions': ['N#CC(F)(F)C(F)(F)C(F)(F)C(F)(F)C(F)(F)C(F)(F)C(F)(F)C(F)(F)F + O + O=S(=O)(O)O --->> O=C(O)C(F)(F)C(F)(F)C(F)(F)C(F)(F)C(F)(F)C(F)(F)C(F)(F)C(F)(F)F', 'NC(=O)C(F)(F)C(F)(F)C(F)(F)C(F)(F)C(F)(F)C(F)(F)C(F)(F)C(F)(F)F + O.O + O=P(Cl)(Cl)Cl --->> N#CC(F)(F)C(F)(F)C(F)(F)C(F)(F)C(F)(F)C(F)(F)C(F)(F)C(F)(F)F', 'CCOC(=O)C(F)(F)C(F)(F)C(F)(F)C(F)(F)C(F)(F)C(F)(F)C(F)(F)C(F)(F)F + N --->> NC(=O)C(F)(F)C(F)(F)C(F)(F)C(F)(F)C(F)(F)C(F)(F)C(F)(F)C(F)(F)F']}}}, {'smiles': 'O=C(O)C(F)(F)C(F)(F)C(F)(F)C(F)(F)C(F)(F)C(F)(F)C(F)(F)C(F)(F)F', 'toolkit': 'RXN', 'function': 'Predict_Retrosynthesis', 'parameters': {}, 'results': {'0': {'confidence': 0.952, 'reactions': ['CC(C)=O + CC(C)=O.O=S(=O)(O)O.O=[Cr](=O)=O + OCC(F)(F)C(F)(F)C(F)(F)C(F)(F)C(F)(F)C(F)(F)C(F)(F)C(F)(F)F --->> O=C(O)C(F)(F)C(F)(F)C(F)(F)C(F)(F)C(F)(F)C(F)(F)C(F)(F)C(F)(F)F']}, '1': {'confidence': 0.932, 'reactions': ['N#CC(F)(F)C(F)(F)C(F)(F)C(F)(F)C(F)(F)C(F)(F)C(F)(F)C(F)(F)F + O + O=S(=O)(O)O --->> O=C(O)C(F)(F)C(F)(F)C(F)(F)C(F)(F)C(F)(F)C(F)(F)C(F)(F)C(F)(F)F', 'NC(=O)C(F)(F)C(F)(F)C(F)(F)C(F)(F)C(F)(F)C(F)(F)C(F)(F)C(F)(F)F + O.O + O=P(Cl)(Cl)Cl --->> N#CC(F)(F)C(F)(F)C(F)(F)C(F)(F)C(F)(F)C(F)(F)C(F)(F)C(F)(F)F', 'COC(=O)C(F)(F)C(F)(F)C(F)(F)C(F)(F)C(F)(F)C(F)(F)C(F)(F)C(F)(F)F + [NH4+].[OH-] --->> NC(=O)C(F)(F)C(F)(F)C(F)(F)C(F)(F)C(F)(F)C(F)(F)C(F)(F)C(F)(F)F']}, '2': {'confidence': 0.932, 'reactions': ['N#CC(F)(F)C(F)(F)C(F)(F)C(F)(F)C(F)(F)C(F)(F)C(F)(F)C(F)(F)F + O + O=S(=O)(O)O --->> O=C(O)C(F)(F)C(F)(F)C(F)(F)C(F)(F)C(F)(F)C(F)(F)C(F)(F)C(F)(F)F', 'NC(=O)C(F)(F)C(F)(F)C(F)(F)C(F)(F)C(F)(F)C(F)(F)C(F)(F)C(F)(F)F + O.O + O=P(Cl)(Cl)Cl --->> N#CC(F)(F)C(F)(F)C(F)(F)C(F)(F)C(F)(F)C(F)(F)C(F)(F)C(F)(F)F', 'CCOC(=O)C(F)(F)C(F)(F)C(F)(F)C(F)(F)C(F)(F)C(F)(F)C(F)(F)C(F)(F)F + N --->> NC(=O)C(F)(F)C(F)(F)C(F)(F)C(F)(F)C(F)(F)C(F)(F)C(F)(F)C(F)(F)F']}, '3': {'confidence': 0.932, 'reactions': ['N#CC(F)(F)C(F)(F)C(F)(F)C(F)(F)C(F)(F)C(F)(F)C(F)(F)C(F)(F)F + O + O=S(=O)(O)O --->> O=C(O)C(F)(F)C(F)(F)C(F)(F)C(F)(F)C(F)(F)C(F)(F)C(F)(F)C(F)(F)F', 'NC(=O)C(F)(F)C(F)(F)C(F)(F)C(F)(F)C(F)(F)C(F)(F)C(F)(F)C(F)(F)F + O.O + O=P(Cl)(Cl)Cl --->> N#CC(F)(F)C(F)(F)C(F)(F)C(F)(F)C(F)(F)C(F)(F)C(F)(F)C(F)(F)F', 'COC(=O)C(F)(F)C(F)(F)C(F)(F)C(F)(F)C(F)(F)C(F)(F)C(F)(F)C(F)(F)F + N --->> NC(=O)C(F)(F)C(F)(F)C(F)(F)C(F)(F)C(F)(F)C(F)(F)C(F)(F)C(F)(F)F']}, '4': {'confidence': 0.932, 'reactions': ['N#CC(F)(F)C(F)(F)C(F)(F)C(F)(F)C(F)(F)C(F)(F)C(F)(F)C(F)(F)F + O + O=S(=O)(O)O --->> O=C(O)C(F)(F)C(F)(F)C(F)(F)C(F)(F)C(F)(F)C(F)(F)C(F)(F)C(F)(F)F', 'NC(=O)C(F)(F)C(F)(F)C(F)(F)C(F)(F)C(F)(F)C(F)(F)C(F)(F)C(F)(F)F + O.O + O=P(Cl)(Cl)Cl --->> N#CC(F)(F)C(F)(F)C(F)(F)C(F)(F)C(F)(F)C(F)(F)C(F)(F)C(F)(F)F', 'CO.N + COC(=O)C(F)(F)C(F)(F)C(F)(F)C(F)(F)C(F)(F)C(F)(F)C(F)(F)C(F)(F)F --->> NC(=O)C(F)(F)C(F)(F)C(F)(F)C(F)(F)C(F)(F)C(F)(F)C(F)(F)C(F)(F)F']}, '5': {'confidence': 0.831, 'reactions': ['CO + COC(=O)C(F)(F)C(F)(F)C(F)(F)C(F)(F)C(F)(F)C(F)(F)C(F)(F)C(F)(F)F + O + O[Na] --->> O=C(O)C(F)(F)C(F)(F)C(F)(F)C(F)(F)C(F)(F)C(F)(F)C(F)(F)C(F)(F)F']}, '6': {'confidence': 0.932, 'reactions': ['N#CC(F)(F)C(F)(F)C(F)(F)C(F)(F)C(F)(F)C(F)(F)C(F)(F)C(F)(F)F + O + O=S(=O)(O)O --->> O=C(O)C(F)(F)C(F)(F)C(F)(F)C(F)(F)C(F)(F)C(F)(F)C(F)(F)C(F)(F)F', 'NC(=O)C(F)(F)C(F)(F)C(F)(F)C(F)(F)C(F)(F)C(F)(F)C(F)(F)C(F)(F)F + O.O + O=P(Cl)(Cl)Cl --->> N#CC(F)(F)C(F)(F)C(F)(F)C(F)(F)C(F)(F)C(F)(F)C(F)(F)C(F)(F)F', 'CO + COC(=O)C(F)(F)C(F)(F)C(F)(F)C(F)(F)C(F)(F)C(F)(F)C(F)(F)C(F)(F)F + N --->> NC(=O)C(F)(F)C(F)(F)C(F)(F)C(F)(F)C(F)(F)C(F)(F)C(F)(F)C(F)(F)F']}, '7': {'confidence': 0.755, 'reactions': ['CCOC(=O)C(F)(F)C(F)(F)C(F)(F)C(F)(F)C(F)(F)C(F)(F)C(F)(F)C(F)(F)F + CO + O + O[K] --->> O=C(O)C(F)(F)C(F)(F)C(F)(F)C(F)(F)C(F)(F)C(F)(F)C(F)(F)C(F)(F)F']}, '8': {'confidence': 0.932, 'reactions': ['N#CC(F)(F)C(F)(F)C(F)(F)C(F)(F)C(F)(F)C(F)(F)C(F)(F)C(F)(F)F + O + O=S(=O)(O)O --->> O=C(O)C(F)(F)C(F)(F)C(F)(F)C(F)(F)C(F)(F)C(F)(F)C(F)(F)C(F)(F)F', 'NC(=O)C(F)(F)C(F)(F)C(F)(F)C(F)(F)C(F)(F)C(F)(F)C(F)(F)C(F)(F)F + O.O + O=P(Cl)(Cl)Cl --->> N#CC(F)(F)C(F)(F)C(F)(F)C(F)(F)C(F)(F)C(F)(F)C(F)(F)C(F)(F)F', 'O=C(F)C(F)(F)C(F)(F)C(F)(F)C(F)(F)C(F)(F)C(F)(F)C(F)(F)C(F)(F)F + [NH4+].[OH-] --->> NC(=O)C(F)(F)C(F)(F)C(F)(F)C(F)(F)C(F)(F)C(F)(F)C(F)(F)C(F)(F)F', 'O=C(Cl)C(F)(F)C(F)(F)C(F)(F)C(F)(F)C(F)(F)C(F)(F)C(F)(F)C(F)(F)F + [F-].[K+] --->> O=C(F)C(F)(F)C(F)(F)C(F)(F)C(F)(F)C(F)(F)C(F)(F)C(F)(F)C(F)(F)F']}, '9': {'confidence': 0.72, 'reactions': ['CO + COC(=O)C(F)(F)C(F)(F)C(F)(F)C(F)(F)C(F)(F)C(F)(F)C(F)(F)C(F)(F)F + O[Na] --->> O=C(O)C(F)(F)C(F)(F)C(F)(F)C(F)(F)C(F)(F)C(F)(F)C(F)(F)C(F)(F)F']}, '10': {'confidence': 0.717, 'reactions': ['CO + COC(=O)C(F)(F)C(F)(F)C(F)(F)C(F)(F)C(F)(F)C(F)(F)C(F)(F)C(F)(F)F + O + O[K] --->> O=C(O)C(F)(F)C(F)(F)C(F)(F)C(F)(F)C(F)(F)C(F)(F)C(F)(F)C(F)(F)F']}, '11': {'confidence': 0.932, 'reactions': ['N#CC(F)(F)C(F)(F)C(F)(F)C(F)(F)C(F)(F)C(F)(F)C(F)(F)C(F)(F)F + O + O=S(=O)(O)O --->> O=C(O)C(F)(F)C(F)(F)C(F)(F)C(F)(F)C(F)(F)C(F)(F)C(F)(F)C(F)(F)F', 'NC(=O)C(F)(F)C(F)(F)C(F)(F)C(F)(F)C(F)(F)C(F)(F)C(F)(F)C(F)(F)F + O.O + O=P(Cl)(Cl)Cl --->> N#CC(F)(F)C(F)(F)C(F)(F)C(F)(F)C(F)(F)C(F)(F)C(F)(F)C(F)(F)F', 'N + O=C(Cl)C(F)(F)C(F)(F)C(F)(F)C(F)(F)C(F)(F)C(F)(F)C(F)(F)C(F)(F)F --->> NC(=O)C(F)(F)C(F)(F)C(F)(F)C(F)(F)C(F)(F)C(F)(F)C(F)(F)C(F)(F)F']}, '12': {'confidence': 0.932, 'reactions': ['N#CC(F)(F)C(F)(F)C(F)(F)C(F)(F)C(F)(F)C(F)(F)C(F)(F)C(F)(F)F + O + O=S(=O)(O)O --->> O=C(O)C(F)(F)C(F)(F)C(F)(F)C(F)(F)C(F)(F)C(F)(F)C(F)(F)C(F)(F)F', 'NC(=O)C(F)(F)C(F)(F)C(F)(F)C(F)(F)C(F)(F)C(F)(F)C(F)(F)C(F)(F)F + O.O + O=P(Cl)(Cl)Cl --->> N#CC(F)(F)C(F)(F)C(F)(F)C(F)(F)C(F)(F)C(F)(F)C(F)(F)C(F)(F)F', 'O=C(F)C(F)(F)C(F)(F)C(F)(F)C(F)(F)C(F)(F)C(F)(F)C(F)(F)C(F)(F)F + [NH4+].[OH-] --->> NC(=O)C(F)(F)C(F)(F)C(F)(F)C(F)(F)C(F)(F)C(F)(F)C(F)(F)C(F)(F)F', 'COC(=O)C(F)(F)C(F)(F)C(F)(F)C(F)(F)C(F)(F)C(F)(F)C(F)(F)C(F)(F)F + F[K] --->> O=C(F)C(F)(F)C(F)(F)C(F)(F)C(F)(F)C(F)(F)C(F)(F)C(F)(F)C(F)(F)F']}, '13': {'confidence': 0.932, 'reactions': ['N#CC(F)(F)C(F)(F)C(F)(F)C(F)(F)C(F)(F)C(F)(F)C(F)(F)C(F)(F)F + O + O=S(=O)(O)O --->> O=C(O)C(F)(F)C(F)(F)C(F)(F)C(F)(F)C(F)(F)C(F)(F)C(F)(F)C(F)(F)F', 'CN(C)C=O + FC(F)(F)C(F)(F)C(F)(F)C(F)(F)C(F)(F)C(F)(F)C(F)(F)C(F)(F)I + [C-]#N.[C-]#N.[Cu+2] --->> N#CC(F)(F)C(F)(F)C(F)(F)C(F)(F)C(F)(F)C(F)(F)C(F)(F)C(F)(F)F']}, '14': {'confidence': 0.932, 'reactions': ['N#CC(F)(F)C(F)(F)C(F)(F)C(F)(F)C(F)(F)C(F)(F)C(F)(F)C(F)(F)F + O + O=S(=O)(O)O --->> O=C(O)C(F)(F)C(F)(F)C(F)(F)C(F)(F)C(F)(F)C(F)(F)C(F)(F)C(F)(F)F', 'NC(=O)C(F)(F)C(F)(F)C(F)(F)C(F)(F)C(F)(F)C(F)(F)C(F)(F)C(F)(F)F + O.O + O=P(Cl)(Cl)Cl --->> N#CC(F)(F)C(F)(F)C(F)(F)C(F)(F)C(F)(F)C(F)(F)C(F)(F)C(F)(F)F', 'O=C(F)C(F)(F)C(F)(F)C(F)(F)C(F)(F)C(F)(F)C(F)(F)C(F)(F)C(F)(F)F + [NH4+].[OH-] --->> NC(=O)C(F)(F)C(F)(F)C(F)(F)C(F)(F)C(F)(F)C(F)(F)C(F)(F)C(F)(F)F', 'F[K] + O=C(Cl)C(F)(F)C(F)(F)C(F)(F)C(F)(F)C(F)(F)C(F)(F)C(F)(F)F --->> O=C(F)C(F)(F)C(F)(F)C(F)(F)C(F)(F)C(F)(F)C(F)(F)C(F)(F)C(F)(F)F']}, '15': {'confidence': 0.932, 'reactions': ['N#CC(F)(F)C(F)(F)C(F)(F)C(F)(F)C(F)(F)C(F)(F)C(F)(F)C(F)(F)F + O + O=S(=O)(O)O --->> O=C(O)C(F)(F)C(F)(F)C(F)(F)C(F)(F)C(F)(F)C(F)(F)C(F)(F)C(F)(F)F', 'NC(=O)C(F)(F)C(F)(F)C(F)(F)C(F)(F)C(F)(F)C(F)(F)C(F)(F)C(F)(F)F + O.O + O=P(Cl)(Cl)Cl --->> N#CC(F)(F)C(F)(F)C(F)(F)C(F)(F)C(F)(F)C(F)(F)C(F)(F)C(F)(F)F', 'O=C(F)C(F)(F)C(F)(F)C(F)(F)C(F)(F)C(F)(F)C(F)(F)C(F)(F)C(F)(F)F + [NH4+].[OH-] --->> NC(=O)C(F)(F)C(F)(F)C(F)(F)C(F)(F)C(F)(F)C(F)(F)C(F)(F)C(F)(F)F', 'COC(=O)C(F)(F)C(F)(F)C(F)(F)C(F)(F)C(F)(F)C(F)(F)C(F)(F)C(F)(F)F + F --->> O=C(F)C(F)(F)C(F)(F)C(F)(F)C(F)(F)C(F)(F)C(F)(F)C(F)(F)C(F)(F)F']}}}, {'smiles': 'O=C(O)C(F)(F)C(F)(F)C(F)(F)C(F)(F)C(F)(F)C(F)(F)C(F)(F)C(F)(F)F', 'toolkit': 'RXN', 'function': 'Predict_Retrosynthesis', 'parameters': {}, 'results': {'0': {'confidence': 0.952, 'reactions': ['CC(C)=O + CC(C)=O.O=S(=O)(O)O.O=[Cr](=O)=O + OCC(F)(F)C(F)(F)C(F)(F)C(F)(F)C(F)(F)C(F)(F)C(F)(F)C(F)(F)F --->> O=C(O)C(F)(F)C(F)(F)C(F)(F)C(F)(F)C(F)(F)C(F)(F)C(F)(F)C(F)(F)F']}, '1': {'confidence': 0.932, 'reactions': ['N#CC(F)(F)C(F)(F)C(F)(F)C(F)(F)C(F)(F)C(F)(F)C(F)(F)C(F)(F)F + O + O=S(=O)(O)O --->> O=C(O)C(F)(F)C(F)(F)C(F)(F)C(F)(F)C(F)(F)C(F)(F)C(F)(F)C(F)(F)F', 'NC(=O)C(F)(F)C(F)(F)C(F)(F)C(F)(F)C(F)(F)C(F)(F)C(F)(F)C(F)(F)F + O.O + O=P(Cl)(Cl)Cl --->> N#CC(F)(F)C(F)(F)C(F)(F)C(F)(F)C(F)(F)C(F)(F)C(F)(F)C(F)(F)F', 'COC(=O)C(F)(F)C(F)(F)C(F)(F)C(F)(F)C(F)(F)C(F)(F)C(F)(F)C(F)(F)F + [NH4+].[OH-] --->> NC(=O)C(F)(F)C(F)(F)C(F)(F)C(F)(F)C(F)(F)C(F)(F)C(F)(F)C(F)(F)F']}, '2': {'confidence': 0.932, 'reactions': ['N#CC(F)(F)C(F)(F)C(F)(F)C(F)(F)C(F)(F)C(F)(F)C(F)(F)C(F)(F)F + O + O=S(=O)(O)O --->> O=C(O)C(F)(F)C(F)(F)C(F)(F)C(F)(F)C(F)(F)C(F)(F)C(F)(F)C(F)(F)F', 'NC(=O)C(F)(F)C(F)(F)C(F)(F)C(F)(F)C(F)(F)C(F)(F)C(F)(F)C(F)(F)F + O.O + O=P(Cl)(Cl)Cl --->> N#CC(F)(F)C(F)(F)C(F)(F)C(F)(F)C(F)(F)C(F)(F)C(F)(F)C(F)(F)F', 'CCOC(=O)C(F)(F)C(F)(F)C(F)(F)C(F)(F)C(F)(F)C(F)(F)C(F)(F)C(F)(F)F + N --->> NC(=O)C(F)(F)C(F)(F)C(F)(F)C(F)(F)C(F)(F)C(F)(F)C(F)(F)C(F)(F)F']}}}, {'toolkit': 'RXN', 'function': 'Predict_Retrosynthesis', 'smiles': 'O=C(O)C(F)(F)C(F)(F)C(F)(F)C(F)(F)C(F)(F)C(F)(F)C(F)(F)C(F)(F)F', 'parameters': {}, 'results': {'0': {'confidence': 0.952, 'reactions': ['CC(C)=O + CC(C)=O.O=S(=O)(O)O.O=[Cr](=O)=O + OCC(F)(F)C(F)(F)C(F)(F)C(F)(F)C(F)(F)C(F)(F)C(F)(F)C(F)(F)F --->> O=C(O)C(F)(F)C(F)(F)C(F)(F)C(F)(F)C(F)(F)C(F)(F)C(F)(F)C(F)(F)F']}, '1': {'confidence': 0.932, 'reactions': ['N#CC(F)(F)C(F)(F)C(F)(F)C(F)(F)C(F)(F)C(F)(F)C(F)(F)C(F)(F)F + O + O=S(=O)(O)O --->> O=C(O)C(F)(F)C(F)(F)C(F)(F)C(F)(F)C(F)(F)C(F)(F)C(F)(F)C(F)(F)F', 'NC(=O)C(F)(F)C(F)(F)C(F)(F)C(F)(F)C(F)(F)C(F)(F)C(F)(F)C(F)(F)F + O.O + O=P(Cl)(Cl)Cl --->> N#CC(F)(F)C(F)(F)C(F)(F)C(F)(F)C(F)(F)C(F)(F)C(F)(F)C(F)(F)F', 'COC(=O)C(F)(F)C(F)(F)C(F)(F)C(F)(F)C(F)(F)C(F)(F)C(F)(F)C(F)(F)F + [NH4+].[OH-] --->> NC(=O)C(F)(F)C(F)(F)C(F)(F)C(F)(F)C(F)(F)C(F)(F)C(F)(F)C(F)(F)F']}, '2': {'confidence': 0.932, 'reactions': ['N#CC(F)(F)C(F)(F)C(F)(F)C(F)(F)C(F)(F)C(F)(F)C(F)(F)C(F)(F)F + O + O=S(=O)(O)O --->> O=C(O)C(F)(F)C(F)(F)C(F)(F)C(F)(F)C(F)(F)C(F)(F)C(F)(F)C(F)(F)F', 'NC(=O)C(F)(F)C(F)(F)C(F)(F)C(F)(F)C(F)(F)C(F)(F)C(F)(F)C(F)(F)F + O.O + O=P(Cl)(Cl)Cl --->> N#CC(F)(F)C(F)(F)C(F)(F)C(F)(F)C(F)(F)C(F)(F)C(F)(F)C(F)(F)F', 'CCOC(=O)C(F)(F)C(F)(F)C(F)(F)C(F)(F)C(F)(F)C(F)(F)C(F)(F)C(F)(F)F + N --->> NC(=O)C(F)(F)C(F)(F)C(F)(F)C(F)(F)C(F)(F)C(F)(F)C(F)(F)C(F)(F)F']}}}, {'smiles': 'O=C(O)C(F)(F)C(F)(F)C(F)(F)C(F)(F)C(F)(F)C(F)(F)C(F)(F)C(F)(F)F', 'toolkit': 'RXN', 'function': 'Predict_Retrosynthesis', 'parameters': {}, 'results': {'0': {'confidence': 0.952, 'reactions': ['CC(C)=O + CC(C)=O.O=S(=O)(O)O.O=[Cr](=O)=O + OCC(F)(F)C(F)(F)C(F)(F)C(F)(F)C(F)(F)C(F)(F)C(F)(F)C(F)(F)F --->> O=C(O)C(F)(F)C(F)(F)C(F)(F)C(F)(F)C(F)(F)C(F)(F)C(F)(F)C(F)(F)F']}, '1': {'confidence': 0.932, 'reactions': ['N#CC(F)(F)C(F)(F)C(F)(F)C(F)(F)C(F)(F)C(F)(F)C(F)(F)C(F)(F)F + O + O=S(=O)(O)O --->> O=C(O)C(F)(F)C(F)(F)C(F)(F)C(F)(F)C(F)(F)C(F)(F)C(F)(F)C(F)(F)F', 'NC(=O)C(F)(F)C(F)(F)C(F)(F)C(F)(F)C(F)(F)C(F)(F)C(F)(F)C(F)(F)F + O.O + O=P(Cl)(Cl)Cl --->> N#CC(F)(F)C(F)(F)C(F)(F)C(F)(F)C(F)(F)C(F)(F)C(F)(F)C(F)(F)F', 'COC(=O)C(F)(F)C(F)(F)C(F)(F)C(F)(F)C(F)(F)C(F)(F)C(F)(F)C(F)(F)F + [NH4+].[OH-] --->> NC(=O)C(F)(F)C(F)(F)C(F)(F)C(F)(F)C(F)(F)C(F)(F)C(F)(F)C(F)(F)F']}, '2': {'confidence': 0.932, 'reactions': ['N#CC(F)(F)C(F)(F)C(F)(F)C(F)(F)C(F)(F)C(F)(F)C(F)(F)C(F)(F)F + O + O=S(=O)(O)O --->> O=C(O)C(F)(F)C(F)(F)C(F)(F)C(F)(F)C(F)(F)C(F)(F)C(F)(F)C(F)(F)F', 'NC(=O)C(F)(F)C(F)(F)C(F)(F)C(F)(F)C(F)(F)C(F)(F)C(F)(F)C(F)(F)F + O.O + O=P(Cl)(Cl)Cl --->> N#CC(F)(F)C(F)(F)C(F)(F)C(F)(F)C(F)(F)C(F)(F)C(F)(F)C(F)(F)F', 'CCOC(=O)C(F)(F)C(F)(F)C(F)(F)C(F)(F)C(F)(F)C(F)(F)C(F)(F)C(F)(F)F + N --->> NC(=O)C(F)(F)C(F)(F)C(F)(F)C(F)(F)C(F)(F)C(F)(F)C(F)(F)C(F)(F)F']}}}, {'smiles': 'O=C(O)C(F)(F)C(F)(F)C(F)(F)C(F)(F)C(F)(F)C(F)(F)C(F)(F)C(F)(F)F', 'toolkit': 'RXN', 'function': 'Predict_Retrosynthesis', 'parameters': {}, 'results': {'0': {'confidence': 0.952, 'reactions': ['CC(C)=O + CC(C)=O.O=S(=O)(O)O.O=[Cr](=O)=O + OCC(F)(F)C(F)(F)C(F)(F)C(F)(F)C(F)(F)C(F)(F)C(F)(F)C(F)(F)F --->> O=C(O)C(F)(F)C(F)(F)C(F)(F)C(F)(F)C(F)(F)C(F)(F)C(F)(F)C(F)(F)F']}, '1': {'confidence': 0.932, 'reactions': ['N#CC(F)(F)C(F)(F)C(F)(F)C(F)(F)C(F)(F)C(F)(F)C(F)(F)C(F)(F)F + O + O=S(=O)(O)O --->> O=C(O)C(F)(F)C(F)(F)C(F)(F)C(F)(F)C(F)(F)C(F)(F)C(F)(F)C(F)(F)F', 'NC(=O)C(F)(F)C(F)(F)C(F)(F)C(F)(F)C(F)(F)C(F)(F)C(F)(F)C(F)(F)F + O.O + O=P(Cl)(Cl)Cl --->> N#CC(F)(F)C(F)(F)C(F)(F)C(F)(F)C(F)(F)C(F)(F)C(F)(F)C(F)(F)F', 'COC(=O)C(F)(F)C(F)(F)C(F)(F)C(F)(F)C(F)(F)C(F)(F)C(F)(F)C(F)(F)F + [NH4+].[OH-] --->> NC(=O)C(F)(F)C(F)(F)C(F)(F)C(F)(F)C(F)(F)C(F)(F)C(F)(F)C(F)(F)F']}, '2': {'confidence': 0.932, 'reactions': ['N#CC(F)(F)C(F)(F)C(F)(F)C(F)(F)C(F)(F)C(F)(F)C(F)(F)C(F)(F)F + O + O=S(=O)(O)O --->> O=C(O)C(F)(F)C(F)(F)C(F)(F)C(F)(F)C(F)(F)C(F)(F)C(F)(F)C(F)(F)F', 'NC(=O)C(F)(F)C(F)(F)C(F)(F)C(F)(F)C(F)(F)C(F)(F)C(F)(F)C(F)(F)F + O.O + O=P(Cl)(Cl)Cl --->> N#CC(F)(F)C(F)(F)C(F)(F)C(F)(F)C(F)(F)C(F)(F)C(F)(F)C(F)(F)F', 'CCOC(=O)C(F)(F)C(F)(F)C(F)(F)C(F)(F)C(F)(F)C(F)(F)C(F)(F)C(F)(F)F + N --->> NC(=O)C(F)(F)C(F)(F)C(F)(F)C(F)(F)C(F)(F)C(F)(F)C(F)(F)C(F)(F)F']}}}, {'smiles': 'O=C(O)C(F)(F)C(F)(F)C(F)(F)C(F)(F)C(F)(F)C(F)(F)C(F)(F)C(F)(F)F', 'toolkit': 'RXN', 'function': 'Predict_Retrosynthesis', 'parameters': {}, 'results': {'0': {'confidence': 0.952, 'reactions': ['CC(C)=O + CC(C)=O.O=S(=O)(O)O.O=[Cr](=O)=O + OCC(F)(F)C(F)(F)C(F)(F)C(F)(F)C(F)(F)C(F)(F)C(F)(F)C(F)(F)F --->> O=C(O)C(F)(F)C(F)(F)C(F)(F)C(F)(F)C(F)(F)C(F)(F)C(F)(F)C(F)(F)F']}, '1': {'confidence': 0.932, 'reactions': ['N#CC(F)(F)C(F)(F)C(F)(F)C(F)(F)C(F)(F)C(F)(F)C(F)(F)C(F)(F)F + O + O=S(=O)(O)O --->> O=C(O)C(F)(F)C(F)(F)C(F)(F)C(F)(F)C(F)(F)C(F)(F)C(F)(F)C(F)(F)F', 'NC(=O)C(F)(F)C(F)(F)C(F)(F)C(F)(F)C(F)(F)C(F)(F)C(F)(F)C(F)(F)F + O.O + O=P(Cl)(Cl)Cl --->> N#CC(F)(F)C(F)(F)C(F)(F)C(F)(F)C(F)(F)C(F)(F)C(F)(F)C(F)(F)F', 'COC(=O)C(F)(F)C(F)(F)C(F)(F)C(F)(F)C(F)(F)C(F)(F)C(F)(F)C(F)(F)F + [NH4+].[OH-] --->> NC(=O)C(F)(F)C(F)(F)C(F)(F)C(F)(F)C(F)(F)C(F)(F)C(F)(F)C(F)(F)F']}, '2': {'confidence': 0.932, 'reactions': ['N#CC(F)(F)C(F)(F)C(F)(F)C(F)(F)C(F)(F)C(F)(F)C(F)(F)C(F)(F)F + O + O=S(=O)(O)O --->> O=C(O)C(F)(F)C(F)(F)C(F)(F)C(F)(F)C(F)(F)C(F)(F)C(F)(F)C(F)(F)F', 'NC(=O)C(F)(F)C(F)(F)C(F)(F)C(F)(F)C(F)(F)C(F)(F)C(F)(F)C(F)(F)F + O.O + O=P(Cl)(Cl)Cl --->> N#CC(F)(F)C(F)(F)C(F)(F)C(F)(F)C(F)(F)C(F)(F)C(F)(F)C(F)(F)F', 'CCOC(=O)C(F)(F)C(F)(F)C(F)(F)C(F)(F)C(F)(F)C(F)(F)C(F)(F)C(F)(F)F + N --->> NC(=O)C(F)(F)C(F)(F)C(F)(F)C(F)(F)C(F)(F)C(F)(F)C(F)(F)C(F)(F)F']}}}]\n",
      "888 C(=O)(C(C(C(C(C(C(C(C(F)(F)F)(F)F)(F)F)(F)F)(F)F)(F)F)(F)F)(F)F)O O=C(O)C(F)(F)C(F)(F)C(F)(F)C(F)(F)C(F)(F)C(F)(F)C(F)(F)C(F)(F)F O=C(O)C(F)(F)C(F)(F)C(F)(F)C(F)(F)C(F)(F)C(F)(F)C(F)(F)C(F)(F)F\n",
      "888 C(=O)(C(C(C(C(C(C(C(C(F)(F)F)(F)F)(F)F)(F)F)(F)F)(F)F)(F)F)(F)F)O O=C(O)C(F)(F)C(F)(F)C(F)(F)C(F)(F)C(F)(F)C(F)(F)C(F)(F)C(F)(F)F O=C(O)C(F)(F)C(F)(F)C(F)(F)C(F)(F)C(F)(F)C(F)(F)C(F)(F)C(F)(F)F\n",
      "888 C(=O)(C(C(C(C(C(C(C(C(F)(F)F)(F)F)(F)F)(F)F)(F)F)(F)F)(F)F)(F)F)O O=C(O)C(F)(F)C(F)(F)C(F)(F)C(F)(F)C(F)(F)C(F)(F)C(F)(F)C(F)(F)F O=C(O)C(F)(F)C(F)(F)C(F)(F)C(F)(F)C(F)(F)C(F)(F)C(F)(F)C(F)(F)F\n",
      "888 C(=O)(C(C(C(C(C(C(C(C(F)(F)F)(F)F)(F)F)(F)F)(F)F)(F)F)(F)F)(F)F)O O=C(O)C(F)(F)C(F)(F)C(F)(F)C(F)(F)C(F)(F)C(F)(F)C(F)(F)C(F)(F)F O=C(O)C(F)(F)C(F)(F)C(F)(F)C(F)(F)C(F)(F)C(F)(F)C(F)(F)C(F)(F)F\n",
      "888 C(=O)(C(C(C(C(C(C(C(C(F)(F)F)(F)F)(F)F)(F)F)(F)F)(F)F)(F)F)(F)F)O O=C(O)C(F)(F)C(F)(F)C(F)(F)C(F)(F)C(F)(F)C(F)(F)C(F)(F)C(F)(F)F O=C(O)C(F)(F)C(F)(F)C(F)(F)C(F)(F)C(F)(F)C(F)(F)C(F)(F)C(F)(F)F\n",
      "888 C(=O)(C(C(C(C(C(C(C(C(F)(F)F)(F)F)(F)F)(F)F)(F)F)(F)F)(F)F)(F)F)O O=C(O)C(F)(F)C(F)(F)C(F)(F)C(F)(F)C(F)(F)C(F)(F)C(F)(F)C(F)(F)F O=C(O)C(F)(F)C(F)(F)C(F)(F)C(F)(F)C(F)(F)C(F)(F)C(F)(F)C(F)(F)F\n",
      "888 C(=O)(C(C(C(C(C(C(C(C(F)(F)F)(F)F)(F)F)(F)F)(F)F)(F)F)(F)F)(F)F)O O=C(O)C(F)(F)C(F)(F)C(F)(F)C(F)(F)C(F)(F)C(F)(F)C(F)(F)C(F)(F)F O=C(O)C(F)(F)C(F)(F)C(F)(F)C(F)(F)C(F)(F)C(F)(F)C(F)(F)C(F)(F)F\n",
      "888 C(=O)(C(C(C(C(C(C(C(C(F)(F)F)(F)F)(F)F)(F)F)(F)F)(F)F)(F)F)(F)F)O O=C(O)C(F)(F)C(F)(F)C(F)(F)C(F)(F)C(F)(F)C(F)(F)C(F)(F)C(F)(F)F O=C(O)C(F)(F)C(F)(F)C(F)(F)C(F)(F)C(F)(F)C(F)(F)C(F)(F)C(F)(F)F\n",
      "888 C(=O)(C(C(C(C(C(C(C(C(F)(F)F)(F)F)(F)F)(F)F)(F)F)(F)F)(F)F)(F)F)O O=C(O)C(F)(F)C(F)(F)C(F)(F)C(F)(F)C(F)(F)C(F)(F)C(F)(F)C(F)(F)F O=C(O)C(F)(F)C(F)(F)C(F)(F)C(F)(F)C(F)(F)C(F)(F)C(F)(F)C(F)(F)F\n",
      "888 C(=O)(C(C(C(C(C(C(C(C(F)(F)F)(F)F)(F)F)(F)F)(F)F)(F)F)(F)F)(F)F)O O=C(O)C(F)(F)C(F)(F)C(F)(F)C(F)(F)C(F)(F)C(F)(F)C(F)(F)C(F)(F)F O=C(O)C(F)(F)C(F)(F)C(F)(F)C(F)(F)C(F)(F)C(F)(F)C(F)(F)C(F)(F)F\n",
      "888 C(=O)(C(C(C(C(C(C(C(C(F)(F)F)(F)F)(F)F)(F)F)(F)F)(F)F)(F)F)(F)F)O O=C(O)C(F)(F)C(F)(F)C(F)(F)C(F)(F)C(F)(F)C(F)(F)C(F)(F)C(F)(F)F O=C(O)C(F)(F)C(F)(F)C(F)(F)C(F)(F)C(F)(F)C(F)(F)C(F)(F)C(F)(F)F\n",
      "888 C(=O)(C(C(C(C(C(C(C(C(F)(F)F)(F)F)(F)F)(F)F)(F)F)(F)F)(F)F)(F)F)O O=C(O)C(F)(F)C(F)(F)C(F)(F)C(F)(F)C(F)(F)C(F)(F)C(F)(F)C(F)(F)F O=C(O)C(F)(F)C(F)(F)C(F)(F)C(F)(F)C(F)(F)C(F)(F)C(F)(F)C(F)(F)F\n",
      "888 C(=O)(C(C(C(C(C(C(C(C(F)(F)F)(F)F)(F)F)(F)F)(F)F)(F)F)(F)F)(F)F)O O=C(O)C(F)(F)C(F)(F)C(F)(F)C(F)(F)C(F)(F)C(F)(F)C(F)(F)C(F)(F)F O=C(O)C(F)(F)C(F)(F)C(F)(F)C(F)(F)C(F)(F)C(F)(F)C(F)(F)C(F)(F)F\n",
      "888 C(=O)(C(C(C(C(C(C(C(C(F)(F)F)(F)F)(F)F)(F)F)(F)F)(F)F)(F)F)(F)F)O O=C(O)C(F)(F)C(F)(F)C(F)(F)C(F)(F)C(F)(F)C(F)(F)C(F)(F)C(F)(F)F O=C(O)C(F)(F)C(F)(F)C(F)(F)C(F)(F)C(F)(F)C(F)(F)C(F)(F)C(F)(F)F\n",
      "888 C(=O)(C(C(C(C(C(C(C(C(F)(F)F)(F)F)(F)F)(F)F)(F)F)(F)F)(F)F)(F)F)O O=C(O)C(F)(F)C(F)(F)C(F)(F)C(F)(F)C(F)(F)C(F)(F)C(F)(F)C(F)(F)F O=C(O)C(F)(F)C(F)(F)C(F)(F)C(F)(F)C(F)(F)C(F)(F)C(F)(F)C(F)(F)F\n",
      "123\n",
      "inchikey CSEBNABAWMZWIF-UHFFFAOYSA-N\n",
      "456 []\n",
      "123\n",
      "inchikey YFSUTJLHUFNCNZ-UHFFFAOYSA-N\n",
      "456 []\n",
      "123\n",
      "inchikey QZHDEAJFRJCDMF-UHFFFAOYSA-N\n",
      "456 [{'smiles': 'O=S(=O)(O)C(F)(F)C(F)(F)C(F)(F)C(F)(F)C(F)(F)C(F)(F)F', 'toolkit': 'DS4SD', 'function': 'Patents_For_Molecule', 'parameters': '', 'results': []}, {'smiles': 'O=S(=O)(O)C(F)(F)C(F)(F)C(F)(F)C(F)(F)C(F)(F)C(F)(F)F', 'toolkit': 'DS4SD', 'function': 'Patents_For_Molecule', 'parameters': '', 'results': []}, {'smiles': 'O=S(=O)(O)C(F)(F)C(F)(F)C(F)(F)C(F)(F)C(F)(F)C(F)(F)F', 'toolkit': 'DS4SD', 'function': 'Patents_For_Molecule', 'parameters': '', 'results': []}, {'smiles': 'O=S(=O)(O)C(F)(F)C(F)(F)C(F)(F)C(F)(F)C(F)(F)C(F)(F)F', 'toolkit': 'DS4SD', 'function': 'Patents_For_Molecule', 'parameters': '', 'results': []}, {'smiles': 'O=S(=O)(O)C(F)(F)C(F)(F)C(F)(F)C(F)(F)C(F)(F)C(F)(F)F', 'toolkit': 'DS4SD', 'function': 'Patents_For_Molecule', 'parameters': '', 'results': []}, {'smiles': 'O=S(=O)(O)C(F)(F)C(F)(F)C(F)(F)C(F)(F)C(F)(F)C(F)(F)F', 'toolkit': 'DS4SD', 'function': 'Patents_For_Molecule', 'parameters': '', 'results': []}, {'smiles': 'O=S(=O)(O)C(F)(F)C(F)(F)C(F)(F)C(F)(F)C(F)(F)C(F)(F)F', 'toolkit': 'DS4SD', 'function': 'Patents_For_Molecule', 'parameters': '', 'results': []}, {'smiles': 'O=S(=O)(O)C(F)(F)C(F)(F)C(F)(F)C(F)(F)C(F)(F)C(F)(F)F', 'toolkit': 'DS4SD', 'function': 'Patents_For_Molecule', 'parameters': '', 'results': []}, {'smiles': 'O=S(=O)(O)C(F)(F)C(F)(F)C(F)(F)C(F)(F)C(F)(F)C(F)(F)F', 'toolkit': 'DS4SD', 'function': 'Patents_For_Molecule', 'parameters': '', 'results': []}, {'smiles': 'O=S(=O)(O)C(F)(F)C(F)(F)C(F)(F)C(F)(F)C(F)(F)C(F)(F)F', 'toolkit': 'DS4SD', 'function': 'Patents_For_Molecule', 'parameters': '', 'results': []}, {'smiles': 'O=S(=O)(O)C(F)(F)C(F)(F)C(F)(F)C(F)(F)C(F)(F)C(F)(F)F', 'toolkit': 'DS4SD', 'function': 'Patents_For_Molecule', 'parameters': '', 'results': []}, {'smiles': 'O=S(=O)(O)C(F)(F)C(F)(F)C(F)(F)C(F)(F)C(F)(F)C(F)(F)F', 'toolkit': 'DS4SD', 'function': 'Patents_For_Molecule', 'parameters': '', 'results': []}, {'smiles': 'O=S(=O)(O)C(F)(F)C(F)(F)C(F)(F)C(F)(F)C(F)(F)C(F)(F)F', 'toolkit': 'DS4SD', 'function': 'Patents_For_Molecule', 'parameters': '', 'results': []}, {'smiles': 'O=S(=O)(O)C(F)(F)C(F)(F)C(F)(F)C(F)(F)C(F)(F)C(F)(F)F', 'toolkit': 'DS4SD', 'function': 'Patents_For_Molecule', 'parameters': '', 'results': []}, {'smiles': 'O=S(=O)(O)C(F)(F)C(F)(F)C(F)(F)C(F)(F)C(F)(F)C(F)(F)F', 'toolkit': 'DS4SD', 'function': 'Patents_For_Molecule', 'parameters': '', 'results': []}, {'smiles': 'O=S(=O)(O)C(F)(F)C(F)(F)C(F)(F)C(F)(F)C(F)(F)C(F)(F)F', 'toolkit': 'DS4SD', 'function': 'Patents_For_Molecule', 'parameters': '', 'results': []}, {'smiles': 'O=S(=O)(O)C(F)(F)C(F)(F)C(F)(F)C(F)(F)C(F)(F)C(F)(F)F', 'toolkit': 'DS4SD', 'function': 'Patents_For_Molecule', 'parameters': '', 'results': []}, {'smiles': 'O=S(=O)(O)C(F)(F)C(F)(F)C(F)(F)C(F)(F)C(F)(F)C(F)(F)F', 'toolkit': 'DS4SD', 'function': 'Patents_For_Molecule', 'parameters': '', 'results': []}, {'smiles': 'O=S(=O)(O)C(F)(F)C(F)(F)C(F)(F)C(F)(F)C(F)(F)C(F)(F)F', 'toolkit': 'DS4SD', 'function': 'Patents_For_Molecule', 'parameters': '', 'results': []}, {'smiles': 'O=S(=O)(O)C(F)(F)C(F)(F)C(F)(F)C(F)(F)C(F)(F)C(F)(F)F', 'toolkit': 'DS4SD', 'function': 'Patents_For_Molecule', 'parameters': '', 'results': []}, {'smiles': 'O=S(=O)(O)C(F)(F)C(F)(F)C(F)(F)C(F)(F)C(F)(F)C(F)(F)F', 'toolkit': 'DS4SD', 'function': 'Patents_For_Molecule', 'parameters': '', 'results': []}, {'smiles': 'O=S(=O)(O)C(F)(F)C(F)(F)C(F)(F)C(F)(F)C(F)(F)C(F)(F)F', 'toolkit': 'DS4SD', 'function': 'Patents_For_Molecule', 'parameters': '', 'results': []}, {'smiles': 'O=S(=O)(O)C(F)(F)C(F)(F)C(F)(F)C(F)(F)C(F)(F)C(F)(F)F', 'toolkit': 'DS4SD', 'function': 'Patents_For_Molecule', 'parameters': '', 'results': []}, {'smiles': 'O=S(=O)(O)C(F)(F)C(F)(F)C(F)(F)C(F)(F)C(F)(F)C(F)(F)F', 'toolkit': 'DS4SD', 'function': 'Patents_For_Molecule', 'parameters': '', 'results': []}, {'smiles': 'O=S(=O)(O)C(F)(F)C(F)(F)C(F)(F)C(F)(F)C(F)(F)C(F)(F)F', 'toolkit': 'DS4SD', 'function': 'Patents_For_Molecule', 'parameters': '', 'results': []}, {'smiles': 'O=S(=O)(O)C(F)(F)C(F)(F)C(F)(F)C(F)(F)C(F)(F)C(F)(F)F', 'toolkit': 'DS4SD', 'function': 'Patents_For_Molecule', 'parameters': '', 'results': []}, {'smiles': 'O=S(=O)(O)C(F)(F)C(F)(F)C(F)(F)C(F)(F)C(F)(F)C(F)(F)F', 'toolkit': 'DS4SD', 'function': 'Patents_For_Molecule', 'parameters': '', 'results': []}, {'smiles': 'O=S(=O)(O)C(F)(F)C(F)(F)C(F)(F)C(F)(F)C(F)(F)C(F)(F)F', 'toolkit': 'DS4SD', 'function': 'Patents_For_Molecule', 'parameters': '', 'results': []}, {'smiles': 'O=S(=O)(O)C(F)(F)C(F)(F)C(F)(F)C(F)(F)C(F)(F)C(F)(F)F', 'toolkit': 'DS4SD', 'function': 'Patents_For_Molecule', 'parameters': '', 'results': []}, {'toolkit': 'DS4SD', 'function': 'Patents_For_Molecule', 'smiles': 'O=S(=O)(O)C(F)(F)C(F)(F)C(F)(F)C(F)(F)C(F)(F)C(F)(F)F', 'parameters': '', 'results': [{'PATENT ID': 'CN103119097B'}, {'PATENT ID': 'CN201310009994'}, {'PATENT ID': 'CN106471026A'}, {'PATENT ID': 'CN201510955756'}, {'PATENT ID': 'CN201510070825'}, {'PATENT ID': 'CN201610049288'}, {'PATENT ID': 'CN201710059485'}, {'PATENT ID': 'CN111954662B'}, {'PATENT ID': 'CN202010056189'}, {'PATENT ID': 'CN104114637B'}, {'PATENT ID': 'CN105431490A'}, {'PATENT ID': 'CN105431490B'}, {'PATENT ID': 'CN201510036179'}, {'PATENT ID': 'CN107949585A'}, {'PATENT ID': 'CN107949585B'}, {'PATENT ID': 'CN107922532B'}, {'PATENT ID': 'CN107922532A'}, {'PATENT ID': 'CN109478667B'}, {'PATENT ID': 'CN201710043352'}, {'PATENT ID': 'CN201810246092'}]}, {'smiles': 'O=S(=O)(O)C(F)(F)C(F)(F)C(F)(F)C(F)(F)C(F)(F)C(F)(F)F', 'toolkit': 'DS4SD', 'function': 'Patents_For_Molecule', 'parameters': '', 'results': []}, {'smiles': 'O=S(=O)(O)C(F)(F)C(F)(F)C(F)(F)C(F)(F)C(F)(F)C(F)(F)F', 'toolkit': 'DS4SD', 'function': 'Patents_For_Molecule', 'parameters': '', 'results': []}, {'smiles': 'O=S(=O)(O)C(F)(F)C(F)(F)C(F)(F)C(F)(F)C(F)(F)C(F)(F)F', 'toolkit': 'RXN', 'function': 'Predict_Retrosynthesis', 'parameters': {}, 'results': {'0': {'confidence': 0.885, 'reactions': ['Cl + O + O=S(=O)([O-])C(F)(F)C(F)(F)C(F)(F)C(F)(F)C(F)(F)C(F)(F)F.[Na+] --->> O=S(=O)(O)C(F)(F)C(F)(F)C(F)(F)C(F)(F)C(F)(F)C(F)(F)F', 'FC(F)(F)C(F)(F)C(F)(F)C(F)(F)C(F)(F)C(F)(F)I + O + O=S(O[Na])O[Na] --->> O=S(=O)([O-])C(F)(F)C(F)(F)C(F)(F)C(F)(F)C(F)(F)C(F)(F)F.[Na+]']}}}, {'smiles': 'O=S(=O)(O)C(F)(F)C(F)(F)C(F)(F)C(F)(F)C(F)(F)C(F)(F)F', 'toolkit': 'DS4SD', 'function': 'Patents_For_Molecule', 'parameters': '', 'results': []}, {'smiles': 'O=S(=O)(O)C(F)(F)C(F)(F)C(F)(F)C(F)(F)C(F)(F)C(F)(F)F', 'toolkit': 'DS4SD', 'function': 'Patents_For_Molecule', 'parameters': '', 'results': []}, {'smiles': 'O=S(=O)(O)C(F)(F)C(F)(F)C(F)(F)C(F)(F)C(F)(F)C(F)(F)F', 'toolkit': 'DS4SD', 'function': 'Patents_For_Molecule', 'parameters': '', 'results': []}, {'smiles': 'O=S(=O)(O)C(F)(F)C(F)(F)C(F)(F)C(F)(F)C(F)(F)C(F)(F)F', 'toolkit': 'DS4SD', 'function': 'Patents_For_Molecule', 'parameters': '', 'results': []}, {'smiles': 'O=S(=O)(O)C(F)(F)C(F)(F)C(F)(F)C(F)(F)C(F)(F)C(F)(F)F', 'toolkit': 'DS4SD', 'function': 'Patents_For_Molecule', 'parameters': '', 'results': []}, {'smiles': 'O=S(=O)(O)C(F)(F)C(F)(F)C(F)(F)C(F)(F)C(F)(F)C(F)(F)F', 'toolkit': 'DS4SD', 'function': 'Patents_For_Molecule', 'parameters': '', 'results': []}, {'smiles': 'O=S(=O)(O)C(F)(F)C(F)(F)C(F)(F)C(F)(F)C(F)(F)C(F)(F)F', 'toolkit': 'DS4SD', 'function': 'Patents_For_Molecule', 'parameters': '', 'results': []}, {'smiles': 'O=S(=O)(O)C(F)(F)C(F)(F)C(F)(F)C(F)(F)C(F)(F)C(F)(F)F', 'toolkit': 'DS4SD', 'function': 'Patents_For_Molecule', 'parameters': '', 'results': []}, {'toolkit': 'DS4SD', 'function': 'Patents_For_Molecule', 'smiles': 'O=S(=O)(O)C(F)(F)C(F)(F)C(F)(F)C(F)(F)C(F)(F)C(F)(F)F', 'parameters': '', 'results': [{'PATENT ID': 'CN103119097B'}, {'PATENT ID': 'CN201310009994'}, {'PATENT ID': 'CN106471026A'}, {'PATENT ID': 'CN201510955756'}, {'PATENT ID': 'CN201510070825'}, {'PATENT ID': 'CN201610049288'}, {'PATENT ID': 'CN201710059485'}, {'PATENT ID': 'CN111954662B'}, {'PATENT ID': 'CN202010056189'}, {'PATENT ID': 'CN104114637B'}, {'PATENT ID': 'CN105431490A'}, {'PATENT ID': 'CN105431490B'}, {'PATENT ID': 'CN201510036179'}, {'PATENT ID': 'CN107949585A'}, {'PATENT ID': 'CN107949585B'}, {'PATENT ID': 'CN107922532B'}, {'PATENT ID': 'CN107922532A'}, {'PATENT ID': 'CN109478667B'}, {'PATENT ID': 'CN201710043352'}, {'PATENT ID': 'CN201810246092'}]}, {'smiles': 'O=S(=O)(O)C(F)(F)C(F)(F)C(F)(F)C(F)(F)C(F)(F)C(F)(F)F', 'toolkit': 'DS4SD', 'function': 'Patents_For_Molecule', 'parameters': '', 'results': []}, {'smiles': 'O=S(=O)(O)C(F)(F)C(F)(F)C(F)(F)C(F)(F)C(F)(F)C(F)(F)F', 'toolkit': 'DS4SD', 'function': 'Patents_For_Molecule', 'parameters': '', 'results': []}, {'smiles': 'O=S(=O)(O)C(F)(F)C(F)(F)C(F)(F)C(F)(F)C(F)(F)C(F)(F)F', 'toolkit': 'RXN', 'function': 'Predict_Retrosynthesis', 'parameters': {}, 'results': {'0': {'confidence': 0.885, 'reactions': ['Cl + O + O=S(=O)([O-])C(F)(F)C(F)(F)C(F)(F)C(F)(F)C(F)(F)C(F)(F)F.[Na+] --->> O=S(=O)(O)C(F)(F)C(F)(F)C(F)(F)C(F)(F)C(F)(F)C(F)(F)F', 'FC(F)(F)C(F)(F)C(F)(F)C(F)(F)C(F)(F)C(F)(F)I + O + O=S(O[Na])O[Na] --->> O=S(=O)([O-])C(F)(F)C(F)(F)C(F)(F)C(F)(F)C(F)(F)C(F)(F)F.[Na+]']}}}, {'smiles': 'O=S(=O)(O)C(F)(F)C(F)(F)C(F)(F)C(F)(F)C(F)(F)C(F)(F)F', 'toolkit': 'DS4SD', 'function': 'Patents_For_Molecule', 'parameters': '', 'results': []}, {'smiles': 'O=S(=O)(O)C(F)(F)C(F)(F)C(F)(F)C(F)(F)C(F)(F)C(F)(F)F', 'toolkit': 'DS4SD', 'function': 'Patents_For_Molecule', 'parameters': '', 'results': []}, {'smiles': 'O=S(=O)(O)C(F)(F)C(F)(F)C(F)(F)C(F)(F)C(F)(F)C(F)(F)F', 'toolkit': 'DS4SD', 'function': 'Patents_For_Molecule', 'parameters': '', 'results': []}, {'smiles': 'O=S(=O)(O)C(F)(F)C(F)(F)C(F)(F)C(F)(F)C(F)(F)C(F)(F)F', 'toolkit': 'DS4SD', 'function': 'Patents_For_Molecule', 'parameters': '', 'results': []}, {'smiles': 'O=S(=O)(O)C(F)(F)C(F)(F)C(F)(F)C(F)(F)C(F)(F)C(F)(F)F', 'toolkit': 'DS4SD', 'function': 'Patents_For_Molecule', 'parameters': '', 'results': []}, {'toolkit': 'RXN', 'function': 'Predict_Retrosynthesis', 'smiles': 'O=S(=O)(O)C(F)(F)C(F)(F)C(F)(F)C(F)(F)C(F)(F)C(F)(F)F', 'parameters': {'max_steps': 6, 'ai_model': '12class-tokens-2021-05-14'}, 'results': {'0': {'confidence': 0.752, 'reactions': ['CO + O=S(=O)(OCc1ccccc1)C(F)(F)C(F)(F)C(F)(F)C(F)(F)C(F)(F)C(F)(F)F + [Pd] --->> O=S(=O)(O)C(F)(F)C(F)(F)C(F)(F)C(F)(F)C(F)(F)C(F)(F)F', 'CCN(CC)CC + ClCCl + O=S(=O)(F)C(F)(F)C(F)(F)C(F)(F)C(F)(F)C(F)(F)C(F)(F)F + OCc1ccccc1 --->> O=S(=O)(OCc1ccccc1)C(F)(F)C(F)(F)C(F)(F)C(F)(F)C(F)(F)C(F)(F)F']}}}, {'smiles': 'O=S(=O)(O)C(F)(F)C(F)(F)C(F)(F)C(F)(F)C(F)(F)C(F)(F)F', 'toolkit': 'DS4SD', 'function': 'Patents_For_Molecule', 'parameters': '', 'results': []}]\n",
      "888 C(C(C(C(F)(F)S(=O)(=O)O)(F)F)(F)F)(C(C(F)(F)F)(F)F)(F)F O=S(=O)(O)C(F)(F)C(F)(F)C(F)(F)C(F)(F)C(F)(F)C(F)(F)F O=S(=O)(O)C(F)(F)C(F)(F)C(F)(F)C(F)(F)C(F)(F)C(F)(F)F\n",
      "888 C(C(C(C(F)(F)S(=O)(=O)O)(F)F)(F)F)(C(C(F)(F)F)(F)F)(F)F O=S(=O)(O)C(F)(F)C(F)(F)C(F)(F)C(F)(F)C(F)(F)C(F)(F)F O=S(=O)(O)C(F)(F)C(F)(F)C(F)(F)C(F)(F)C(F)(F)C(F)(F)F\n",
      "888 C(C(C(C(F)(F)S(=O)(=O)O)(F)F)(F)F)(C(C(F)(F)F)(F)F)(F)F O=S(=O)(O)C(F)(F)C(F)(F)C(F)(F)C(F)(F)C(F)(F)C(F)(F)F O=S(=O)(O)C(F)(F)C(F)(F)C(F)(F)C(F)(F)C(F)(F)C(F)(F)F\n",
      "888 C(C(C(C(F)(F)S(=O)(=O)O)(F)F)(F)F)(C(C(F)(F)F)(F)F)(F)F O=S(=O)(O)C(F)(F)C(F)(F)C(F)(F)C(F)(F)C(F)(F)C(F)(F)F O=S(=O)(O)C(F)(F)C(F)(F)C(F)(F)C(F)(F)C(F)(F)C(F)(F)F\n",
      "888 C(C(C(C(F)(F)S(=O)(=O)O)(F)F)(F)F)(C(C(F)(F)F)(F)F)(F)F O=S(=O)(O)C(F)(F)C(F)(F)C(F)(F)C(F)(F)C(F)(F)C(F)(F)F O=S(=O)(O)C(F)(F)C(F)(F)C(F)(F)C(F)(F)C(F)(F)C(F)(F)F\n",
      "888 C(C(C(C(F)(F)S(=O)(=O)O)(F)F)(F)F)(C(C(F)(F)F)(F)F)(F)F O=S(=O)(O)C(F)(F)C(F)(F)C(F)(F)C(F)(F)C(F)(F)C(F)(F)F O=S(=O)(O)C(F)(F)C(F)(F)C(F)(F)C(F)(F)C(F)(F)C(F)(F)F\n",
      "888 C(C(C(C(F)(F)S(=O)(=O)O)(F)F)(F)F)(C(C(F)(F)F)(F)F)(F)F O=S(=O)(O)C(F)(F)C(F)(F)C(F)(F)C(F)(F)C(F)(F)C(F)(F)F O=S(=O)(O)C(F)(F)C(F)(F)C(F)(F)C(F)(F)C(F)(F)C(F)(F)F\n",
      "888 C(C(C(C(F)(F)S(=O)(=O)O)(F)F)(F)F)(C(C(F)(F)F)(F)F)(F)F O=S(=O)(O)C(F)(F)C(F)(F)C(F)(F)C(F)(F)C(F)(F)C(F)(F)F O=S(=O)(O)C(F)(F)C(F)(F)C(F)(F)C(F)(F)C(F)(F)C(F)(F)F\n",
      "888 C(C(C(C(F)(F)S(=O)(=O)O)(F)F)(F)F)(C(C(F)(F)F)(F)F)(F)F O=S(=O)(O)C(F)(F)C(F)(F)C(F)(F)C(F)(F)C(F)(F)C(F)(F)F O=S(=O)(O)C(F)(F)C(F)(F)C(F)(F)C(F)(F)C(F)(F)C(F)(F)F\n",
      "888 C(C(C(C(F)(F)S(=O)(=O)O)(F)F)(F)F)(C(C(F)(F)F)(F)F)(F)F O=S(=O)(O)C(F)(F)C(F)(F)C(F)(F)C(F)(F)C(F)(F)C(F)(F)F O=S(=O)(O)C(F)(F)C(F)(F)C(F)(F)C(F)(F)C(F)(F)C(F)(F)F\n",
      "888 C(C(C(C(F)(F)S(=O)(=O)O)(F)F)(F)F)(C(C(F)(F)F)(F)F)(F)F O=S(=O)(O)C(F)(F)C(F)(F)C(F)(F)C(F)(F)C(F)(F)C(F)(F)F O=S(=O)(O)C(F)(F)C(F)(F)C(F)(F)C(F)(F)C(F)(F)C(F)(F)F\n",
      "888 C(C(C(C(F)(F)S(=O)(=O)O)(F)F)(F)F)(C(C(F)(F)F)(F)F)(F)F O=S(=O)(O)C(F)(F)C(F)(F)C(F)(F)C(F)(F)C(F)(F)C(F)(F)F O=S(=O)(O)C(F)(F)C(F)(F)C(F)(F)C(F)(F)C(F)(F)C(F)(F)F\n",
      "888 C(C(C(C(F)(F)S(=O)(=O)O)(F)F)(F)F)(C(C(F)(F)F)(F)F)(F)F O=S(=O)(O)C(F)(F)C(F)(F)C(F)(F)C(F)(F)C(F)(F)C(F)(F)F O=S(=O)(O)C(F)(F)C(F)(F)C(F)(F)C(F)(F)C(F)(F)C(F)(F)F\n",
      "888 C(C(C(C(F)(F)S(=O)(=O)O)(F)F)(F)F)(C(C(F)(F)F)(F)F)(F)F O=S(=O)(O)C(F)(F)C(F)(F)C(F)(F)C(F)(F)C(F)(F)C(F)(F)F O=S(=O)(O)C(F)(F)C(F)(F)C(F)(F)C(F)(F)C(F)(F)C(F)(F)F\n",
      "888 C(C(C(C(F)(F)S(=O)(=O)O)(F)F)(F)F)(C(C(F)(F)F)(F)F)(F)F O=S(=O)(O)C(F)(F)C(F)(F)C(F)(F)C(F)(F)C(F)(F)C(F)(F)F O=S(=O)(O)C(F)(F)C(F)(F)C(F)(F)C(F)(F)C(F)(F)C(F)(F)F\n",
      "888 C(C(C(C(F)(F)S(=O)(=O)O)(F)F)(F)F)(C(C(F)(F)F)(F)F)(F)F O=S(=O)(O)C(F)(F)C(F)(F)C(F)(F)C(F)(F)C(F)(F)C(F)(F)F O=S(=O)(O)C(F)(F)C(F)(F)C(F)(F)C(F)(F)C(F)(F)C(F)(F)F\n",
      "888 C(C(C(C(F)(F)S(=O)(=O)O)(F)F)(F)F)(C(C(F)(F)F)(F)F)(F)F O=S(=O)(O)C(F)(F)C(F)(F)C(F)(F)C(F)(F)C(F)(F)C(F)(F)F O=S(=O)(O)C(F)(F)C(F)(F)C(F)(F)C(F)(F)C(F)(F)C(F)(F)F\n",
      "888 C(C(C(C(F)(F)S(=O)(=O)O)(F)F)(F)F)(C(C(F)(F)F)(F)F)(F)F O=S(=O)(O)C(F)(F)C(F)(F)C(F)(F)C(F)(F)C(F)(F)C(F)(F)F O=S(=O)(O)C(F)(F)C(F)(F)C(F)(F)C(F)(F)C(F)(F)C(F)(F)F\n",
      "888 C(C(C(C(F)(F)S(=O)(=O)O)(F)F)(F)F)(C(C(F)(F)F)(F)F)(F)F O=S(=O)(O)C(F)(F)C(F)(F)C(F)(F)C(F)(F)C(F)(F)C(F)(F)F O=S(=O)(O)C(F)(F)C(F)(F)C(F)(F)C(F)(F)C(F)(F)C(F)(F)F\n",
      "888 C(C(C(C(F)(F)S(=O)(=O)O)(F)F)(F)F)(C(C(F)(F)F)(F)F)(F)F O=S(=O)(O)C(F)(F)C(F)(F)C(F)(F)C(F)(F)C(F)(F)C(F)(F)F O=S(=O)(O)C(F)(F)C(F)(F)C(F)(F)C(F)(F)C(F)(F)C(F)(F)F\n",
      "888 C(C(C(C(F)(F)S(=O)(=O)O)(F)F)(F)F)(C(C(F)(F)F)(F)F)(F)F O=S(=O)(O)C(F)(F)C(F)(F)C(F)(F)C(F)(F)C(F)(F)C(F)(F)F O=S(=O)(O)C(F)(F)C(F)(F)C(F)(F)C(F)(F)C(F)(F)C(F)(F)F\n",
      "888 C(C(C(C(F)(F)S(=O)(=O)O)(F)F)(F)F)(C(C(F)(F)F)(F)F)(F)F O=S(=O)(O)C(F)(F)C(F)(F)C(F)(F)C(F)(F)C(F)(F)C(F)(F)F O=S(=O)(O)C(F)(F)C(F)(F)C(F)(F)C(F)(F)C(F)(F)C(F)(F)F\n",
      "888 C(C(C(C(F)(F)S(=O)(=O)O)(F)F)(F)F)(C(C(F)(F)F)(F)F)(F)F O=S(=O)(O)C(F)(F)C(F)(F)C(F)(F)C(F)(F)C(F)(F)C(F)(F)F O=S(=O)(O)C(F)(F)C(F)(F)C(F)(F)C(F)(F)C(F)(F)C(F)(F)F\n",
      "888 C(C(C(C(F)(F)S(=O)(=O)O)(F)F)(F)F)(C(C(F)(F)F)(F)F)(F)F O=S(=O)(O)C(F)(F)C(F)(F)C(F)(F)C(F)(F)C(F)(F)C(F)(F)F O=S(=O)(O)C(F)(F)C(F)(F)C(F)(F)C(F)(F)C(F)(F)C(F)(F)F\n",
      "888 C(C(C(C(F)(F)S(=O)(=O)O)(F)F)(F)F)(C(C(F)(F)F)(F)F)(F)F O=S(=O)(O)C(F)(F)C(F)(F)C(F)(F)C(F)(F)C(F)(F)C(F)(F)F O=S(=O)(O)C(F)(F)C(F)(F)C(F)(F)C(F)(F)C(F)(F)C(F)(F)F\n",
      "888 C(C(C(C(F)(F)S(=O)(=O)O)(F)F)(F)F)(C(C(F)(F)F)(F)F)(F)F O=S(=O)(O)C(F)(F)C(F)(F)C(F)(F)C(F)(F)C(F)(F)C(F)(F)F O=S(=O)(O)C(F)(F)C(F)(F)C(F)(F)C(F)(F)C(F)(F)C(F)(F)F\n",
      "888 C(C(C(C(F)(F)S(=O)(=O)O)(F)F)(F)F)(C(C(F)(F)F)(F)F)(F)F O=S(=O)(O)C(F)(F)C(F)(F)C(F)(F)C(F)(F)C(F)(F)C(F)(F)F O=S(=O)(O)C(F)(F)C(F)(F)C(F)(F)C(F)(F)C(F)(F)C(F)(F)F\n",
      "888 C(C(C(C(F)(F)S(=O)(=O)O)(F)F)(F)F)(C(C(F)(F)F)(F)F)(F)F O=S(=O)(O)C(F)(F)C(F)(F)C(F)(F)C(F)(F)C(F)(F)C(F)(F)F O=S(=O)(O)C(F)(F)C(F)(F)C(F)(F)C(F)(F)C(F)(F)C(F)(F)F\n",
      "888 C(C(C(C(F)(F)S(=O)(=O)O)(F)F)(F)F)(C(C(F)(F)F)(F)F)(F)F O=S(=O)(O)C(F)(F)C(F)(F)C(F)(F)C(F)(F)C(F)(F)C(F)(F)F O=S(=O)(O)C(F)(F)C(F)(F)C(F)(F)C(F)(F)C(F)(F)C(F)(F)F\n",
      "888 C(C(C(C(F)(F)S(=O)(=O)O)(F)F)(F)F)(C(C(F)(F)F)(F)F)(F)F O=S(=O)(O)C(F)(F)C(F)(F)C(F)(F)C(F)(F)C(F)(F)C(F)(F)F O=S(=O)(O)C(F)(F)C(F)(F)C(F)(F)C(F)(F)C(F)(F)C(F)(F)F\n",
      "888 C(C(C(C(F)(F)S(=O)(=O)O)(F)F)(F)F)(C(C(F)(F)F)(F)F)(F)F O=S(=O)(O)C(F)(F)C(F)(F)C(F)(F)C(F)(F)C(F)(F)C(F)(F)F O=S(=O)(O)C(F)(F)C(F)(F)C(F)(F)C(F)(F)C(F)(F)C(F)(F)F\n",
      "888 C(C(C(C(F)(F)S(=O)(=O)O)(F)F)(F)F)(C(C(F)(F)F)(F)F)(F)F O=S(=O)(O)C(F)(F)C(F)(F)C(F)(F)C(F)(F)C(F)(F)C(F)(F)F O=S(=O)(O)C(F)(F)C(F)(F)C(F)(F)C(F)(F)C(F)(F)C(F)(F)F\n",
      "888 C(C(C(C(F)(F)S(=O)(=O)O)(F)F)(F)F)(C(C(F)(F)F)(F)F)(F)F O=S(=O)(O)C(F)(F)C(F)(F)C(F)(F)C(F)(F)C(F)(F)C(F)(F)F O=S(=O)(O)C(F)(F)C(F)(F)C(F)(F)C(F)(F)C(F)(F)C(F)(F)F\n",
      "888 C(C(C(C(F)(F)S(=O)(=O)O)(F)F)(F)F)(C(C(F)(F)F)(F)F)(F)F O=S(=O)(O)C(F)(F)C(F)(F)C(F)(F)C(F)(F)C(F)(F)C(F)(F)F O=S(=O)(O)C(F)(F)C(F)(F)C(F)(F)C(F)(F)C(F)(F)C(F)(F)F\n",
      "888 C(C(C(C(F)(F)S(=O)(=O)O)(F)F)(F)F)(C(C(F)(F)F)(F)F)(F)F O=S(=O)(O)C(F)(F)C(F)(F)C(F)(F)C(F)(F)C(F)(F)C(F)(F)F O=S(=O)(O)C(F)(F)C(F)(F)C(F)(F)C(F)(F)C(F)(F)C(F)(F)F\n",
      "888 C(C(C(C(F)(F)S(=O)(=O)O)(F)F)(F)F)(C(C(F)(F)F)(F)F)(F)F O=S(=O)(O)C(F)(F)C(F)(F)C(F)(F)C(F)(F)C(F)(F)C(F)(F)F O=S(=O)(O)C(F)(F)C(F)(F)C(F)(F)C(F)(F)C(F)(F)C(F)(F)F\n",
      "888 C(C(C(C(F)(F)S(=O)(=O)O)(F)F)(F)F)(C(C(F)(F)F)(F)F)(F)F O=S(=O)(O)C(F)(F)C(F)(F)C(F)(F)C(F)(F)C(F)(F)C(F)(F)F O=S(=O)(O)C(F)(F)C(F)(F)C(F)(F)C(F)(F)C(F)(F)C(F)(F)F\n",
      "888 C(C(C(C(F)(F)S(=O)(=O)O)(F)F)(F)F)(C(C(F)(F)F)(F)F)(F)F O=S(=O)(O)C(F)(F)C(F)(F)C(F)(F)C(F)(F)C(F)(F)C(F)(F)F O=S(=O)(O)C(F)(F)C(F)(F)C(F)(F)C(F)(F)C(F)(F)C(F)(F)F\n",
      "888 C(C(C(C(F)(F)S(=O)(=O)O)(F)F)(F)F)(C(C(F)(F)F)(F)F)(F)F O=S(=O)(O)C(F)(F)C(F)(F)C(F)(F)C(F)(F)C(F)(F)C(F)(F)F O=S(=O)(O)C(F)(F)C(F)(F)C(F)(F)C(F)(F)C(F)(F)C(F)(F)F\n",
      "888 C(C(C(C(F)(F)S(=O)(=O)O)(F)F)(F)F)(C(C(F)(F)F)(F)F)(F)F O=S(=O)(O)C(F)(F)C(F)(F)C(F)(F)C(F)(F)C(F)(F)C(F)(F)F O=S(=O)(O)C(F)(F)C(F)(F)C(F)(F)C(F)(F)C(F)(F)C(F)(F)F\n",
      "888 C(C(C(C(F)(F)S(=O)(=O)O)(F)F)(F)F)(C(C(F)(F)F)(F)F)(F)F O=S(=O)(O)C(F)(F)C(F)(F)C(F)(F)C(F)(F)C(F)(F)C(F)(F)F O=S(=O)(O)C(F)(F)C(F)(F)C(F)(F)C(F)(F)C(F)(F)C(F)(F)F\n",
      "888 C(C(C(C(F)(F)S(=O)(=O)O)(F)F)(F)F)(C(C(F)(F)F)(F)F)(F)F O=S(=O)(O)C(F)(F)C(F)(F)C(F)(F)C(F)(F)C(F)(F)C(F)(F)F O=S(=O)(O)C(F)(F)C(F)(F)C(F)(F)C(F)(F)C(F)(F)C(F)(F)F\n",
      "888 C(C(C(C(F)(F)S(=O)(=O)O)(F)F)(F)F)(C(C(F)(F)F)(F)F)(F)F O=S(=O)(O)C(F)(F)C(F)(F)C(F)(F)C(F)(F)C(F)(F)C(F)(F)F O=S(=O)(O)C(F)(F)C(F)(F)C(F)(F)C(F)(F)C(F)(F)C(F)(F)F\n",
      "888 C(C(C(C(F)(F)S(=O)(=O)O)(F)F)(F)F)(C(C(F)(F)F)(F)F)(F)F O=S(=O)(O)C(F)(F)C(F)(F)C(F)(F)C(F)(F)C(F)(F)C(F)(F)F O=S(=O)(O)C(F)(F)C(F)(F)C(F)(F)C(F)(F)C(F)(F)C(F)(F)F\n",
      "888 C(C(C(C(F)(F)S(=O)(=O)O)(F)F)(F)F)(C(C(F)(F)F)(F)F)(F)F O=S(=O)(O)C(F)(F)C(F)(F)C(F)(F)C(F)(F)C(F)(F)C(F)(F)F O=S(=O)(O)C(F)(F)C(F)(F)C(F)(F)C(F)(F)C(F)(F)C(F)(F)F\n",
      "888 C(C(C(C(F)(F)S(=O)(=O)O)(F)F)(F)F)(C(C(F)(F)F)(F)F)(F)F O=S(=O)(O)C(F)(F)C(F)(F)C(F)(F)C(F)(F)C(F)(F)C(F)(F)F O=S(=O)(O)C(F)(F)C(F)(F)C(F)(F)C(F)(F)C(F)(F)C(F)(F)F\n",
      "888 C(C(C(C(F)(F)S(=O)(=O)O)(F)F)(F)F)(C(C(F)(F)F)(F)F)(F)F O=S(=O)(O)C(F)(F)C(F)(F)C(F)(F)C(F)(F)C(F)(F)C(F)(F)F O=S(=O)(O)C(F)(F)C(F)(F)C(F)(F)C(F)(F)C(F)(F)C(F)(F)F\n",
      "888 C(C(C(C(F)(F)S(=O)(=O)O)(F)F)(F)F)(C(C(F)(F)F)(F)F)(F)F O=S(=O)(O)C(F)(F)C(F)(F)C(F)(F)C(F)(F)C(F)(F)C(F)(F)F O=S(=O)(O)C(F)(F)C(F)(F)C(F)(F)C(F)(F)C(F)(F)C(F)(F)F\n",
      "888 C(C(C(C(F)(F)S(=O)(=O)O)(F)F)(F)F)(C(C(F)(F)F)(F)F)(F)F O=S(=O)(O)C(F)(F)C(F)(F)C(F)(F)C(F)(F)C(F)(F)C(F)(F)F O=S(=O)(O)C(F)(F)C(F)(F)C(F)(F)C(F)(F)C(F)(F)C(F)(F)F\n",
      "888 C(C(C(C(F)(F)S(=O)(=O)O)(F)F)(F)F)(C(C(F)(F)F)(F)F)(F)F O=S(=O)(O)C(F)(F)C(F)(F)C(F)(F)C(F)(F)C(F)(F)C(F)(F)F O=S(=O)(O)C(F)(F)C(F)(F)C(F)(F)C(F)(F)C(F)(F)C(F)(F)F\n",
      "888 C(C(C(C(F)(F)S(=O)(=O)O)(F)F)(F)F)(C(C(F)(F)F)(F)F)(F)F O=S(=O)(O)C(F)(F)C(F)(F)C(F)(F)C(F)(F)C(F)(F)C(F)(F)F O=S(=O)(O)C(F)(F)C(F)(F)C(F)(F)C(F)(F)C(F)(F)C(F)(F)F\n",
      "888 C(C(C(C(F)(F)S(=O)(=O)O)(F)F)(F)F)(C(C(F)(F)F)(F)F)(F)F O=S(=O)(O)C(F)(F)C(F)(F)C(F)(F)C(F)(F)C(F)(F)C(F)(F)F O=S(=O)(O)C(F)(F)C(F)(F)C(F)(F)C(F)(F)C(F)(F)C(F)(F)F\n",
      "123\n",
      "inchikey QZHDEAJFRJCDMF-UHFFFAOYSA-M\n",
      "456 [{'toolkit': 'RXN', 'function': 'Predict_Retrosynthesis', 'smiles': 'O=S(=O)([O-])C(F)(F)C(F)(F)C(F)(F)C(F)(F)C(F)(F)C(F)(F)F', 'parameters': {'max_steps': 6, 'ai_model': '12class-tokens-2021-05-14'}, 'results': {'0': {'confidence': 0.0, 'reactions': ['O=S(=O)([O-])C(F)(F)C(F)(F)C(F)(F)C(F)(F)C(F)(F)C(F)(F)F --->> O=S(=O)([O-])C(F)(F)C(F)(F)C(F)(F)C(F)(F)C(F)(F)C(F)(F)F']}}}]\n",
      "888 C(C(C(C(F)(F)S(=O)(=O)[O-])(F)F)(F)F)(C(C(F)(F)F)(F)F)(F)F O=S(=O)([O-])C(F)(F)C(F)(F)C(F)(F)C(F)(F)C(F)(F)C(F)(F)F O=S(=O)([O-])C(F)(F)C(F)(F)C(F)(F)C(F)(F)C(F)(F)C(F)(F)F\n",
      "123\n",
      "inchikey KZKPKAABRWACCI-UHFFFAOYSA-N\n",
      "456 []\n",
      "123\n",
      "inchikey KDHCOXZBPRGLOA-UHFFFAOYSA-N\n",
      "456 []\n",
      "123\n",
      "inchikey HCXJBGWEPDJJPC-UHFFFAOYSA-N\n",
      "456 []\n",
      "123\n",
      "inchikey VUKMHYBNQYXQIW-UHFFFAOYSA-N\n",
      "456 []\n",
      "123\n",
      "inchikey CBMLYNPBDPRLDQ-UHFFFAOYSA-N\n",
      "456 [{'smiles': 'O=C(O)C(F)(F)C(F)(F)C(F)(F)C(F)(F)C(F)(F)C(F)(F)C(O)(F)C(F)(F)F', 'toolkit': 'DS4SD', 'function': 'Patents_For_Molecule', 'parameters': '', 'results': []}, {'smiles': 'O=C(O)C(F)(F)C(F)(F)C(F)(F)C(F)(F)C(F)(F)C(F)(F)C(O)(F)C(F)(F)F', 'toolkit': 'DS4SD', 'function': 'Patents_For_Molecule', 'parameters': '', 'results': []}, {'smiles': 'O=C(O)C(F)(F)C(F)(F)C(F)(F)C(F)(F)C(F)(F)C(F)(F)C(O)(F)C(F)(F)F', 'toolkit': 'DS4SD', 'function': 'Patents_For_Molecule', 'parameters': '', 'results': []}, {'smiles': 'O=C(O)C(F)(F)C(F)(F)C(F)(F)C(F)(F)C(F)(F)C(F)(F)C(O)(F)C(F)(F)F', 'toolkit': 'DS4SD', 'function': 'Patents_For_Molecule', 'parameters': '', 'results': []}, {'smiles': 'O=C(O)C(F)(F)C(F)(F)C(F)(F)C(F)(F)C(F)(F)C(F)(F)C(O)(F)C(F)(F)F', 'toolkit': 'DS4SD', 'function': 'Patents_For_Molecule', 'parameters': '', 'results': []}, {'smiles': 'O=C(O)C(F)(F)C(F)(F)C(F)(F)C(F)(F)C(F)(F)C(F)(F)C(O)(F)C(F)(F)F', 'toolkit': 'DS4SD', 'function': 'Patents_For_Molecule', 'parameters': '', 'results': []}, {'smiles': 'O=C(O)C(F)(F)C(F)(F)C(F)(F)C(F)(F)C(F)(F)C(F)(F)C(O)(F)C(F)(F)F', 'toolkit': 'DS4SD', 'function': 'Patents_For_Molecule', 'parameters': '', 'results': []}, {'smiles': 'O=C(O)C(F)(F)C(F)(F)C(F)(F)C(F)(F)C(F)(F)C(F)(F)C(O)(F)C(F)(F)F', 'toolkit': 'DS4SD', 'function': 'Patents_For_Molecule', 'parameters': '', 'results': []}, {'smiles': 'O=C(O)C(F)(F)C(F)(F)C(F)(F)C(F)(F)C(F)(F)C(F)(F)C(O)(F)C(F)(F)F', 'toolkit': 'DS4SD', 'function': 'Patents_For_Molecule', 'parameters': '', 'results': []}, {'smiles': 'O=C(O)C(F)(F)C(F)(F)C(F)(F)C(F)(F)C(F)(F)C(F)(F)C(O)(F)C(F)(F)F', 'toolkit': 'DS4SD', 'function': 'Patents_For_Molecule', 'parameters': '', 'results': []}, {'smiles': 'O=C(O)C(F)(F)C(F)(F)C(F)(F)C(F)(F)C(F)(F)C(F)(F)C(O)(F)C(F)(F)F', 'toolkit': 'DS4SD', 'function': 'Patents_For_Molecule', 'parameters': '', 'results': []}, {'smiles': 'O=C(O)C(F)(F)C(F)(F)C(F)(F)C(F)(F)C(F)(F)C(F)(F)C(O)(F)C(F)(F)F', 'toolkit': 'DS4SD', 'function': 'Patents_For_Molecule', 'parameters': '', 'results': []}, {'smiles': 'O=C(O)C(F)(F)C(F)(F)C(F)(F)C(F)(F)C(F)(F)C(F)(F)C(O)(F)C(F)(F)F', 'toolkit': 'DS4SD', 'function': 'Patents_For_Molecule', 'parameters': '', 'results': []}, {'smiles': 'O=C(O)C(F)(F)C(F)(F)C(F)(F)C(F)(F)C(F)(F)C(F)(F)C(O)(F)C(F)(F)F', 'toolkit': 'DS4SD', 'function': 'Patents_For_Molecule', 'parameters': '', 'results': []}, {'smiles': 'O=C(O)C(F)(F)C(F)(F)C(F)(F)C(F)(F)C(F)(F)C(F)(F)C(O)(F)C(F)(F)F', 'toolkit': 'DS4SD', 'function': 'Patents_For_Molecule', 'parameters': '', 'results': []}, {'smiles': 'O=C(O)C(F)(F)C(F)(F)C(F)(F)C(F)(F)C(F)(F)C(F)(F)C(O)(F)C(F)(F)F', 'toolkit': 'DS4SD', 'function': 'Patents_For_Molecule', 'parameters': '', 'results': []}, {'smiles': 'O=C(O)C(F)(F)C(F)(F)C(F)(F)C(F)(F)C(F)(F)C(F)(F)C(O)(F)C(F)(F)F', 'toolkit': 'DS4SD', 'function': 'Patents_For_Molecule', 'parameters': '', 'results': []}, {'smiles': 'O=C(O)C(F)(F)C(F)(F)C(F)(F)C(F)(F)C(F)(F)C(F)(F)C(O)(F)C(F)(F)F', 'toolkit': 'DS4SD', 'function': 'Patents_For_Molecule', 'parameters': '', 'results': []}, {'smiles': 'O=C(O)C(F)(F)C(F)(F)C(F)(F)C(F)(F)C(F)(F)C(F)(F)C(O)(F)C(F)(F)F', 'toolkit': 'DS4SD', 'function': 'Patents_For_Molecule', 'parameters': '', 'results': []}, {'smiles': 'O=C(O)C(F)(F)C(F)(F)C(F)(F)C(F)(F)C(F)(F)C(F)(F)C(O)(F)C(F)(F)F', 'toolkit': 'DS4SD', 'function': 'Patents_For_Molecule', 'parameters': '', 'results': []}, {'smiles': 'O=C(O)C(F)(F)C(F)(F)C(F)(F)C(F)(F)C(F)(F)C(F)(F)C(O)(F)C(F)(F)F', 'toolkit': 'DS4SD', 'function': 'Patents_For_Molecule', 'parameters': '', 'results': []}]\n",
      "888 O=C(O)C(F)(F)C(F)(F)C(F)(F)C(F)(F)C(F)(F)C(F)(F)C(O)(F)C(F)(F)F O=C(O)C(F)(F)C(F)(F)C(F)(F)C(F)(F)C(F)(F)C(F)(F)C(O)(F)C(F)(F)F O=C(O)C(F)(F)C(F)(F)C(F)(F)C(F)(F)C(F)(F)C(F)(F)C(O)(F)C(F)(F)F\n",
      "888 O=C(O)C(F)(F)C(F)(F)C(F)(F)C(F)(F)C(F)(F)C(F)(F)C(O)(F)C(F)(F)F O=C(O)C(F)(F)C(F)(F)C(F)(F)C(F)(F)C(F)(F)C(F)(F)C(O)(F)C(F)(F)F O=C(O)C(F)(F)C(F)(F)C(F)(F)C(F)(F)C(F)(F)C(F)(F)C(O)(F)C(F)(F)F\n",
      "888 O=C(O)C(F)(F)C(F)(F)C(F)(F)C(F)(F)C(F)(F)C(F)(F)C(O)(F)C(F)(F)F O=C(O)C(F)(F)C(F)(F)C(F)(F)C(F)(F)C(F)(F)C(F)(F)C(O)(F)C(F)(F)F O=C(O)C(F)(F)C(F)(F)C(F)(F)C(F)(F)C(F)(F)C(F)(F)C(O)(F)C(F)(F)F\n",
      "888 O=C(O)C(F)(F)C(F)(F)C(F)(F)C(F)(F)C(F)(F)C(F)(F)C(O)(F)C(F)(F)F O=C(O)C(F)(F)C(F)(F)C(F)(F)C(F)(F)C(F)(F)C(F)(F)C(O)(F)C(F)(F)F O=C(O)C(F)(F)C(F)(F)C(F)(F)C(F)(F)C(F)(F)C(F)(F)C(O)(F)C(F)(F)F\n",
      "888 O=C(O)C(F)(F)C(F)(F)C(F)(F)C(F)(F)C(F)(F)C(F)(F)C(O)(F)C(F)(F)F O=C(O)C(F)(F)C(F)(F)C(F)(F)C(F)(F)C(F)(F)C(F)(F)C(O)(F)C(F)(F)F O=C(O)C(F)(F)C(F)(F)C(F)(F)C(F)(F)C(F)(F)C(F)(F)C(O)(F)C(F)(F)F\n",
      "888 O=C(O)C(F)(F)C(F)(F)C(F)(F)C(F)(F)C(F)(F)C(F)(F)C(O)(F)C(F)(F)F O=C(O)C(F)(F)C(F)(F)C(F)(F)C(F)(F)C(F)(F)C(F)(F)C(O)(F)C(F)(F)F O=C(O)C(F)(F)C(F)(F)C(F)(F)C(F)(F)C(F)(F)C(F)(F)C(O)(F)C(F)(F)F\n",
      "888 O=C(O)C(F)(F)C(F)(F)C(F)(F)C(F)(F)C(F)(F)C(F)(F)C(O)(F)C(F)(F)F O=C(O)C(F)(F)C(F)(F)C(F)(F)C(F)(F)C(F)(F)C(F)(F)C(O)(F)C(F)(F)F O=C(O)C(F)(F)C(F)(F)C(F)(F)C(F)(F)C(F)(F)C(F)(F)C(O)(F)C(F)(F)F\n",
      "888 O=C(O)C(F)(F)C(F)(F)C(F)(F)C(F)(F)C(F)(F)C(F)(F)C(O)(F)C(F)(F)F O=C(O)C(F)(F)C(F)(F)C(F)(F)C(F)(F)C(F)(F)C(F)(F)C(O)(F)C(F)(F)F O=C(O)C(F)(F)C(F)(F)C(F)(F)C(F)(F)C(F)(F)C(F)(F)C(O)(F)C(F)(F)F\n",
      "888 O=C(O)C(F)(F)C(F)(F)C(F)(F)C(F)(F)C(F)(F)C(F)(F)C(O)(F)C(F)(F)F O=C(O)C(F)(F)C(F)(F)C(F)(F)C(F)(F)C(F)(F)C(F)(F)C(O)(F)C(F)(F)F O=C(O)C(F)(F)C(F)(F)C(F)(F)C(F)(F)C(F)(F)C(F)(F)C(O)(F)C(F)(F)F\n",
      "888 O=C(O)C(F)(F)C(F)(F)C(F)(F)C(F)(F)C(F)(F)C(F)(F)C(O)(F)C(F)(F)F O=C(O)C(F)(F)C(F)(F)C(F)(F)C(F)(F)C(F)(F)C(F)(F)C(O)(F)C(F)(F)F O=C(O)C(F)(F)C(F)(F)C(F)(F)C(F)(F)C(F)(F)C(F)(F)C(O)(F)C(F)(F)F\n",
      "888 O=C(O)C(F)(F)C(F)(F)C(F)(F)C(F)(F)C(F)(F)C(F)(F)C(O)(F)C(F)(F)F O=C(O)C(F)(F)C(F)(F)C(F)(F)C(F)(F)C(F)(F)C(F)(F)C(O)(F)C(F)(F)F O=C(O)C(F)(F)C(F)(F)C(F)(F)C(F)(F)C(F)(F)C(F)(F)C(O)(F)C(F)(F)F\n",
      "888 O=C(O)C(F)(F)C(F)(F)C(F)(F)C(F)(F)C(F)(F)C(F)(F)C(O)(F)C(F)(F)F O=C(O)C(F)(F)C(F)(F)C(F)(F)C(F)(F)C(F)(F)C(F)(F)C(O)(F)C(F)(F)F O=C(O)C(F)(F)C(F)(F)C(F)(F)C(F)(F)C(F)(F)C(F)(F)C(O)(F)C(F)(F)F\n",
      "888 O=C(O)C(F)(F)C(F)(F)C(F)(F)C(F)(F)C(F)(F)C(F)(F)C(O)(F)C(F)(F)F O=C(O)C(F)(F)C(F)(F)C(F)(F)C(F)(F)C(F)(F)C(F)(F)C(O)(F)C(F)(F)F O=C(O)C(F)(F)C(F)(F)C(F)(F)C(F)(F)C(F)(F)C(F)(F)C(O)(F)C(F)(F)F\n",
      "888 O=C(O)C(F)(F)C(F)(F)C(F)(F)C(F)(F)C(F)(F)C(F)(F)C(O)(F)C(F)(F)F O=C(O)C(F)(F)C(F)(F)C(F)(F)C(F)(F)C(F)(F)C(F)(F)C(O)(F)C(F)(F)F O=C(O)C(F)(F)C(F)(F)C(F)(F)C(F)(F)C(F)(F)C(F)(F)C(O)(F)C(F)(F)F\n",
      "888 O=C(O)C(F)(F)C(F)(F)C(F)(F)C(F)(F)C(F)(F)C(F)(F)C(O)(F)C(F)(F)F O=C(O)C(F)(F)C(F)(F)C(F)(F)C(F)(F)C(F)(F)C(F)(F)C(O)(F)C(F)(F)F O=C(O)C(F)(F)C(F)(F)C(F)(F)C(F)(F)C(F)(F)C(F)(F)C(O)(F)C(F)(F)F\n",
      "888 O=C(O)C(F)(F)C(F)(F)C(F)(F)C(F)(F)C(F)(F)C(F)(F)C(O)(F)C(F)(F)F O=C(O)C(F)(F)C(F)(F)C(F)(F)C(F)(F)C(F)(F)C(F)(F)C(O)(F)C(F)(F)F O=C(O)C(F)(F)C(F)(F)C(F)(F)C(F)(F)C(F)(F)C(F)(F)C(O)(F)C(F)(F)F\n",
      "888 O=C(O)C(F)(F)C(F)(F)C(F)(F)C(F)(F)C(F)(F)C(F)(F)C(O)(F)C(F)(F)F O=C(O)C(F)(F)C(F)(F)C(F)(F)C(F)(F)C(F)(F)C(F)(F)C(O)(F)C(F)(F)F O=C(O)C(F)(F)C(F)(F)C(F)(F)C(F)(F)C(F)(F)C(F)(F)C(O)(F)C(F)(F)F\n",
      "888 O=C(O)C(F)(F)C(F)(F)C(F)(F)C(F)(F)C(F)(F)C(F)(F)C(O)(F)C(F)(F)F O=C(O)C(F)(F)C(F)(F)C(F)(F)C(F)(F)C(F)(F)C(F)(F)C(O)(F)C(F)(F)F O=C(O)C(F)(F)C(F)(F)C(F)(F)C(F)(F)C(F)(F)C(F)(F)C(O)(F)C(F)(F)F\n",
      "888 O=C(O)C(F)(F)C(F)(F)C(F)(F)C(F)(F)C(F)(F)C(F)(F)C(O)(F)C(F)(F)F O=C(O)C(F)(F)C(F)(F)C(F)(F)C(F)(F)C(F)(F)C(F)(F)C(O)(F)C(F)(F)F O=C(O)C(F)(F)C(F)(F)C(F)(F)C(F)(F)C(F)(F)C(F)(F)C(O)(F)C(F)(F)F\n",
      "888 O=C(O)C(F)(F)C(F)(F)C(F)(F)C(F)(F)C(F)(F)C(F)(F)C(O)(F)C(F)(F)F O=C(O)C(F)(F)C(F)(F)C(F)(F)C(F)(F)C(F)(F)C(F)(F)C(O)(F)C(F)(F)F O=C(O)C(F)(F)C(F)(F)C(F)(F)C(F)(F)C(F)(F)C(F)(F)C(O)(F)C(F)(F)F\n",
      "888 O=C(O)C(F)(F)C(F)(F)C(F)(F)C(F)(F)C(F)(F)C(F)(F)C(O)(F)C(F)(F)F O=C(O)C(F)(F)C(F)(F)C(F)(F)C(F)(F)C(F)(F)C(F)(F)C(O)(F)C(F)(F)F O=C(O)C(F)(F)C(F)(F)C(F)(F)C(F)(F)C(F)(F)C(F)(F)C(O)(F)C(F)(F)F\n",
      "123\n",
      "inchikey ZWBAMYVPMDSJGQ-UHFFFAOYSA-N\n",
      "456 [{'smiles': 'O=C(O)C(F)(F)C(F)(F)C(F)(F)C(F)(F)C(F)(F)C(F)(F)F', 'toolkit': 'DS4SD', 'function': 'Patents_For_Molecule', 'parameters': '', 'results': [{'PATENT ID': 'US9447314'}, {'PATENT ID': 'KR1020150035140'}, {'PATENT ID': 'JP2015205973'}, {'PATENT ID': 'JP2016166370'}, {'PATENT ID': 'US20160237339A1'}, {'PATENT ID': 'US20210280213'}]}, {'smiles': 'O=C(O)C(F)(F)C(F)(F)C(F)(F)C(F)(F)C(F)(F)C(F)(F)F', 'toolkit': 'DS4SD', 'function': 'Patents_For_Molecule', 'parameters': '', 'results': [{'PATENT ID': 'US9447314'}, {'PATENT ID': 'KR1020150035140'}, {'PATENT ID': 'JP2015205973'}, {'PATENT ID': 'JP2016166370'}, {'PATENT ID': 'US20160237339A1'}, {'PATENT ID': 'US20210280213'}]}, {'smiles': 'O=C(O)C(F)(F)C(F)(F)C(F)(F)C(F)(F)C(F)(F)C(F)(F)F', 'toolkit': 'DS4SD', 'function': 'Patents_For_Molecule', 'parameters': '', 'results': [{'PATENT ID': 'US9447314'}, {'PATENT ID': 'KR1020150035140'}, {'PATENT ID': 'JP2015205973'}, {'PATENT ID': 'JP2016166370'}, {'PATENT ID': 'US20160237339A1'}, {'PATENT ID': 'US20210280213'}]}]\n",
      "888 O=C(O)C(F)(F)C(F)(F)C(F)(F)C(F)(F)C(F)(F)C(F)(F)F O=C(O)C(F)(F)C(F)(F)C(F)(F)C(F)(F)C(F)(F)C(F)(F)F O=C(O)C(F)(F)C(F)(F)C(F)(F)C(F)(F)C(F)(F)C(F)(F)F\n",
      "888 O=C(O)C(F)(F)C(F)(F)C(F)(F)C(F)(F)C(F)(F)C(F)(F)F O=C(O)C(F)(F)C(F)(F)C(F)(F)C(F)(F)C(F)(F)C(F)(F)F O=C(O)C(F)(F)C(F)(F)C(F)(F)C(F)(F)C(F)(F)C(F)(F)F\n",
      "888 O=C(O)C(F)(F)C(F)(F)C(F)(F)C(F)(F)C(F)(F)C(F)(F)F O=C(O)C(F)(F)C(F)(F)C(F)(F)C(F)(F)C(F)(F)C(F)(F)F O=C(O)C(F)(F)C(F)(F)C(F)(F)C(F)(F)C(F)(F)C(F)(F)F\n",
      "123\n",
      "inchikey LSFYLGJCKGUAEW-UHFFFAOYSA-N\n",
      "456 []\n",
      "123\n",
      "inchikey XLUKTNFVKWXBAE-UHFFFAOYSA-N\n",
      "456 []\n",
      "123\n",
      "inchikey KKNZMEWYYYCSFR-UHFFFAOYSA-N\n",
      "456 []\n",
      "123\n",
      "inchikey XUMZDGSXCRTTNE-UHFFFAOYSA-N\n",
      "456 []\n",
      "123\n",
      "inchikey HWNJLHLGDQGLQU-UHFFFAOYSA-N\n",
      "456 []\n",
      "123\n",
      "inchikey REFFFDHFQOYHRD-UHFFFAOYSA-N\n",
      "456 []\n",
      "123\n",
      "inchikey SJEULDLUYNSZPB-UHFFFAOYSA-N\n",
      "456 [{'smiles': 'OC(O)C(F)(OC(F)(F)C(F)(F)C(F)(F)F)C(F)(F)F', 'toolkit': 'DS4SD', 'function': 'Patents_For_Molecule', 'parameters': '', 'results': []}, {'smiles': 'OC(O)C(F)(OC(F)(F)C(F)(F)C(F)(F)F)C(F)(F)F', 'toolkit': 'DS4SD', 'function': 'Patents_For_Molecule', 'parameters': '', 'results': []}, {'smiles': 'OC(O)C(F)(OC(F)(F)C(F)(F)C(F)(F)F)C(F)(F)F', 'toolkit': 'DS4SD', 'function': 'Patents_For_Molecule', 'parameters': '', 'results': []}, {'smiles': 'OC(O)C(F)(OC(F)(F)C(F)(F)C(F)(F)F)C(F)(F)F', 'toolkit': 'DS4SD', 'function': 'Patents_For_Molecule', 'parameters': '', 'results': []}, {'toolkit': 'DS4SD', 'function': 'Patents_For_Molecule', 'smiles': 'OC(O)C(F)(OC(F)(F)C(F)(F)C(F)(F)F)C(F)(F)F', 'parameters': '', 'results': []}, {'smiles': 'OC(O)C(F)(OC(F)(F)C(F)(F)C(F)(F)F)C(F)(F)F', 'toolkit': 'DS4SD', 'function': 'Patents_For_Molecule', 'parameters': '', 'results': []}, {'smiles': 'OC(O)C(F)(OC(F)(F)C(F)(F)C(F)(F)F)C(F)(F)F', 'toolkit': 'DS4SD', 'function': 'Patents_For_Molecule', 'parameters': '', 'results': []}, {'smiles': 'OC(O)C(F)(OC(F)(F)C(F)(F)C(F)(F)F)C(F)(F)F', 'toolkit': 'DS4SD', 'function': 'Patents_For_Molecule', 'parameters': '', 'results': []}, {'smiles': 'OC(O)C(F)(OC(F)(F)C(F)(F)C(F)(F)F)C(F)(F)F', 'toolkit': 'DS4SD', 'function': 'Patents_For_Molecule', 'parameters': '', 'results': []}, {'smiles': 'OC(O)C(F)(OC(F)(F)C(F)(F)C(F)(F)F)C(F)(F)F', 'toolkit': 'DS4SD', 'function': 'Patents_For_Molecule', 'parameters': '', 'results': []}, {'smiles': 'OC(O)C(F)(OC(F)(F)C(F)(F)C(F)(F)F)C(F)(F)F', 'toolkit': 'DS4SD', 'function': 'Patents_For_Molecule', 'parameters': '', 'results': []}, {'smiles': 'OC(O)C(F)(OC(F)(F)C(F)(F)C(F)(F)F)C(F)(F)F', 'toolkit': 'DS4SD', 'function': 'Patents_For_Molecule', 'parameters': '', 'results': []}, {'smiles': 'OC(O)C(F)(OC(F)(F)C(F)(F)C(F)(F)F)C(F)(F)F', 'toolkit': 'DS4SD', 'function': 'Patents_For_Molecule', 'parameters': '', 'results': []}, {'smiles': 'OC(O)C(F)(OC(F)(F)C(F)(F)C(F)(F)F)C(F)(F)F', 'toolkit': 'DS4SD', 'function': 'Patents_For_Molecule', 'parameters': '', 'results': []}, {'smiles': 'OC(O)C(F)(OC(F)(F)C(F)(F)C(F)(F)F)C(F)(F)F', 'toolkit': 'DS4SD', 'function': 'Patents_For_Molecule', 'parameters': '', 'results': []}, {'smiles': 'OC(O)C(F)(OC(F)(F)C(F)(F)C(F)(F)F)C(F)(F)F', 'toolkit': 'DS4SD', 'function': 'Patents_For_Molecule', 'parameters': '', 'results': []}, {'smiles': 'OC(O)C(F)(OC(F)(F)C(F)(F)C(F)(F)F)C(F)(F)F', 'toolkit': 'DS4SD', 'function': 'Patents_For_Molecule', 'parameters': '', 'results': []}, {'smiles': 'OC(O)C(F)(OC(F)(F)C(F)(F)C(F)(F)F)C(F)(F)F', 'toolkit': 'DS4SD', 'function': 'Patents_For_Molecule', 'parameters': '', 'results': []}, {'smiles': 'OC(O)C(F)(OC(F)(F)C(F)(F)C(F)(F)F)C(F)(F)F', 'toolkit': 'DS4SD', 'function': 'Patents_For_Molecule', 'parameters': '', 'results': []}, {'smiles': 'OC(O)C(F)(OC(F)(F)C(F)(F)C(F)(F)F)C(F)(F)F', 'toolkit': 'DS4SD', 'function': 'Patents_For_Molecule', 'parameters': '', 'results': []}, {'smiles': 'OC(O)C(F)(OC(F)(F)C(F)(F)C(F)(F)F)C(F)(F)F', 'toolkit': 'DS4SD', 'function': 'Patents_For_Molecule', 'parameters': '', 'results': []}, {'smiles': 'OC(O)C(F)(OC(F)(F)C(F)(F)C(F)(F)F)C(F)(F)F', 'toolkit': 'DS4SD', 'function': 'Patents_For_Molecule', 'parameters': '', 'results': []}, {'smiles': 'OC(O)C(F)(OC(F)(F)C(F)(F)C(F)(F)F)C(F)(F)F', 'toolkit': 'DS4SD', 'function': 'Patents_For_Molecule', 'parameters': '', 'results': []}, {'smiles': 'OC(O)C(F)(OC(F)(F)C(F)(F)C(F)(F)F)C(F)(F)F', 'toolkit': 'DS4SD', 'function': 'Patents_For_Molecule', 'parameters': '', 'results': []}, {'smiles': 'OC(O)C(F)(OC(F)(F)C(F)(F)C(F)(F)F)C(F)(F)F', 'toolkit': 'DS4SD', 'function': 'Patents_For_Molecule', 'parameters': '', 'results': []}, {'toolkit': 'DS4SD', 'function': 'Patents_For_Molecule', 'smiles': 'OC(O)C(F)(OC(F)(F)C(F)(F)C(F)(F)F)C(F)(F)F', 'parameters': '', 'results': []}, {'smiles': 'OC(O)C(F)(OC(F)(F)C(F)(F)C(F)(F)F)C(F)(F)F', 'toolkit': 'DS4SD', 'function': 'Patents_For_Molecule', 'parameters': '', 'results': []}, {'smiles': 'OC(O)C(F)(OC(F)(F)C(F)(F)C(F)(F)F)C(F)(F)F', 'toolkit': 'DS4SD', 'function': 'Patents_For_Molecule', 'parameters': '', 'results': []}, {'smiles': 'OC(O)C(F)(OC(F)(F)C(F)(F)C(F)(F)F)C(F)(F)F', 'toolkit': 'DS4SD', 'function': 'Patents_For_Molecule', 'parameters': '', 'results': []}, {'smiles': 'OC(O)C(F)(OC(F)(F)C(F)(F)C(F)(F)F)C(F)(F)F', 'toolkit': 'DS4SD', 'function': 'Patents_For_Molecule', 'parameters': '', 'results': []}, {'smiles': 'OC(O)C(F)(OC(F)(F)C(F)(F)C(F)(F)F)C(F)(F)F', 'toolkit': 'DS4SD', 'function': 'Patents_For_Molecule', 'parameters': '', 'results': []}, {'smiles': 'OC(O)C(F)(OC(F)(F)C(F)(F)C(F)(F)F)C(F)(F)F', 'toolkit': 'DS4SD', 'function': 'Patents_For_Molecule', 'parameters': '', 'results': []}, {'smiles': 'OC(O)C(F)(OC(F)(F)C(F)(F)C(F)(F)F)C(F)(F)F', 'toolkit': 'DS4SD', 'function': 'Patents_For_Molecule', 'parameters': '', 'results': []}, {'smiles': 'OC(O)C(F)(OC(F)(F)C(F)(F)C(F)(F)F)C(F)(F)F', 'toolkit': 'DS4SD', 'function': 'Patents_For_Molecule', 'parameters': '', 'results': []}, {'smiles': 'OC(O)C(F)(OC(F)(F)C(F)(F)C(F)(F)F)C(F)(F)F', 'toolkit': 'DS4SD', 'function': 'Patents_For_Molecule', 'parameters': '', 'results': []}, {'smiles': 'OC(O)C(F)(OC(F)(F)C(F)(F)C(F)(F)F)C(F)(F)F', 'toolkit': 'DS4SD', 'function': 'Patents_For_Molecule', 'parameters': '', 'results': []}, {'smiles': 'OC(O)C(F)(OC(F)(F)C(F)(F)C(F)(F)F)C(F)(F)F', 'toolkit': 'DS4SD', 'function': 'Patents_For_Molecule', 'parameters': '', 'results': []}, {'smiles': 'OC(O)C(F)(OC(F)(F)C(F)(F)C(F)(F)F)C(F)(F)F', 'toolkit': 'DS4SD', 'function': 'Patents_For_Molecule', 'parameters': '', 'results': []}, {'smiles': 'OC(O)C(F)(OC(F)(F)C(F)(F)C(F)(F)F)C(F)(F)F', 'toolkit': 'DS4SD', 'function': 'Patents_For_Molecule', 'parameters': '', 'results': []}, {'smiles': 'OC(O)C(F)(OC(F)(F)C(F)(F)C(F)(F)F)C(F)(F)F', 'toolkit': 'DS4SD', 'function': 'Patents_For_Molecule', 'parameters': '', 'results': []}, {'smiles': 'OC(O)C(F)(OC(F)(F)C(F)(F)C(F)(F)F)C(F)(F)F', 'toolkit': 'DS4SD', 'function': 'Patents_For_Molecule', 'parameters': '', 'results': []}, {'smiles': 'OC(O)C(F)(OC(F)(F)C(F)(F)C(F)(F)F)C(F)(F)F', 'toolkit': 'DS4SD', 'function': 'Patents_For_Molecule', 'parameters': '', 'results': []}, {'smiles': 'OC(O)C(F)(OC(F)(F)C(F)(F)C(F)(F)F)C(F)(F)F', 'toolkit': 'DS4SD', 'function': 'Patents_For_Molecule', 'parameters': '', 'results': []}, {'smiles': 'OC(O)C(F)(OC(F)(F)C(F)(F)C(F)(F)F)C(F)(F)F', 'toolkit': 'DS4SD', 'function': 'Patents_For_Molecule', 'parameters': '', 'results': []}, {'smiles': 'OC(O)C(F)(OC(F)(F)C(F)(F)C(F)(F)F)C(F)(F)F', 'toolkit': 'DS4SD', 'function': 'Patents_For_Molecule', 'parameters': '', 'results': []}, {'smiles': 'OC(O)C(F)(OC(F)(F)C(F)(F)C(F)(F)F)C(F)(F)F', 'toolkit': 'DS4SD', 'function': 'Patents_For_Molecule', 'parameters': '', 'results': []}, {'smiles': 'OC(O)C(F)(OC(F)(F)C(F)(F)C(F)(F)F)C(F)(F)F', 'toolkit': 'DS4SD', 'function': 'Patents_For_Molecule', 'parameters': '', 'results': []}, {'smiles': 'OC(O)C(F)(OC(F)(F)C(F)(F)C(F)(F)F)C(F)(F)F', 'toolkit': 'DS4SD', 'function': 'Patents_For_Molecule', 'parameters': '', 'results': []}]\n",
      "888 OC(O)C(F)(OC(F)(F)C(F)(F)C(F)(F)F)C(F)(F)F OC(O)C(F)(OC(F)(F)C(F)(F)C(F)(F)F)C(F)(F)F OC(O)C(F)(OC(F)(F)C(F)(F)C(F)(F)F)C(F)(F)F\n",
      "888 OC(O)C(F)(OC(F)(F)C(F)(F)C(F)(F)F)C(F)(F)F OC(O)C(F)(OC(F)(F)C(F)(F)C(F)(F)F)C(F)(F)F OC(O)C(F)(OC(F)(F)C(F)(F)C(F)(F)F)C(F)(F)F\n",
      "888 OC(O)C(F)(OC(F)(F)C(F)(F)C(F)(F)F)C(F)(F)F OC(O)C(F)(OC(F)(F)C(F)(F)C(F)(F)F)C(F)(F)F OC(O)C(F)(OC(F)(F)C(F)(F)C(F)(F)F)C(F)(F)F\n",
      "888 OC(O)C(F)(OC(F)(F)C(F)(F)C(F)(F)F)C(F)(F)F OC(O)C(F)(OC(F)(F)C(F)(F)C(F)(F)F)C(F)(F)F OC(O)C(F)(OC(F)(F)C(F)(F)C(F)(F)F)C(F)(F)F\n",
      "888 OC(O)C(F)(OC(F)(F)C(F)(F)C(F)(F)F)C(F)(F)F OC(O)C(F)(OC(F)(F)C(F)(F)C(F)(F)F)C(F)(F)F OC(O)C(F)(OC(F)(F)C(F)(F)C(F)(F)F)C(F)(F)F\n",
      "888 OC(O)C(F)(OC(F)(F)C(F)(F)C(F)(F)F)C(F)(F)F OC(O)C(F)(OC(F)(F)C(F)(F)C(F)(F)F)C(F)(F)F OC(O)C(F)(OC(F)(F)C(F)(F)C(F)(F)F)C(F)(F)F\n",
      "888 OC(O)C(F)(OC(F)(F)C(F)(F)C(F)(F)F)C(F)(F)F OC(O)C(F)(OC(F)(F)C(F)(F)C(F)(F)F)C(F)(F)F OC(O)C(F)(OC(F)(F)C(F)(F)C(F)(F)F)C(F)(F)F\n",
      "888 OC(O)C(F)(OC(F)(F)C(F)(F)C(F)(F)F)C(F)(F)F OC(O)C(F)(OC(F)(F)C(F)(F)C(F)(F)F)C(F)(F)F OC(O)C(F)(OC(F)(F)C(F)(F)C(F)(F)F)C(F)(F)F\n",
      "888 OC(O)C(F)(OC(F)(F)C(F)(F)C(F)(F)F)C(F)(F)F OC(O)C(F)(OC(F)(F)C(F)(F)C(F)(F)F)C(F)(F)F OC(O)C(F)(OC(F)(F)C(F)(F)C(F)(F)F)C(F)(F)F\n",
      "888 OC(O)C(F)(OC(F)(F)C(F)(F)C(F)(F)F)C(F)(F)F OC(O)C(F)(OC(F)(F)C(F)(F)C(F)(F)F)C(F)(F)F OC(O)C(F)(OC(F)(F)C(F)(F)C(F)(F)F)C(F)(F)F\n",
      "888 OC(O)C(F)(OC(F)(F)C(F)(F)C(F)(F)F)C(F)(F)F OC(O)C(F)(OC(F)(F)C(F)(F)C(F)(F)F)C(F)(F)F OC(O)C(F)(OC(F)(F)C(F)(F)C(F)(F)F)C(F)(F)F\n",
      "888 OC(O)C(F)(OC(F)(F)C(F)(F)C(F)(F)F)C(F)(F)F OC(O)C(F)(OC(F)(F)C(F)(F)C(F)(F)F)C(F)(F)F OC(O)C(F)(OC(F)(F)C(F)(F)C(F)(F)F)C(F)(F)F\n",
      "888 OC(O)C(F)(OC(F)(F)C(F)(F)C(F)(F)F)C(F)(F)F OC(O)C(F)(OC(F)(F)C(F)(F)C(F)(F)F)C(F)(F)F OC(O)C(F)(OC(F)(F)C(F)(F)C(F)(F)F)C(F)(F)F\n",
      "888 OC(O)C(F)(OC(F)(F)C(F)(F)C(F)(F)F)C(F)(F)F OC(O)C(F)(OC(F)(F)C(F)(F)C(F)(F)F)C(F)(F)F OC(O)C(F)(OC(F)(F)C(F)(F)C(F)(F)F)C(F)(F)F\n",
      "888 OC(O)C(F)(OC(F)(F)C(F)(F)C(F)(F)F)C(F)(F)F OC(O)C(F)(OC(F)(F)C(F)(F)C(F)(F)F)C(F)(F)F OC(O)C(F)(OC(F)(F)C(F)(F)C(F)(F)F)C(F)(F)F\n",
      "888 OC(O)C(F)(OC(F)(F)C(F)(F)C(F)(F)F)C(F)(F)F OC(O)C(F)(OC(F)(F)C(F)(F)C(F)(F)F)C(F)(F)F OC(O)C(F)(OC(F)(F)C(F)(F)C(F)(F)F)C(F)(F)F\n",
      "888 OC(O)C(F)(OC(F)(F)C(F)(F)C(F)(F)F)C(F)(F)F OC(O)C(F)(OC(F)(F)C(F)(F)C(F)(F)F)C(F)(F)F OC(O)C(F)(OC(F)(F)C(F)(F)C(F)(F)F)C(F)(F)F\n",
      "888 OC(O)C(F)(OC(F)(F)C(F)(F)C(F)(F)F)C(F)(F)F OC(O)C(F)(OC(F)(F)C(F)(F)C(F)(F)F)C(F)(F)F OC(O)C(F)(OC(F)(F)C(F)(F)C(F)(F)F)C(F)(F)F\n",
      "888 OC(O)C(F)(OC(F)(F)C(F)(F)C(F)(F)F)C(F)(F)F OC(O)C(F)(OC(F)(F)C(F)(F)C(F)(F)F)C(F)(F)F OC(O)C(F)(OC(F)(F)C(F)(F)C(F)(F)F)C(F)(F)F\n",
      "888 OC(O)C(F)(OC(F)(F)C(F)(F)C(F)(F)F)C(F)(F)F OC(O)C(F)(OC(F)(F)C(F)(F)C(F)(F)F)C(F)(F)F OC(O)C(F)(OC(F)(F)C(F)(F)C(F)(F)F)C(F)(F)F\n",
      "888 OC(O)C(F)(OC(F)(F)C(F)(F)C(F)(F)F)C(F)(F)F OC(O)C(F)(OC(F)(F)C(F)(F)C(F)(F)F)C(F)(F)F OC(O)C(F)(OC(F)(F)C(F)(F)C(F)(F)F)C(F)(F)F\n",
      "888 OC(O)C(F)(OC(F)(F)C(F)(F)C(F)(F)F)C(F)(F)F OC(O)C(F)(OC(F)(F)C(F)(F)C(F)(F)F)C(F)(F)F OC(O)C(F)(OC(F)(F)C(F)(F)C(F)(F)F)C(F)(F)F\n",
      "888 OC(O)C(F)(OC(F)(F)C(F)(F)C(F)(F)F)C(F)(F)F OC(O)C(F)(OC(F)(F)C(F)(F)C(F)(F)F)C(F)(F)F OC(O)C(F)(OC(F)(F)C(F)(F)C(F)(F)F)C(F)(F)F\n",
      "888 OC(O)C(F)(OC(F)(F)C(F)(F)C(F)(F)F)C(F)(F)F OC(O)C(F)(OC(F)(F)C(F)(F)C(F)(F)F)C(F)(F)F OC(O)C(F)(OC(F)(F)C(F)(F)C(F)(F)F)C(F)(F)F\n",
      "888 OC(O)C(F)(OC(F)(F)C(F)(F)C(F)(F)F)C(F)(F)F OC(O)C(F)(OC(F)(F)C(F)(F)C(F)(F)F)C(F)(F)F OC(O)C(F)(OC(F)(F)C(F)(F)C(F)(F)F)C(F)(F)F\n",
      "888 OC(O)C(F)(OC(F)(F)C(F)(F)C(F)(F)F)C(F)(F)F OC(O)C(F)(OC(F)(F)C(F)(F)C(F)(F)F)C(F)(F)F OC(O)C(F)(OC(F)(F)C(F)(F)C(F)(F)F)C(F)(F)F\n",
      "888 OC(O)C(F)(OC(F)(F)C(F)(F)C(F)(F)F)C(F)(F)F OC(O)C(F)(OC(F)(F)C(F)(F)C(F)(F)F)C(F)(F)F OC(O)C(F)(OC(F)(F)C(F)(F)C(F)(F)F)C(F)(F)F\n",
      "888 OC(O)C(F)(OC(F)(F)C(F)(F)C(F)(F)F)C(F)(F)F OC(O)C(F)(OC(F)(F)C(F)(F)C(F)(F)F)C(F)(F)F OC(O)C(F)(OC(F)(F)C(F)(F)C(F)(F)F)C(F)(F)F\n",
      "888 OC(O)C(F)(OC(F)(F)C(F)(F)C(F)(F)F)C(F)(F)F OC(O)C(F)(OC(F)(F)C(F)(F)C(F)(F)F)C(F)(F)F OC(O)C(F)(OC(F)(F)C(F)(F)C(F)(F)F)C(F)(F)F\n",
      "888 OC(O)C(F)(OC(F)(F)C(F)(F)C(F)(F)F)C(F)(F)F OC(O)C(F)(OC(F)(F)C(F)(F)C(F)(F)F)C(F)(F)F OC(O)C(F)(OC(F)(F)C(F)(F)C(F)(F)F)C(F)(F)F\n",
      "888 OC(O)C(F)(OC(F)(F)C(F)(F)C(F)(F)F)C(F)(F)F OC(O)C(F)(OC(F)(F)C(F)(F)C(F)(F)F)C(F)(F)F OC(O)C(F)(OC(F)(F)C(F)(F)C(F)(F)F)C(F)(F)F\n",
      "888 OC(O)C(F)(OC(F)(F)C(F)(F)C(F)(F)F)C(F)(F)F OC(O)C(F)(OC(F)(F)C(F)(F)C(F)(F)F)C(F)(F)F OC(O)C(F)(OC(F)(F)C(F)(F)C(F)(F)F)C(F)(F)F\n",
      "888 OC(O)C(F)(OC(F)(F)C(F)(F)C(F)(F)F)C(F)(F)F OC(O)C(F)(OC(F)(F)C(F)(F)C(F)(F)F)C(F)(F)F OC(O)C(F)(OC(F)(F)C(F)(F)C(F)(F)F)C(F)(F)F\n",
      "888 OC(O)C(F)(OC(F)(F)C(F)(F)C(F)(F)F)C(F)(F)F OC(O)C(F)(OC(F)(F)C(F)(F)C(F)(F)F)C(F)(F)F OC(O)C(F)(OC(F)(F)C(F)(F)C(F)(F)F)C(F)(F)F\n",
      "888 OC(O)C(F)(OC(F)(F)C(F)(F)C(F)(F)F)C(F)(F)F OC(O)C(F)(OC(F)(F)C(F)(F)C(F)(F)F)C(F)(F)F OC(O)C(F)(OC(F)(F)C(F)(F)C(F)(F)F)C(F)(F)F\n",
      "888 OC(O)C(F)(OC(F)(F)C(F)(F)C(F)(F)F)C(F)(F)F OC(O)C(F)(OC(F)(F)C(F)(F)C(F)(F)F)C(F)(F)F OC(O)C(F)(OC(F)(F)C(F)(F)C(F)(F)F)C(F)(F)F\n",
      "888 OC(O)C(F)(OC(F)(F)C(F)(F)C(F)(F)F)C(F)(F)F OC(O)C(F)(OC(F)(F)C(F)(F)C(F)(F)F)C(F)(F)F OC(O)C(F)(OC(F)(F)C(F)(F)C(F)(F)F)C(F)(F)F\n",
      "888 OC(O)C(F)(OC(F)(F)C(F)(F)C(F)(F)F)C(F)(F)F OC(O)C(F)(OC(F)(F)C(F)(F)C(F)(F)F)C(F)(F)F OC(O)C(F)(OC(F)(F)C(F)(F)C(F)(F)F)C(F)(F)F\n",
      "888 OC(O)C(F)(OC(F)(F)C(F)(F)C(F)(F)F)C(F)(F)F OC(O)C(F)(OC(F)(F)C(F)(F)C(F)(F)F)C(F)(F)F OC(O)C(F)(OC(F)(F)C(F)(F)C(F)(F)F)C(F)(F)F\n",
      "888 OC(O)C(F)(OC(F)(F)C(F)(F)C(F)(F)F)C(F)(F)F OC(O)C(F)(OC(F)(F)C(F)(F)C(F)(F)F)C(F)(F)F OC(O)C(F)(OC(F)(F)C(F)(F)C(F)(F)F)C(F)(F)F\n",
      "888 OC(O)C(F)(OC(F)(F)C(F)(F)C(F)(F)F)C(F)(F)F OC(O)C(F)(OC(F)(F)C(F)(F)C(F)(F)F)C(F)(F)F OC(O)C(F)(OC(F)(F)C(F)(F)C(F)(F)F)C(F)(F)F\n",
      "888 OC(O)C(F)(OC(F)(F)C(F)(F)C(F)(F)F)C(F)(F)F OC(O)C(F)(OC(F)(F)C(F)(F)C(F)(F)F)C(F)(F)F OC(O)C(F)(OC(F)(F)C(F)(F)C(F)(F)F)C(F)(F)F\n",
      "888 OC(O)C(F)(OC(F)(F)C(F)(F)C(F)(F)F)C(F)(F)F OC(O)C(F)(OC(F)(F)C(F)(F)C(F)(F)F)C(F)(F)F OC(O)C(F)(OC(F)(F)C(F)(F)C(F)(F)F)C(F)(F)F\n",
      "888 OC(O)C(F)(OC(F)(F)C(F)(F)C(F)(F)F)C(F)(F)F OC(O)C(F)(OC(F)(F)C(F)(F)C(F)(F)F)C(F)(F)F OC(O)C(F)(OC(F)(F)C(F)(F)C(F)(F)F)C(F)(F)F\n",
      "888 OC(O)C(F)(OC(F)(F)C(F)(F)C(F)(F)F)C(F)(F)F OC(O)C(F)(OC(F)(F)C(F)(F)C(F)(F)F)C(F)(F)F OC(O)C(F)(OC(F)(F)C(F)(F)C(F)(F)F)C(F)(F)F\n",
      "888 OC(O)C(F)(OC(F)(F)C(F)(F)C(F)(F)F)C(F)(F)F OC(O)C(F)(OC(F)(F)C(F)(F)C(F)(F)F)C(F)(F)F OC(O)C(F)(OC(F)(F)C(F)(F)C(F)(F)F)C(F)(F)F\n",
      "888 OC(O)C(F)(OC(F)(F)C(F)(F)C(F)(F)F)C(F)(F)F OC(O)C(F)(OC(F)(F)C(F)(F)C(F)(F)F)C(F)(F)F OC(O)C(F)(OC(F)(F)C(F)(F)C(F)(F)F)C(F)(F)F\n",
      "888 OC(O)C(F)(OC(F)(F)C(F)(F)C(F)(F)F)C(F)(F)F OC(O)C(F)(OC(F)(F)C(F)(F)C(F)(F)F)C(F)(F)F OC(O)C(F)(OC(F)(F)C(F)(F)C(F)(F)F)C(F)(F)F\n",
      "123\n",
      "inchikey YBVRDNKKIWCSHJ-UHFFFAOYSA-N\n",
      "456 []\n",
      "123\n",
      "inchikey TVNWAWZLGUWWBC-UHFFFAOYSA-N\n",
      "456 []\n",
      "123\n",
      "inchikey APIMCUDQIAQORN-UHFFFAOYSA-N\n",
      "456 [{'smiles': 'O=C(O)C(F)(OC(F)(F)C(O)(F)C(F)(F)F)C(F)(F)F', 'toolkit': 'DS4SD', 'function': 'Patents_For_Molecule', 'parameters': '', 'results': []}, {'smiles': 'O=C(O)C(F)(OC(F)(F)C(O)(F)C(F)(F)F)C(F)(F)F', 'toolkit': 'DS4SD', 'function': 'Patents_For_Molecule', 'parameters': '', 'results': []}, {'smiles': 'O=C(O)C(F)(OC(F)(F)C(O)(F)C(F)(F)F)C(F)(F)F', 'toolkit': 'DS4SD', 'function': 'Patents_For_Molecule', 'parameters': '', 'results': []}, {'smiles': 'O=C(O)C(F)(OC(F)(F)C(O)(F)C(F)(F)F)C(F)(F)F', 'toolkit': 'DS4SD', 'function': 'Patents_For_Molecule', 'parameters': '', 'results': []}, {'smiles': 'O=C(O)C(F)(OC(F)(F)C(O)(F)C(F)(F)F)C(F)(F)F', 'toolkit': 'DS4SD', 'function': 'Patents_For_Molecule', 'parameters': '', 'results': []}, {'smiles': 'O=C(O)C(F)(OC(F)(F)C(O)(F)C(F)(F)F)C(F)(F)F', 'toolkit': 'DS4SD', 'function': 'Patents_For_Molecule', 'parameters': '', 'results': []}, {'smiles': 'O=C(O)C(F)(OC(F)(F)C(O)(F)C(F)(F)F)C(F)(F)F', 'toolkit': 'DS4SD', 'function': 'Patents_For_Molecule', 'parameters': '', 'results': []}, {'smiles': 'O=C(O)C(F)(OC(F)(F)C(O)(F)C(F)(F)F)C(F)(F)F', 'toolkit': 'DS4SD', 'function': 'Patents_For_Molecule', 'parameters': '', 'results': []}, {'smiles': 'O=C(O)C(F)(OC(F)(F)C(O)(F)C(F)(F)F)C(F)(F)F', 'toolkit': 'DS4SD', 'function': 'Patents_For_Molecule', 'parameters': '', 'results': []}, {'smiles': 'O=C(O)C(F)(OC(F)(F)C(O)(F)C(F)(F)F)C(F)(F)F', 'toolkit': 'DS4SD', 'function': 'Patents_For_Molecule', 'parameters': '', 'results': []}, {'smiles': 'O=C(O)C(F)(OC(F)(F)C(O)(F)C(F)(F)F)C(F)(F)F', 'toolkit': 'DS4SD', 'function': 'Patents_For_Molecule', 'parameters': '', 'results': []}, {'smiles': 'O=C(O)C(F)(OC(F)(F)C(O)(F)C(F)(F)F)C(F)(F)F', 'toolkit': 'DS4SD', 'function': 'Patents_For_Molecule', 'parameters': '', 'results': []}, {'smiles': 'O=C(O)C(F)(OC(F)(F)C(O)(F)C(F)(F)F)C(F)(F)F', 'toolkit': 'DS4SD', 'function': 'Patents_For_Molecule', 'parameters': '', 'results': []}, {'smiles': 'O=C(O)C(F)(OC(F)(F)C(O)(F)C(F)(F)F)C(F)(F)F', 'toolkit': 'DS4SD', 'function': 'Patents_For_Molecule', 'parameters': '', 'results': []}, {'smiles': 'O=C(O)C(F)(OC(F)(F)C(O)(F)C(F)(F)F)C(F)(F)F', 'toolkit': 'DS4SD', 'function': 'Patents_For_Molecule', 'parameters': '', 'results': []}, {'smiles': 'O=C(O)C(F)(OC(F)(F)C(O)(F)C(F)(F)F)C(F)(F)F', 'toolkit': 'DS4SD', 'function': 'Patents_For_Molecule', 'parameters': '', 'results': []}, {'smiles': 'O=C(O)C(F)(OC(F)(F)C(O)(F)C(F)(F)F)C(F)(F)F', 'toolkit': 'DS4SD', 'function': 'Patents_For_Molecule', 'parameters': '', 'results': []}, {'toolkit': 'DS4SD', 'function': 'Patents_For_Molecule', 'smiles': 'O=C(O)C(F)(OC(F)(F)C(O)(F)C(F)(F)F)C(F)(F)F', 'parameters': '', 'results': []}, {'smiles': 'O=C(O)C(F)(OC(F)(F)C(O)(F)C(F)(F)F)C(F)(F)F', 'toolkit': 'DS4SD', 'function': 'Patents_For_Molecule', 'parameters': '', 'results': []}, {'smiles': 'O=C(O)C(F)(OC(F)(F)C(O)(F)C(F)(F)F)C(F)(F)F', 'toolkit': 'DS4SD', 'function': 'Patents_For_Molecule', 'parameters': '', 'results': []}, {'smiles': 'O=C(O)C(F)(OC(F)(F)C(O)(F)C(F)(F)F)C(F)(F)F', 'toolkit': 'DS4SD', 'function': 'Patents_For_Molecule', 'parameters': '', 'results': []}, {'smiles': 'O=C(O)C(F)(OC(F)(F)C(O)(F)C(F)(F)F)C(F)(F)F', 'toolkit': 'DS4SD', 'function': 'Patents_For_Molecule', 'parameters': '', 'results': []}, {'smiles': 'O=C(O)C(F)(OC(F)(F)C(O)(F)C(F)(F)F)C(F)(F)F', 'toolkit': 'DS4SD', 'function': 'Patents_For_Molecule', 'parameters': '', 'results': []}, {'smiles': 'O=C(O)C(F)(OC(F)(F)C(O)(F)C(F)(F)F)C(F)(F)F', 'toolkit': 'DS4SD', 'function': 'Patents_For_Molecule', 'parameters': '', 'results': []}, {'smiles': 'O=C(O)C(F)(OC(F)(F)C(O)(F)C(F)(F)F)C(F)(F)F', 'toolkit': 'DS4SD', 'function': 'Patents_For_Molecule', 'parameters': '', 'results': []}, {'smiles': 'O=C(O)C(F)(OC(F)(F)C(O)(F)C(F)(F)F)C(F)(F)F', 'toolkit': 'DS4SD', 'function': 'Patents_For_Molecule', 'parameters': '', 'results': []}, {'smiles': 'O=C(O)C(F)(OC(F)(F)C(O)(F)C(F)(F)F)C(F)(F)F', 'toolkit': 'DS4SD', 'function': 'Patents_For_Molecule', 'parameters': '', 'results': []}, {'smiles': 'O=C(O)C(F)(OC(F)(F)C(O)(F)C(F)(F)F)C(F)(F)F', 'toolkit': 'DS4SD', 'function': 'Patents_For_Molecule', 'parameters': '', 'results': []}, {'smiles': 'O=C(O)C(F)(OC(F)(F)C(O)(F)C(F)(F)F)C(F)(F)F', 'toolkit': 'DS4SD', 'function': 'Patents_For_Molecule', 'parameters': '', 'results': []}, {'smiles': 'O=C(O)C(F)(OC(F)(F)C(O)(F)C(F)(F)F)C(F)(F)F', 'toolkit': 'DS4SD', 'function': 'Patents_For_Molecule', 'parameters': '', 'results': []}, {'smiles': 'O=C(O)C(F)(OC(F)(F)C(O)(F)C(F)(F)F)C(F)(F)F', 'toolkit': 'DS4SD', 'function': 'Patents_For_Molecule', 'parameters': '', 'results': []}, {'smiles': 'O=C(O)C(F)(OC(F)(F)C(O)(F)C(F)(F)F)C(F)(F)F', 'toolkit': 'DS4SD', 'function': 'Patents_For_Molecule', 'parameters': '', 'results': []}, {'smiles': 'O=C(O)C(F)(OC(F)(F)C(O)(F)C(F)(F)F)C(F)(F)F', 'toolkit': 'DS4SD', 'function': 'Patents_For_Molecule', 'parameters': '', 'results': []}, {'smiles': 'O=C(O)C(F)(OC(F)(F)C(O)(F)C(F)(F)F)C(F)(F)F', 'toolkit': 'DS4SD', 'function': 'Patents_For_Molecule', 'parameters': '', 'results': []}, {'smiles': 'O=C(O)C(F)(OC(F)(F)C(O)(F)C(F)(F)F)C(F)(F)F', 'toolkit': 'DS4SD', 'function': 'Patents_For_Molecule', 'parameters': '', 'results': []}, {'smiles': 'O=C(O)C(F)(OC(F)(F)C(O)(F)C(F)(F)F)C(F)(F)F', 'toolkit': 'DS4SD', 'function': 'Patents_For_Molecule', 'parameters': '', 'results': []}, {'smiles': 'O=C(O)C(F)(OC(F)(F)C(O)(F)C(F)(F)F)C(F)(F)F', 'toolkit': 'DS4SD', 'function': 'Patents_For_Molecule', 'parameters': '', 'results': []}, {'smiles': 'O=C(O)C(F)(OC(F)(F)C(O)(F)C(F)(F)F)C(F)(F)F', 'toolkit': 'DS4SD', 'function': 'Patents_For_Molecule', 'parameters': '', 'results': []}]\n",
      "888 O=C(O)C(F)(OC(F)(F)C(O)(F)C(F)(F)F)C(F)(F)F O=C(O)C(F)(OC(F)(F)C(O)(F)C(F)(F)F)C(F)(F)F O=C(O)C(F)(OC(F)(F)C(O)(F)C(F)(F)F)C(F)(F)F\n",
      "888 O=C(O)C(F)(OC(F)(F)C(O)(F)C(F)(F)F)C(F)(F)F O=C(O)C(F)(OC(F)(F)C(O)(F)C(F)(F)F)C(F)(F)F O=C(O)C(F)(OC(F)(F)C(O)(F)C(F)(F)F)C(F)(F)F\n",
      "888 O=C(O)C(F)(OC(F)(F)C(O)(F)C(F)(F)F)C(F)(F)F O=C(O)C(F)(OC(F)(F)C(O)(F)C(F)(F)F)C(F)(F)F O=C(O)C(F)(OC(F)(F)C(O)(F)C(F)(F)F)C(F)(F)F\n",
      "888 O=C(O)C(F)(OC(F)(F)C(O)(F)C(F)(F)F)C(F)(F)F O=C(O)C(F)(OC(F)(F)C(O)(F)C(F)(F)F)C(F)(F)F O=C(O)C(F)(OC(F)(F)C(O)(F)C(F)(F)F)C(F)(F)F\n",
      "888 O=C(O)C(F)(OC(F)(F)C(O)(F)C(F)(F)F)C(F)(F)F O=C(O)C(F)(OC(F)(F)C(O)(F)C(F)(F)F)C(F)(F)F O=C(O)C(F)(OC(F)(F)C(O)(F)C(F)(F)F)C(F)(F)F\n",
      "888 O=C(O)C(F)(OC(F)(F)C(O)(F)C(F)(F)F)C(F)(F)F O=C(O)C(F)(OC(F)(F)C(O)(F)C(F)(F)F)C(F)(F)F O=C(O)C(F)(OC(F)(F)C(O)(F)C(F)(F)F)C(F)(F)F\n",
      "888 O=C(O)C(F)(OC(F)(F)C(O)(F)C(F)(F)F)C(F)(F)F O=C(O)C(F)(OC(F)(F)C(O)(F)C(F)(F)F)C(F)(F)F O=C(O)C(F)(OC(F)(F)C(O)(F)C(F)(F)F)C(F)(F)F\n",
      "888 O=C(O)C(F)(OC(F)(F)C(O)(F)C(F)(F)F)C(F)(F)F O=C(O)C(F)(OC(F)(F)C(O)(F)C(F)(F)F)C(F)(F)F O=C(O)C(F)(OC(F)(F)C(O)(F)C(F)(F)F)C(F)(F)F\n",
      "888 O=C(O)C(F)(OC(F)(F)C(O)(F)C(F)(F)F)C(F)(F)F O=C(O)C(F)(OC(F)(F)C(O)(F)C(F)(F)F)C(F)(F)F O=C(O)C(F)(OC(F)(F)C(O)(F)C(F)(F)F)C(F)(F)F\n",
      "888 O=C(O)C(F)(OC(F)(F)C(O)(F)C(F)(F)F)C(F)(F)F O=C(O)C(F)(OC(F)(F)C(O)(F)C(F)(F)F)C(F)(F)F O=C(O)C(F)(OC(F)(F)C(O)(F)C(F)(F)F)C(F)(F)F\n",
      "888 O=C(O)C(F)(OC(F)(F)C(O)(F)C(F)(F)F)C(F)(F)F O=C(O)C(F)(OC(F)(F)C(O)(F)C(F)(F)F)C(F)(F)F O=C(O)C(F)(OC(F)(F)C(O)(F)C(F)(F)F)C(F)(F)F\n",
      "888 O=C(O)C(F)(OC(F)(F)C(O)(F)C(F)(F)F)C(F)(F)F O=C(O)C(F)(OC(F)(F)C(O)(F)C(F)(F)F)C(F)(F)F O=C(O)C(F)(OC(F)(F)C(O)(F)C(F)(F)F)C(F)(F)F\n",
      "888 O=C(O)C(F)(OC(F)(F)C(O)(F)C(F)(F)F)C(F)(F)F O=C(O)C(F)(OC(F)(F)C(O)(F)C(F)(F)F)C(F)(F)F O=C(O)C(F)(OC(F)(F)C(O)(F)C(F)(F)F)C(F)(F)F\n",
      "888 O=C(O)C(F)(OC(F)(F)C(O)(F)C(F)(F)F)C(F)(F)F O=C(O)C(F)(OC(F)(F)C(O)(F)C(F)(F)F)C(F)(F)F O=C(O)C(F)(OC(F)(F)C(O)(F)C(F)(F)F)C(F)(F)F\n",
      "888 O=C(O)C(F)(OC(F)(F)C(O)(F)C(F)(F)F)C(F)(F)F O=C(O)C(F)(OC(F)(F)C(O)(F)C(F)(F)F)C(F)(F)F O=C(O)C(F)(OC(F)(F)C(O)(F)C(F)(F)F)C(F)(F)F\n",
      "888 O=C(O)C(F)(OC(F)(F)C(O)(F)C(F)(F)F)C(F)(F)F O=C(O)C(F)(OC(F)(F)C(O)(F)C(F)(F)F)C(F)(F)F O=C(O)C(F)(OC(F)(F)C(O)(F)C(F)(F)F)C(F)(F)F\n",
      "888 O=C(O)C(F)(OC(F)(F)C(O)(F)C(F)(F)F)C(F)(F)F O=C(O)C(F)(OC(F)(F)C(O)(F)C(F)(F)F)C(F)(F)F O=C(O)C(F)(OC(F)(F)C(O)(F)C(F)(F)F)C(F)(F)F\n",
      "888 O=C(O)C(F)(OC(F)(F)C(O)(F)C(F)(F)F)C(F)(F)F O=C(O)C(F)(OC(F)(F)C(O)(F)C(F)(F)F)C(F)(F)F O=C(O)C(F)(OC(F)(F)C(O)(F)C(F)(F)F)C(F)(F)F\n",
      "888 O=C(O)C(F)(OC(F)(F)C(O)(F)C(F)(F)F)C(F)(F)F O=C(O)C(F)(OC(F)(F)C(O)(F)C(F)(F)F)C(F)(F)F O=C(O)C(F)(OC(F)(F)C(O)(F)C(F)(F)F)C(F)(F)F\n",
      "888 O=C(O)C(F)(OC(F)(F)C(O)(F)C(F)(F)F)C(F)(F)F O=C(O)C(F)(OC(F)(F)C(O)(F)C(F)(F)F)C(F)(F)F O=C(O)C(F)(OC(F)(F)C(O)(F)C(F)(F)F)C(F)(F)F\n",
      "888 O=C(O)C(F)(OC(F)(F)C(O)(F)C(F)(F)F)C(F)(F)F O=C(O)C(F)(OC(F)(F)C(O)(F)C(F)(F)F)C(F)(F)F O=C(O)C(F)(OC(F)(F)C(O)(F)C(F)(F)F)C(F)(F)F\n",
      "888 O=C(O)C(F)(OC(F)(F)C(O)(F)C(F)(F)F)C(F)(F)F O=C(O)C(F)(OC(F)(F)C(O)(F)C(F)(F)F)C(F)(F)F O=C(O)C(F)(OC(F)(F)C(O)(F)C(F)(F)F)C(F)(F)F\n",
      "888 O=C(O)C(F)(OC(F)(F)C(O)(F)C(F)(F)F)C(F)(F)F O=C(O)C(F)(OC(F)(F)C(O)(F)C(F)(F)F)C(F)(F)F O=C(O)C(F)(OC(F)(F)C(O)(F)C(F)(F)F)C(F)(F)F\n",
      "888 O=C(O)C(F)(OC(F)(F)C(O)(F)C(F)(F)F)C(F)(F)F O=C(O)C(F)(OC(F)(F)C(O)(F)C(F)(F)F)C(F)(F)F O=C(O)C(F)(OC(F)(F)C(O)(F)C(F)(F)F)C(F)(F)F\n",
      "888 O=C(O)C(F)(OC(F)(F)C(O)(F)C(F)(F)F)C(F)(F)F O=C(O)C(F)(OC(F)(F)C(O)(F)C(F)(F)F)C(F)(F)F O=C(O)C(F)(OC(F)(F)C(O)(F)C(F)(F)F)C(F)(F)F\n",
      "888 O=C(O)C(F)(OC(F)(F)C(O)(F)C(F)(F)F)C(F)(F)F O=C(O)C(F)(OC(F)(F)C(O)(F)C(F)(F)F)C(F)(F)F O=C(O)C(F)(OC(F)(F)C(O)(F)C(F)(F)F)C(F)(F)F\n",
      "888 O=C(O)C(F)(OC(F)(F)C(O)(F)C(F)(F)F)C(F)(F)F O=C(O)C(F)(OC(F)(F)C(O)(F)C(F)(F)F)C(F)(F)F O=C(O)C(F)(OC(F)(F)C(O)(F)C(F)(F)F)C(F)(F)F\n",
      "888 O=C(O)C(F)(OC(F)(F)C(O)(F)C(F)(F)F)C(F)(F)F O=C(O)C(F)(OC(F)(F)C(O)(F)C(F)(F)F)C(F)(F)F O=C(O)C(F)(OC(F)(F)C(O)(F)C(F)(F)F)C(F)(F)F\n",
      "888 O=C(O)C(F)(OC(F)(F)C(O)(F)C(F)(F)F)C(F)(F)F O=C(O)C(F)(OC(F)(F)C(O)(F)C(F)(F)F)C(F)(F)F O=C(O)C(F)(OC(F)(F)C(O)(F)C(F)(F)F)C(F)(F)F\n",
      "888 O=C(O)C(F)(OC(F)(F)C(O)(F)C(F)(F)F)C(F)(F)F O=C(O)C(F)(OC(F)(F)C(O)(F)C(F)(F)F)C(F)(F)F O=C(O)C(F)(OC(F)(F)C(O)(F)C(F)(F)F)C(F)(F)F\n",
      "888 O=C(O)C(F)(OC(F)(F)C(O)(F)C(F)(F)F)C(F)(F)F O=C(O)C(F)(OC(F)(F)C(O)(F)C(F)(F)F)C(F)(F)F O=C(O)C(F)(OC(F)(F)C(O)(F)C(F)(F)F)C(F)(F)F\n",
      "888 O=C(O)C(F)(OC(F)(F)C(O)(F)C(F)(F)F)C(F)(F)F O=C(O)C(F)(OC(F)(F)C(O)(F)C(F)(F)F)C(F)(F)F O=C(O)C(F)(OC(F)(F)C(O)(F)C(F)(F)F)C(F)(F)F\n",
      "888 O=C(O)C(F)(OC(F)(F)C(O)(F)C(F)(F)F)C(F)(F)F O=C(O)C(F)(OC(F)(F)C(O)(F)C(F)(F)F)C(F)(F)F O=C(O)C(F)(OC(F)(F)C(O)(F)C(F)(F)F)C(F)(F)F\n",
      "888 O=C(O)C(F)(OC(F)(F)C(O)(F)C(F)(F)F)C(F)(F)F O=C(O)C(F)(OC(F)(F)C(O)(F)C(F)(F)F)C(F)(F)F O=C(O)C(F)(OC(F)(F)C(O)(F)C(F)(F)F)C(F)(F)F\n",
      "888 O=C(O)C(F)(OC(F)(F)C(O)(F)C(F)(F)F)C(F)(F)F O=C(O)C(F)(OC(F)(F)C(O)(F)C(F)(F)F)C(F)(F)F O=C(O)C(F)(OC(F)(F)C(O)(F)C(F)(F)F)C(F)(F)F\n",
      "888 O=C(O)C(F)(OC(F)(F)C(O)(F)C(F)(F)F)C(F)(F)F O=C(O)C(F)(OC(F)(F)C(O)(F)C(F)(F)F)C(F)(F)F O=C(O)C(F)(OC(F)(F)C(O)(F)C(F)(F)F)C(F)(F)F\n",
      "888 O=C(O)C(F)(OC(F)(F)C(O)(F)C(F)(F)F)C(F)(F)F O=C(O)C(F)(OC(F)(F)C(O)(F)C(F)(F)F)C(F)(F)F O=C(O)C(F)(OC(F)(F)C(O)(F)C(F)(F)F)C(F)(F)F\n",
      "888 O=C(O)C(F)(OC(F)(F)C(O)(F)C(F)(F)F)C(F)(F)F O=C(O)C(F)(OC(F)(F)C(O)(F)C(F)(F)F)C(F)(F)F O=C(O)C(F)(OC(F)(F)C(O)(F)C(F)(F)F)C(F)(F)F\n",
      "123\n",
      "inchikey REIACAJBANJAAC-UHFFFAOYSA-N\n",
      "456 []\n",
      "123\n",
      "inchikey DERMNGBIJSXSSF-UHFFFAOYSA-N\n",
      "456 []\n",
      "123\n",
      "inchikey CNQUMFQZNOXMAP-UHFFFAOYSA-N\n",
      "456 []\n",
      "123\n",
      "inchikey GXDLZECWVBSRAN-UHFFFAOYSA-N\n",
      "456 []\n",
      "123\n",
      "inchikey ZFIINHJUXCQRBI-UHFFFAOYSA-N\n",
      "456 []\n",
      "123\n",
      "inchikey CPFSIWNYFGCRLL-UHFFFAOYSA-N\n",
      "456 []\n",
      "123\n",
      "inchikey GKYKUTCFSGIKBL-UHFFFAOYSA-N\n",
      "456 []\n",
      "123\n",
      "inchikey IQLGLWLGLRAGOH-UHFFFAOYSA-N\n",
      "456 []\n",
      "123\n",
      "inchikey MNUMCKSXNNPXNB-UHFFFAOYSA-N\n",
      "456 []\n",
      "123\n",
      "inchikey YGPIABUCJDIWSK-UHFFFAOYSA-N\n",
      "456 []\n",
      "123\n",
      "inchikey OUFOHOUOMZHTBQ-UHFFFAOYSA-N\n",
      "456 [{'smiles': 'O=S(=O)(O)C(F)(F)C(F)(F)C(F)(F)C(F)(F)C(O)(F)C(F)(F)C(F)(F)C(F)(F)F', 'toolkit': 'DS4SD', 'function': 'Patents_For_Molecule', 'parameters': '', 'results': []}, {'smiles': 'O=S(=O)(O)C(F)(F)C(F)(F)C(F)(F)C(F)(F)C(O)(F)C(F)(F)C(F)(F)C(F)(F)F', 'toolkit': 'DS4SD', 'function': 'Patents_For_Molecule', 'parameters': '', 'results': []}, {'smiles': 'O=S(=O)(O)C(F)(F)C(F)(F)C(F)(F)C(F)(F)C(O)(F)C(F)(F)C(F)(F)C(F)(F)F', 'toolkit': 'DS4SD', 'function': 'Patents_For_Molecule', 'parameters': '', 'results': []}, {'smiles': 'O=S(=O)(O)C(F)(F)C(F)(F)C(F)(F)C(F)(F)C(O)(F)C(F)(F)C(F)(F)C(F)(F)F', 'toolkit': 'DS4SD', 'function': 'Patents_For_Molecule', 'parameters': '', 'results': []}, {'smiles': 'O=S(=O)(O)C(F)(F)C(F)(F)C(F)(F)C(F)(F)C(O)(F)C(F)(F)C(F)(F)C(F)(F)F', 'toolkit': 'DS4SD', 'function': 'Patents_For_Molecule', 'parameters': '', 'results': []}, {'smiles': 'O=S(=O)(O)C(F)(F)C(F)(F)C(F)(F)C(F)(F)C(O)(F)C(F)(F)C(F)(F)C(F)(F)F', 'toolkit': 'DS4SD', 'function': 'Patents_For_Molecule', 'parameters': '', 'results': []}, {'toolkit': 'DS4SD', 'function': 'Patents_For_Molecule', 'smiles': 'O=S(=O)(O)C(F)(F)C(F)(F)C(F)(F)C(F)(F)C(O)(F)C(F)(F)C(F)(F)C(F)(F)F', 'parameters': '', 'results': []}, {'smiles': 'O=S(=O)(O)C(F)(F)C(F)(F)C(F)(F)C(F)(F)C(O)(F)C(F)(F)C(F)(F)C(F)(F)F', 'toolkit': 'DS4SD', 'function': 'Patents_For_Molecule', 'parameters': '', 'results': []}, {'smiles': 'O=S(=O)(O)C(F)(F)C(F)(F)C(F)(F)C(F)(F)C(O)(F)C(F)(F)C(F)(F)C(F)(F)F', 'toolkit': 'DS4SD', 'function': 'Patents_For_Molecule', 'parameters': '', 'results': []}, {'smiles': 'O=S(=O)(O)C(F)(F)C(F)(F)C(F)(F)C(F)(F)C(O)(F)C(F)(F)C(F)(F)C(F)(F)F', 'toolkit': 'DS4SD', 'function': 'Patents_For_Molecule', 'parameters': '', 'results': []}, {'smiles': 'O=S(=O)(O)C(F)(F)C(F)(F)C(F)(F)C(F)(F)C(O)(F)C(F)(F)C(F)(F)C(F)(F)F', 'toolkit': 'DS4SD', 'function': 'Patents_For_Molecule', 'parameters': '', 'results': []}, {'smiles': 'O=S(=O)(O)C(F)(F)C(F)(F)C(F)(F)C(F)(F)C(O)(F)C(F)(F)C(F)(F)C(F)(F)F', 'toolkit': 'DS4SD', 'function': 'Patents_For_Molecule', 'parameters': '', 'results': []}, {'smiles': 'O=S(=O)(O)C(F)(F)C(F)(F)C(F)(F)C(F)(F)C(O)(F)C(F)(F)C(F)(F)C(F)(F)F', 'toolkit': 'DS4SD', 'function': 'Patents_For_Molecule', 'parameters': '', 'results': []}, {'smiles': 'O=S(=O)(O)C(F)(F)C(F)(F)C(F)(F)C(F)(F)C(O)(F)C(F)(F)C(F)(F)C(F)(F)F', 'toolkit': 'DS4SD', 'function': 'Patents_For_Molecule', 'parameters': '', 'results': []}, {'smiles': 'O=S(=O)(O)C(F)(F)C(F)(F)C(F)(F)C(F)(F)C(O)(F)C(F)(F)C(F)(F)C(F)(F)F', 'toolkit': 'DS4SD', 'function': 'Patents_For_Molecule', 'parameters': '', 'results': []}, {'smiles': 'O=S(=O)(O)C(F)(F)C(F)(F)C(F)(F)C(F)(F)C(O)(F)C(F)(F)C(F)(F)C(F)(F)F', 'toolkit': 'DS4SD', 'function': 'Patents_For_Molecule', 'parameters': '', 'results': []}, {'smiles': 'O=S(=O)(O)C(F)(F)C(F)(F)C(F)(F)C(F)(F)C(O)(F)C(F)(F)C(F)(F)C(F)(F)F', 'toolkit': 'DS4SD', 'function': 'Patents_For_Molecule', 'parameters': '', 'results': []}, {'smiles': 'O=S(=O)(O)C(F)(F)C(F)(F)C(F)(F)C(F)(F)C(O)(F)C(F)(F)C(F)(F)C(F)(F)F', 'toolkit': 'DS4SD', 'function': 'Patents_For_Molecule', 'parameters': '', 'results': []}, {'smiles': 'O=S(=O)(O)C(F)(F)C(F)(F)C(F)(F)C(F)(F)C(O)(F)C(F)(F)C(F)(F)C(F)(F)F', 'toolkit': 'DS4SD', 'function': 'Patents_For_Molecule', 'parameters': '', 'results': []}, {'smiles': 'O=S(=O)(O)C(F)(F)C(F)(F)C(F)(F)C(F)(F)C(O)(F)C(F)(F)C(F)(F)C(F)(F)F', 'toolkit': 'DS4SD', 'function': 'Patents_For_Molecule', 'parameters': '', 'results': []}, {'smiles': 'O=S(=O)(O)C(F)(F)C(F)(F)C(F)(F)C(F)(F)C(O)(F)C(F)(F)C(F)(F)C(F)(F)F', 'toolkit': 'DS4SD', 'function': 'Patents_For_Molecule', 'parameters': '', 'results': []}]\n",
      "888 O=S(=O)(O)C(F)(F)C(F)(F)C(F)(F)C(F)(F)C(O)(F)C(F)(F)C(F)(F)C(F)(F)F O=S(=O)(O)C(F)(F)C(F)(F)C(F)(F)C(F)(F)C(O)(F)C(F)(F)C(F)(F)C(F)(F)F O=S(=O)(O)C(F)(F)C(F)(F)C(F)(F)C(F)(F)C(O)(F)C(F)(F)C(F)(F)C(F)(F)F\n",
      "888 O=S(=O)(O)C(F)(F)C(F)(F)C(F)(F)C(F)(F)C(O)(F)C(F)(F)C(F)(F)C(F)(F)F O=S(=O)(O)C(F)(F)C(F)(F)C(F)(F)C(F)(F)C(O)(F)C(F)(F)C(F)(F)C(F)(F)F O=S(=O)(O)C(F)(F)C(F)(F)C(F)(F)C(F)(F)C(O)(F)C(F)(F)C(F)(F)C(F)(F)F\n",
      "888 O=S(=O)(O)C(F)(F)C(F)(F)C(F)(F)C(F)(F)C(O)(F)C(F)(F)C(F)(F)C(F)(F)F O=S(=O)(O)C(F)(F)C(F)(F)C(F)(F)C(F)(F)C(O)(F)C(F)(F)C(F)(F)C(F)(F)F O=S(=O)(O)C(F)(F)C(F)(F)C(F)(F)C(F)(F)C(O)(F)C(F)(F)C(F)(F)C(F)(F)F\n",
      "888 O=S(=O)(O)C(F)(F)C(F)(F)C(F)(F)C(F)(F)C(O)(F)C(F)(F)C(F)(F)C(F)(F)F O=S(=O)(O)C(F)(F)C(F)(F)C(F)(F)C(F)(F)C(O)(F)C(F)(F)C(F)(F)C(F)(F)F O=S(=O)(O)C(F)(F)C(F)(F)C(F)(F)C(F)(F)C(O)(F)C(F)(F)C(F)(F)C(F)(F)F\n",
      "888 O=S(=O)(O)C(F)(F)C(F)(F)C(F)(F)C(F)(F)C(O)(F)C(F)(F)C(F)(F)C(F)(F)F O=S(=O)(O)C(F)(F)C(F)(F)C(F)(F)C(F)(F)C(O)(F)C(F)(F)C(F)(F)C(F)(F)F O=S(=O)(O)C(F)(F)C(F)(F)C(F)(F)C(F)(F)C(O)(F)C(F)(F)C(F)(F)C(F)(F)F\n",
      "888 O=S(=O)(O)C(F)(F)C(F)(F)C(F)(F)C(F)(F)C(O)(F)C(F)(F)C(F)(F)C(F)(F)F O=S(=O)(O)C(F)(F)C(F)(F)C(F)(F)C(F)(F)C(O)(F)C(F)(F)C(F)(F)C(F)(F)F O=S(=O)(O)C(F)(F)C(F)(F)C(F)(F)C(F)(F)C(O)(F)C(F)(F)C(F)(F)C(F)(F)F\n",
      "888 O=S(=O)(O)C(F)(F)C(F)(F)C(F)(F)C(F)(F)C(O)(F)C(F)(F)C(F)(F)C(F)(F)F O=S(=O)(O)C(F)(F)C(F)(F)C(F)(F)C(F)(F)C(O)(F)C(F)(F)C(F)(F)C(F)(F)F O=S(=O)(O)C(F)(F)C(F)(F)C(F)(F)C(F)(F)C(O)(F)C(F)(F)C(F)(F)C(F)(F)F\n",
      "888 O=S(=O)(O)C(F)(F)C(F)(F)C(F)(F)C(F)(F)C(O)(F)C(F)(F)C(F)(F)C(F)(F)F O=S(=O)(O)C(F)(F)C(F)(F)C(F)(F)C(F)(F)C(O)(F)C(F)(F)C(F)(F)C(F)(F)F O=S(=O)(O)C(F)(F)C(F)(F)C(F)(F)C(F)(F)C(O)(F)C(F)(F)C(F)(F)C(F)(F)F\n",
      "888 O=S(=O)(O)C(F)(F)C(F)(F)C(F)(F)C(F)(F)C(O)(F)C(F)(F)C(F)(F)C(F)(F)F O=S(=O)(O)C(F)(F)C(F)(F)C(F)(F)C(F)(F)C(O)(F)C(F)(F)C(F)(F)C(F)(F)F O=S(=O)(O)C(F)(F)C(F)(F)C(F)(F)C(F)(F)C(O)(F)C(F)(F)C(F)(F)C(F)(F)F\n",
      "888 O=S(=O)(O)C(F)(F)C(F)(F)C(F)(F)C(F)(F)C(O)(F)C(F)(F)C(F)(F)C(F)(F)F O=S(=O)(O)C(F)(F)C(F)(F)C(F)(F)C(F)(F)C(O)(F)C(F)(F)C(F)(F)C(F)(F)F O=S(=O)(O)C(F)(F)C(F)(F)C(F)(F)C(F)(F)C(O)(F)C(F)(F)C(F)(F)C(F)(F)F\n",
      "888 O=S(=O)(O)C(F)(F)C(F)(F)C(F)(F)C(F)(F)C(O)(F)C(F)(F)C(F)(F)C(F)(F)F O=S(=O)(O)C(F)(F)C(F)(F)C(F)(F)C(F)(F)C(O)(F)C(F)(F)C(F)(F)C(F)(F)F O=S(=O)(O)C(F)(F)C(F)(F)C(F)(F)C(F)(F)C(O)(F)C(F)(F)C(F)(F)C(F)(F)F\n",
      "888 O=S(=O)(O)C(F)(F)C(F)(F)C(F)(F)C(F)(F)C(O)(F)C(F)(F)C(F)(F)C(F)(F)F O=S(=O)(O)C(F)(F)C(F)(F)C(F)(F)C(F)(F)C(O)(F)C(F)(F)C(F)(F)C(F)(F)F O=S(=O)(O)C(F)(F)C(F)(F)C(F)(F)C(F)(F)C(O)(F)C(F)(F)C(F)(F)C(F)(F)F\n",
      "888 O=S(=O)(O)C(F)(F)C(F)(F)C(F)(F)C(F)(F)C(O)(F)C(F)(F)C(F)(F)C(F)(F)F O=S(=O)(O)C(F)(F)C(F)(F)C(F)(F)C(F)(F)C(O)(F)C(F)(F)C(F)(F)C(F)(F)F O=S(=O)(O)C(F)(F)C(F)(F)C(F)(F)C(F)(F)C(O)(F)C(F)(F)C(F)(F)C(F)(F)F\n",
      "888 O=S(=O)(O)C(F)(F)C(F)(F)C(F)(F)C(F)(F)C(O)(F)C(F)(F)C(F)(F)C(F)(F)F O=S(=O)(O)C(F)(F)C(F)(F)C(F)(F)C(F)(F)C(O)(F)C(F)(F)C(F)(F)C(F)(F)F O=S(=O)(O)C(F)(F)C(F)(F)C(F)(F)C(F)(F)C(O)(F)C(F)(F)C(F)(F)C(F)(F)F\n",
      "888 O=S(=O)(O)C(F)(F)C(F)(F)C(F)(F)C(F)(F)C(O)(F)C(F)(F)C(F)(F)C(F)(F)F O=S(=O)(O)C(F)(F)C(F)(F)C(F)(F)C(F)(F)C(O)(F)C(F)(F)C(F)(F)C(F)(F)F O=S(=O)(O)C(F)(F)C(F)(F)C(F)(F)C(F)(F)C(O)(F)C(F)(F)C(F)(F)C(F)(F)F\n",
      "888 O=S(=O)(O)C(F)(F)C(F)(F)C(F)(F)C(F)(F)C(O)(F)C(F)(F)C(F)(F)C(F)(F)F O=S(=O)(O)C(F)(F)C(F)(F)C(F)(F)C(F)(F)C(O)(F)C(F)(F)C(F)(F)C(F)(F)F O=S(=O)(O)C(F)(F)C(F)(F)C(F)(F)C(F)(F)C(O)(F)C(F)(F)C(F)(F)C(F)(F)F\n",
      "888 O=S(=O)(O)C(F)(F)C(F)(F)C(F)(F)C(F)(F)C(O)(F)C(F)(F)C(F)(F)C(F)(F)F O=S(=O)(O)C(F)(F)C(F)(F)C(F)(F)C(F)(F)C(O)(F)C(F)(F)C(F)(F)C(F)(F)F O=S(=O)(O)C(F)(F)C(F)(F)C(F)(F)C(F)(F)C(O)(F)C(F)(F)C(F)(F)C(F)(F)F\n",
      "888 O=S(=O)(O)C(F)(F)C(F)(F)C(F)(F)C(F)(F)C(O)(F)C(F)(F)C(F)(F)C(F)(F)F O=S(=O)(O)C(F)(F)C(F)(F)C(F)(F)C(F)(F)C(O)(F)C(F)(F)C(F)(F)C(F)(F)F O=S(=O)(O)C(F)(F)C(F)(F)C(F)(F)C(F)(F)C(O)(F)C(F)(F)C(F)(F)C(F)(F)F\n",
      "888 O=S(=O)(O)C(F)(F)C(F)(F)C(F)(F)C(F)(F)C(O)(F)C(F)(F)C(F)(F)C(F)(F)F O=S(=O)(O)C(F)(F)C(F)(F)C(F)(F)C(F)(F)C(O)(F)C(F)(F)C(F)(F)C(F)(F)F O=S(=O)(O)C(F)(F)C(F)(F)C(F)(F)C(F)(F)C(O)(F)C(F)(F)C(F)(F)C(F)(F)F\n",
      "888 O=S(=O)(O)C(F)(F)C(F)(F)C(F)(F)C(F)(F)C(O)(F)C(F)(F)C(F)(F)C(F)(F)F O=S(=O)(O)C(F)(F)C(F)(F)C(F)(F)C(F)(F)C(O)(F)C(F)(F)C(F)(F)C(F)(F)F O=S(=O)(O)C(F)(F)C(F)(F)C(F)(F)C(F)(F)C(O)(F)C(F)(F)C(F)(F)C(F)(F)F\n",
      "888 O=S(=O)(O)C(F)(F)C(F)(F)C(F)(F)C(F)(F)C(O)(F)C(F)(F)C(F)(F)C(F)(F)F O=S(=O)(O)C(F)(F)C(F)(F)C(F)(F)C(F)(F)C(O)(F)C(F)(F)C(F)(F)C(F)(F)F O=S(=O)(O)C(F)(F)C(F)(F)C(F)(F)C(F)(F)C(O)(F)C(F)(F)C(F)(F)C(F)(F)F\n",
      "123\n",
      "inchikey XTRMLHOAOOJDIM-UHFFFAOYSA-N\n",
      "456 []\n",
      "123\n",
      "inchikey SCGUNALTJLOOGK-UHFFFAOYSA-N\n",
      "456 []\n",
      "123\n",
      "inchikey ZGERJWLNIJSUIM-UHFFFAOYSA-N\n",
      "456 []\n",
      "123\n",
      "inchikey NFMGGOOFBXMNBH-UHFFFAOYSA-N\n",
      "456 []\n",
      "123\n",
      "inchikey ROWMYOGYAWPQAP-UHFFFAOYSA-N\n",
      "456 []\n",
      "123\n",
      "inchikey NWDMDZNWVZQRGF-UHFFFAOYSA-N\n",
      "456 []\n",
      "123\n",
      "inchikey GBIXSENEDNUASE-UHFFFAOYSA-N\n",
      "456 []\n",
      "123\n",
      "inchikey QSYUOCLYUOAPNA-UHFFFAOYSA-N\n",
      "456 []\n",
      "123\n",
      "inchikey RRMISSBVQDWPCX-UHFFFAOYSA-N\n",
      "456 []\n",
      "123\n",
      "inchikey LMDFBYGANQSNFX-UHFFFAOYSA-N\n",
      "456 []\n",
      "123\n",
      "inchikey YIUZTRATYKGDFT-UHFFFAOYSA-N\n",
      "456 []\n",
      "123\n",
      "inchikey KDBBVMHJILDSGW-UHFFFAOYSA-N\n",
      "456 []\n",
      "123\n",
      "inchikey AYXFXRBZGJRSEG-UHFFFAOYSA-N\n",
      "456 []\n",
      "123\n",
      "inchikey BIHYOWYNLRGNHF-UHFFFAOYSA-M\n",
      "456 []\n",
      "123\n",
      "inchikey IIBHWRCLRKSWJB-UHFFFAOYSA-M\n",
      "456 []\n",
      "123\n",
      "inchikey YYYONDXERNIFKX-UHFFFAOYSA-N\n",
      "456 []\n",
      "123\n",
      "inchikey ITTUNFSMLSXTDN-UHFFFAOYSA-M\n",
      "456 [{'smiles': 'O=S(=O)([O-])C(F)(F)C(F)(F)C(F)C(F)(F)C(F)(F)C(F)(F)F', 'toolkit': 'DS4SD', 'function': 'Patents_For_Molecule', 'parameters': '', 'results': []}, {'smiles': 'O=S(=O)([O-])C(F)(F)C(F)(F)C(F)C(F)(F)C(F)(F)C(F)(F)F', 'toolkit': 'DS4SD', 'function': 'Patents_For_Molecule', 'parameters': '', 'results': []}, {'smiles': 'O=S(=O)([O-])C(F)(F)C(F)(F)C(F)C(F)(F)C(F)(F)C(F)(F)F', 'toolkit': 'DS4SD', 'function': 'Patents_For_Molecule', 'parameters': '', 'results': []}, {'smiles': 'O=S(=O)([O-])C(F)(F)C(F)(F)C(F)C(F)(F)C(F)(F)C(F)(F)F', 'toolkit': 'DS4SD', 'function': 'Patents_For_Molecule', 'parameters': '', 'results': []}, {'smiles': 'O=S(=O)([O-])C(F)(F)C(F)(F)C(F)C(F)(F)C(F)(F)C(F)(F)F', 'toolkit': 'DS4SD', 'function': 'Patents_For_Molecule', 'parameters': '', 'results': []}, {'smiles': 'O=S(=O)([O-])C(F)(F)C(F)(F)C(F)C(F)(F)C(F)(F)C(F)(F)F', 'toolkit': 'DS4SD', 'function': 'Patents_For_Molecule', 'parameters': '', 'results': []}, {'smiles': 'O=S(=O)([O-])C(F)(F)C(F)(F)C(F)C(F)(F)C(F)(F)C(F)(F)F', 'toolkit': 'DS4SD', 'function': 'Patents_For_Molecule', 'parameters': '', 'results': []}, {'smiles': 'O=S(=O)([O-])C(F)(F)C(F)(F)C(F)C(F)(F)C(F)(F)C(F)(F)F', 'toolkit': 'DS4SD', 'function': 'Patents_For_Molecule', 'parameters': '', 'results': []}, {'smiles': 'O=S(=O)([O-])C(F)(F)C(F)(F)C(F)C(F)(F)C(F)(F)C(F)(F)F', 'toolkit': 'DS4SD', 'function': 'Patents_For_Molecule', 'parameters': '', 'results': []}, {'smiles': 'O=S(=O)([O-])C(F)(F)C(F)(F)C(F)C(F)(F)C(F)(F)C(F)(F)F', 'toolkit': 'DS4SD', 'function': 'Patents_For_Molecule', 'parameters': '', 'results': []}, {'smiles': 'O=S(=O)([O-])C(F)(F)C(F)(F)C(F)C(F)(F)C(F)(F)C(F)(F)F', 'toolkit': 'DS4SD', 'function': 'Patents_For_Molecule', 'parameters': '', 'results': []}]\n",
      "888 O=S(=O)([O-])C(F)(F)C(F)(F)C(F)C(F)(F)C(F)(F)C(F)(F)F O=S(=O)([O-])C(F)(F)C(F)(F)C(F)C(F)(F)C(F)(F)C(F)(F)F O=S(=O)([O-])C(F)(F)C(F)(F)C(F)C(F)(F)C(F)(F)C(F)(F)F\n",
      "888 O=S(=O)([O-])C(F)(F)C(F)(F)C(F)C(F)(F)C(F)(F)C(F)(F)F O=S(=O)([O-])C(F)(F)C(F)(F)C(F)C(F)(F)C(F)(F)C(F)(F)F O=S(=O)([O-])C(F)(F)C(F)(F)C(F)C(F)(F)C(F)(F)C(F)(F)F\n",
      "888 O=S(=O)([O-])C(F)(F)C(F)(F)C(F)C(F)(F)C(F)(F)C(F)(F)F O=S(=O)([O-])C(F)(F)C(F)(F)C(F)C(F)(F)C(F)(F)C(F)(F)F O=S(=O)([O-])C(F)(F)C(F)(F)C(F)C(F)(F)C(F)(F)C(F)(F)F\n",
      "888 O=S(=O)([O-])C(F)(F)C(F)(F)C(F)C(F)(F)C(F)(F)C(F)(F)F O=S(=O)([O-])C(F)(F)C(F)(F)C(F)C(F)(F)C(F)(F)C(F)(F)F O=S(=O)([O-])C(F)(F)C(F)(F)C(F)C(F)(F)C(F)(F)C(F)(F)F\n",
      "888 O=S(=O)([O-])C(F)(F)C(F)(F)C(F)C(F)(F)C(F)(F)C(F)(F)F O=S(=O)([O-])C(F)(F)C(F)(F)C(F)C(F)(F)C(F)(F)C(F)(F)F O=S(=O)([O-])C(F)(F)C(F)(F)C(F)C(F)(F)C(F)(F)C(F)(F)F\n",
      "888 O=S(=O)([O-])C(F)(F)C(F)(F)C(F)C(F)(F)C(F)(F)C(F)(F)F O=S(=O)([O-])C(F)(F)C(F)(F)C(F)C(F)(F)C(F)(F)C(F)(F)F O=S(=O)([O-])C(F)(F)C(F)(F)C(F)C(F)(F)C(F)(F)C(F)(F)F\n",
      "888 O=S(=O)([O-])C(F)(F)C(F)(F)C(F)C(F)(F)C(F)(F)C(F)(F)F O=S(=O)([O-])C(F)(F)C(F)(F)C(F)C(F)(F)C(F)(F)C(F)(F)F O=S(=O)([O-])C(F)(F)C(F)(F)C(F)C(F)(F)C(F)(F)C(F)(F)F\n",
      "888 O=S(=O)([O-])C(F)(F)C(F)(F)C(F)C(F)(F)C(F)(F)C(F)(F)F O=S(=O)([O-])C(F)(F)C(F)(F)C(F)C(F)(F)C(F)(F)C(F)(F)F O=S(=O)([O-])C(F)(F)C(F)(F)C(F)C(F)(F)C(F)(F)C(F)(F)F\n",
      "888 O=S(=O)([O-])C(F)(F)C(F)(F)C(F)C(F)(F)C(F)(F)C(F)(F)F O=S(=O)([O-])C(F)(F)C(F)(F)C(F)C(F)(F)C(F)(F)C(F)(F)F O=S(=O)([O-])C(F)(F)C(F)(F)C(F)C(F)(F)C(F)(F)C(F)(F)F\n",
      "888 O=S(=O)([O-])C(F)(F)C(F)(F)C(F)C(F)(F)C(F)(F)C(F)(F)F O=S(=O)([O-])C(F)(F)C(F)(F)C(F)C(F)(F)C(F)(F)C(F)(F)F O=S(=O)([O-])C(F)(F)C(F)(F)C(F)C(F)(F)C(F)(F)C(F)(F)F\n",
      "888 O=S(=O)([O-])C(F)(F)C(F)(F)C(F)C(F)(F)C(F)(F)C(F)(F)F O=S(=O)([O-])C(F)(F)C(F)(F)C(F)C(F)(F)C(F)(F)C(F)(F)F O=S(=O)([O-])C(F)(F)C(F)(F)C(F)C(F)(F)C(F)(F)C(F)(F)F\n",
      "123\n",
      "inchikey ACEKLXZRZOWKRY-UHFFFAOYSA-M\n",
      "456 [{'smiles': 'O=S(=O)([O-])C(F)(F)C(F)(F)C(F)(F)C(F)(F)C(F)(F)F', 'toolkit': 'DS4SD', 'function': 'Patents_For_Molecule', 'parameters': '', 'results': [{'PATENT ID': 'US20210379574'}]}, {'smiles': 'O=S(=O)([O-])C(F)(F)C(F)(F)C(F)(F)C(F)(F)C(F)(F)F', 'toolkit': 'DS4SD', 'function': 'Patents_For_Molecule', 'parameters': '', 'results': [{'PATENT ID': 'US20210379574'}]}, {'smiles': 'O=S(=O)([O-])C(F)(F)C(F)(F)C(F)(F)C(F)(F)C(F)(F)F', 'toolkit': 'RXN', 'function': 'Predict_Retrosynthesis', 'parameters': {}, 'results': {'0': {'confidence': 0.817, 'reactions': ['C[S+](c1ccccc1)c1ccccc1 + O=S(=O)(O[Na])C(F)(F)C(F)(F)C(F)(F)C(F)(F)C(F)(F)F + [Br-] --->> O=S(=O)([O-])C(F)(F)C(F)(F)C(F)(F)C(F)(F)C(F)(F)F', 'C[S+](c1ccccc1)c1ccccc1 --->> C[S+](c1ccccc1)c1ccccc1', 'O=S(=O)(F)C(F)(F)C(F)(F)C(F)(F)C(F)(F)C(F)(F)F + O[Na] --->> O=S(=O)(O[Na])C(F)(F)C(F)(F)C(F)(F)C(F)(F)C(F)(F)F']}}}, {'smiles': 'O=S(=O)([O-])C(F)(F)C(F)(F)C(F)(F)C(F)(F)C(F)(F)F', 'toolkit': 'DS4SD', 'function': 'Patents_For_Molecule', 'parameters': '', 'results': [{'PATENT ID': 'US20210379574'}]}, {'smiles': 'O=S(=O)([O-])C(F)(F)C(F)(F)C(F)(F)C(F)(F)C(F)(F)F', 'toolkit': 'DS4SD', 'function': 'Patents_For_Molecule', 'parameters': '', 'results': [{'PATENT ID': 'US20210379574'}]}, {'smiles': 'O=S(=O)([O-])C(F)(F)C(F)(F)C(F)(F)C(F)(F)C(F)(F)F', 'toolkit': 'DS4SD', 'function': 'Patents_For_Molecule', 'parameters': '', 'results': [{'PATENT ID': 'US20210379574'}]}, {'smiles': 'O=S(=O)([O-])C(F)(F)C(F)(F)C(F)(F)C(F)(F)C(F)(F)F', 'toolkit': 'DS4SD', 'function': 'Patents_For_Molecule', 'parameters': '', 'results': [{'PATENT ID': 'US20210379574'}]}, {'smiles': 'O=S(=O)([O-])C(F)(F)C(F)(F)C(F)(F)C(F)(F)C(F)(F)F', 'toolkit': 'DS4SD', 'function': 'Patents_For_Molecule', 'parameters': '', 'results': [{'PATENT ID': 'US20210379574'}]}]\n",
      "888 O=S(=O)([O-])C(F)(F)C(F)(F)C(F)(F)C(F)(F)C(F)(F)F O=S(=O)([O-])C(F)(F)C(F)(F)C(F)(F)C(F)(F)C(F)(F)F O=S(=O)([O-])C(F)(F)C(F)(F)C(F)(F)C(F)(F)C(F)(F)F\n",
      "888 O=S(=O)([O-])C(F)(F)C(F)(F)C(F)(F)C(F)(F)C(F)(F)F O=S(=O)([O-])C(F)(F)C(F)(F)C(F)(F)C(F)(F)C(F)(F)F O=S(=O)([O-])C(F)(F)C(F)(F)C(F)(F)C(F)(F)C(F)(F)F\n",
      "888 O=S(=O)([O-])C(F)(F)C(F)(F)C(F)(F)C(F)(F)C(F)(F)F O=S(=O)([O-])C(F)(F)C(F)(F)C(F)(F)C(F)(F)C(F)(F)F O=S(=O)([O-])C(F)(F)C(F)(F)C(F)(F)C(F)(F)C(F)(F)F\n",
      "888 O=S(=O)([O-])C(F)(F)C(F)(F)C(F)(F)C(F)(F)C(F)(F)F O=S(=O)([O-])C(F)(F)C(F)(F)C(F)(F)C(F)(F)C(F)(F)F O=S(=O)([O-])C(F)(F)C(F)(F)C(F)(F)C(F)(F)C(F)(F)F\n",
      "888 O=S(=O)([O-])C(F)(F)C(F)(F)C(F)(F)C(F)(F)C(F)(F)F O=S(=O)([O-])C(F)(F)C(F)(F)C(F)(F)C(F)(F)C(F)(F)F O=S(=O)([O-])C(F)(F)C(F)(F)C(F)(F)C(F)(F)C(F)(F)F\n",
      "888 O=S(=O)([O-])C(F)(F)C(F)(F)C(F)(F)C(F)(F)C(F)(F)F O=S(=O)([O-])C(F)(F)C(F)(F)C(F)(F)C(F)(F)C(F)(F)F O=S(=O)([O-])C(F)(F)C(F)(F)C(F)(F)C(F)(F)C(F)(F)F\n",
      "888 O=S(=O)([O-])C(F)(F)C(F)(F)C(F)(F)C(F)(F)C(F)(F)F O=S(=O)([O-])C(F)(F)C(F)(F)C(F)(F)C(F)(F)C(F)(F)F O=S(=O)([O-])C(F)(F)C(F)(F)C(F)(F)C(F)(F)C(F)(F)F\n",
      "888 O=S(=O)([O-])C(F)(F)C(F)(F)C(F)(F)C(F)(F)C(F)(F)F O=S(=O)([O-])C(F)(F)C(F)(F)C(F)(F)C(F)(F)C(F)(F)F O=S(=O)([O-])C(F)(F)C(F)(F)C(F)(F)C(F)(F)C(F)(F)F\n",
      "123\n",
      "inchikey AJTYXAMMOJDYIJ-UHFFFAOYSA-M\n",
      "456 []\n",
      "123\n",
      "inchikey USSTWXDOCZGGQP-UHFFFAOYSA-M\n",
      "456 [{'smiles': 'O=[SH]([O-])(O)C(F)(F)C(F)(F)C(F)(F)C(F)(F)C(F)(F)C(F)(F)F', 'toolkit': 'DS4SD', 'function': 'Patents_For_Molecule', 'parameters': '', 'results': []}, {'smiles': 'O=[SH]([O-])(O)C(F)(F)C(F)(F)C(F)(F)C(F)(F)C(F)(F)C(F)(F)F', 'toolkit': 'DS4SD', 'function': 'Patents_For_Molecule', 'parameters': '', 'results': []}, {'smiles': 'O=[SH]([O-])(O)C(F)(F)C(F)(F)C(F)(F)C(F)(F)C(F)(F)C(F)(F)F', 'toolkit': 'DS4SD', 'function': 'Patents_For_Molecule', 'parameters': '', 'results': []}, {'smiles': 'O=[SH]([O-])(O)C(F)(F)C(F)(F)C(F)(F)C(F)(F)C(F)(F)C(F)(F)F', 'toolkit': 'DS4SD', 'function': 'Patents_For_Molecule', 'parameters': '', 'results': []}, {'toolkit': 'DS4SD', 'function': 'Patents_For_Molecule', 'smiles': 'O=[SH]([O-])(O)C(F)(F)C(F)(F)C(F)(F)C(F)(F)C(F)(F)C(F)(F)F', 'parameters': '', 'results': []}, {'smiles': 'O=[SH]([O-])(O)C(F)(F)C(F)(F)C(F)(F)C(F)(F)C(F)(F)C(F)(F)F', 'toolkit': 'DS4SD', 'function': 'Patents_For_Molecule', 'parameters': '', 'results': []}, {'smiles': 'O=[SH]([O-])(O)C(F)(F)C(F)(F)C(F)(F)C(F)(F)C(F)(F)C(F)(F)F', 'toolkit': 'DS4SD', 'function': 'Patents_For_Molecule', 'parameters': '', 'results': []}, {'smiles': 'O=[SH]([O-])(O)C(F)(F)C(F)(F)C(F)(F)C(F)(F)C(F)(F)C(F)(F)F', 'toolkit': 'DS4SD', 'function': 'Patents_For_Molecule', 'parameters': '', 'results': []}, {'smiles': 'O=[SH]([O-])(O)C(F)(F)C(F)(F)C(F)(F)C(F)(F)C(F)(F)C(F)(F)F', 'toolkit': 'DS4SD', 'function': 'Patents_For_Molecule', 'parameters': '', 'results': []}, {'smiles': 'O=[SH]([O-])(O)C(F)(F)C(F)(F)C(F)(F)C(F)(F)C(F)(F)C(F)(F)F', 'toolkit': 'DS4SD', 'function': 'Patents_For_Molecule', 'parameters': '', 'results': []}, {'smiles': 'O=[SH]([O-])(O)C(F)(F)C(F)(F)C(F)(F)C(F)(F)C(F)(F)C(F)(F)F', 'toolkit': 'DS4SD', 'function': 'Patents_For_Molecule', 'parameters': '', 'results': []}, {'smiles': 'O=[SH]([O-])(O)C(F)(F)C(F)(F)C(F)(F)C(F)(F)C(F)(F)C(F)(F)F', 'toolkit': 'DS4SD', 'function': 'Patents_For_Molecule', 'parameters': '', 'results': []}, {'smiles': 'O=[SH]([O-])(O)C(F)(F)C(F)(F)C(F)(F)C(F)(F)C(F)(F)C(F)(F)F', 'toolkit': 'DS4SD', 'function': 'Patents_For_Molecule', 'parameters': '', 'results': []}, {'smiles': 'O=[SH]([O-])(O)C(F)(F)C(F)(F)C(F)(F)C(F)(F)C(F)(F)C(F)(F)F', 'toolkit': 'DS4SD', 'function': 'Patents_For_Molecule', 'parameters': '', 'results': []}, {'smiles': 'O=[SH]([O-])(O)C(F)(F)C(F)(F)C(F)(F)C(F)(F)C(F)(F)C(F)(F)F', 'toolkit': 'DS4SD', 'function': 'Patents_For_Molecule', 'parameters': '', 'results': []}, {'smiles': 'O=[SH]([O-])(O)C(F)(F)C(F)(F)C(F)(F)C(F)(F)C(F)(F)C(F)(F)F', 'toolkit': 'DS4SD', 'function': 'Patents_For_Molecule', 'parameters': '', 'results': []}, {'smiles': 'O=[SH]([O-])(O)C(F)(F)C(F)(F)C(F)(F)C(F)(F)C(F)(F)C(F)(F)F', 'toolkit': 'DS4SD', 'function': 'Patents_For_Molecule', 'parameters': '', 'results': []}, {'smiles': 'O=[SH]([O-])(O)C(F)(F)C(F)(F)C(F)(F)C(F)(F)C(F)(F)C(F)(F)F', 'toolkit': 'DS4SD', 'function': 'Patents_For_Molecule', 'parameters': '', 'results': []}, {'smiles': 'O=[SH]([O-])(O)C(F)(F)C(F)(F)C(F)(F)C(F)(F)C(F)(F)C(F)(F)F', 'toolkit': 'DS4SD', 'function': 'Patents_For_Molecule', 'parameters': '', 'results': []}, {'smiles': 'O=[SH]([O-])(O)C(F)(F)C(F)(F)C(F)(F)C(F)(F)C(F)(F)C(F)(F)F', 'toolkit': 'DS4SD', 'function': 'Patents_For_Molecule', 'parameters': '', 'results': []}, {'smiles': 'O=[SH]([O-])(O)C(F)(F)C(F)(F)C(F)(F)C(F)(F)C(F)(F)C(F)(F)F', 'toolkit': 'DS4SD', 'function': 'Patents_For_Molecule', 'parameters': '', 'results': []}, {'smiles': 'O=[SH]([O-])(O)C(F)(F)C(F)(F)C(F)(F)C(F)(F)C(F)(F)C(F)(F)F', 'toolkit': 'DS4SD', 'function': 'Patents_For_Molecule', 'parameters': '', 'results': []}, {'smiles': 'O=[SH]([O-])(O)C(F)(F)C(F)(F)C(F)(F)C(F)(F)C(F)(F)C(F)(F)F', 'toolkit': 'DS4SD', 'function': 'Patents_For_Molecule', 'parameters': '', 'results': []}, {'smiles': 'O=[SH]([O-])(O)C(F)(F)C(F)(F)C(F)(F)C(F)(F)C(F)(F)C(F)(F)F', 'toolkit': 'DS4SD', 'function': 'Patents_For_Molecule', 'parameters': '', 'results': []}, {'smiles': 'O=[SH]([O-])(O)C(F)(F)C(F)(F)C(F)(F)C(F)(F)C(F)(F)C(F)(F)F', 'toolkit': 'DS4SD', 'function': 'Patents_For_Molecule', 'parameters': '', 'results': []}, {'smiles': 'O=[SH]([O-])(O)C(F)(F)C(F)(F)C(F)(F)C(F)(F)C(F)(F)C(F)(F)F', 'toolkit': 'DS4SD', 'function': 'Patents_For_Molecule', 'parameters': '', 'results': []}, {'smiles': 'O=[SH]([O-])(O)C(F)(F)C(F)(F)C(F)(F)C(F)(F)C(F)(F)C(F)(F)F', 'toolkit': 'DS4SD', 'function': 'Patents_For_Molecule', 'parameters': '', 'results': []}, {'smiles': 'O=[SH]([O-])(O)C(F)(F)C(F)(F)C(F)(F)C(F)(F)C(F)(F)C(F)(F)F', 'toolkit': 'DS4SD', 'function': 'Patents_For_Molecule', 'parameters': '', 'results': []}, {'smiles': 'O=[SH]([O-])(O)C(F)(F)C(F)(F)C(F)(F)C(F)(F)C(F)(F)C(F)(F)F', 'toolkit': 'DS4SD', 'function': 'Patents_For_Molecule', 'parameters': '', 'results': []}, {'smiles': 'O=[SH]([O-])(O)C(F)(F)C(F)(F)C(F)(F)C(F)(F)C(F)(F)C(F)(F)F', 'toolkit': 'DS4SD', 'function': 'Patents_For_Molecule', 'parameters': '', 'results': []}, {'smiles': 'O=[SH]([O-])(O)C(F)(F)C(F)(F)C(F)(F)C(F)(F)C(F)(F)C(F)(F)F', 'toolkit': 'DS4SD', 'function': 'Patents_For_Molecule', 'parameters': '', 'results': []}, {'smiles': 'O=[SH]([O-])(O)C(F)(F)C(F)(F)C(F)(F)C(F)(F)C(F)(F)C(F)(F)F', 'toolkit': 'DS4SD', 'function': 'Patents_For_Molecule', 'parameters': '', 'results': []}, {'smiles': 'O=[SH]([O-])(O)C(F)(F)C(F)(F)C(F)(F)C(F)(F)C(F)(F)C(F)(F)F', 'toolkit': 'DS4SD', 'function': 'Patents_For_Molecule', 'parameters': '', 'results': []}, {'smiles': 'O=[SH]([O-])(O)C(F)(F)C(F)(F)C(F)(F)C(F)(F)C(F)(F)C(F)(F)F', 'toolkit': 'DS4SD', 'function': 'Patents_For_Molecule', 'parameters': '', 'results': []}, {'smiles': 'O=[SH]([O-])(O)C(F)(F)C(F)(F)C(F)(F)C(F)(F)C(F)(F)C(F)(F)F', 'toolkit': 'DS4SD', 'function': 'Patents_For_Molecule', 'parameters': '', 'results': []}, {'smiles': 'O=[SH]([O-])(O)C(F)(F)C(F)(F)C(F)(F)C(F)(F)C(F)(F)C(F)(F)F', 'toolkit': 'DS4SD', 'function': 'Patents_For_Molecule', 'parameters': '', 'results': []}, {'smiles': 'O=[SH]([O-])(O)C(F)(F)C(F)(F)C(F)(F)C(F)(F)C(F)(F)C(F)(F)F', 'toolkit': 'DS4SD', 'function': 'Patents_For_Molecule', 'parameters': '', 'results': []}, {'smiles': 'O=[SH]([O-])(O)C(F)(F)C(F)(F)C(F)(F)C(F)(F)C(F)(F)C(F)(F)F', 'toolkit': 'DS4SD', 'function': 'Patents_For_Molecule', 'parameters': '', 'results': []}, {'smiles': 'O=[SH]([O-])(O)C(F)(F)C(F)(F)C(F)(F)C(F)(F)C(F)(F)C(F)(F)F', 'toolkit': 'DS4SD', 'function': 'Patents_For_Molecule', 'parameters': '', 'results': []}, {'smiles': 'O=[SH]([O-])(O)C(F)(F)C(F)(F)C(F)(F)C(F)(F)C(F)(F)C(F)(F)F', 'toolkit': 'DS4SD', 'function': 'Patents_For_Molecule', 'parameters': '', 'results': []}]\n",
      "888 O=[SH]([O-])(O)C(F)(F)C(F)(F)C(F)(F)C(F)(F)C(F)(F)C(F)(F)F O=[SH]([O-])(O)C(F)(F)C(F)(F)C(F)(F)C(F)(F)C(F)(F)C(F)(F)F O=[SH]([O-])(O)C(F)(F)C(F)(F)C(F)(F)C(F)(F)C(F)(F)C(F)(F)F\n",
      "888 O=[SH]([O-])(O)C(F)(F)C(F)(F)C(F)(F)C(F)(F)C(F)(F)C(F)(F)F O=[SH]([O-])(O)C(F)(F)C(F)(F)C(F)(F)C(F)(F)C(F)(F)C(F)(F)F O=[SH]([O-])(O)C(F)(F)C(F)(F)C(F)(F)C(F)(F)C(F)(F)C(F)(F)F\n",
      "888 O=[SH]([O-])(O)C(F)(F)C(F)(F)C(F)(F)C(F)(F)C(F)(F)C(F)(F)F O=[SH]([O-])(O)C(F)(F)C(F)(F)C(F)(F)C(F)(F)C(F)(F)C(F)(F)F O=[SH]([O-])(O)C(F)(F)C(F)(F)C(F)(F)C(F)(F)C(F)(F)C(F)(F)F\n",
      "888 O=[SH]([O-])(O)C(F)(F)C(F)(F)C(F)(F)C(F)(F)C(F)(F)C(F)(F)F O=[SH]([O-])(O)C(F)(F)C(F)(F)C(F)(F)C(F)(F)C(F)(F)C(F)(F)F O=[SH]([O-])(O)C(F)(F)C(F)(F)C(F)(F)C(F)(F)C(F)(F)C(F)(F)F\n",
      "888 O=[SH]([O-])(O)C(F)(F)C(F)(F)C(F)(F)C(F)(F)C(F)(F)C(F)(F)F O=[SH]([O-])(O)C(F)(F)C(F)(F)C(F)(F)C(F)(F)C(F)(F)C(F)(F)F O=[SH]([O-])(O)C(F)(F)C(F)(F)C(F)(F)C(F)(F)C(F)(F)C(F)(F)F\n",
      "888 O=[SH]([O-])(O)C(F)(F)C(F)(F)C(F)(F)C(F)(F)C(F)(F)C(F)(F)F O=[SH]([O-])(O)C(F)(F)C(F)(F)C(F)(F)C(F)(F)C(F)(F)C(F)(F)F O=[SH]([O-])(O)C(F)(F)C(F)(F)C(F)(F)C(F)(F)C(F)(F)C(F)(F)F\n",
      "888 O=[SH]([O-])(O)C(F)(F)C(F)(F)C(F)(F)C(F)(F)C(F)(F)C(F)(F)F O=[SH]([O-])(O)C(F)(F)C(F)(F)C(F)(F)C(F)(F)C(F)(F)C(F)(F)F O=[SH]([O-])(O)C(F)(F)C(F)(F)C(F)(F)C(F)(F)C(F)(F)C(F)(F)F\n",
      "888 O=[SH]([O-])(O)C(F)(F)C(F)(F)C(F)(F)C(F)(F)C(F)(F)C(F)(F)F O=[SH]([O-])(O)C(F)(F)C(F)(F)C(F)(F)C(F)(F)C(F)(F)C(F)(F)F O=[SH]([O-])(O)C(F)(F)C(F)(F)C(F)(F)C(F)(F)C(F)(F)C(F)(F)F\n",
      "888 O=[SH]([O-])(O)C(F)(F)C(F)(F)C(F)(F)C(F)(F)C(F)(F)C(F)(F)F O=[SH]([O-])(O)C(F)(F)C(F)(F)C(F)(F)C(F)(F)C(F)(F)C(F)(F)F O=[SH]([O-])(O)C(F)(F)C(F)(F)C(F)(F)C(F)(F)C(F)(F)C(F)(F)F\n",
      "888 O=[SH]([O-])(O)C(F)(F)C(F)(F)C(F)(F)C(F)(F)C(F)(F)C(F)(F)F O=[SH]([O-])(O)C(F)(F)C(F)(F)C(F)(F)C(F)(F)C(F)(F)C(F)(F)F O=[SH]([O-])(O)C(F)(F)C(F)(F)C(F)(F)C(F)(F)C(F)(F)C(F)(F)F\n",
      "888 O=[SH]([O-])(O)C(F)(F)C(F)(F)C(F)(F)C(F)(F)C(F)(F)C(F)(F)F O=[SH]([O-])(O)C(F)(F)C(F)(F)C(F)(F)C(F)(F)C(F)(F)C(F)(F)F O=[SH]([O-])(O)C(F)(F)C(F)(F)C(F)(F)C(F)(F)C(F)(F)C(F)(F)F\n",
      "888 O=[SH]([O-])(O)C(F)(F)C(F)(F)C(F)(F)C(F)(F)C(F)(F)C(F)(F)F O=[SH]([O-])(O)C(F)(F)C(F)(F)C(F)(F)C(F)(F)C(F)(F)C(F)(F)F O=[SH]([O-])(O)C(F)(F)C(F)(F)C(F)(F)C(F)(F)C(F)(F)C(F)(F)F\n",
      "888 O=[SH]([O-])(O)C(F)(F)C(F)(F)C(F)(F)C(F)(F)C(F)(F)C(F)(F)F O=[SH]([O-])(O)C(F)(F)C(F)(F)C(F)(F)C(F)(F)C(F)(F)C(F)(F)F O=[SH]([O-])(O)C(F)(F)C(F)(F)C(F)(F)C(F)(F)C(F)(F)C(F)(F)F\n",
      "888 O=[SH]([O-])(O)C(F)(F)C(F)(F)C(F)(F)C(F)(F)C(F)(F)C(F)(F)F O=[SH]([O-])(O)C(F)(F)C(F)(F)C(F)(F)C(F)(F)C(F)(F)C(F)(F)F O=[SH]([O-])(O)C(F)(F)C(F)(F)C(F)(F)C(F)(F)C(F)(F)C(F)(F)F\n",
      "888 O=[SH]([O-])(O)C(F)(F)C(F)(F)C(F)(F)C(F)(F)C(F)(F)C(F)(F)F O=[SH]([O-])(O)C(F)(F)C(F)(F)C(F)(F)C(F)(F)C(F)(F)C(F)(F)F O=[SH]([O-])(O)C(F)(F)C(F)(F)C(F)(F)C(F)(F)C(F)(F)C(F)(F)F\n",
      "888 O=[SH]([O-])(O)C(F)(F)C(F)(F)C(F)(F)C(F)(F)C(F)(F)C(F)(F)F O=[SH]([O-])(O)C(F)(F)C(F)(F)C(F)(F)C(F)(F)C(F)(F)C(F)(F)F O=[SH]([O-])(O)C(F)(F)C(F)(F)C(F)(F)C(F)(F)C(F)(F)C(F)(F)F\n",
      "888 O=[SH]([O-])(O)C(F)(F)C(F)(F)C(F)(F)C(F)(F)C(F)(F)C(F)(F)F O=[SH]([O-])(O)C(F)(F)C(F)(F)C(F)(F)C(F)(F)C(F)(F)C(F)(F)F O=[SH]([O-])(O)C(F)(F)C(F)(F)C(F)(F)C(F)(F)C(F)(F)C(F)(F)F\n",
      "888 O=[SH]([O-])(O)C(F)(F)C(F)(F)C(F)(F)C(F)(F)C(F)(F)C(F)(F)F O=[SH]([O-])(O)C(F)(F)C(F)(F)C(F)(F)C(F)(F)C(F)(F)C(F)(F)F O=[SH]([O-])(O)C(F)(F)C(F)(F)C(F)(F)C(F)(F)C(F)(F)C(F)(F)F\n",
      "888 O=[SH]([O-])(O)C(F)(F)C(F)(F)C(F)(F)C(F)(F)C(F)(F)C(F)(F)F O=[SH]([O-])(O)C(F)(F)C(F)(F)C(F)(F)C(F)(F)C(F)(F)C(F)(F)F O=[SH]([O-])(O)C(F)(F)C(F)(F)C(F)(F)C(F)(F)C(F)(F)C(F)(F)F\n",
      "888 O=[SH]([O-])(O)C(F)(F)C(F)(F)C(F)(F)C(F)(F)C(F)(F)C(F)(F)F O=[SH]([O-])(O)C(F)(F)C(F)(F)C(F)(F)C(F)(F)C(F)(F)C(F)(F)F O=[SH]([O-])(O)C(F)(F)C(F)(F)C(F)(F)C(F)(F)C(F)(F)C(F)(F)F\n",
      "888 O=[SH]([O-])(O)C(F)(F)C(F)(F)C(F)(F)C(F)(F)C(F)(F)C(F)(F)F O=[SH]([O-])(O)C(F)(F)C(F)(F)C(F)(F)C(F)(F)C(F)(F)C(F)(F)F O=[SH]([O-])(O)C(F)(F)C(F)(F)C(F)(F)C(F)(F)C(F)(F)C(F)(F)F\n",
      "888 O=[SH]([O-])(O)C(F)(F)C(F)(F)C(F)(F)C(F)(F)C(F)(F)C(F)(F)F O=[SH]([O-])(O)C(F)(F)C(F)(F)C(F)(F)C(F)(F)C(F)(F)C(F)(F)F O=[SH]([O-])(O)C(F)(F)C(F)(F)C(F)(F)C(F)(F)C(F)(F)C(F)(F)F\n",
      "888 O=[SH]([O-])(O)C(F)(F)C(F)(F)C(F)(F)C(F)(F)C(F)(F)C(F)(F)F O=[SH]([O-])(O)C(F)(F)C(F)(F)C(F)(F)C(F)(F)C(F)(F)C(F)(F)F O=[SH]([O-])(O)C(F)(F)C(F)(F)C(F)(F)C(F)(F)C(F)(F)C(F)(F)F\n",
      "888 O=[SH]([O-])(O)C(F)(F)C(F)(F)C(F)(F)C(F)(F)C(F)(F)C(F)(F)F O=[SH]([O-])(O)C(F)(F)C(F)(F)C(F)(F)C(F)(F)C(F)(F)C(F)(F)F O=[SH]([O-])(O)C(F)(F)C(F)(F)C(F)(F)C(F)(F)C(F)(F)C(F)(F)F\n",
      "888 O=[SH]([O-])(O)C(F)(F)C(F)(F)C(F)(F)C(F)(F)C(F)(F)C(F)(F)F O=[SH]([O-])(O)C(F)(F)C(F)(F)C(F)(F)C(F)(F)C(F)(F)C(F)(F)F O=[SH]([O-])(O)C(F)(F)C(F)(F)C(F)(F)C(F)(F)C(F)(F)C(F)(F)F\n",
      "888 O=[SH]([O-])(O)C(F)(F)C(F)(F)C(F)(F)C(F)(F)C(F)(F)C(F)(F)F O=[SH]([O-])(O)C(F)(F)C(F)(F)C(F)(F)C(F)(F)C(F)(F)C(F)(F)F O=[SH]([O-])(O)C(F)(F)C(F)(F)C(F)(F)C(F)(F)C(F)(F)C(F)(F)F\n",
      "888 O=[SH]([O-])(O)C(F)(F)C(F)(F)C(F)(F)C(F)(F)C(F)(F)C(F)(F)F O=[SH]([O-])(O)C(F)(F)C(F)(F)C(F)(F)C(F)(F)C(F)(F)C(F)(F)F O=[SH]([O-])(O)C(F)(F)C(F)(F)C(F)(F)C(F)(F)C(F)(F)C(F)(F)F\n",
      "888 O=[SH]([O-])(O)C(F)(F)C(F)(F)C(F)(F)C(F)(F)C(F)(F)C(F)(F)F O=[SH]([O-])(O)C(F)(F)C(F)(F)C(F)(F)C(F)(F)C(F)(F)C(F)(F)F O=[SH]([O-])(O)C(F)(F)C(F)(F)C(F)(F)C(F)(F)C(F)(F)C(F)(F)F\n",
      "888 O=[SH]([O-])(O)C(F)(F)C(F)(F)C(F)(F)C(F)(F)C(F)(F)C(F)(F)F O=[SH]([O-])(O)C(F)(F)C(F)(F)C(F)(F)C(F)(F)C(F)(F)C(F)(F)F O=[SH]([O-])(O)C(F)(F)C(F)(F)C(F)(F)C(F)(F)C(F)(F)C(F)(F)F\n",
      "888 O=[SH]([O-])(O)C(F)(F)C(F)(F)C(F)(F)C(F)(F)C(F)(F)C(F)(F)F O=[SH]([O-])(O)C(F)(F)C(F)(F)C(F)(F)C(F)(F)C(F)(F)C(F)(F)F O=[SH]([O-])(O)C(F)(F)C(F)(F)C(F)(F)C(F)(F)C(F)(F)C(F)(F)F\n",
      "888 O=[SH]([O-])(O)C(F)(F)C(F)(F)C(F)(F)C(F)(F)C(F)(F)C(F)(F)F O=[SH]([O-])(O)C(F)(F)C(F)(F)C(F)(F)C(F)(F)C(F)(F)C(F)(F)F O=[SH]([O-])(O)C(F)(F)C(F)(F)C(F)(F)C(F)(F)C(F)(F)C(F)(F)F\n",
      "888 O=[SH]([O-])(O)C(F)(F)C(F)(F)C(F)(F)C(F)(F)C(F)(F)C(F)(F)F O=[SH]([O-])(O)C(F)(F)C(F)(F)C(F)(F)C(F)(F)C(F)(F)C(F)(F)F O=[SH]([O-])(O)C(F)(F)C(F)(F)C(F)(F)C(F)(F)C(F)(F)C(F)(F)F\n",
      "888 O=[SH]([O-])(O)C(F)(F)C(F)(F)C(F)(F)C(F)(F)C(F)(F)C(F)(F)F O=[SH]([O-])(O)C(F)(F)C(F)(F)C(F)(F)C(F)(F)C(F)(F)C(F)(F)F O=[SH]([O-])(O)C(F)(F)C(F)(F)C(F)(F)C(F)(F)C(F)(F)C(F)(F)F\n",
      "888 O=[SH]([O-])(O)C(F)(F)C(F)(F)C(F)(F)C(F)(F)C(F)(F)C(F)(F)F O=[SH]([O-])(O)C(F)(F)C(F)(F)C(F)(F)C(F)(F)C(F)(F)C(F)(F)F O=[SH]([O-])(O)C(F)(F)C(F)(F)C(F)(F)C(F)(F)C(F)(F)C(F)(F)F\n",
      "888 O=[SH]([O-])(O)C(F)(F)C(F)(F)C(F)(F)C(F)(F)C(F)(F)C(F)(F)F O=[SH]([O-])(O)C(F)(F)C(F)(F)C(F)(F)C(F)(F)C(F)(F)C(F)(F)F O=[SH]([O-])(O)C(F)(F)C(F)(F)C(F)(F)C(F)(F)C(F)(F)C(F)(F)F\n",
      "888 O=[SH]([O-])(O)C(F)(F)C(F)(F)C(F)(F)C(F)(F)C(F)(F)C(F)(F)F O=[SH]([O-])(O)C(F)(F)C(F)(F)C(F)(F)C(F)(F)C(F)(F)C(F)(F)F O=[SH]([O-])(O)C(F)(F)C(F)(F)C(F)(F)C(F)(F)C(F)(F)C(F)(F)F\n",
      "888 O=[SH]([O-])(O)C(F)(F)C(F)(F)C(F)(F)C(F)(F)C(F)(F)C(F)(F)F O=[SH]([O-])(O)C(F)(F)C(F)(F)C(F)(F)C(F)(F)C(F)(F)C(F)(F)F O=[SH]([O-])(O)C(F)(F)C(F)(F)C(F)(F)C(F)(F)C(F)(F)C(F)(F)F\n",
      "888 O=[SH]([O-])(O)C(F)(F)C(F)(F)C(F)(F)C(F)(F)C(F)(F)C(F)(F)F O=[SH]([O-])(O)C(F)(F)C(F)(F)C(F)(F)C(F)(F)C(F)(F)C(F)(F)F O=[SH]([O-])(O)C(F)(F)C(F)(F)C(F)(F)C(F)(F)C(F)(F)C(F)(F)F\n",
      "888 O=[SH]([O-])(O)C(F)(F)C(F)(F)C(F)(F)C(F)(F)C(F)(F)C(F)(F)F O=[SH]([O-])(O)C(F)(F)C(F)(F)C(F)(F)C(F)(F)C(F)(F)C(F)(F)F O=[SH]([O-])(O)C(F)(F)C(F)(F)C(F)(F)C(F)(F)C(F)(F)C(F)(F)F\n",
      "888 O=[SH]([O-])(O)C(F)(F)C(F)(F)C(F)(F)C(F)(F)C(F)(F)C(F)(F)F O=[SH]([O-])(O)C(F)(F)C(F)(F)C(F)(F)C(F)(F)C(F)(F)C(F)(F)F O=[SH]([O-])(O)C(F)(F)C(F)(F)C(F)(F)C(F)(F)C(F)(F)C(F)(F)F\n",
      "123\n",
      "inchikey KLDIYZSPWFLQDT-UHFFFAOYSA-N\n",
      "456 []\n",
      "123\n",
      "inchikey MUTDNOOCIQTXEY-UHFFFAOYSA-N\n",
      "456 []\n"
     ]
    },
    {
     "data": {
      "text/markdown": [
       "<span style=\"color: #d00\">No matching analysis results found for any of the molecules in your working set</span> <br> \n"
      ],
      "text/plain": [
       "<IPython.core.display.Markdown object>"
      ]
     },
     "execution_count": 16,
     "metadata": {},
     "output_type": "execute_result"
    }
   ],
   "source": [
    "#generate the new properties for all of the new molecules\n",
    "properties_all = ['molecular_weight', 'number_of_aromatic_rings', 'number_of_h_acceptors', 'number_of_atoms','number_of_rings', 'number_of_rotatable_bonds', 'number_of_large_rings', 'number_of_heterocycles', 'number_of_stereocenters','is_scaffold', 'bertz', 'tpsa', 'logp', 'qed', 'plogp', 'penalized_logp', 'lipinski', 'sas', 'esol']\n",
    "new_props = %openadd prop get molecule property {properties_all} for {non_patented_molecules} \n",
    "\n",
    "%openad merge molecules data from dataframe new_props"
   ]
  },
  {
   "cell_type": "code",
   "execution_count": 15,
   "id": "a9d679d3-d214-4c89-97c8-4658c0376064",
   "metadata": {
    "execution": {
     "iopub.execute_input": "2024-10-04T03:49:28.835173Z",
     "iopub.status.busy": "2024-10-04T03:49:28.834811Z",
     "iopub.status.idle": "2024-10-04T03:49:28.924058Z",
     "shell.execute_reply": "2024-10-04T03:49:28.923436Z",
     "shell.execute_reply.started": "2024-10-04T03:49:28.835151Z"
    },
    "slideshow": {
     "slide_type": "slide"
    },
    "tags": []
   },
   "outputs": [
    {
     "data": {
      "text/html": [
       "\n",
       "            <style>\n",
       "                #btn-wrap-1728013769 { height:12px; right:20px; display:flex; flex-direction:row-reverse; position:relative }\n",
       "                #btn-wrap-1728013769 a { color:#393939; width:24px; height:24px; padding:4px; box-sizing:border-box; background:white }\n",
       "                #btn-wrap-1728013769 a:hover { color: #0f62fe }\n",
       "            </style>\n",
       "            <div id=\"btn-wrap-1728013769\"><a target=\"_blank\" href=\"http://127.0.0.1:8026/my-mols\"><svg width=\"16\" height=\"16\" viewBox=\"0 0 16 16\" fill=\"none\" xmlns=\"http://www.w3.org/2000/svg\"><path d=\"M13 14H3C2.73489 13.9996 2.48075 13.8942 2.29329 13.7067C2.10583 13.5193 2.00036 13.2651 2 13V3C2.00036 2.73489 2.10583 2.48075 2.29329 2.29329C2.48075 2.10583 2.73489 2.00036 3 2H8V3H3V13H13V8H14V13C13.9996 13.2651 13.8942 13.5193 13.7067 13.7067C13.5193 13.8942 13.2651 13.9996 13 14Z\" fill=\"currentColor\"/><path d=\"M10 1V2H13.293L9 6.293L9.707 7L14 2.707V6H15V1H10Z\" fill=\"currentColor\"/></svg></a><a href=\"#\" onclick=\"event.preventDefault(); document.querySelector('#btn-wrap-1728013769 + iframe').src=document.querySelector('#btn-wrap-1728013769 + iframe').src;\"><svg width=\"16\" height=\"16\" viewBox=\"0 0 16 16\" fill=\"none\" xmlns=\"http://www.w3.org/2000/svg\"><path d=\"M9 14C10.1867 14 11.3467 13.6481 12.3334 12.9888C13.3201 12.3295 14.0892 11.3925 14.5433 10.2961C14.9974 9.19975 15.1162 7.99335 14.8847 6.82946C14.6532 5.66558 14.0818 4.59648 13.2426 3.75736C12.4035 2.91825 11.3344 2.3468 10.1705 2.11529C9.00666 1.88378 7.80026 2.0026 6.7039 2.45673C5.60754 2.91085 4.67047 3.67989 4.01118 4.66658C3.35189 5.65328 3 6.81331 3 8V11.1L1.2 9.3L0.5 10L3.5 13L6.5 10L5.8 9.3L4 11.1V8C4 7.0111 4.29324 6.0444 4.84265 5.22215C5.39206 4.39991 6.17295 3.75904 7.08658 3.38061C8.00021 3.00217 9.00555 2.90315 9.97545 3.09608C10.9454 3.289 11.8363 3.76521 12.5355 4.46447C13.2348 5.16373 13.711 6.05465 13.9039 7.02455C14.0969 7.99446 13.9978 8.99979 13.6194 9.91342C13.241 10.8271 12.6001 11.6079 11.7779 12.1574C10.9556 12.7068 9.98891 13 9 13V14Z\" fill=\"currentColor\"/></svg></a></div><iframe src=\"http://127.0.0.1:8026/headless/my-mols\" crossorigin=\"anonymous\" width=\"100%\" height=\"700\" style=\"border:solid 1px #ddd;box-sizing:border-box;width:calc(100% + 20px)\"></iframe>"
      ],
      "text/plain": [
       "<IPython.core.display.HTML object>"
      ]
     },
     "metadata": {},
     "output_type": "display_data"
    }
   ],
   "source": [
    "%openad show molecules"
   ]
  },
  {
   "cell_type": "code",
   "execution_count": 19,
   "id": "ba7bbffa-f87b-48d2-898d-adc7d445a43d",
   "metadata": {
    "execution": {
     "iopub.execute_input": "2024-10-04T03:51:01.605648Z",
     "iopub.status.busy": "2024-10-04T03:51:01.605364Z",
     "iopub.status.idle": "2024-10-04T03:51:01.817995Z",
     "shell.execute_reply": "2024-10-04T03:51:01.817202Z",
     "shell.execute_reply.started": "2024-10-04T03:51:01.605622Z"
    },
    "tags": []
   },
   "outputs": [
    {
     "data": {
      "text/markdown": [
       "<span style=\"color: #090\">Data merged into your working set</span> <br> \n"
      ],
      "text/plain": [
       "<IPython.core.display.Markdown object>"
      ]
     },
     "metadata": {},
     "output_type": "display_data"
    }
   ],
   "source": [
    "%openad merge molecules data from dataframe mol_properties"
   ]
  },
  {
   "cell_type": "code",
   "execution_count": 20,
   "id": "b2a71946-69dc-464e-b28b-d41a85bb2d85",
   "metadata": {
    "execution": {
     "iopub.execute_input": "2024-10-04T03:51:02.268648Z",
     "iopub.status.busy": "2024-10-04T03:51:02.268391Z",
     "iopub.status.idle": "2024-10-04T03:51:02.404175Z",
     "shell.execute_reply": "2024-10-04T03:51:02.403466Z",
     "shell.execute_reply.started": "2024-10-04T03:51:02.268626Z"
    },
    "tags": []
   },
   "outputs": [
    {
     "data": {
      "text/markdown": [
       "<span style=\"color: #d00\">Unknown error</span> <br> \n",
       "<span style=\"color: #ccc\">'moles_file'</span> <br> \n"
      ],
      "text/plain": [
       "<IPython.core.display.Markdown object>"
      ]
     },
     "metadata": {},
     "output_type": "display_data"
    }
   ],
   "source": [
    " %openad merge molecules data using dataframe mol_properties"
   ]
  },
  {
   "cell_type": "code",
   "execution_count": 21,
   "id": "a6aa40a6-0cd0-4083-9383-ac27c1cc4e66",
   "metadata": {
    "execution": {
     "iopub.execute_input": "2024-10-04T03:51:03.003826Z",
     "iopub.status.busy": "2024-10-04T03:51:03.003403Z",
     "iopub.status.idle": "2024-10-04T03:51:05.550399Z",
     "shell.execute_reply": "2024-10-04T03:51:05.549408Z",
     "shell.execute_reply.started": "2024-10-04T03:51:03.003799Z"
    },
    "tags": []
   },
   "outputs": [
    {
     "name": "stdout",
     "output_type": "stream",
     "text": [
      "123\n",
      "inchikey KZKPKAABRWACCI-UHFFFAOYSA-N\n",
      "456 []\n",
      "123\n",
      "inchikey KDHCOXZBPRGLOA-UHFFFAOYSA-N\n",
      "456 []\n",
      "123\n",
      "inchikey HCXJBGWEPDJJPC-UHFFFAOYSA-N\n",
      "456 []\n",
      "123\n",
      "inchikey VUKMHYBNQYXQIW-UHFFFAOYSA-N\n",
      "456 []\n",
      "123\n",
      "inchikey CBMLYNPBDPRLDQ-UHFFFAOYSA-N\n",
      "456 [{'smiles': 'O=C(O)C(F)(F)C(F)(F)C(F)(F)C(F)(F)C(F)(F)C(F)(F)C(O)(F)C(F)(F)F', 'toolkit': 'DS4SD', 'function': 'Patents_For_Molecule', 'parameters': '', 'results': []}, {'smiles': 'O=C(O)C(F)(F)C(F)(F)C(F)(F)C(F)(F)C(F)(F)C(F)(F)C(O)(F)C(F)(F)F', 'toolkit': 'DS4SD', 'function': 'Patents_For_Molecule', 'parameters': '', 'results': []}, {'smiles': 'O=C(O)C(F)(F)C(F)(F)C(F)(F)C(F)(F)C(F)(F)C(F)(F)C(O)(F)C(F)(F)F', 'toolkit': 'DS4SD', 'function': 'Patents_For_Molecule', 'parameters': '', 'results': []}, {'smiles': 'O=C(O)C(F)(F)C(F)(F)C(F)(F)C(F)(F)C(F)(F)C(F)(F)C(O)(F)C(F)(F)F', 'toolkit': 'DS4SD', 'function': 'Patents_For_Molecule', 'parameters': '', 'results': []}, {'smiles': 'O=C(O)C(F)(F)C(F)(F)C(F)(F)C(F)(F)C(F)(F)C(F)(F)C(O)(F)C(F)(F)F', 'toolkit': 'DS4SD', 'function': 'Patents_For_Molecule', 'parameters': '', 'results': []}, {'smiles': 'O=C(O)C(F)(F)C(F)(F)C(F)(F)C(F)(F)C(F)(F)C(F)(F)C(O)(F)C(F)(F)F', 'toolkit': 'DS4SD', 'function': 'Patents_For_Molecule', 'parameters': '', 'results': []}, {'smiles': 'O=C(O)C(F)(F)C(F)(F)C(F)(F)C(F)(F)C(F)(F)C(F)(F)C(O)(F)C(F)(F)F', 'toolkit': 'DS4SD', 'function': 'Patents_For_Molecule', 'parameters': '', 'results': []}, {'smiles': 'O=C(O)C(F)(F)C(F)(F)C(F)(F)C(F)(F)C(F)(F)C(F)(F)C(O)(F)C(F)(F)F', 'toolkit': 'DS4SD', 'function': 'Patents_For_Molecule', 'parameters': '', 'results': []}, {'smiles': 'O=C(O)C(F)(F)C(F)(F)C(F)(F)C(F)(F)C(F)(F)C(F)(F)C(O)(F)C(F)(F)F', 'toolkit': 'DS4SD', 'function': 'Patents_For_Molecule', 'parameters': '', 'results': []}, {'smiles': 'O=C(O)C(F)(F)C(F)(F)C(F)(F)C(F)(F)C(F)(F)C(F)(F)C(O)(F)C(F)(F)F', 'toolkit': 'DS4SD', 'function': 'Patents_For_Molecule', 'parameters': '', 'results': []}, {'smiles': 'O=C(O)C(F)(F)C(F)(F)C(F)(F)C(F)(F)C(F)(F)C(F)(F)C(O)(F)C(F)(F)F', 'toolkit': 'DS4SD', 'function': 'Patents_For_Molecule', 'parameters': '', 'results': []}, {'smiles': 'O=C(O)C(F)(F)C(F)(F)C(F)(F)C(F)(F)C(F)(F)C(F)(F)C(O)(F)C(F)(F)F', 'toolkit': 'DS4SD', 'function': 'Patents_For_Molecule', 'parameters': '', 'results': []}, {'smiles': 'O=C(O)C(F)(F)C(F)(F)C(F)(F)C(F)(F)C(F)(F)C(F)(F)C(O)(F)C(F)(F)F', 'toolkit': 'DS4SD', 'function': 'Patents_For_Molecule', 'parameters': '', 'results': []}, {'smiles': 'O=C(O)C(F)(F)C(F)(F)C(F)(F)C(F)(F)C(F)(F)C(F)(F)C(O)(F)C(F)(F)F', 'toolkit': 'DS4SD', 'function': 'Patents_For_Molecule', 'parameters': '', 'results': []}, {'smiles': 'O=C(O)C(F)(F)C(F)(F)C(F)(F)C(F)(F)C(F)(F)C(F)(F)C(O)(F)C(F)(F)F', 'toolkit': 'DS4SD', 'function': 'Patents_For_Molecule', 'parameters': '', 'results': []}, {'smiles': 'O=C(O)C(F)(F)C(F)(F)C(F)(F)C(F)(F)C(F)(F)C(F)(F)C(O)(F)C(F)(F)F', 'toolkit': 'DS4SD', 'function': 'Patents_For_Molecule', 'parameters': '', 'results': []}, {'smiles': 'O=C(O)C(F)(F)C(F)(F)C(F)(F)C(F)(F)C(F)(F)C(F)(F)C(O)(F)C(F)(F)F', 'toolkit': 'DS4SD', 'function': 'Patents_For_Molecule', 'parameters': '', 'results': []}, {'smiles': 'O=C(O)C(F)(F)C(F)(F)C(F)(F)C(F)(F)C(F)(F)C(F)(F)C(O)(F)C(F)(F)F', 'toolkit': 'DS4SD', 'function': 'Patents_For_Molecule', 'parameters': '', 'results': []}, {'smiles': 'O=C(O)C(F)(F)C(F)(F)C(F)(F)C(F)(F)C(F)(F)C(F)(F)C(O)(F)C(F)(F)F', 'toolkit': 'DS4SD', 'function': 'Patents_For_Molecule', 'parameters': '', 'results': []}, {'smiles': 'O=C(O)C(F)(F)C(F)(F)C(F)(F)C(F)(F)C(F)(F)C(F)(F)C(O)(F)C(F)(F)F', 'toolkit': 'DS4SD', 'function': 'Patents_For_Molecule', 'parameters': '', 'results': []}, {'smiles': 'O=C(O)C(F)(F)C(F)(F)C(F)(F)C(F)(F)C(F)(F)C(F)(F)C(O)(F)C(F)(F)F', 'toolkit': 'DS4SD', 'function': 'Patents_For_Molecule', 'parameters': '', 'results': []}]\n",
      "888 O=C(O)C(F)(F)C(F)(F)C(F)(F)C(F)(F)C(F)(F)C(F)(F)C(O)(F)C(F)(F)F O=C(O)C(F)(F)C(F)(F)C(F)(F)C(F)(F)C(F)(F)C(F)(F)C(O)(F)C(F)(F)F O=C(O)C(F)(F)C(F)(F)C(F)(F)C(F)(F)C(F)(F)C(F)(F)C(O)(F)C(F)(F)F\n",
      "888 O=C(O)C(F)(F)C(F)(F)C(F)(F)C(F)(F)C(F)(F)C(F)(F)C(O)(F)C(F)(F)F O=C(O)C(F)(F)C(F)(F)C(F)(F)C(F)(F)C(F)(F)C(F)(F)C(O)(F)C(F)(F)F O=C(O)C(F)(F)C(F)(F)C(F)(F)C(F)(F)C(F)(F)C(F)(F)C(O)(F)C(F)(F)F\n",
      "888 O=C(O)C(F)(F)C(F)(F)C(F)(F)C(F)(F)C(F)(F)C(F)(F)C(O)(F)C(F)(F)F O=C(O)C(F)(F)C(F)(F)C(F)(F)C(F)(F)C(F)(F)C(F)(F)C(O)(F)C(F)(F)F O=C(O)C(F)(F)C(F)(F)C(F)(F)C(F)(F)C(F)(F)C(F)(F)C(O)(F)C(F)(F)F\n",
      "888 O=C(O)C(F)(F)C(F)(F)C(F)(F)C(F)(F)C(F)(F)C(F)(F)C(O)(F)C(F)(F)F O=C(O)C(F)(F)C(F)(F)C(F)(F)C(F)(F)C(F)(F)C(F)(F)C(O)(F)C(F)(F)F O=C(O)C(F)(F)C(F)(F)C(F)(F)C(F)(F)C(F)(F)C(F)(F)C(O)(F)C(F)(F)F\n",
      "888 O=C(O)C(F)(F)C(F)(F)C(F)(F)C(F)(F)C(F)(F)C(F)(F)C(O)(F)C(F)(F)F O=C(O)C(F)(F)C(F)(F)C(F)(F)C(F)(F)C(F)(F)C(F)(F)C(O)(F)C(F)(F)F O=C(O)C(F)(F)C(F)(F)C(F)(F)C(F)(F)C(F)(F)C(F)(F)C(O)(F)C(F)(F)F\n",
      "888 O=C(O)C(F)(F)C(F)(F)C(F)(F)C(F)(F)C(F)(F)C(F)(F)C(O)(F)C(F)(F)F O=C(O)C(F)(F)C(F)(F)C(F)(F)C(F)(F)C(F)(F)C(F)(F)C(O)(F)C(F)(F)F O=C(O)C(F)(F)C(F)(F)C(F)(F)C(F)(F)C(F)(F)C(F)(F)C(O)(F)C(F)(F)F\n",
      "888 O=C(O)C(F)(F)C(F)(F)C(F)(F)C(F)(F)C(F)(F)C(F)(F)C(O)(F)C(F)(F)F O=C(O)C(F)(F)C(F)(F)C(F)(F)C(F)(F)C(F)(F)C(F)(F)C(O)(F)C(F)(F)F O=C(O)C(F)(F)C(F)(F)C(F)(F)C(F)(F)C(F)(F)C(F)(F)C(O)(F)C(F)(F)F\n",
      "888 O=C(O)C(F)(F)C(F)(F)C(F)(F)C(F)(F)C(F)(F)C(F)(F)C(O)(F)C(F)(F)F O=C(O)C(F)(F)C(F)(F)C(F)(F)C(F)(F)C(F)(F)C(F)(F)C(O)(F)C(F)(F)F O=C(O)C(F)(F)C(F)(F)C(F)(F)C(F)(F)C(F)(F)C(F)(F)C(O)(F)C(F)(F)F\n",
      "888 O=C(O)C(F)(F)C(F)(F)C(F)(F)C(F)(F)C(F)(F)C(F)(F)C(O)(F)C(F)(F)F O=C(O)C(F)(F)C(F)(F)C(F)(F)C(F)(F)C(F)(F)C(F)(F)C(O)(F)C(F)(F)F O=C(O)C(F)(F)C(F)(F)C(F)(F)C(F)(F)C(F)(F)C(F)(F)C(O)(F)C(F)(F)F\n",
      "888 O=C(O)C(F)(F)C(F)(F)C(F)(F)C(F)(F)C(F)(F)C(F)(F)C(O)(F)C(F)(F)F O=C(O)C(F)(F)C(F)(F)C(F)(F)C(F)(F)C(F)(F)C(F)(F)C(O)(F)C(F)(F)F O=C(O)C(F)(F)C(F)(F)C(F)(F)C(F)(F)C(F)(F)C(F)(F)C(O)(F)C(F)(F)F\n",
      "888 O=C(O)C(F)(F)C(F)(F)C(F)(F)C(F)(F)C(F)(F)C(F)(F)C(O)(F)C(F)(F)F O=C(O)C(F)(F)C(F)(F)C(F)(F)C(F)(F)C(F)(F)C(F)(F)C(O)(F)C(F)(F)F O=C(O)C(F)(F)C(F)(F)C(F)(F)C(F)(F)C(F)(F)C(F)(F)C(O)(F)C(F)(F)F\n",
      "888 O=C(O)C(F)(F)C(F)(F)C(F)(F)C(F)(F)C(F)(F)C(F)(F)C(O)(F)C(F)(F)F O=C(O)C(F)(F)C(F)(F)C(F)(F)C(F)(F)C(F)(F)C(F)(F)C(O)(F)C(F)(F)F O=C(O)C(F)(F)C(F)(F)C(F)(F)C(F)(F)C(F)(F)C(F)(F)C(O)(F)C(F)(F)F\n",
      "888 O=C(O)C(F)(F)C(F)(F)C(F)(F)C(F)(F)C(F)(F)C(F)(F)C(O)(F)C(F)(F)F O=C(O)C(F)(F)C(F)(F)C(F)(F)C(F)(F)C(F)(F)C(F)(F)C(O)(F)C(F)(F)F O=C(O)C(F)(F)C(F)(F)C(F)(F)C(F)(F)C(F)(F)C(F)(F)C(O)(F)C(F)(F)F\n",
      "888 O=C(O)C(F)(F)C(F)(F)C(F)(F)C(F)(F)C(F)(F)C(F)(F)C(O)(F)C(F)(F)F O=C(O)C(F)(F)C(F)(F)C(F)(F)C(F)(F)C(F)(F)C(F)(F)C(O)(F)C(F)(F)F O=C(O)C(F)(F)C(F)(F)C(F)(F)C(F)(F)C(F)(F)C(F)(F)C(O)(F)C(F)(F)F\n",
      "888 O=C(O)C(F)(F)C(F)(F)C(F)(F)C(F)(F)C(F)(F)C(F)(F)C(O)(F)C(F)(F)F O=C(O)C(F)(F)C(F)(F)C(F)(F)C(F)(F)C(F)(F)C(F)(F)C(O)(F)C(F)(F)F O=C(O)C(F)(F)C(F)(F)C(F)(F)C(F)(F)C(F)(F)C(F)(F)C(O)(F)C(F)(F)F\n",
      "888 O=C(O)C(F)(F)C(F)(F)C(F)(F)C(F)(F)C(F)(F)C(F)(F)C(O)(F)C(F)(F)F O=C(O)C(F)(F)C(F)(F)C(F)(F)C(F)(F)C(F)(F)C(F)(F)C(O)(F)C(F)(F)F O=C(O)C(F)(F)C(F)(F)C(F)(F)C(F)(F)C(F)(F)C(F)(F)C(O)(F)C(F)(F)F\n",
      "888 O=C(O)C(F)(F)C(F)(F)C(F)(F)C(F)(F)C(F)(F)C(F)(F)C(O)(F)C(F)(F)F O=C(O)C(F)(F)C(F)(F)C(F)(F)C(F)(F)C(F)(F)C(F)(F)C(O)(F)C(F)(F)F O=C(O)C(F)(F)C(F)(F)C(F)(F)C(F)(F)C(F)(F)C(F)(F)C(O)(F)C(F)(F)F\n",
      "888 O=C(O)C(F)(F)C(F)(F)C(F)(F)C(F)(F)C(F)(F)C(F)(F)C(O)(F)C(F)(F)F O=C(O)C(F)(F)C(F)(F)C(F)(F)C(F)(F)C(F)(F)C(F)(F)C(O)(F)C(F)(F)F O=C(O)C(F)(F)C(F)(F)C(F)(F)C(F)(F)C(F)(F)C(F)(F)C(O)(F)C(F)(F)F\n",
      "888 O=C(O)C(F)(F)C(F)(F)C(F)(F)C(F)(F)C(F)(F)C(F)(F)C(O)(F)C(F)(F)F O=C(O)C(F)(F)C(F)(F)C(F)(F)C(F)(F)C(F)(F)C(F)(F)C(O)(F)C(F)(F)F O=C(O)C(F)(F)C(F)(F)C(F)(F)C(F)(F)C(F)(F)C(F)(F)C(O)(F)C(F)(F)F\n",
      "888 O=C(O)C(F)(F)C(F)(F)C(F)(F)C(F)(F)C(F)(F)C(F)(F)C(O)(F)C(F)(F)F O=C(O)C(F)(F)C(F)(F)C(F)(F)C(F)(F)C(F)(F)C(F)(F)C(O)(F)C(F)(F)F O=C(O)C(F)(F)C(F)(F)C(F)(F)C(F)(F)C(F)(F)C(F)(F)C(O)(F)C(F)(F)F\n",
      "888 O=C(O)C(F)(F)C(F)(F)C(F)(F)C(F)(F)C(F)(F)C(F)(F)C(O)(F)C(F)(F)F O=C(O)C(F)(F)C(F)(F)C(F)(F)C(F)(F)C(F)(F)C(F)(F)C(O)(F)C(F)(F)F O=C(O)C(F)(F)C(F)(F)C(F)(F)C(F)(F)C(F)(F)C(F)(F)C(O)(F)C(F)(F)F\n",
      "123\n",
      "inchikey ZWBAMYVPMDSJGQ-UHFFFAOYSA-N\n",
      "456 [{'smiles': 'O=C(O)C(F)(F)C(F)(F)C(F)(F)C(F)(F)C(F)(F)C(F)(F)F', 'toolkit': 'DS4SD', 'function': 'Patents_For_Molecule', 'parameters': '', 'results': [{'PATENT ID': 'US9447314'}, {'PATENT ID': 'KR1020150035140'}, {'PATENT ID': 'JP2015205973'}, {'PATENT ID': 'JP2016166370'}, {'PATENT ID': 'US20160237339A1'}, {'PATENT ID': 'US20210280213'}]}, {'smiles': 'O=C(O)C(F)(F)C(F)(F)C(F)(F)C(F)(F)C(F)(F)C(F)(F)F', 'toolkit': 'DS4SD', 'function': 'Patents_For_Molecule', 'parameters': '', 'results': [{'PATENT ID': 'US9447314'}, {'PATENT ID': 'KR1020150035140'}, {'PATENT ID': 'JP2015205973'}, {'PATENT ID': 'JP2016166370'}, {'PATENT ID': 'US20160237339A1'}, {'PATENT ID': 'US20210280213'}]}, {'smiles': 'O=C(O)C(F)(F)C(F)(F)C(F)(F)C(F)(F)C(F)(F)C(F)(F)F', 'toolkit': 'DS4SD', 'function': 'Patents_For_Molecule', 'parameters': '', 'results': [{'PATENT ID': 'US9447314'}, {'PATENT ID': 'KR1020150035140'}, {'PATENT ID': 'JP2015205973'}, {'PATENT ID': 'JP2016166370'}, {'PATENT ID': 'US20160237339A1'}, {'PATENT ID': 'US20210280213'}]}]\n",
      "888 O=C(O)C(F)(F)C(F)(F)C(F)(F)C(F)(F)C(F)(F)C(F)(F)F O=C(O)C(F)(F)C(F)(F)C(F)(F)C(F)(F)C(F)(F)C(F)(F)F O=C(O)C(F)(F)C(F)(F)C(F)(F)C(F)(F)C(F)(F)C(F)(F)F\n",
      "888 O=C(O)C(F)(F)C(F)(F)C(F)(F)C(F)(F)C(F)(F)C(F)(F)F O=C(O)C(F)(F)C(F)(F)C(F)(F)C(F)(F)C(F)(F)C(F)(F)F O=C(O)C(F)(F)C(F)(F)C(F)(F)C(F)(F)C(F)(F)C(F)(F)F\n",
      "888 O=C(O)C(F)(F)C(F)(F)C(F)(F)C(F)(F)C(F)(F)C(F)(F)F O=C(O)C(F)(F)C(F)(F)C(F)(F)C(F)(F)C(F)(F)C(F)(F)F O=C(O)C(F)(F)C(F)(F)C(F)(F)C(F)(F)C(F)(F)C(F)(F)F\n",
      "123\n",
      "inchikey LSFYLGJCKGUAEW-UHFFFAOYSA-N\n",
      "456 []\n",
      "123\n",
      "inchikey XLUKTNFVKWXBAE-UHFFFAOYSA-N\n",
      "456 []\n",
      "123\n",
      "inchikey KKNZMEWYYYCSFR-UHFFFAOYSA-N\n",
      "456 []\n",
      "123\n",
      "inchikey XUMZDGSXCRTTNE-UHFFFAOYSA-N\n",
      "456 []\n",
      "123\n",
      "inchikey HWNJLHLGDQGLQU-UHFFFAOYSA-N\n",
      "456 []\n",
      "123\n",
      "inchikey REFFFDHFQOYHRD-UHFFFAOYSA-N\n",
      "456 []\n",
      "123\n",
      "inchikey SJEULDLUYNSZPB-UHFFFAOYSA-N\n",
      "456 [{'smiles': 'OC(O)C(F)(OC(F)(F)C(F)(F)C(F)(F)F)C(F)(F)F', 'toolkit': 'DS4SD', 'function': 'Patents_For_Molecule', 'parameters': '', 'results': []}, {'smiles': 'OC(O)C(F)(OC(F)(F)C(F)(F)C(F)(F)F)C(F)(F)F', 'toolkit': 'DS4SD', 'function': 'Patents_For_Molecule', 'parameters': '', 'results': []}, {'smiles': 'OC(O)C(F)(OC(F)(F)C(F)(F)C(F)(F)F)C(F)(F)F', 'toolkit': 'DS4SD', 'function': 'Patents_For_Molecule', 'parameters': '', 'results': []}, {'smiles': 'OC(O)C(F)(OC(F)(F)C(F)(F)C(F)(F)F)C(F)(F)F', 'toolkit': 'DS4SD', 'function': 'Patents_For_Molecule', 'parameters': '', 'results': []}, {'toolkit': 'DS4SD', 'function': 'Patents_For_Molecule', 'smiles': 'OC(O)C(F)(OC(F)(F)C(F)(F)C(F)(F)F)C(F)(F)F', 'parameters': '', 'results': []}, {'smiles': 'OC(O)C(F)(OC(F)(F)C(F)(F)C(F)(F)F)C(F)(F)F', 'toolkit': 'DS4SD', 'function': 'Patents_For_Molecule', 'parameters': '', 'results': []}, {'smiles': 'OC(O)C(F)(OC(F)(F)C(F)(F)C(F)(F)F)C(F)(F)F', 'toolkit': 'DS4SD', 'function': 'Patents_For_Molecule', 'parameters': '', 'results': []}, {'smiles': 'OC(O)C(F)(OC(F)(F)C(F)(F)C(F)(F)F)C(F)(F)F', 'toolkit': 'DS4SD', 'function': 'Patents_For_Molecule', 'parameters': '', 'results': []}, {'smiles': 'OC(O)C(F)(OC(F)(F)C(F)(F)C(F)(F)F)C(F)(F)F', 'toolkit': 'DS4SD', 'function': 'Patents_For_Molecule', 'parameters': '', 'results': []}, {'smiles': 'OC(O)C(F)(OC(F)(F)C(F)(F)C(F)(F)F)C(F)(F)F', 'toolkit': 'DS4SD', 'function': 'Patents_For_Molecule', 'parameters': '', 'results': []}, {'smiles': 'OC(O)C(F)(OC(F)(F)C(F)(F)C(F)(F)F)C(F)(F)F', 'toolkit': 'DS4SD', 'function': 'Patents_For_Molecule', 'parameters': '', 'results': []}, {'smiles': 'OC(O)C(F)(OC(F)(F)C(F)(F)C(F)(F)F)C(F)(F)F', 'toolkit': 'DS4SD', 'function': 'Patents_For_Molecule', 'parameters': '', 'results': []}, {'smiles': 'OC(O)C(F)(OC(F)(F)C(F)(F)C(F)(F)F)C(F)(F)F', 'toolkit': 'DS4SD', 'function': 'Patents_For_Molecule', 'parameters': '', 'results': []}, {'smiles': 'OC(O)C(F)(OC(F)(F)C(F)(F)C(F)(F)F)C(F)(F)F', 'toolkit': 'DS4SD', 'function': 'Patents_For_Molecule', 'parameters': '', 'results': []}, {'smiles': 'OC(O)C(F)(OC(F)(F)C(F)(F)C(F)(F)F)C(F)(F)F', 'toolkit': 'DS4SD', 'function': 'Patents_For_Molecule', 'parameters': '', 'results': []}, {'smiles': 'OC(O)C(F)(OC(F)(F)C(F)(F)C(F)(F)F)C(F)(F)F', 'toolkit': 'DS4SD', 'function': 'Patents_For_Molecule', 'parameters': '', 'results': []}, {'smiles': 'OC(O)C(F)(OC(F)(F)C(F)(F)C(F)(F)F)C(F)(F)F', 'toolkit': 'DS4SD', 'function': 'Patents_For_Molecule', 'parameters': '', 'results': []}, {'smiles': 'OC(O)C(F)(OC(F)(F)C(F)(F)C(F)(F)F)C(F)(F)F', 'toolkit': 'DS4SD', 'function': 'Patents_For_Molecule', 'parameters': '', 'results': []}, {'smiles': 'OC(O)C(F)(OC(F)(F)C(F)(F)C(F)(F)F)C(F)(F)F', 'toolkit': 'DS4SD', 'function': 'Patents_For_Molecule', 'parameters': '', 'results': []}, {'smiles': 'OC(O)C(F)(OC(F)(F)C(F)(F)C(F)(F)F)C(F)(F)F', 'toolkit': 'DS4SD', 'function': 'Patents_For_Molecule', 'parameters': '', 'results': []}, {'smiles': 'OC(O)C(F)(OC(F)(F)C(F)(F)C(F)(F)F)C(F)(F)F', 'toolkit': 'DS4SD', 'function': 'Patents_For_Molecule', 'parameters': '', 'results': []}, {'smiles': 'OC(O)C(F)(OC(F)(F)C(F)(F)C(F)(F)F)C(F)(F)F', 'toolkit': 'DS4SD', 'function': 'Patents_For_Molecule', 'parameters': '', 'results': []}, {'smiles': 'OC(O)C(F)(OC(F)(F)C(F)(F)C(F)(F)F)C(F)(F)F', 'toolkit': 'DS4SD', 'function': 'Patents_For_Molecule', 'parameters': '', 'results': []}, {'smiles': 'OC(O)C(F)(OC(F)(F)C(F)(F)C(F)(F)F)C(F)(F)F', 'toolkit': 'DS4SD', 'function': 'Patents_For_Molecule', 'parameters': '', 'results': []}, {'smiles': 'OC(O)C(F)(OC(F)(F)C(F)(F)C(F)(F)F)C(F)(F)F', 'toolkit': 'DS4SD', 'function': 'Patents_For_Molecule', 'parameters': '', 'results': []}, {'toolkit': 'DS4SD', 'function': 'Patents_For_Molecule', 'smiles': 'OC(O)C(F)(OC(F)(F)C(F)(F)C(F)(F)F)C(F)(F)F', 'parameters': '', 'results': []}, {'smiles': 'OC(O)C(F)(OC(F)(F)C(F)(F)C(F)(F)F)C(F)(F)F', 'toolkit': 'DS4SD', 'function': 'Patents_For_Molecule', 'parameters': '', 'results': []}, {'smiles': 'OC(O)C(F)(OC(F)(F)C(F)(F)C(F)(F)F)C(F)(F)F', 'toolkit': 'DS4SD', 'function': 'Patents_For_Molecule', 'parameters': '', 'results': []}, {'smiles': 'OC(O)C(F)(OC(F)(F)C(F)(F)C(F)(F)F)C(F)(F)F', 'toolkit': 'DS4SD', 'function': 'Patents_For_Molecule', 'parameters': '', 'results': []}, {'smiles': 'OC(O)C(F)(OC(F)(F)C(F)(F)C(F)(F)F)C(F)(F)F', 'toolkit': 'DS4SD', 'function': 'Patents_For_Molecule', 'parameters': '', 'results': []}, {'smiles': 'OC(O)C(F)(OC(F)(F)C(F)(F)C(F)(F)F)C(F)(F)F', 'toolkit': 'DS4SD', 'function': 'Patents_For_Molecule', 'parameters': '', 'results': []}, {'smiles': 'OC(O)C(F)(OC(F)(F)C(F)(F)C(F)(F)F)C(F)(F)F', 'toolkit': 'DS4SD', 'function': 'Patents_For_Molecule', 'parameters': '', 'results': []}, {'smiles': 'OC(O)C(F)(OC(F)(F)C(F)(F)C(F)(F)F)C(F)(F)F', 'toolkit': 'DS4SD', 'function': 'Patents_For_Molecule', 'parameters': '', 'results': []}, {'smiles': 'OC(O)C(F)(OC(F)(F)C(F)(F)C(F)(F)F)C(F)(F)F', 'toolkit': 'DS4SD', 'function': 'Patents_For_Molecule', 'parameters': '', 'results': []}, {'smiles': 'OC(O)C(F)(OC(F)(F)C(F)(F)C(F)(F)F)C(F)(F)F', 'toolkit': 'DS4SD', 'function': 'Patents_For_Molecule', 'parameters': '', 'results': []}, {'smiles': 'OC(O)C(F)(OC(F)(F)C(F)(F)C(F)(F)F)C(F)(F)F', 'toolkit': 'DS4SD', 'function': 'Patents_For_Molecule', 'parameters': '', 'results': []}, {'smiles': 'OC(O)C(F)(OC(F)(F)C(F)(F)C(F)(F)F)C(F)(F)F', 'toolkit': 'DS4SD', 'function': 'Patents_For_Molecule', 'parameters': '', 'results': []}, {'smiles': 'OC(O)C(F)(OC(F)(F)C(F)(F)C(F)(F)F)C(F)(F)F', 'toolkit': 'DS4SD', 'function': 'Patents_For_Molecule', 'parameters': '', 'results': []}, {'smiles': 'OC(O)C(F)(OC(F)(F)C(F)(F)C(F)(F)F)C(F)(F)F', 'toolkit': 'DS4SD', 'function': 'Patents_For_Molecule', 'parameters': '', 'results': []}, {'smiles': 'OC(O)C(F)(OC(F)(F)C(F)(F)C(F)(F)F)C(F)(F)F', 'toolkit': 'DS4SD', 'function': 'Patents_For_Molecule', 'parameters': '', 'results': []}, {'smiles': 'OC(O)C(F)(OC(F)(F)C(F)(F)C(F)(F)F)C(F)(F)F', 'toolkit': 'DS4SD', 'function': 'Patents_For_Molecule', 'parameters': '', 'results': []}, {'smiles': 'OC(O)C(F)(OC(F)(F)C(F)(F)C(F)(F)F)C(F)(F)F', 'toolkit': 'DS4SD', 'function': 'Patents_For_Molecule', 'parameters': '', 'results': []}, {'smiles': 'OC(O)C(F)(OC(F)(F)C(F)(F)C(F)(F)F)C(F)(F)F', 'toolkit': 'DS4SD', 'function': 'Patents_For_Molecule', 'parameters': '', 'results': []}, {'smiles': 'OC(O)C(F)(OC(F)(F)C(F)(F)C(F)(F)F)C(F)(F)F', 'toolkit': 'DS4SD', 'function': 'Patents_For_Molecule', 'parameters': '', 'results': []}, {'smiles': 'OC(O)C(F)(OC(F)(F)C(F)(F)C(F)(F)F)C(F)(F)F', 'toolkit': 'DS4SD', 'function': 'Patents_For_Molecule', 'parameters': '', 'results': []}, {'smiles': 'OC(O)C(F)(OC(F)(F)C(F)(F)C(F)(F)F)C(F)(F)F', 'toolkit': 'DS4SD', 'function': 'Patents_For_Molecule', 'parameters': '', 'results': []}, {'smiles': 'OC(O)C(F)(OC(F)(F)C(F)(F)C(F)(F)F)C(F)(F)F', 'toolkit': 'DS4SD', 'function': 'Patents_For_Molecule', 'parameters': '', 'results': []}, {'smiles': 'OC(O)C(F)(OC(F)(F)C(F)(F)C(F)(F)F)C(F)(F)F', 'toolkit': 'DS4SD', 'function': 'Patents_For_Molecule', 'parameters': '', 'results': []}]\n",
      "888 OC(O)C(F)(OC(F)(F)C(F)(F)C(F)(F)F)C(F)(F)F OC(O)C(F)(OC(F)(F)C(F)(F)C(F)(F)F)C(F)(F)F OC(O)C(F)(OC(F)(F)C(F)(F)C(F)(F)F)C(F)(F)F\n",
      "888 OC(O)C(F)(OC(F)(F)C(F)(F)C(F)(F)F)C(F)(F)F OC(O)C(F)(OC(F)(F)C(F)(F)C(F)(F)F)C(F)(F)F OC(O)C(F)(OC(F)(F)C(F)(F)C(F)(F)F)C(F)(F)F\n",
      "888 OC(O)C(F)(OC(F)(F)C(F)(F)C(F)(F)F)C(F)(F)F OC(O)C(F)(OC(F)(F)C(F)(F)C(F)(F)F)C(F)(F)F OC(O)C(F)(OC(F)(F)C(F)(F)C(F)(F)F)C(F)(F)F\n",
      "888 OC(O)C(F)(OC(F)(F)C(F)(F)C(F)(F)F)C(F)(F)F OC(O)C(F)(OC(F)(F)C(F)(F)C(F)(F)F)C(F)(F)F OC(O)C(F)(OC(F)(F)C(F)(F)C(F)(F)F)C(F)(F)F\n",
      "888 OC(O)C(F)(OC(F)(F)C(F)(F)C(F)(F)F)C(F)(F)F OC(O)C(F)(OC(F)(F)C(F)(F)C(F)(F)F)C(F)(F)F OC(O)C(F)(OC(F)(F)C(F)(F)C(F)(F)F)C(F)(F)F\n",
      "888 OC(O)C(F)(OC(F)(F)C(F)(F)C(F)(F)F)C(F)(F)F OC(O)C(F)(OC(F)(F)C(F)(F)C(F)(F)F)C(F)(F)F OC(O)C(F)(OC(F)(F)C(F)(F)C(F)(F)F)C(F)(F)F\n",
      "888 OC(O)C(F)(OC(F)(F)C(F)(F)C(F)(F)F)C(F)(F)F OC(O)C(F)(OC(F)(F)C(F)(F)C(F)(F)F)C(F)(F)F OC(O)C(F)(OC(F)(F)C(F)(F)C(F)(F)F)C(F)(F)F\n",
      "888 OC(O)C(F)(OC(F)(F)C(F)(F)C(F)(F)F)C(F)(F)F OC(O)C(F)(OC(F)(F)C(F)(F)C(F)(F)F)C(F)(F)F OC(O)C(F)(OC(F)(F)C(F)(F)C(F)(F)F)C(F)(F)F\n",
      "888 OC(O)C(F)(OC(F)(F)C(F)(F)C(F)(F)F)C(F)(F)F OC(O)C(F)(OC(F)(F)C(F)(F)C(F)(F)F)C(F)(F)F OC(O)C(F)(OC(F)(F)C(F)(F)C(F)(F)F)C(F)(F)F\n",
      "888 OC(O)C(F)(OC(F)(F)C(F)(F)C(F)(F)F)C(F)(F)F OC(O)C(F)(OC(F)(F)C(F)(F)C(F)(F)F)C(F)(F)F OC(O)C(F)(OC(F)(F)C(F)(F)C(F)(F)F)C(F)(F)F\n",
      "888 OC(O)C(F)(OC(F)(F)C(F)(F)C(F)(F)F)C(F)(F)F OC(O)C(F)(OC(F)(F)C(F)(F)C(F)(F)F)C(F)(F)F OC(O)C(F)(OC(F)(F)C(F)(F)C(F)(F)F)C(F)(F)F\n",
      "888 OC(O)C(F)(OC(F)(F)C(F)(F)C(F)(F)F)C(F)(F)F OC(O)C(F)(OC(F)(F)C(F)(F)C(F)(F)F)C(F)(F)F OC(O)C(F)(OC(F)(F)C(F)(F)C(F)(F)F)C(F)(F)F\n",
      "888 OC(O)C(F)(OC(F)(F)C(F)(F)C(F)(F)F)C(F)(F)F OC(O)C(F)(OC(F)(F)C(F)(F)C(F)(F)F)C(F)(F)F OC(O)C(F)(OC(F)(F)C(F)(F)C(F)(F)F)C(F)(F)F\n",
      "888 OC(O)C(F)(OC(F)(F)C(F)(F)C(F)(F)F)C(F)(F)F OC(O)C(F)(OC(F)(F)C(F)(F)C(F)(F)F)C(F)(F)F OC(O)C(F)(OC(F)(F)C(F)(F)C(F)(F)F)C(F)(F)F\n",
      "888 OC(O)C(F)(OC(F)(F)C(F)(F)C(F)(F)F)C(F)(F)F OC(O)C(F)(OC(F)(F)C(F)(F)C(F)(F)F)C(F)(F)F OC(O)C(F)(OC(F)(F)C(F)(F)C(F)(F)F)C(F)(F)F\n",
      "888 OC(O)C(F)(OC(F)(F)C(F)(F)C(F)(F)F)C(F)(F)F OC(O)C(F)(OC(F)(F)C(F)(F)C(F)(F)F)C(F)(F)F OC(O)C(F)(OC(F)(F)C(F)(F)C(F)(F)F)C(F)(F)F\n",
      "888 OC(O)C(F)(OC(F)(F)C(F)(F)C(F)(F)F)C(F)(F)F OC(O)C(F)(OC(F)(F)C(F)(F)C(F)(F)F)C(F)(F)F OC(O)C(F)(OC(F)(F)C(F)(F)C(F)(F)F)C(F)(F)F\n",
      "888 OC(O)C(F)(OC(F)(F)C(F)(F)C(F)(F)F)C(F)(F)F OC(O)C(F)(OC(F)(F)C(F)(F)C(F)(F)F)C(F)(F)F OC(O)C(F)(OC(F)(F)C(F)(F)C(F)(F)F)C(F)(F)F\n",
      "888 OC(O)C(F)(OC(F)(F)C(F)(F)C(F)(F)F)C(F)(F)F OC(O)C(F)(OC(F)(F)C(F)(F)C(F)(F)F)C(F)(F)F OC(O)C(F)(OC(F)(F)C(F)(F)C(F)(F)F)C(F)(F)F\n",
      "888 OC(O)C(F)(OC(F)(F)C(F)(F)C(F)(F)F)C(F)(F)F OC(O)C(F)(OC(F)(F)C(F)(F)C(F)(F)F)C(F)(F)F OC(O)C(F)(OC(F)(F)C(F)(F)C(F)(F)F)C(F)(F)F\n",
      "888 OC(O)C(F)(OC(F)(F)C(F)(F)C(F)(F)F)C(F)(F)F OC(O)C(F)(OC(F)(F)C(F)(F)C(F)(F)F)C(F)(F)F OC(O)C(F)(OC(F)(F)C(F)(F)C(F)(F)F)C(F)(F)F\n",
      "888 OC(O)C(F)(OC(F)(F)C(F)(F)C(F)(F)F)C(F)(F)F OC(O)C(F)(OC(F)(F)C(F)(F)C(F)(F)F)C(F)(F)F OC(O)C(F)(OC(F)(F)C(F)(F)C(F)(F)F)C(F)(F)F\n",
      "888 OC(O)C(F)(OC(F)(F)C(F)(F)C(F)(F)F)C(F)(F)F OC(O)C(F)(OC(F)(F)C(F)(F)C(F)(F)F)C(F)(F)F OC(O)C(F)(OC(F)(F)C(F)(F)C(F)(F)F)C(F)(F)F\n",
      "888 OC(O)C(F)(OC(F)(F)C(F)(F)C(F)(F)F)C(F)(F)F OC(O)C(F)(OC(F)(F)C(F)(F)C(F)(F)F)C(F)(F)F OC(O)C(F)(OC(F)(F)C(F)(F)C(F)(F)F)C(F)(F)F\n",
      "888 OC(O)C(F)(OC(F)(F)C(F)(F)C(F)(F)F)C(F)(F)F OC(O)C(F)(OC(F)(F)C(F)(F)C(F)(F)F)C(F)(F)F OC(O)C(F)(OC(F)(F)C(F)(F)C(F)(F)F)C(F)(F)F\n",
      "888 OC(O)C(F)(OC(F)(F)C(F)(F)C(F)(F)F)C(F)(F)F OC(O)C(F)(OC(F)(F)C(F)(F)C(F)(F)F)C(F)(F)F OC(O)C(F)(OC(F)(F)C(F)(F)C(F)(F)F)C(F)(F)F\n",
      "888 OC(O)C(F)(OC(F)(F)C(F)(F)C(F)(F)F)C(F)(F)F OC(O)C(F)(OC(F)(F)C(F)(F)C(F)(F)F)C(F)(F)F OC(O)C(F)(OC(F)(F)C(F)(F)C(F)(F)F)C(F)(F)F\n",
      "888 OC(O)C(F)(OC(F)(F)C(F)(F)C(F)(F)F)C(F)(F)F OC(O)C(F)(OC(F)(F)C(F)(F)C(F)(F)F)C(F)(F)F OC(O)C(F)(OC(F)(F)C(F)(F)C(F)(F)F)C(F)(F)F\n",
      "888 OC(O)C(F)(OC(F)(F)C(F)(F)C(F)(F)F)C(F)(F)F OC(O)C(F)(OC(F)(F)C(F)(F)C(F)(F)F)C(F)(F)F OC(O)C(F)(OC(F)(F)C(F)(F)C(F)(F)F)C(F)(F)F\n",
      "888 OC(O)C(F)(OC(F)(F)C(F)(F)C(F)(F)F)C(F)(F)F OC(O)C(F)(OC(F)(F)C(F)(F)C(F)(F)F)C(F)(F)F OC(O)C(F)(OC(F)(F)C(F)(F)C(F)(F)F)C(F)(F)F\n",
      "888 OC(O)C(F)(OC(F)(F)C(F)(F)C(F)(F)F)C(F)(F)F OC(O)C(F)(OC(F)(F)C(F)(F)C(F)(F)F)C(F)(F)F OC(O)C(F)(OC(F)(F)C(F)(F)C(F)(F)F)C(F)(F)F\n",
      "888 OC(O)C(F)(OC(F)(F)C(F)(F)C(F)(F)F)C(F)(F)F OC(O)C(F)(OC(F)(F)C(F)(F)C(F)(F)F)C(F)(F)F OC(O)C(F)(OC(F)(F)C(F)(F)C(F)(F)F)C(F)(F)F\n",
      "888 OC(O)C(F)(OC(F)(F)C(F)(F)C(F)(F)F)C(F)(F)F OC(O)C(F)(OC(F)(F)C(F)(F)C(F)(F)F)C(F)(F)F OC(O)C(F)(OC(F)(F)C(F)(F)C(F)(F)F)C(F)(F)F\n",
      "888 OC(O)C(F)(OC(F)(F)C(F)(F)C(F)(F)F)C(F)(F)F OC(O)C(F)(OC(F)(F)C(F)(F)C(F)(F)F)C(F)(F)F OC(O)C(F)(OC(F)(F)C(F)(F)C(F)(F)F)C(F)(F)F\n",
      "888 OC(O)C(F)(OC(F)(F)C(F)(F)C(F)(F)F)C(F)(F)F OC(O)C(F)(OC(F)(F)C(F)(F)C(F)(F)F)C(F)(F)F OC(O)C(F)(OC(F)(F)C(F)(F)C(F)(F)F)C(F)(F)F\n",
      "888 OC(O)C(F)(OC(F)(F)C(F)(F)C(F)(F)F)C(F)(F)F OC(O)C(F)(OC(F)(F)C(F)(F)C(F)(F)F)C(F)(F)F OC(O)C(F)(OC(F)(F)C(F)(F)C(F)(F)F)C(F)(F)F\n",
      "888 OC(O)C(F)(OC(F)(F)C(F)(F)C(F)(F)F)C(F)(F)F OC(O)C(F)(OC(F)(F)C(F)(F)C(F)(F)F)C(F)(F)F OC(O)C(F)(OC(F)(F)C(F)(F)C(F)(F)F)C(F)(F)F\n",
      "888 OC(O)C(F)(OC(F)(F)C(F)(F)C(F)(F)F)C(F)(F)F OC(O)C(F)(OC(F)(F)C(F)(F)C(F)(F)F)C(F)(F)F OC(O)C(F)(OC(F)(F)C(F)(F)C(F)(F)F)C(F)(F)F\n",
      "888 OC(O)C(F)(OC(F)(F)C(F)(F)C(F)(F)F)C(F)(F)F OC(O)C(F)(OC(F)(F)C(F)(F)C(F)(F)F)C(F)(F)F OC(O)C(F)(OC(F)(F)C(F)(F)C(F)(F)F)C(F)(F)F\n",
      "888 OC(O)C(F)(OC(F)(F)C(F)(F)C(F)(F)F)C(F)(F)F OC(O)C(F)(OC(F)(F)C(F)(F)C(F)(F)F)C(F)(F)F OC(O)C(F)(OC(F)(F)C(F)(F)C(F)(F)F)C(F)(F)F\n",
      "888 OC(O)C(F)(OC(F)(F)C(F)(F)C(F)(F)F)C(F)(F)F OC(O)C(F)(OC(F)(F)C(F)(F)C(F)(F)F)C(F)(F)F OC(O)C(F)(OC(F)(F)C(F)(F)C(F)(F)F)C(F)(F)F\n",
      "888 OC(O)C(F)(OC(F)(F)C(F)(F)C(F)(F)F)C(F)(F)F OC(O)C(F)(OC(F)(F)C(F)(F)C(F)(F)F)C(F)(F)F OC(O)C(F)(OC(F)(F)C(F)(F)C(F)(F)F)C(F)(F)F\n",
      "888 OC(O)C(F)(OC(F)(F)C(F)(F)C(F)(F)F)C(F)(F)F OC(O)C(F)(OC(F)(F)C(F)(F)C(F)(F)F)C(F)(F)F OC(O)C(F)(OC(F)(F)C(F)(F)C(F)(F)F)C(F)(F)F\n",
      "888 OC(O)C(F)(OC(F)(F)C(F)(F)C(F)(F)F)C(F)(F)F OC(O)C(F)(OC(F)(F)C(F)(F)C(F)(F)F)C(F)(F)F OC(O)C(F)(OC(F)(F)C(F)(F)C(F)(F)F)C(F)(F)F\n",
      "888 OC(O)C(F)(OC(F)(F)C(F)(F)C(F)(F)F)C(F)(F)F OC(O)C(F)(OC(F)(F)C(F)(F)C(F)(F)F)C(F)(F)F OC(O)C(F)(OC(F)(F)C(F)(F)C(F)(F)F)C(F)(F)F\n",
      "888 OC(O)C(F)(OC(F)(F)C(F)(F)C(F)(F)F)C(F)(F)F OC(O)C(F)(OC(F)(F)C(F)(F)C(F)(F)F)C(F)(F)F OC(O)C(F)(OC(F)(F)C(F)(F)C(F)(F)F)C(F)(F)F\n",
      "888 OC(O)C(F)(OC(F)(F)C(F)(F)C(F)(F)F)C(F)(F)F OC(O)C(F)(OC(F)(F)C(F)(F)C(F)(F)F)C(F)(F)F OC(O)C(F)(OC(F)(F)C(F)(F)C(F)(F)F)C(F)(F)F\n",
      "888 OC(O)C(F)(OC(F)(F)C(F)(F)C(F)(F)F)C(F)(F)F OC(O)C(F)(OC(F)(F)C(F)(F)C(F)(F)F)C(F)(F)F OC(O)C(F)(OC(F)(F)C(F)(F)C(F)(F)F)C(F)(F)F\n",
      "123\n",
      "inchikey YBVRDNKKIWCSHJ-UHFFFAOYSA-N\n",
      "456 []\n",
      "123\n",
      "inchikey TVNWAWZLGUWWBC-UHFFFAOYSA-N\n",
      "456 []\n",
      "123\n",
      "inchikey APIMCUDQIAQORN-UHFFFAOYSA-N\n",
      "456 [{'smiles': 'O=C(O)C(F)(OC(F)(F)C(O)(F)C(F)(F)F)C(F)(F)F', 'toolkit': 'DS4SD', 'function': 'Patents_For_Molecule', 'parameters': '', 'results': []}, {'smiles': 'O=C(O)C(F)(OC(F)(F)C(O)(F)C(F)(F)F)C(F)(F)F', 'toolkit': 'DS4SD', 'function': 'Patents_For_Molecule', 'parameters': '', 'results': []}, {'smiles': 'O=C(O)C(F)(OC(F)(F)C(O)(F)C(F)(F)F)C(F)(F)F', 'toolkit': 'DS4SD', 'function': 'Patents_For_Molecule', 'parameters': '', 'results': []}, {'smiles': 'O=C(O)C(F)(OC(F)(F)C(O)(F)C(F)(F)F)C(F)(F)F', 'toolkit': 'DS4SD', 'function': 'Patents_For_Molecule', 'parameters': '', 'results': []}, {'smiles': 'O=C(O)C(F)(OC(F)(F)C(O)(F)C(F)(F)F)C(F)(F)F', 'toolkit': 'DS4SD', 'function': 'Patents_For_Molecule', 'parameters': '', 'results': []}, {'smiles': 'O=C(O)C(F)(OC(F)(F)C(O)(F)C(F)(F)F)C(F)(F)F', 'toolkit': 'DS4SD', 'function': 'Patents_For_Molecule', 'parameters': '', 'results': []}, {'smiles': 'O=C(O)C(F)(OC(F)(F)C(O)(F)C(F)(F)F)C(F)(F)F', 'toolkit': 'DS4SD', 'function': 'Patents_For_Molecule', 'parameters': '', 'results': []}, {'smiles': 'O=C(O)C(F)(OC(F)(F)C(O)(F)C(F)(F)F)C(F)(F)F', 'toolkit': 'DS4SD', 'function': 'Patents_For_Molecule', 'parameters': '', 'results': []}, {'smiles': 'O=C(O)C(F)(OC(F)(F)C(O)(F)C(F)(F)F)C(F)(F)F', 'toolkit': 'DS4SD', 'function': 'Patents_For_Molecule', 'parameters': '', 'results': []}, {'smiles': 'O=C(O)C(F)(OC(F)(F)C(O)(F)C(F)(F)F)C(F)(F)F', 'toolkit': 'DS4SD', 'function': 'Patents_For_Molecule', 'parameters': '', 'results': []}, {'smiles': 'O=C(O)C(F)(OC(F)(F)C(O)(F)C(F)(F)F)C(F)(F)F', 'toolkit': 'DS4SD', 'function': 'Patents_For_Molecule', 'parameters': '', 'results': []}, {'smiles': 'O=C(O)C(F)(OC(F)(F)C(O)(F)C(F)(F)F)C(F)(F)F', 'toolkit': 'DS4SD', 'function': 'Patents_For_Molecule', 'parameters': '', 'results': []}, {'smiles': 'O=C(O)C(F)(OC(F)(F)C(O)(F)C(F)(F)F)C(F)(F)F', 'toolkit': 'DS4SD', 'function': 'Patents_For_Molecule', 'parameters': '', 'results': []}, {'smiles': 'O=C(O)C(F)(OC(F)(F)C(O)(F)C(F)(F)F)C(F)(F)F', 'toolkit': 'DS4SD', 'function': 'Patents_For_Molecule', 'parameters': '', 'results': []}, {'smiles': 'O=C(O)C(F)(OC(F)(F)C(O)(F)C(F)(F)F)C(F)(F)F', 'toolkit': 'DS4SD', 'function': 'Patents_For_Molecule', 'parameters': '', 'results': []}, {'smiles': 'O=C(O)C(F)(OC(F)(F)C(O)(F)C(F)(F)F)C(F)(F)F', 'toolkit': 'DS4SD', 'function': 'Patents_For_Molecule', 'parameters': '', 'results': []}, {'smiles': 'O=C(O)C(F)(OC(F)(F)C(O)(F)C(F)(F)F)C(F)(F)F', 'toolkit': 'DS4SD', 'function': 'Patents_For_Molecule', 'parameters': '', 'results': []}, {'toolkit': 'DS4SD', 'function': 'Patents_For_Molecule', 'smiles': 'O=C(O)C(F)(OC(F)(F)C(O)(F)C(F)(F)F)C(F)(F)F', 'parameters': '', 'results': []}, {'smiles': 'O=C(O)C(F)(OC(F)(F)C(O)(F)C(F)(F)F)C(F)(F)F', 'toolkit': 'DS4SD', 'function': 'Patents_For_Molecule', 'parameters': '', 'results': []}, {'smiles': 'O=C(O)C(F)(OC(F)(F)C(O)(F)C(F)(F)F)C(F)(F)F', 'toolkit': 'DS4SD', 'function': 'Patents_For_Molecule', 'parameters': '', 'results': []}, {'smiles': 'O=C(O)C(F)(OC(F)(F)C(O)(F)C(F)(F)F)C(F)(F)F', 'toolkit': 'DS4SD', 'function': 'Patents_For_Molecule', 'parameters': '', 'results': []}, {'smiles': 'O=C(O)C(F)(OC(F)(F)C(O)(F)C(F)(F)F)C(F)(F)F', 'toolkit': 'DS4SD', 'function': 'Patents_For_Molecule', 'parameters': '', 'results': []}, {'smiles': 'O=C(O)C(F)(OC(F)(F)C(O)(F)C(F)(F)F)C(F)(F)F', 'toolkit': 'DS4SD', 'function': 'Patents_For_Molecule', 'parameters': '', 'results': []}, {'smiles': 'O=C(O)C(F)(OC(F)(F)C(O)(F)C(F)(F)F)C(F)(F)F', 'toolkit': 'DS4SD', 'function': 'Patents_For_Molecule', 'parameters': '', 'results': []}, {'smiles': 'O=C(O)C(F)(OC(F)(F)C(O)(F)C(F)(F)F)C(F)(F)F', 'toolkit': 'DS4SD', 'function': 'Patents_For_Molecule', 'parameters': '', 'results': []}, {'smiles': 'O=C(O)C(F)(OC(F)(F)C(O)(F)C(F)(F)F)C(F)(F)F', 'toolkit': 'DS4SD', 'function': 'Patents_For_Molecule', 'parameters': '', 'results': []}, {'smiles': 'O=C(O)C(F)(OC(F)(F)C(O)(F)C(F)(F)F)C(F)(F)F', 'toolkit': 'DS4SD', 'function': 'Patents_For_Molecule', 'parameters': '', 'results': []}, {'smiles': 'O=C(O)C(F)(OC(F)(F)C(O)(F)C(F)(F)F)C(F)(F)F', 'toolkit': 'DS4SD', 'function': 'Patents_For_Molecule', 'parameters': '', 'results': []}, {'smiles': 'O=C(O)C(F)(OC(F)(F)C(O)(F)C(F)(F)F)C(F)(F)F', 'toolkit': 'DS4SD', 'function': 'Patents_For_Molecule', 'parameters': '', 'results': []}, {'smiles': 'O=C(O)C(F)(OC(F)(F)C(O)(F)C(F)(F)F)C(F)(F)F', 'toolkit': 'DS4SD', 'function': 'Patents_For_Molecule', 'parameters': '', 'results': []}, {'smiles': 'O=C(O)C(F)(OC(F)(F)C(O)(F)C(F)(F)F)C(F)(F)F', 'toolkit': 'DS4SD', 'function': 'Patents_For_Molecule', 'parameters': '', 'results': []}, {'smiles': 'O=C(O)C(F)(OC(F)(F)C(O)(F)C(F)(F)F)C(F)(F)F', 'toolkit': 'DS4SD', 'function': 'Patents_For_Molecule', 'parameters': '', 'results': []}, {'smiles': 'O=C(O)C(F)(OC(F)(F)C(O)(F)C(F)(F)F)C(F)(F)F', 'toolkit': 'DS4SD', 'function': 'Patents_For_Molecule', 'parameters': '', 'results': []}, {'smiles': 'O=C(O)C(F)(OC(F)(F)C(O)(F)C(F)(F)F)C(F)(F)F', 'toolkit': 'DS4SD', 'function': 'Patents_For_Molecule', 'parameters': '', 'results': []}, {'smiles': 'O=C(O)C(F)(OC(F)(F)C(O)(F)C(F)(F)F)C(F)(F)F', 'toolkit': 'DS4SD', 'function': 'Patents_For_Molecule', 'parameters': '', 'results': []}, {'smiles': 'O=C(O)C(F)(OC(F)(F)C(O)(F)C(F)(F)F)C(F)(F)F', 'toolkit': 'DS4SD', 'function': 'Patents_For_Molecule', 'parameters': '', 'results': []}, {'smiles': 'O=C(O)C(F)(OC(F)(F)C(O)(F)C(F)(F)F)C(F)(F)F', 'toolkit': 'DS4SD', 'function': 'Patents_For_Molecule', 'parameters': '', 'results': []}, {'smiles': 'O=C(O)C(F)(OC(F)(F)C(O)(F)C(F)(F)F)C(F)(F)F', 'toolkit': 'DS4SD', 'function': 'Patents_For_Molecule', 'parameters': '', 'results': []}]\n",
      "888 O=C(O)C(F)(OC(F)(F)C(O)(F)C(F)(F)F)C(F)(F)F O=C(O)C(F)(OC(F)(F)C(O)(F)C(F)(F)F)C(F)(F)F O=C(O)C(F)(OC(F)(F)C(O)(F)C(F)(F)F)C(F)(F)F\n",
      "888 O=C(O)C(F)(OC(F)(F)C(O)(F)C(F)(F)F)C(F)(F)F O=C(O)C(F)(OC(F)(F)C(O)(F)C(F)(F)F)C(F)(F)F O=C(O)C(F)(OC(F)(F)C(O)(F)C(F)(F)F)C(F)(F)F\n",
      "888 O=C(O)C(F)(OC(F)(F)C(O)(F)C(F)(F)F)C(F)(F)F O=C(O)C(F)(OC(F)(F)C(O)(F)C(F)(F)F)C(F)(F)F O=C(O)C(F)(OC(F)(F)C(O)(F)C(F)(F)F)C(F)(F)F\n",
      "888 O=C(O)C(F)(OC(F)(F)C(O)(F)C(F)(F)F)C(F)(F)F O=C(O)C(F)(OC(F)(F)C(O)(F)C(F)(F)F)C(F)(F)F O=C(O)C(F)(OC(F)(F)C(O)(F)C(F)(F)F)C(F)(F)F\n",
      "888 O=C(O)C(F)(OC(F)(F)C(O)(F)C(F)(F)F)C(F)(F)F O=C(O)C(F)(OC(F)(F)C(O)(F)C(F)(F)F)C(F)(F)F O=C(O)C(F)(OC(F)(F)C(O)(F)C(F)(F)F)C(F)(F)F\n",
      "888 O=C(O)C(F)(OC(F)(F)C(O)(F)C(F)(F)F)C(F)(F)F O=C(O)C(F)(OC(F)(F)C(O)(F)C(F)(F)F)C(F)(F)F O=C(O)C(F)(OC(F)(F)C(O)(F)C(F)(F)F)C(F)(F)F\n",
      "888 O=C(O)C(F)(OC(F)(F)C(O)(F)C(F)(F)F)C(F)(F)F O=C(O)C(F)(OC(F)(F)C(O)(F)C(F)(F)F)C(F)(F)F O=C(O)C(F)(OC(F)(F)C(O)(F)C(F)(F)F)C(F)(F)F\n",
      "888 O=C(O)C(F)(OC(F)(F)C(O)(F)C(F)(F)F)C(F)(F)F O=C(O)C(F)(OC(F)(F)C(O)(F)C(F)(F)F)C(F)(F)F O=C(O)C(F)(OC(F)(F)C(O)(F)C(F)(F)F)C(F)(F)F\n",
      "888 O=C(O)C(F)(OC(F)(F)C(O)(F)C(F)(F)F)C(F)(F)F O=C(O)C(F)(OC(F)(F)C(O)(F)C(F)(F)F)C(F)(F)F O=C(O)C(F)(OC(F)(F)C(O)(F)C(F)(F)F)C(F)(F)F\n",
      "888 O=C(O)C(F)(OC(F)(F)C(O)(F)C(F)(F)F)C(F)(F)F O=C(O)C(F)(OC(F)(F)C(O)(F)C(F)(F)F)C(F)(F)F O=C(O)C(F)(OC(F)(F)C(O)(F)C(F)(F)F)C(F)(F)F\n",
      "888 O=C(O)C(F)(OC(F)(F)C(O)(F)C(F)(F)F)C(F)(F)F O=C(O)C(F)(OC(F)(F)C(O)(F)C(F)(F)F)C(F)(F)F O=C(O)C(F)(OC(F)(F)C(O)(F)C(F)(F)F)C(F)(F)F\n",
      "888 O=C(O)C(F)(OC(F)(F)C(O)(F)C(F)(F)F)C(F)(F)F O=C(O)C(F)(OC(F)(F)C(O)(F)C(F)(F)F)C(F)(F)F O=C(O)C(F)(OC(F)(F)C(O)(F)C(F)(F)F)C(F)(F)F\n",
      "888 O=C(O)C(F)(OC(F)(F)C(O)(F)C(F)(F)F)C(F)(F)F O=C(O)C(F)(OC(F)(F)C(O)(F)C(F)(F)F)C(F)(F)F O=C(O)C(F)(OC(F)(F)C(O)(F)C(F)(F)F)C(F)(F)F\n",
      "888 O=C(O)C(F)(OC(F)(F)C(O)(F)C(F)(F)F)C(F)(F)F O=C(O)C(F)(OC(F)(F)C(O)(F)C(F)(F)F)C(F)(F)F O=C(O)C(F)(OC(F)(F)C(O)(F)C(F)(F)F)C(F)(F)F\n",
      "888 O=C(O)C(F)(OC(F)(F)C(O)(F)C(F)(F)F)C(F)(F)F O=C(O)C(F)(OC(F)(F)C(O)(F)C(F)(F)F)C(F)(F)F O=C(O)C(F)(OC(F)(F)C(O)(F)C(F)(F)F)C(F)(F)F\n",
      "888 O=C(O)C(F)(OC(F)(F)C(O)(F)C(F)(F)F)C(F)(F)F O=C(O)C(F)(OC(F)(F)C(O)(F)C(F)(F)F)C(F)(F)F O=C(O)C(F)(OC(F)(F)C(O)(F)C(F)(F)F)C(F)(F)F\n",
      "888 O=C(O)C(F)(OC(F)(F)C(O)(F)C(F)(F)F)C(F)(F)F O=C(O)C(F)(OC(F)(F)C(O)(F)C(F)(F)F)C(F)(F)F O=C(O)C(F)(OC(F)(F)C(O)(F)C(F)(F)F)C(F)(F)F\n",
      "888 O=C(O)C(F)(OC(F)(F)C(O)(F)C(F)(F)F)C(F)(F)F O=C(O)C(F)(OC(F)(F)C(O)(F)C(F)(F)F)C(F)(F)F O=C(O)C(F)(OC(F)(F)C(O)(F)C(F)(F)F)C(F)(F)F\n",
      "888 O=C(O)C(F)(OC(F)(F)C(O)(F)C(F)(F)F)C(F)(F)F O=C(O)C(F)(OC(F)(F)C(O)(F)C(F)(F)F)C(F)(F)F O=C(O)C(F)(OC(F)(F)C(O)(F)C(F)(F)F)C(F)(F)F\n",
      "888 O=C(O)C(F)(OC(F)(F)C(O)(F)C(F)(F)F)C(F)(F)F O=C(O)C(F)(OC(F)(F)C(O)(F)C(F)(F)F)C(F)(F)F O=C(O)C(F)(OC(F)(F)C(O)(F)C(F)(F)F)C(F)(F)F\n",
      "888 O=C(O)C(F)(OC(F)(F)C(O)(F)C(F)(F)F)C(F)(F)F O=C(O)C(F)(OC(F)(F)C(O)(F)C(F)(F)F)C(F)(F)F O=C(O)C(F)(OC(F)(F)C(O)(F)C(F)(F)F)C(F)(F)F\n",
      "888 O=C(O)C(F)(OC(F)(F)C(O)(F)C(F)(F)F)C(F)(F)F O=C(O)C(F)(OC(F)(F)C(O)(F)C(F)(F)F)C(F)(F)F O=C(O)C(F)(OC(F)(F)C(O)(F)C(F)(F)F)C(F)(F)F\n",
      "888 O=C(O)C(F)(OC(F)(F)C(O)(F)C(F)(F)F)C(F)(F)F O=C(O)C(F)(OC(F)(F)C(O)(F)C(F)(F)F)C(F)(F)F O=C(O)C(F)(OC(F)(F)C(O)(F)C(F)(F)F)C(F)(F)F\n",
      "888 O=C(O)C(F)(OC(F)(F)C(O)(F)C(F)(F)F)C(F)(F)F O=C(O)C(F)(OC(F)(F)C(O)(F)C(F)(F)F)C(F)(F)F O=C(O)C(F)(OC(F)(F)C(O)(F)C(F)(F)F)C(F)(F)F\n",
      "888 O=C(O)C(F)(OC(F)(F)C(O)(F)C(F)(F)F)C(F)(F)F O=C(O)C(F)(OC(F)(F)C(O)(F)C(F)(F)F)C(F)(F)F O=C(O)C(F)(OC(F)(F)C(O)(F)C(F)(F)F)C(F)(F)F\n",
      "888 O=C(O)C(F)(OC(F)(F)C(O)(F)C(F)(F)F)C(F)(F)F O=C(O)C(F)(OC(F)(F)C(O)(F)C(F)(F)F)C(F)(F)F O=C(O)C(F)(OC(F)(F)C(O)(F)C(F)(F)F)C(F)(F)F\n",
      "888 O=C(O)C(F)(OC(F)(F)C(O)(F)C(F)(F)F)C(F)(F)F O=C(O)C(F)(OC(F)(F)C(O)(F)C(F)(F)F)C(F)(F)F O=C(O)C(F)(OC(F)(F)C(O)(F)C(F)(F)F)C(F)(F)F\n",
      "888 O=C(O)C(F)(OC(F)(F)C(O)(F)C(F)(F)F)C(F)(F)F O=C(O)C(F)(OC(F)(F)C(O)(F)C(F)(F)F)C(F)(F)F O=C(O)C(F)(OC(F)(F)C(O)(F)C(F)(F)F)C(F)(F)F\n",
      "888 O=C(O)C(F)(OC(F)(F)C(O)(F)C(F)(F)F)C(F)(F)F O=C(O)C(F)(OC(F)(F)C(O)(F)C(F)(F)F)C(F)(F)F O=C(O)C(F)(OC(F)(F)C(O)(F)C(F)(F)F)C(F)(F)F\n",
      "888 O=C(O)C(F)(OC(F)(F)C(O)(F)C(F)(F)F)C(F)(F)F O=C(O)C(F)(OC(F)(F)C(O)(F)C(F)(F)F)C(F)(F)F O=C(O)C(F)(OC(F)(F)C(O)(F)C(F)(F)F)C(F)(F)F\n",
      "888 O=C(O)C(F)(OC(F)(F)C(O)(F)C(F)(F)F)C(F)(F)F O=C(O)C(F)(OC(F)(F)C(O)(F)C(F)(F)F)C(F)(F)F O=C(O)C(F)(OC(F)(F)C(O)(F)C(F)(F)F)C(F)(F)F\n",
      "888 O=C(O)C(F)(OC(F)(F)C(O)(F)C(F)(F)F)C(F)(F)F O=C(O)C(F)(OC(F)(F)C(O)(F)C(F)(F)F)C(F)(F)F O=C(O)C(F)(OC(F)(F)C(O)(F)C(F)(F)F)C(F)(F)F\n",
      "888 O=C(O)C(F)(OC(F)(F)C(O)(F)C(F)(F)F)C(F)(F)F O=C(O)C(F)(OC(F)(F)C(O)(F)C(F)(F)F)C(F)(F)F O=C(O)C(F)(OC(F)(F)C(O)(F)C(F)(F)F)C(F)(F)F\n",
      "888 O=C(O)C(F)(OC(F)(F)C(O)(F)C(F)(F)F)C(F)(F)F O=C(O)C(F)(OC(F)(F)C(O)(F)C(F)(F)F)C(F)(F)F O=C(O)C(F)(OC(F)(F)C(O)(F)C(F)(F)F)C(F)(F)F\n",
      "888 O=C(O)C(F)(OC(F)(F)C(O)(F)C(F)(F)F)C(F)(F)F O=C(O)C(F)(OC(F)(F)C(O)(F)C(F)(F)F)C(F)(F)F O=C(O)C(F)(OC(F)(F)C(O)(F)C(F)(F)F)C(F)(F)F\n",
      "888 O=C(O)C(F)(OC(F)(F)C(O)(F)C(F)(F)F)C(F)(F)F O=C(O)C(F)(OC(F)(F)C(O)(F)C(F)(F)F)C(F)(F)F O=C(O)C(F)(OC(F)(F)C(O)(F)C(F)(F)F)C(F)(F)F\n",
      "888 O=C(O)C(F)(OC(F)(F)C(O)(F)C(F)(F)F)C(F)(F)F O=C(O)C(F)(OC(F)(F)C(O)(F)C(F)(F)F)C(F)(F)F O=C(O)C(F)(OC(F)(F)C(O)(F)C(F)(F)F)C(F)(F)F\n",
      "888 O=C(O)C(F)(OC(F)(F)C(O)(F)C(F)(F)F)C(F)(F)F O=C(O)C(F)(OC(F)(F)C(O)(F)C(F)(F)F)C(F)(F)F O=C(O)C(F)(OC(F)(F)C(O)(F)C(F)(F)F)C(F)(F)F\n",
      "123\n",
      "inchikey REIACAJBANJAAC-UHFFFAOYSA-N\n",
      "456 []\n",
      "123\n",
      "inchikey DERMNGBIJSXSSF-UHFFFAOYSA-N\n",
      "456 []\n",
      "123\n",
      "inchikey CNQUMFQZNOXMAP-UHFFFAOYSA-N\n",
      "456 []\n",
      "123\n",
      "inchikey GXDLZECWVBSRAN-UHFFFAOYSA-N\n",
      "456 []\n",
      "123\n",
      "inchikey ZFIINHJUXCQRBI-UHFFFAOYSA-N\n",
      "456 []\n",
      "123\n",
      "inchikey CPFSIWNYFGCRLL-UHFFFAOYSA-N\n",
      "456 []\n",
      "123\n",
      "inchikey GKYKUTCFSGIKBL-UHFFFAOYSA-N\n",
      "456 []\n",
      "123\n",
      "inchikey IQLGLWLGLRAGOH-UHFFFAOYSA-N\n",
      "456 []\n",
      "123\n",
      "inchikey MNUMCKSXNNPXNB-UHFFFAOYSA-N\n",
      "456 []\n",
      "123\n",
      "inchikey YGPIABUCJDIWSK-UHFFFAOYSA-N\n",
      "456 []\n",
      "123\n",
      "inchikey OUFOHOUOMZHTBQ-UHFFFAOYSA-N\n",
      "456 [{'smiles': 'O=S(=O)(O)C(F)(F)C(F)(F)C(F)(F)C(F)(F)C(O)(F)C(F)(F)C(F)(F)C(F)(F)F', 'toolkit': 'DS4SD', 'function': 'Patents_For_Molecule', 'parameters': '', 'results': []}, {'smiles': 'O=S(=O)(O)C(F)(F)C(F)(F)C(F)(F)C(F)(F)C(O)(F)C(F)(F)C(F)(F)C(F)(F)F', 'toolkit': 'DS4SD', 'function': 'Patents_For_Molecule', 'parameters': '', 'results': []}, {'smiles': 'O=S(=O)(O)C(F)(F)C(F)(F)C(F)(F)C(F)(F)C(O)(F)C(F)(F)C(F)(F)C(F)(F)F', 'toolkit': 'DS4SD', 'function': 'Patents_For_Molecule', 'parameters': '', 'results': []}, {'smiles': 'O=S(=O)(O)C(F)(F)C(F)(F)C(F)(F)C(F)(F)C(O)(F)C(F)(F)C(F)(F)C(F)(F)F', 'toolkit': 'DS4SD', 'function': 'Patents_For_Molecule', 'parameters': '', 'results': []}, {'smiles': 'O=S(=O)(O)C(F)(F)C(F)(F)C(F)(F)C(F)(F)C(O)(F)C(F)(F)C(F)(F)C(F)(F)F', 'toolkit': 'DS4SD', 'function': 'Patents_For_Molecule', 'parameters': '', 'results': []}, {'smiles': 'O=S(=O)(O)C(F)(F)C(F)(F)C(F)(F)C(F)(F)C(O)(F)C(F)(F)C(F)(F)C(F)(F)F', 'toolkit': 'DS4SD', 'function': 'Patents_For_Molecule', 'parameters': '', 'results': []}, {'toolkit': 'DS4SD', 'function': 'Patents_For_Molecule', 'smiles': 'O=S(=O)(O)C(F)(F)C(F)(F)C(F)(F)C(F)(F)C(O)(F)C(F)(F)C(F)(F)C(F)(F)F', 'parameters': '', 'results': []}, {'smiles': 'O=S(=O)(O)C(F)(F)C(F)(F)C(F)(F)C(F)(F)C(O)(F)C(F)(F)C(F)(F)C(F)(F)F', 'toolkit': 'DS4SD', 'function': 'Patents_For_Molecule', 'parameters': '', 'results': []}, {'smiles': 'O=S(=O)(O)C(F)(F)C(F)(F)C(F)(F)C(F)(F)C(O)(F)C(F)(F)C(F)(F)C(F)(F)F', 'toolkit': 'DS4SD', 'function': 'Patents_For_Molecule', 'parameters': '', 'results': []}, {'smiles': 'O=S(=O)(O)C(F)(F)C(F)(F)C(F)(F)C(F)(F)C(O)(F)C(F)(F)C(F)(F)C(F)(F)F', 'toolkit': 'DS4SD', 'function': 'Patents_For_Molecule', 'parameters': '', 'results': []}, {'smiles': 'O=S(=O)(O)C(F)(F)C(F)(F)C(F)(F)C(F)(F)C(O)(F)C(F)(F)C(F)(F)C(F)(F)F', 'toolkit': 'DS4SD', 'function': 'Patents_For_Molecule', 'parameters': '', 'results': []}, {'smiles': 'O=S(=O)(O)C(F)(F)C(F)(F)C(F)(F)C(F)(F)C(O)(F)C(F)(F)C(F)(F)C(F)(F)F', 'toolkit': 'DS4SD', 'function': 'Patents_For_Molecule', 'parameters': '', 'results': []}, {'smiles': 'O=S(=O)(O)C(F)(F)C(F)(F)C(F)(F)C(F)(F)C(O)(F)C(F)(F)C(F)(F)C(F)(F)F', 'toolkit': 'DS4SD', 'function': 'Patents_For_Molecule', 'parameters': '', 'results': []}, {'smiles': 'O=S(=O)(O)C(F)(F)C(F)(F)C(F)(F)C(F)(F)C(O)(F)C(F)(F)C(F)(F)C(F)(F)F', 'toolkit': 'DS4SD', 'function': 'Patents_For_Molecule', 'parameters': '', 'results': []}, {'smiles': 'O=S(=O)(O)C(F)(F)C(F)(F)C(F)(F)C(F)(F)C(O)(F)C(F)(F)C(F)(F)C(F)(F)F', 'toolkit': 'DS4SD', 'function': 'Patents_For_Molecule', 'parameters': '', 'results': []}, {'smiles': 'O=S(=O)(O)C(F)(F)C(F)(F)C(F)(F)C(F)(F)C(O)(F)C(F)(F)C(F)(F)C(F)(F)F', 'toolkit': 'DS4SD', 'function': 'Patents_For_Molecule', 'parameters': '', 'results': []}, {'smiles': 'O=S(=O)(O)C(F)(F)C(F)(F)C(F)(F)C(F)(F)C(O)(F)C(F)(F)C(F)(F)C(F)(F)F', 'toolkit': 'DS4SD', 'function': 'Patents_For_Molecule', 'parameters': '', 'results': []}, {'smiles': 'O=S(=O)(O)C(F)(F)C(F)(F)C(F)(F)C(F)(F)C(O)(F)C(F)(F)C(F)(F)C(F)(F)F', 'toolkit': 'DS4SD', 'function': 'Patents_For_Molecule', 'parameters': '', 'results': []}, {'smiles': 'O=S(=O)(O)C(F)(F)C(F)(F)C(F)(F)C(F)(F)C(O)(F)C(F)(F)C(F)(F)C(F)(F)F', 'toolkit': 'DS4SD', 'function': 'Patents_For_Molecule', 'parameters': '', 'results': []}, {'smiles': 'O=S(=O)(O)C(F)(F)C(F)(F)C(F)(F)C(F)(F)C(O)(F)C(F)(F)C(F)(F)C(F)(F)F', 'toolkit': 'DS4SD', 'function': 'Patents_For_Molecule', 'parameters': '', 'results': []}, {'smiles': 'O=S(=O)(O)C(F)(F)C(F)(F)C(F)(F)C(F)(F)C(O)(F)C(F)(F)C(F)(F)C(F)(F)F', 'toolkit': 'DS4SD', 'function': 'Patents_For_Molecule', 'parameters': '', 'results': []}]\n",
      "888 O=S(=O)(O)C(F)(F)C(F)(F)C(F)(F)C(F)(F)C(O)(F)C(F)(F)C(F)(F)C(F)(F)F O=S(=O)(O)C(F)(F)C(F)(F)C(F)(F)C(F)(F)C(O)(F)C(F)(F)C(F)(F)C(F)(F)F O=S(=O)(O)C(F)(F)C(F)(F)C(F)(F)C(F)(F)C(O)(F)C(F)(F)C(F)(F)C(F)(F)F\n",
      "888 O=S(=O)(O)C(F)(F)C(F)(F)C(F)(F)C(F)(F)C(O)(F)C(F)(F)C(F)(F)C(F)(F)F O=S(=O)(O)C(F)(F)C(F)(F)C(F)(F)C(F)(F)C(O)(F)C(F)(F)C(F)(F)C(F)(F)F O=S(=O)(O)C(F)(F)C(F)(F)C(F)(F)C(F)(F)C(O)(F)C(F)(F)C(F)(F)C(F)(F)F\n",
      "888 O=S(=O)(O)C(F)(F)C(F)(F)C(F)(F)C(F)(F)C(O)(F)C(F)(F)C(F)(F)C(F)(F)F O=S(=O)(O)C(F)(F)C(F)(F)C(F)(F)C(F)(F)C(O)(F)C(F)(F)C(F)(F)C(F)(F)F O=S(=O)(O)C(F)(F)C(F)(F)C(F)(F)C(F)(F)C(O)(F)C(F)(F)C(F)(F)C(F)(F)F\n",
      "888 O=S(=O)(O)C(F)(F)C(F)(F)C(F)(F)C(F)(F)C(O)(F)C(F)(F)C(F)(F)C(F)(F)F O=S(=O)(O)C(F)(F)C(F)(F)C(F)(F)C(F)(F)C(O)(F)C(F)(F)C(F)(F)C(F)(F)F O=S(=O)(O)C(F)(F)C(F)(F)C(F)(F)C(F)(F)C(O)(F)C(F)(F)C(F)(F)C(F)(F)F\n",
      "888 O=S(=O)(O)C(F)(F)C(F)(F)C(F)(F)C(F)(F)C(O)(F)C(F)(F)C(F)(F)C(F)(F)F O=S(=O)(O)C(F)(F)C(F)(F)C(F)(F)C(F)(F)C(O)(F)C(F)(F)C(F)(F)C(F)(F)F O=S(=O)(O)C(F)(F)C(F)(F)C(F)(F)C(F)(F)C(O)(F)C(F)(F)C(F)(F)C(F)(F)F\n",
      "888 O=S(=O)(O)C(F)(F)C(F)(F)C(F)(F)C(F)(F)C(O)(F)C(F)(F)C(F)(F)C(F)(F)F O=S(=O)(O)C(F)(F)C(F)(F)C(F)(F)C(F)(F)C(O)(F)C(F)(F)C(F)(F)C(F)(F)F O=S(=O)(O)C(F)(F)C(F)(F)C(F)(F)C(F)(F)C(O)(F)C(F)(F)C(F)(F)C(F)(F)F\n",
      "888 O=S(=O)(O)C(F)(F)C(F)(F)C(F)(F)C(F)(F)C(O)(F)C(F)(F)C(F)(F)C(F)(F)F O=S(=O)(O)C(F)(F)C(F)(F)C(F)(F)C(F)(F)C(O)(F)C(F)(F)C(F)(F)C(F)(F)F O=S(=O)(O)C(F)(F)C(F)(F)C(F)(F)C(F)(F)C(O)(F)C(F)(F)C(F)(F)C(F)(F)F\n",
      "888 O=S(=O)(O)C(F)(F)C(F)(F)C(F)(F)C(F)(F)C(O)(F)C(F)(F)C(F)(F)C(F)(F)F O=S(=O)(O)C(F)(F)C(F)(F)C(F)(F)C(F)(F)C(O)(F)C(F)(F)C(F)(F)C(F)(F)F O=S(=O)(O)C(F)(F)C(F)(F)C(F)(F)C(F)(F)C(O)(F)C(F)(F)C(F)(F)C(F)(F)F\n",
      "888 O=S(=O)(O)C(F)(F)C(F)(F)C(F)(F)C(F)(F)C(O)(F)C(F)(F)C(F)(F)C(F)(F)F O=S(=O)(O)C(F)(F)C(F)(F)C(F)(F)C(F)(F)C(O)(F)C(F)(F)C(F)(F)C(F)(F)F O=S(=O)(O)C(F)(F)C(F)(F)C(F)(F)C(F)(F)C(O)(F)C(F)(F)C(F)(F)C(F)(F)F\n",
      "888 O=S(=O)(O)C(F)(F)C(F)(F)C(F)(F)C(F)(F)C(O)(F)C(F)(F)C(F)(F)C(F)(F)F O=S(=O)(O)C(F)(F)C(F)(F)C(F)(F)C(F)(F)C(O)(F)C(F)(F)C(F)(F)C(F)(F)F O=S(=O)(O)C(F)(F)C(F)(F)C(F)(F)C(F)(F)C(O)(F)C(F)(F)C(F)(F)C(F)(F)F\n",
      "888 O=S(=O)(O)C(F)(F)C(F)(F)C(F)(F)C(F)(F)C(O)(F)C(F)(F)C(F)(F)C(F)(F)F O=S(=O)(O)C(F)(F)C(F)(F)C(F)(F)C(F)(F)C(O)(F)C(F)(F)C(F)(F)C(F)(F)F O=S(=O)(O)C(F)(F)C(F)(F)C(F)(F)C(F)(F)C(O)(F)C(F)(F)C(F)(F)C(F)(F)F\n",
      "888 O=S(=O)(O)C(F)(F)C(F)(F)C(F)(F)C(F)(F)C(O)(F)C(F)(F)C(F)(F)C(F)(F)F O=S(=O)(O)C(F)(F)C(F)(F)C(F)(F)C(F)(F)C(O)(F)C(F)(F)C(F)(F)C(F)(F)F O=S(=O)(O)C(F)(F)C(F)(F)C(F)(F)C(F)(F)C(O)(F)C(F)(F)C(F)(F)C(F)(F)F\n",
      "888 O=S(=O)(O)C(F)(F)C(F)(F)C(F)(F)C(F)(F)C(O)(F)C(F)(F)C(F)(F)C(F)(F)F O=S(=O)(O)C(F)(F)C(F)(F)C(F)(F)C(F)(F)C(O)(F)C(F)(F)C(F)(F)C(F)(F)F O=S(=O)(O)C(F)(F)C(F)(F)C(F)(F)C(F)(F)C(O)(F)C(F)(F)C(F)(F)C(F)(F)F\n",
      "888 O=S(=O)(O)C(F)(F)C(F)(F)C(F)(F)C(F)(F)C(O)(F)C(F)(F)C(F)(F)C(F)(F)F O=S(=O)(O)C(F)(F)C(F)(F)C(F)(F)C(F)(F)C(O)(F)C(F)(F)C(F)(F)C(F)(F)F O=S(=O)(O)C(F)(F)C(F)(F)C(F)(F)C(F)(F)C(O)(F)C(F)(F)C(F)(F)C(F)(F)F\n",
      "888 O=S(=O)(O)C(F)(F)C(F)(F)C(F)(F)C(F)(F)C(O)(F)C(F)(F)C(F)(F)C(F)(F)F O=S(=O)(O)C(F)(F)C(F)(F)C(F)(F)C(F)(F)C(O)(F)C(F)(F)C(F)(F)C(F)(F)F O=S(=O)(O)C(F)(F)C(F)(F)C(F)(F)C(F)(F)C(O)(F)C(F)(F)C(F)(F)C(F)(F)F\n",
      "888 O=S(=O)(O)C(F)(F)C(F)(F)C(F)(F)C(F)(F)C(O)(F)C(F)(F)C(F)(F)C(F)(F)F O=S(=O)(O)C(F)(F)C(F)(F)C(F)(F)C(F)(F)C(O)(F)C(F)(F)C(F)(F)C(F)(F)F O=S(=O)(O)C(F)(F)C(F)(F)C(F)(F)C(F)(F)C(O)(F)C(F)(F)C(F)(F)C(F)(F)F\n",
      "888 O=S(=O)(O)C(F)(F)C(F)(F)C(F)(F)C(F)(F)C(O)(F)C(F)(F)C(F)(F)C(F)(F)F O=S(=O)(O)C(F)(F)C(F)(F)C(F)(F)C(F)(F)C(O)(F)C(F)(F)C(F)(F)C(F)(F)F O=S(=O)(O)C(F)(F)C(F)(F)C(F)(F)C(F)(F)C(O)(F)C(F)(F)C(F)(F)C(F)(F)F\n",
      "888 O=S(=O)(O)C(F)(F)C(F)(F)C(F)(F)C(F)(F)C(O)(F)C(F)(F)C(F)(F)C(F)(F)F O=S(=O)(O)C(F)(F)C(F)(F)C(F)(F)C(F)(F)C(O)(F)C(F)(F)C(F)(F)C(F)(F)F O=S(=O)(O)C(F)(F)C(F)(F)C(F)(F)C(F)(F)C(O)(F)C(F)(F)C(F)(F)C(F)(F)F\n",
      "888 O=S(=O)(O)C(F)(F)C(F)(F)C(F)(F)C(F)(F)C(O)(F)C(F)(F)C(F)(F)C(F)(F)F O=S(=O)(O)C(F)(F)C(F)(F)C(F)(F)C(F)(F)C(O)(F)C(F)(F)C(F)(F)C(F)(F)F O=S(=O)(O)C(F)(F)C(F)(F)C(F)(F)C(F)(F)C(O)(F)C(F)(F)C(F)(F)C(F)(F)F\n",
      "888 O=S(=O)(O)C(F)(F)C(F)(F)C(F)(F)C(F)(F)C(O)(F)C(F)(F)C(F)(F)C(F)(F)F O=S(=O)(O)C(F)(F)C(F)(F)C(F)(F)C(F)(F)C(O)(F)C(F)(F)C(F)(F)C(F)(F)F O=S(=O)(O)C(F)(F)C(F)(F)C(F)(F)C(F)(F)C(O)(F)C(F)(F)C(F)(F)C(F)(F)F\n",
      "888 O=S(=O)(O)C(F)(F)C(F)(F)C(F)(F)C(F)(F)C(O)(F)C(F)(F)C(F)(F)C(F)(F)F O=S(=O)(O)C(F)(F)C(F)(F)C(F)(F)C(F)(F)C(O)(F)C(F)(F)C(F)(F)C(F)(F)F O=S(=O)(O)C(F)(F)C(F)(F)C(F)(F)C(F)(F)C(O)(F)C(F)(F)C(F)(F)C(F)(F)F\n",
      "123\n",
      "inchikey XTRMLHOAOOJDIM-UHFFFAOYSA-N\n",
      "456 []\n",
      "123\n",
      "inchikey SCGUNALTJLOOGK-UHFFFAOYSA-N\n",
      "456 []\n",
      "123\n",
      "inchikey ZGERJWLNIJSUIM-UHFFFAOYSA-N\n",
      "456 []\n",
      "123\n",
      "inchikey NFMGGOOFBXMNBH-UHFFFAOYSA-N\n",
      "456 []\n",
      "123\n",
      "inchikey ROWMYOGYAWPQAP-UHFFFAOYSA-N\n",
      "456 []\n",
      "123\n",
      "inchikey NWDMDZNWVZQRGF-UHFFFAOYSA-N\n",
      "456 []\n",
      "123\n",
      "inchikey GBIXSENEDNUASE-UHFFFAOYSA-N\n",
      "456 []\n",
      "123\n",
      "inchikey QSYUOCLYUOAPNA-UHFFFAOYSA-N\n",
      "456 []\n",
      "123\n",
      "inchikey RRMISSBVQDWPCX-UHFFFAOYSA-N\n",
      "456 []\n",
      "123\n",
      "inchikey LMDFBYGANQSNFX-UHFFFAOYSA-N\n",
      "456 []\n",
      "123\n",
      "inchikey YIUZTRATYKGDFT-UHFFFAOYSA-N\n",
      "456 []\n",
      "123\n",
      "inchikey KDBBVMHJILDSGW-UHFFFAOYSA-N\n",
      "456 []\n",
      "123\n",
      "inchikey AYXFXRBZGJRSEG-UHFFFAOYSA-N\n",
      "456 []\n",
      "123\n",
      "inchikey BIHYOWYNLRGNHF-UHFFFAOYSA-M\n",
      "456 []\n",
      "123\n",
      "inchikey IIBHWRCLRKSWJB-UHFFFAOYSA-M\n",
      "456 []\n",
      "123\n",
      "inchikey YYYONDXERNIFKX-UHFFFAOYSA-N\n",
      "456 []\n",
      "123\n",
      "inchikey ITTUNFSMLSXTDN-UHFFFAOYSA-M\n",
      "456 [{'smiles': 'O=S(=O)([O-])C(F)(F)C(F)(F)C(F)C(F)(F)C(F)(F)C(F)(F)F', 'toolkit': 'DS4SD', 'function': 'Patents_For_Molecule', 'parameters': '', 'results': []}, {'smiles': 'O=S(=O)([O-])C(F)(F)C(F)(F)C(F)C(F)(F)C(F)(F)C(F)(F)F', 'toolkit': 'DS4SD', 'function': 'Patents_For_Molecule', 'parameters': '', 'results': []}, {'smiles': 'O=S(=O)([O-])C(F)(F)C(F)(F)C(F)C(F)(F)C(F)(F)C(F)(F)F', 'toolkit': 'DS4SD', 'function': 'Patents_For_Molecule', 'parameters': '', 'results': []}, {'smiles': 'O=S(=O)([O-])C(F)(F)C(F)(F)C(F)C(F)(F)C(F)(F)C(F)(F)F', 'toolkit': 'DS4SD', 'function': 'Patents_For_Molecule', 'parameters': '', 'results': []}, {'smiles': 'O=S(=O)([O-])C(F)(F)C(F)(F)C(F)C(F)(F)C(F)(F)C(F)(F)F', 'toolkit': 'DS4SD', 'function': 'Patents_For_Molecule', 'parameters': '', 'results': []}, {'smiles': 'O=S(=O)([O-])C(F)(F)C(F)(F)C(F)C(F)(F)C(F)(F)C(F)(F)F', 'toolkit': 'DS4SD', 'function': 'Patents_For_Molecule', 'parameters': '', 'results': []}, {'smiles': 'O=S(=O)([O-])C(F)(F)C(F)(F)C(F)C(F)(F)C(F)(F)C(F)(F)F', 'toolkit': 'DS4SD', 'function': 'Patents_For_Molecule', 'parameters': '', 'results': []}, {'smiles': 'O=S(=O)([O-])C(F)(F)C(F)(F)C(F)C(F)(F)C(F)(F)C(F)(F)F', 'toolkit': 'DS4SD', 'function': 'Patents_For_Molecule', 'parameters': '', 'results': []}, {'smiles': 'O=S(=O)([O-])C(F)(F)C(F)(F)C(F)C(F)(F)C(F)(F)C(F)(F)F', 'toolkit': 'DS4SD', 'function': 'Patents_For_Molecule', 'parameters': '', 'results': []}, {'smiles': 'O=S(=O)([O-])C(F)(F)C(F)(F)C(F)C(F)(F)C(F)(F)C(F)(F)F', 'toolkit': 'DS4SD', 'function': 'Patents_For_Molecule', 'parameters': '', 'results': []}, {'smiles': 'O=S(=O)([O-])C(F)(F)C(F)(F)C(F)C(F)(F)C(F)(F)C(F)(F)F', 'toolkit': 'DS4SD', 'function': 'Patents_For_Molecule', 'parameters': '', 'results': []}]\n",
      "888 O=S(=O)([O-])C(F)(F)C(F)(F)C(F)C(F)(F)C(F)(F)C(F)(F)F O=S(=O)([O-])C(F)(F)C(F)(F)C(F)C(F)(F)C(F)(F)C(F)(F)F O=S(=O)([O-])C(F)(F)C(F)(F)C(F)C(F)(F)C(F)(F)C(F)(F)F\n",
      "888 O=S(=O)([O-])C(F)(F)C(F)(F)C(F)C(F)(F)C(F)(F)C(F)(F)F O=S(=O)([O-])C(F)(F)C(F)(F)C(F)C(F)(F)C(F)(F)C(F)(F)F O=S(=O)([O-])C(F)(F)C(F)(F)C(F)C(F)(F)C(F)(F)C(F)(F)F\n",
      "888 O=S(=O)([O-])C(F)(F)C(F)(F)C(F)C(F)(F)C(F)(F)C(F)(F)F O=S(=O)([O-])C(F)(F)C(F)(F)C(F)C(F)(F)C(F)(F)C(F)(F)F O=S(=O)([O-])C(F)(F)C(F)(F)C(F)C(F)(F)C(F)(F)C(F)(F)F\n",
      "888 O=S(=O)([O-])C(F)(F)C(F)(F)C(F)C(F)(F)C(F)(F)C(F)(F)F O=S(=O)([O-])C(F)(F)C(F)(F)C(F)C(F)(F)C(F)(F)C(F)(F)F O=S(=O)([O-])C(F)(F)C(F)(F)C(F)C(F)(F)C(F)(F)C(F)(F)F\n",
      "888 O=S(=O)([O-])C(F)(F)C(F)(F)C(F)C(F)(F)C(F)(F)C(F)(F)F O=S(=O)([O-])C(F)(F)C(F)(F)C(F)C(F)(F)C(F)(F)C(F)(F)F O=S(=O)([O-])C(F)(F)C(F)(F)C(F)C(F)(F)C(F)(F)C(F)(F)F\n",
      "888 O=S(=O)([O-])C(F)(F)C(F)(F)C(F)C(F)(F)C(F)(F)C(F)(F)F O=S(=O)([O-])C(F)(F)C(F)(F)C(F)C(F)(F)C(F)(F)C(F)(F)F O=S(=O)([O-])C(F)(F)C(F)(F)C(F)C(F)(F)C(F)(F)C(F)(F)F\n",
      "888 O=S(=O)([O-])C(F)(F)C(F)(F)C(F)C(F)(F)C(F)(F)C(F)(F)F O=S(=O)([O-])C(F)(F)C(F)(F)C(F)C(F)(F)C(F)(F)C(F)(F)F O=S(=O)([O-])C(F)(F)C(F)(F)C(F)C(F)(F)C(F)(F)C(F)(F)F\n",
      "888 O=S(=O)([O-])C(F)(F)C(F)(F)C(F)C(F)(F)C(F)(F)C(F)(F)F O=S(=O)([O-])C(F)(F)C(F)(F)C(F)C(F)(F)C(F)(F)C(F)(F)F O=S(=O)([O-])C(F)(F)C(F)(F)C(F)C(F)(F)C(F)(F)C(F)(F)F\n",
      "888 O=S(=O)([O-])C(F)(F)C(F)(F)C(F)C(F)(F)C(F)(F)C(F)(F)F O=S(=O)([O-])C(F)(F)C(F)(F)C(F)C(F)(F)C(F)(F)C(F)(F)F O=S(=O)([O-])C(F)(F)C(F)(F)C(F)C(F)(F)C(F)(F)C(F)(F)F\n",
      "888 O=S(=O)([O-])C(F)(F)C(F)(F)C(F)C(F)(F)C(F)(F)C(F)(F)F O=S(=O)([O-])C(F)(F)C(F)(F)C(F)C(F)(F)C(F)(F)C(F)(F)F O=S(=O)([O-])C(F)(F)C(F)(F)C(F)C(F)(F)C(F)(F)C(F)(F)F\n",
      "888 O=S(=O)([O-])C(F)(F)C(F)(F)C(F)C(F)(F)C(F)(F)C(F)(F)F O=S(=O)([O-])C(F)(F)C(F)(F)C(F)C(F)(F)C(F)(F)C(F)(F)F O=S(=O)([O-])C(F)(F)C(F)(F)C(F)C(F)(F)C(F)(F)C(F)(F)F\n",
      "123\n",
      "inchikey ACEKLXZRZOWKRY-UHFFFAOYSA-M\n",
      "456 [{'smiles': 'O=S(=O)([O-])C(F)(F)C(F)(F)C(F)(F)C(F)(F)C(F)(F)F', 'toolkit': 'DS4SD', 'function': 'Patents_For_Molecule', 'parameters': '', 'results': [{'PATENT ID': 'US20210379574'}]}, {'smiles': 'O=S(=O)([O-])C(F)(F)C(F)(F)C(F)(F)C(F)(F)C(F)(F)F', 'toolkit': 'DS4SD', 'function': 'Patents_For_Molecule', 'parameters': '', 'results': [{'PATENT ID': 'US20210379574'}]}, {'smiles': 'O=S(=O)([O-])C(F)(F)C(F)(F)C(F)(F)C(F)(F)C(F)(F)F', 'toolkit': 'RXN', 'function': 'Predict_Retrosynthesis', 'parameters': {}, 'results': {'0': {'confidence': 0.817, 'reactions': ['C[S+](c1ccccc1)c1ccccc1 + O=S(=O)(O[Na])C(F)(F)C(F)(F)C(F)(F)C(F)(F)C(F)(F)F + [Br-] --->> O=S(=O)([O-])C(F)(F)C(F)(F)C(F)(F)C(F)(F)C(F)(F)F', 'C[S+](c1ccccc1)c1ccccc1 --->> C[S+](c1ccccc1)c1ccccc1', 'O=S(=O)(F)C(F)(F)C(F)(F)C(F)(F)C(F)(F)C(F)(F)F + O[Na] --->> O=S(=O)(O[Na])C(F)(F)C(F)(F)C(F)(F)C(F)(F)C(F)(F)F']}}}, {'smiles': 'O=S(=O)([O-])C(F)(F)C(F)(F)C(F)(F)C(F)(F)C(F)(F)F', 'toolkit': 'DS4SD', 'function': 'Patents_For_Molecule', 'parameters': '', 'results': [{'PATENT ID': 'US20210379574'}]}, {'smiles': 'O=S(=O)([O-])C(F)(F)C(F)(F)C(F)(F)C(F)(F)C(F)(F)F', 'toolkit': 'DS4SD', 'function': 'Patents_For_Molecule', 'parameters': '', 'results': [{'PATENT ID': 'US20210379574'}]}, {'smiles': 'O=S(=O)([O-])C(F)(F)C(F)(F)C(F)(F)C(F)(F)C(F)(F)F', 'toolkit': 'DS4SD', 'function': 'Patents_For_Molecule', 'parameters': '', 'results': [{'PATENT ID': 'US20210379574'}]}, {'smiles': 'O=S(=O)([O-])C(F)(F)C(F)(F)C(F)(F)C(F)(F)C(F)(F)F', 'toolkit': 'DS4SD', 'function': 'Patents_For_Molecule', 'parameters': '', 'results': [{'PATENT ID': 'US20210379574'}]}, {'smiles': 'O=S(=O)([O-])C(F)(F)C(F)(F)C(F)(F)C(F)(F)C(F)(F)F', 'toolkit': 'DS4SD', 'function': 'Patents_For_Molecule', 'parameters': '', 'results': [{'PATENT ID': 'US20210379574'}]}]\n",
      "888 O=S(=O)([O-])C(F)(F)C(F)(F)C(F)(F)C(F)(F)C(F)(F)F O=S(=O)([O-])C(F)(F)C(F)(F)C(F)(F)C(F)(F)C(F)(F)F O=S(=O)([O-])C(F)(F)C(F)(F)C(F)(F)C(F)(F)C(F)(F)F\n",
      "888 O=S(=O)([O-])C(F)(F)C(F)(F)C(F)(F)C(F)(F)C(F)(F)F O=S(=O)([O-])C(F)(F)C(F)(F)C(F)(F)C(F)(F)C(F)(F)F O=S(=O)([O-])C(F)(F)C(F)(F)C(F)(F)C(F)(F)C(F)(F)F\n",
      "888 O=S(=O)([O-])C(F)(F)C(F)(F)C(F)(F)C(F)(F)C(F)(F)F O=S(=O)([O-])C(F)(F)C(F)(F)C(F)(F)C(F)(F)C(F)(F)F O=S(=O)([O-])C(F)(F)C(F)(F)C(F)(F)C(F)(F)C(F)(F)F\n",
      "888 O=S(=O)([O-])C(F)(F)C(F)(F)C(F)(F)C(F)(F)C(F)(F)F O=S(=O)([O-])C(F)(F)C(F)(F)C(F)(F)C(F)(F)C(F)(F)F O=S(=O)([O-])C(F)(F)C(F)(F)C(F)(F)C(F)(F)C(F)(F)F\n",
      "888 O=S(=O)([O-])C(F)(F)C(F)(F)C(F)(F)C(F)(F)C(F)(F)F O=S(=O)([O-])C(F)(F)C(F)(F)C(F)(F)C(F)(F)C(F)(F)F O=S(=O)([O-])C(F)(F)C(F)(F)C(F)(F)C(F)(F)C(F)(F)F\n",
      "888 O=S(=O)([O-])C(F)(F)C(F)(F)C(F)(F)C(F)(F)C(F)(F)F O=S(=O)([O-])C(F)(F)C(F)(F)C(F)(F)C(F)(F)C(F)(F)F O=S(=O)([O-])C(F)(F)C(F)(F)C(F)(F)C(F)(F)C(F)(F)F\n",
      "888 O=S(=O)([O-])C(F)(F)C(F)(F)C(F)(F)C(F)(F)C(F)(F)F O=S(=O)([O-])C(F)(F)C(F)(F)C(F)(F)C(F)(F)C(F)(F)F O=S(=O)([O-])C(F)(F)C(F)(F)C(F)(F)C(F)(F)C(F)(F)F\n",
      "888 O=S(=O)([O-])C(F)(F)C(F)(F)C(F)(F)C(F)(F)C(F)(F)F O=S(=O)([O-])C(F)(F)C(F)(F)C(F)(F)C(F)(F)C(F)(F)F O=S(=O)([O-])C(F)(F)C(F)(F)C(F)(F)C(F)(F)C(F)(F)F\n",
      "123\n",
      "inchikey AJTYXAMMOJDYIJ-UHFFFAOYSA-M\n",
      "456 []\n",
      "123\n",
      "inchikey USSTWXDOCZGGQP-UHFFFAOYSA-M\n",
      "456 [{'smiles': 'O=[SH]([O-])(O)C(F)(F)C(F)(F)C(F)(F)C(F)(F)C(F)(F)C(F)(F)F', 'toolkit': 'DS4SD', 'function': 'Patents_For_Molecule', 'parameters': '', 'results': []}, {'smiles': 'O=[SH]([O-])(O)C(F)(F)C(F)(F)C(F)(F)C(F)(F)C(F)(F)C(F)(F)F', 'toolkit': 'DS4SD', 'function': 'Patents_For_Molecule', 'parameters': '', 'results': []}, {'smiles': 'O=[SH]([O-])(O)C(F)(F)C(F)(F)C(F)(F)C(F)(F)C(F)(F)C(F)(F)F', 'toolkit': 'DS4SD', 'function': 'Patents_For_Molecule', 'parameters': '', 'results': []}, {'smiles': 'O=[SH]([O-])(O)C(F)(F)C(F)(F)C(F)(F)C(F)(F)C(F)(F)C(F)(F)F', 'toolkit': 'DS4SD', 'function': 'Patents_For_Molecule', 'parameters': '', 'results': []}, {'toolkit': 'DS4SD', 'function': 'Patents_For_Molecule', 'smiles': 'O=[SH]([O-])(O)C(F)(F)C(F)(F)C(F)(F)C(F)(F)C(F)(F)C(F)(F)F', 'parameters': '', 'results': []}, {'smiles': 'O=[SH]([O-])(O)C(F)(F)C(F)(F)C(F)(F)C(F)(F)C(F)(F)C(F)(F)F', 'toolkit': 'DS4SD', 'function': 'Patents_For_Molecule', 'parameters': '', 'results': []}, {'smiles': 'O=[SH]([O-])(O)C(F)(F)C(F)(F)C(F)(F)C(F)(F)C(F)(F)C(F)(F)F', 'toolkit': 'DS4SD', 'function': 'Patents_For_Molecule', 'parameters': '', 'results': []}, {'smiles': 'O=[SH]([O-])(O)C(F)(F)C(F)(F)C(F)(F)C(F)(F)C(F)(F)C(F)(F)F', 'toolkit': 'DS4SD', 'function': 'Patents_For_Molecule', 'parameters': '', 'results': []}, {'smiles': 'O=[SH]([O-])(O)C(F)(F)C(F)(F)C(F)(F)C(F)(F)C(F)(F)C(F)(F)F', 'toolkit': 'DS4SD', 'function': 'Patents_For_Molecule', 'parameters': '', 'results': []}, {'smiles': 'O=[SH]([O-])(O)C(F)(F)C(F)(F)C(F)(F)C(F)(F)C(F)(F)C(F)(F)F', 'toolkit': 'DS4SD', 'function': 'Patents_For_Molecule', 'parameters': '', 'results': []}, {'smiles': 'O=[SH]([O-])(O)C(F)(F)C(F)(F)C(F)(F)C(F)(F)C(F)(F)C(F)(F)F', 'toolkit': 'DS4SD', 'function': 'Patents_For_Molecule', 'parameters': '', 'results': []}, {'smiles': 'O=[SH]([O-])(O)C(F)(F)C(F)(F)C(F)(F)C(F)(F)C(F)(F)C(F)(F)F', 'toolkit': 'DS4SD', 'function': 'Patents_For_Molecule', 'parameters': '', 'results': []}, {'smiles': 'O=[SH]([O-])(O)C(F)(F)C(F)(F)C(F)(F)C(F)(F)C(F)(F)C(F)(F)F', 'toolkit': 'DS4SD', 'function': 'Patents_For_Molecule', 'parameters': '', 'results': []}, {'smiles': 'O=[SH]([O-])(O)C(F)(F)C(F)(F)C(F)(F)C(F)(F)C(F)(F)C(F)(F)F', 'toolkit': 'DS4SD', 'function': 'Patents_For_Molecule', 'parameters': '', 'results': []}, {'smiles': 'O=[SH]([O-])(O)C(F)(F)C(F)(F)C(F)(F)C(F)(F)C(F)(F)C(F)(F)F', 'toolkit': 'DS4SD', 'function': 'Patents_For_Molecule', 'parameters': '', 'results': []}, {'smiles': 'O=[SH]([O-])(O)C(F)(F)C(F)(F)C(F)(F)C(F)(F)C(F)(F)C(F)(F)F', 'toolkit': 'DS4SD', 'function': 'Patents_For_Molecule', 'parameters': '', 'results': []}, {'smiles': 'O=[SH]([O-])(O)C(F)(F)C(F)(F)C(F)(F)C(F)(F)C(F)(F)C(F)(F)F', 'toolkit': 'DS4SD', 'function': 'Patents_For_Molecule', 'parameters': '', 'results': []}, {'smiles': 'O=[SH]([O-])(O)C(F)(F)C(F)(F)C(F)(F)C(F)(F)C(F)(F)C(F)(F)F', 'toolkit': 'DS4SD', 'function': 'Patents_For_Molecule', 'parameters': '', 'results': []}, {'smiles': 'O=[SH]([O-])(O)C(F)(F)C(F)(F)C(F)(F)C(F)(F)C(F)(F)C(F)(F)F', 'toolkit': 'DS4SD', 'function': 'Patents_For_Molecule', 'parameters': '', 'results': []}, {'smiles': 'O=[SH]([O-])(O)C(F)(F)C(F)(F)C(F)(F)C(F)(F)C(F)(F)C(F)(F)F', 'toolkit': 'DS4SD', 'function': 'Patents_For_Molecule', 'parameters': '', 'results': []}, {'smiles': 'O=[SH]([O-])(O)C(F)(F)C(F)(F)C(F)(F)C(F)(F)C(F)(F)C(F)(F)F', 'toolkit': 'DS4SD', 'function': 'Patents_For_Molecule', 'parameters': '', 'results': []}, {'smiles': 'O=[SH]([O-])(O)C(F)(F)C(F)(F)C(F)(F)C(F)(F)C(F)(F)C(F)(F)F', 'toolkit': 'DS4SD', 'function': 'Patents_For_Molecule', 'parameters': '', 'results': []}, {'smiles': 'O=[SH]([O-])(O)C(F)(F)C(F)(F)C(F)(F)C(F)(F)C(F)(F)C(F)(F)F', 'toolkit': 'DS4SD', 'function': 'Patents_For_Molecule', 'parameters': '', 'results': []}, {'smiles': 'O=[SH]([O-])(O)C(F)(F)C(F)(F)C(F)(F)C(F)(F)C(F)(F)C(F)(F)F', 'toolkit': 'DS4SD', 'function': 'Patents_For_Molecule', 'parameters': '', 'results': []}, {'smiles': 'O=[SH]([O-])(O)C(F)(F)C(F)(F)C(F)(F)C(F)(F)C(F)(F)C(F)(F)F', 'toolkit': 'DS4SD', 'function': 'Patents_For_Molecule', 'parameters': '', 'results': []}, {'smiles': 'O=[SH]([O-])(O)C(F)(F)C(F)(F)C(F)(F)C(F)(F)C(F)(F)C(F)(F)F', 'toolkit': 'DS4SD', 'function': 'Patents_For_Molecule', 'parameters': '', 'results': []}, {'smiles': 'O=[SH]([O-])(O)C(F)(F)C(F)(F)C(F)(F)C(F)(F)C(F)(F)C(F)(F)F', 'toolkit': 'DS4SD', 'function': 'Patents_For_Molecule', 'parameters': '', 'results': []}, {'smiles': 'O=[SH]([O-])(O)C(F)(F)C(F)(F)C(F)(F)C(F)(F)C(F)(F)C(F)(F)F', 'toolkit': 'DS4SD', 'function': 'Patents_For_Molecule', 'parameters': '', 'results': []}, {'smiles': 'O=[SH]([O-])(O)C(F)(F)C(F)(F)C(F)(F)C(F)(F)C(F)(F)C(F)(F)F', 'toolkit': 'DS4SD', 'function': 'Patents_For_Molecule', 'parameters': '', 'results': []}, {'smiles': 'O=[SH]([O-])(O)C(F)(F)C(F)(F)C(F)(F)C(F)(F)C(F)(F)C(F)(F)F', 'toolkit': 'DS4SD', 'function': 'Patents_For_Molecule', 'parameters': '', 'results': []}, {'smiles': 'O=[SH]([O-])(O)C(F)(F)C(F)(F)C(F)(F)C(F)(F)C(F)(F)C(F)(F)F', 'toolkit': 'DS4SD', 'function': 'Patents_For_Molecule', 'parameters': '', 'results': []}, {'smiles': 'O=[SH]([O-])(O)C(F)(F)C(F)(F)C(F)(F)C(F)(F)C(F)(F)C(F)(F)F', 'toolkit': 'DS4SD', 'function': 'Patents_For_Molecule', 'parameters': '', 'results': []}, {'smiles': 'O=[SH]([O-])(O)C(F)(F)C(F)(F)C(F)(F)C(F)(F)C(F)(F)C(F)(F)F', 'toolkit': 'DS4SD', 'function': 'Patents_For_Molecule', 'parameters': '', 'results': []}, {'smiles': 'O=[SH]([O-])(O)C(F)(F)C(F)(F)C(F)(F)C(F)(F)C(F)(F)C(F)(F)F', 'toolkit': 'DS4SD', 'function': 'Patents_For_Molecule', 'parameters': '', 'results': []}, {'smiles': 'O=[SH]([O-])(O)C(F)(F)C(F)(F)C(F)(F)C(F)(F)C(F)(F)C(F)(F)F', 'toolkit': 'DS4SD', 'function': 'Patents_For_Molecule', 'parameters': '', 'results': []}, {'smiles': 'O=[SH]([O-])(O)C(F)(F)C(F)(F)C(F)(F)C(F)(F)C(F)(F)C(F)(F)F', 'toolkit': 'DS4SD', 'function': 'Patents_For_Molecule', 'parameters': '', 'results': []}, {'smiles': 'O=[SH]([O-])(O)C(F)(F)C(F)(F)C(F)(F)C(F)(F)C(F)(F)C(F)(F)F', 'toolkit': 'DS4SD', 'function': 'Patents_For_Molecule', 'parameters': '', 'results': []}, {'smiles': 'O=[SH]([O-])(O)C(F)(F)C(F)(F)C(F)(F)C(F)(F)C(F)(F)C(F)(F)F', 'toolkit': 'DS4SD', 'function': 'Patents_For_Molecule', 'parameters': '', 'results': []}, {'smiles': 'O=[SH]([O-])(O)C(F)(F)C(F)(F)C(F)(F)C(F)(F)C(F)(F)C(F)(F)F', 'toolkit': 'DS4SD', 'function': 'Patents_For_Molecule', 'parameters': '', 'results': []}, {'smiles': 'O=[SH]([O-])(O)C(F)(F)C(F)(F)C(F)(F)C(F)(F)C(F)(F)C(F)(F)F', 'toolkit': 'DS4SD', 'function': 'Patents_For_Molecule', 'parameters': '', 'results': []}]\n",
      "888 O=[SH]([O-])(O)C(F)(F)C(F)(F)C(F)(F)C(F)(F)C(F)(F)C(F)(F)F O=[SH]([O-])(O)C(F)(F)C(F)(F)C(F)(F)C(F)(F)C(F)(F)C(F)(F)F O=[SH]([O-])(O)C(F)(F)C(F)(F)C(F)(F)C(F)(F)C(F)(F)C(F)(F)F\n",
      "888 O=[SH]([O-])(O)C(F)(F)C(F)(F)C(F)(F)C(F)(F)C(F)(F)C(F)(F)F O=[SH]([O-])(O)C(F)(F)C(F)(F)C(F)(F)C(F)(F)C(F)(F)C(F)(F)F O=[SH]([O-])(O)C(F)(F)C(F)(F)C(F)(F)C(F)(F)C(F)(F)C(F)(F)F\n",
      "888 O=[SH]([O-])(O)C(F)(F)C(F)(F)C(F)(F)C(F)(F)C(F)(F)C(F)(F)F O=[SH]([O-])(O)C(F)(F)C(F)(F)C(F)(F)C(F)(F)C(F)(F)C(F)(F)F O=[SH]([O-])(O)C(F)(F)C(F)(F)C(F)(F)C(F)(F)C(F)(F)C(F)(F)F\n",
      "888 O=[SH]([O-])(O)C(F)(F)C(F)(F)C(F)(F)C(F)(F)C(F)(F)C(F)(F)F O=[SH]([O-])(O)C(F)(F)C(F)(F)C(F)(F)C(F)(F)C(F)(F)C(F)(F)F O=[SH]([O-])(O)C(F)(F)C(F)(F)C(F)(F)C(F)(F)C(F)(F)C(F)(F)F\n",
      "888 O=[SH]([O-])(O)C(F)(F)C(F)(F)C(F)(F)C(F)(F)C(F)(F)C(F)(F)F O=[SH]([O-])(O)C(F)(F)C(F)(F)C(F)(F)C(F)(F)C(F)(F)C(F)(F)F O=[SH]([O-])(O)C(F)(F)C(F)(F)C(F)(F)C(F)(F)C(F)(F)C(F)(F)F\n",
      "888 O=[SH]([O-])(O)C(F)(F)C(F)(F)C(F)(F)C(F)(F)C(F)(F)C(F)(F)F O=[SH]([O-])(O)C(F)(F)C(F)(F)C(F)(F)C(F)(F)C(F)(F)C(F)(F)F O=[SH]([O-])(O)C(F)(F)C(F)(F)C(F)(F)C(F)(F)C(F)(F)C(F)(F)F\n",
      "888 O=[SH]([O-])(O)C(F)(F)C(F)(F)C(F)(F)C(F)(F)C(F)(F)C(F)(F)F O=[SH]([O-])(O)C(F)(F)C(F)(F)C(F)(F)C(F)(F)C(F)(F)C(F)(F)F O=[SH]([O-])(O)C(F)(F)C(F)(F)C(F)(F)C(F)(F)C(F)(F)C(F)(F)F\n",
      "888 O=[SH]([O-])(O)C(F)(F)C(F)(F)C(F)(F)C(F)(F)C(F)(F)C(F)(F)F O=[SH]([O-])(O)C(F)(F)C(F)(F)C(F)(F)C(F)(F)C(F)(F)C(F)(F)F O=[SH]([O-])(O)C(F)(F)C(F)(F)C(F)(F)C(F)(F)C(F)(F)C(F)(F)F\n",
      "888 O=[SH]([O-])(O)C(F)(F)C(F)(F)C(F)(F)C(F)(F)C(F)(F)C(F)(F)F O=[SH]([O-])(O)C(F)(F)C(F)(F)C(F)(F)C(F)(F)C(F)(F)C(F)(F)F O=[SH]([O-])(O)C(F)(F)C(F)(F)C(F)(F)C(F)(F)C(F)(F)C(F)(F)F\n",
      "888 O=[SH]([O-])(O)C(F)(F)C(F)(F)C(F)(F)C(F)(F)C(F)(F)C(F)(F)F O=[SH]([O-])(O)C(F)(F)C(F)(F)C(F)(F)C(F)(F)C(F)(F)C(F)(F)F O=[SH]([O-])(O)C(F)(F)C(F)(F)C(F)(F)C(F)(F)C(F)(F)C(F)(F)F\n",
      "888 O=[SH]([O-])(O)C(F)(F)C(F)(F)C(F)(F)C(F)(F)C(F)(F)C(F)(F)F O=[SH]([O-])(O)C(F)(F)C(F)(F)C(F)(F)C(F)(F)C(F)(F)C(F)(F)F O=[SH]([O-])(O)C(F)(F)C(F)(F)C(F)(F)C(F)(F)C(F)(F)C(F)(F)F\n",
      "888 O=[SH]([O-])(O)C(F)(F)C(F)(F)C(F)(F)C(F)(F)C(F)(F)C(F)(F)F O=[SH]([O-])(O)C(F)(F)C(F)(F)C(F)(F)C(F)(F)C(F)(F)C(F)(F)F O=[SH]([O-])(O)C(F)(F)C(F)(F)C(F)(F)C(F)(F)C(F)(F)C(F)(F)F\n",
      "888 O=[SH]([O-])(O)C(F)(F)C(F)(F)C(F)(F)C(F)(F)C(F)(F)C(F)(F)F O=[SH]([O-])(O)C(F)(F)C(F)(F)C(F)(F)C(F)(F)C(F)(F)C(F)(F)F O=[SH]([O-])(O)C(F)(F)C(F)(F)C(F)(F)C(F)(F)C(F)(F)C(F)(F)F\n",
      "888 O=[SH]([O-])(O)C(F)(F)C(F)(F)C(F)(F)C(F)(F)C(F)(F)C(F)(F)F O=[SH]([O-])(O)C(F)(F)C(F)(F)C(F)(F)C(F)(F)C(F)(F)C(F)(F)F O=[SH]([O-])(O)C(F)(F)C(F)(F)C(F)(F)C(F)(F)C(F)(F)C(F)(F)F\n",
      "888 O=[SH]([O-])(O)C(F)(F)C(F)(F)C(F)(F)C(F)(F)C(F)(F)C(F)(F)F O=[SH]([O-])(O)C(F)(F)C(F)(F)C(F)(F)C(F)(F)C(F)(F)C(F)(F)F O=[SH]([O-])(O)C(F)(F)C(F)(F)C(F)(F)C(F)(F)C(F)(F)C(F)(F)F\n",
      "888 O=[SH]([O-])(O)C(F)(F)C(F)(F)C(F)(F)C(F)(F)C(F)(F)C(F)(F)F O=[SH]([O-])(O)C(F)(F)C(F)(F)C(F)(F)C(F)(F)C(F)(F)C(F)(F)F O=[SH]([O-])(O)C(F)(F)C(F)(F)C(F)(F)C(F)(F)C(F)(F)C(F)(F)F\n",
      "888 O=[SH]([O-])(O)C(F)(F)C(F)(F)C(F)(F)C(F)(F)C(F)(F)C(F)(F)F O=[SH]([O-])(O)C(F)(F)C(F)(F)C(F)(F)C(F)(F)C(F)(F)C(F)(F)F O=[SH]([O-])(O)C(F)(F)C(F)(F)C(F)(F)C(F)(F)C(F)(F)C(F)(F)F\n",
      "888 O=[SH]([O-])(O)C(F)(F)C(F)(F)C(F)(F)C(F)(F)C(F)(F)C(F)(F)F O=[SH]([O-])(O)C(F)(F)C(F)(F)C(F)(F)C(F)(F)C(F)(F)C(F)(F)F O=[SH]([O-])(O)C(F)(F)C(F)(F)C(F)(F)C(F)(F)C(F)(F)C(F)(F)F\n",
      "888 O=[SH]([O-])(O)C(F)(F)C(F)(F)C(F)(F)C(F)(F)C(F)(F)C(F)(F)F O=[SH]([O-])(O)C(F)(F)C(F)(F)C(F)(F)C(F)(F)C(F)(F)C(F)(F)F O=[SH]([O-])(O)C(F)(F)C(F)(F)C(F)(F)C(F)(F)C(F)(F)C(F)(F)F\n",
      "888 O=[SH]([O-])(O)C(F)(F)C(F)(F)C(F)(F)C(F)(F)C(F)(F)C(F)(F)F O=[SH]([O-])(O)C(F)(F)C(F)(F)C(F)(F)C(F)(F)C(F)(F)C(F)(F)F O=[SH]([O-])(O)C(F)(F)C(F)(F)C(F)(F)C(F)(F)C(F)(F)C(F)(F)F\n",
      "888 O=[SH]([O-])(O)C(F)(F)C(F)(F)C(F)(F)C(F)(F)C(F)(F)C(F)(F)F O=[SH]([O-])(O)C(F)(F)C(F)(F)C(F)(F)C(F)(F)C(F)(F)C(F)(F)F O=[SH]([O-])(O)C(F)(F)C(F)(F)C(F)(F)C(F)(F)C(F)(F)C(F)(F)F\n",
      "888 O=[SH]([O-])(O)C(F)(F)C(F)(F)C(F)(F)C(F)(F)C(F)(F)C(F)(F)F O=[SH]([O-])(O)C(F)(F)C(F)(F)C(F)(F)C(F)(F)C(F)(F)C(F)(F)F O=[SH]([O-])(O)C(F)(F)C(F)(F)C(F)(F)C(F)(F)C(F)(F)C(F)(F)F\n",
      "888 O=[SH]([O-])(O)C(F)(F)C(F)(F)C(F)(F)C(F)(F)C(F)(F)C(F)(F)F O=[SH]([O-])(O)C(F)(F)C(F)(F)C(F)(F)C(F)(F)C(F)(F)C(F)(F)F O=[SH]([O-])(O)C(F)(F)C(F)(F)C(F)(F)C(F)(F)C(F)(F)C(F)(F)F\n",
      "888 O=[SH]([O-])(O)C(F)(F)C(F)(F)C(F)(F)C(F)(F)C(F)(F)C(F)(F)F O=[SH]([O-])(O)C(F)(F)C(F)(F)C(F)(F)C(F)(F)C(F)(F)C(F)(F)F O=[SH]([O-])(O)C(F)(F)C(F)(F)C(F)(F)C(F)(F)C(F)(F)C(F)(F)F\n",
      "888 O=[SH]([O-])(O)C(F)(F)C(F)(F)C(F)(F)C(F)(F)C(F)(F)C(F)(F)F O=[SH]([O-])(O)C(F)(F)C(F)(F)C(F)(F)C(F)(F)C(F)(F)C(F)(F)F O=[SH]([O-])(O)C(F)(F)C(F)(F)C(F)(F)C(F)(F)C(F)(F)C(F)(F)F\n",
      "888 O=[SH]([O-])(O)C(F)(F)C(F)(F)C(F)(F)C(F)(F)C(F)(F)C(F)(F)F O=[SH]([O-])(O)C(F)(F)C(F)(F)C(F)(F)C(F)(F)C(F)(F)C(F)(F)F O=[SH]([O-])(O)C(F)(F)C(F)(F)C(F)(F)C(F)(F)C(F)(F)C(F)(F)F\n",
      "888 O=[SH]([O-])(O)C(F)(F)C(F)(F)C(F)(F)C(F)(F)C(F)(F)C(F)(F)F O=[SH]([O-])(O)C(F)(F)C(F)(F)C(F)(F)C(F)(F)C(F)(F)C(F)(F)F O=[SH]([O-])(O)C(F)(F)C(F)(F)C(F)(F)C(F)(F)C(F)(F)C(F)(F)F\n",
      "888 O=[SH]([O-])(O)C(F)(F)C(F)(F)C(F)(F)C(F)(F)C(F)(F)C(F)(F)F O=[SH]([O-])(O)C(F)(F)C(F)(F)C(F)(F)C(F)(F)C(F)(F)C(F)(F)F O=[SH]([O-])(O)C(F)(F)C(F)(F)C(F)(F)C(F)(F)C(F)(F)C(F)(F)F\n",
      "888 O=[SH]([O-])(O)C(F)(F)C(F)(F)C(F)(F)C(F)(F)C(F)(F)C(F)(F)F O=[SH]([O-])(O)C(F)(F)C(F)(F)C(F)(F)C(F)(F)C(F)(F)C(F)(F)F O=[SH]([O-])(O)C(F)(F)C(F)(F)C(F)(F)C(F)(F)C(F)(F)C(F)(F)F\n",
      "888 O=[SH]([O-])(O)C(F)(F)C(F)(F)C(F)(F)C(F)(F)C(F)(F)C(F)(F)F O=[SH]([O-])(O)C(F)(F)C(F)(F)C(F)(F)C(F)(F)C(F)(F)C(F)(F)F O=[SH]([O-])(O)C(F)(F)C(F)(F)C(F)(F)C(F)(F)C(F)(F)C(F)(F)F\n",
      "888 O=[SH]([O-])(O)C(F)(F)C(F)(F)C(F)(F)C(F)(F)C(F)(F)C(F)(F)F O=[SH]([O-])(O)C(F)(F)C(F)(F)C(F)(F)C(F)(F)C(F)(F)C(F)(F)F O=[SH]([O-])(O)C(F)(F)C(F)(F)C(F)(F)C(F)(F)C(F)(F)C(F)(F)F\n",
      "888 O=[SH]([O-])(O)C(F)(F)C(F)(F)C(F)(F)C(F)(F)C(F)(F)C(F)(F)F O=[SH]([O-])(O)C(F)(F)C(F)(F)C(F)(F)C(F)(F)C(F)(F)C(F)(F)F O=[SH]([O-])(O)C(F)(F)C(F)(F)C(F)(F)C(F)(F)C(F)(F)C(F)(F)F\n",
      "888 O=[SH]([O-])(O)C(F)(F)C(F)(F)C(F)(F)C(F)(F)C(F)(F)C(F)(F)F O=[SH]([O-])(O)C(F)(F)C(F)(F)C(F)(F)C(F)(F)C(F)(F)C(F)(F)F O=[SH]([O-])(O)C(F)(F)C(F)(F)C(F)(F)C(F)(F)C(F)(F)C(F)(F)F\n",
      "888 O=[SH]([O-])(O)C(F)(F)C(F)(F)C(F)(F)C(F)(F)C(F)(F)C(F)(F)F O=[SH]([O-])(O)C(F)(F)C(F)(F)C(F)(F)C(F)(F)C(F)(F)C(F)(F)F O=[SH]([O-])(O)C(F)(F)C(F)(F)C(F)(F)C(F)(F)C(F)(F)C(F)(F)F\n",
      "888 O=[SH]([O-])(O)C(F)(F)C(F)(F)C(F)(F)C(F)(F)C(F)(F)C(F)(F)F O=[SH]([O-])(O)C(F)(F)C(F)(F)C(F)(F)C(F)(F)C(F)(F)C(F)(F)F O=[SH]([O-])(O)C(F)(F)C(F)(F)C(F)(F)C(F)(F)C(F)(F)C(F)(F)F\n",
      "888 O=[SH]([O-])(O)C(F)(F)C(F)(F)C(F)(F)C(F)(F)C(F)(F)C(F)(F)F O=[SH]([O-])(O)C(F)(F)C(F)(F)C(F)(F)C(F)(F)C(F)(F)C(F)(F)F O=[SH]([O-])(O)C(F)(F)C(F)(F)C(F)(F)C(F)(F)C(F)(F)C(F)(F)F\n",
      "888 O=[SH]([O-])(O)C(F)(F)C(F)(F)C(F)(F)C(F)(F)C(F)(F)C(F)(F)F O=[SH]([O-])(O)C(F)(F)C(F)(F)C(F)(F)C(F)(F)C(F)(F)C(F)(F)F O=[SH]([O-])(O)C(F)(F)C(F)(F)C(F)(F)C(F)(F)C(F)(F)C(F)(F)F\n",
      "888 O=[SH]([O-])(O)C(F)(F)C(F)(F)C(F)(F)C(F)(F)C(F)(F)C(F)(F)F O=[SH]([O-])(O)C(F)(F)C(F)(F)C(F)(F)C(F)(F)C(F)(F)C(F)(F)F O=[SH]([O-])(O)C(F)(F)C(F)(F)C(F)(F)C(F)(F)C(F)(F)C(F)(F)F\n",
      "888 O=[SH]([O-])(O)C(F)(F)C(F)(F)C(F)(F)C(F)(F)C(F)(F)C(F)(F)F O=[SH]([O-])(O)C(F)(F)C(F)(F)C(F)(F)C(F)(F)C(F)(F)C(F)(F)F O=[SH]([O-])(O)C(F)(F)C(F)(F)C(F)(F)C(F)(F)C(F)(F)C(F)(F)F\n",
      "888 O=[SH]([O-])(O)C(F)(F)C(F)(F)C(F)(F)C(F)(F)C(F)(F)C(F)(F)F O=[SH]([O-])(O)C(F)(F)C(F)(F)C(F)(F)C(F)(F)C(F)(F)C(F)(F)F O=[SH]([O-])(O)C(F)(F)C(F)(F)C(F)(F)C(F)(F)C(F)(F)C(F)(F)F\n",
      "123\n",
      "inchikey KLDIYZSPWFLQDT-UHFFFAOYSA-N\n",
      "456 []\n",
      "123\n",
      "inchikey MUTDNOOCIQTXEY-UHFFFAOYSA-N\n",
      "456 []\n",
      "123\n",
      "inchikey UZUFPBIDKMEQEQ-UHFFFAOYSA-N\n",
      "456 [{'smiles': 'O=C(O)C(F)(F)C(F)(F)C(F)(F)C(F)(F)C(F)(F)C(F)(F)C(F)(F)C(F)(F)F', 'toolkit': 'RXN', 'function': 'Predict_Retrosynthesis', 'parameters': {}, 'results': {'0': {'confidence': 0.952, 'reactions': ['CC(C)=O + CC(C)=O.O=S(=O)(O)O.O=[Cr](=O)=O + OCC(F)(F)C(F)(F)C(F)(F)C(F)(F)C(F)(F)C(F)(F)C(F)(F)C(F)(F)F --->> O=C(O)C(F)(F)C(F)(F)C(F)(F)C(F)(F)C(F)(F)C(F)(F)C(F)(F)C(F)(F)F']}, '1': {'confidence': 0.932, 'reactions': ['N#CC(F)(F)C(F)(F)C(F)(F)C(F)(F)C(F)(F)C(F)(F)C(F)(F)C(F)(F)F + O + O=S(=O)(O)O --->> O=C(O)C(F)(F)C(F)(F)C(F)(F)C(F)(F)C(F)(F)C(F)(F)C(F)(F)C(F)(F)F', 'NC(=O)C(F)(F)C(F)(F)C(F)(F)C(F)(F)C(F)(F)C(F)(F)C(F)(F)C(F)(F)F + O.O + O=P(Cl)(Cl)Cl --->> N#CC(F)(F)C(F)(F)C(F)(F)C(F)(F)C(F)(F)C(F)(F)C(F)(F)C(F)(F)F', 'COC(=O)C(F)(F)C(F)(F)C(F)(F)C(F)(F)C(F)(F)C(F)(F)C(F)(F)C(F)(F)F + [NH4+].[OH-] --->> NC(=O)C(F)(F)C(F)(F)C(F)(F)C(F)(F)C(F)(F)C(F)(F)C(F)(F)C(F)(F)F']}, '2': {'confidence': 0.932, 'reactions': ['N#CC(F)(F)C(F)(F)C(F)(F)C(F)(F)C(F)(F)C(F)(F)C(F)(F)C(F)(F)F + O + O=S(=O)(O)O --->> O=C(O)C(F)(F)C(F)(F)C(F)(F)C(F)(F)C(F)(F)C(F)(F)C(F)(F)C(F)(F)F', 'NC(=O)C(F)(F)C(F)(F)C(F)(F)C(F)(F)C(F)(F)C(F)(F)C(F)(F)C(F)(F)F + O.O + O=P(Cl)(Cl)Cl --->> N#CC(F)(F)C(F)(F)C(F)(F)C(F)(F)C(F)(F)C(F)(F)C(F)(F)C(F)(F)F', 'CCOC(=O)C(F)(F)C(F)(F)C(F)(F)C(F)(F)C(F)(F)C(F)(F)C(F)(F)C(F)(F)F + N --->> NC(=O)C(F)(F)C(F)(F)C(F)(F)C(F)(F)C(F)(F)C(F)(F)C(F)(F)C(F)(F)F']}}}, {'smiles': 'O=C(O)C(F)(F)C(F)(F)C(F)(F)C(F)(F)C(F)(F)C(F)(F)C(F)(F)C(F)(F)F', 'toolkit': 'DS4SD', 'function': 'Patents_For_Molecule', 'parameters': '', 'results': [{'PATENT ID': 'US9127088'}, {'PATENT ID': 'US9447314'}, {'PATENT ID': 'US9783592'}, {'PATENT ID': 'US9955898'}, {'PATENT ID': 'US11351268'}, {'PATENT ID': 'US20130123178A1'}, {'PATENT ID': 'US20140065223A1'}, {'PATENT ID': 'US20150152187'}, {'PATENT ID': 'US20150320871'}, {'PATENT ID': 'US20150351662A1'}, {'PATENT ID': 'US20160237339A1'}, {'PATENT ID': 'US20190142963A1'}, {'PATENT ID': 'US20190382790A1'}, {'PATENT ID': 'US20200360530A1'}]}, {'smiles': 'O=C(O)C(F)(F)C(F)(F)C(F)(F)C(F)(F)C(F)(F)C(F)(F)C(F)(F)C(F)(F)F', 'toolkit': 'RXN', 'function': 'Predict_Retrosynthesis', 'parameters': {}, 'results': {'0': {'confidence': 0.952, 'reactions': ['CC(C)=O + CC(C)=O.O=S(=O)(O)O.O=[Cr](=O)=O + OCC(F)(F)C(F)(F)C(F)(F)C(F)(F)C(F)(F)C(F)(F)C(F)(F)C(F)(F)F --->> O=C(O)C(F)(F)C(F)(F)C(F)(F)C(F)(F)C(F)(F)C(F)(F)C(F)(F)C(F)(F)F']}, '1': {'confidence': 0.932, 'reactions': ['N#CC(F)(F)C(F)(F)C(F)(F)C(F)(F)C(F)(F)C(F)(F)C(F)(F)C(F)(F)F + O + O=S(=O)(O)O --->> O=C(O)C(F)(F)C(F)(F)C(F)(F)C(F)(F)C(F)(F)C(F)(F)C(F)(F)C(F)(F)F', 'NC(=O)C(F)(F)C(F)(F)C(F)(F)C(F)(F)C(F)(F)C(F)(F)C(F)(F)C(F)(F)F + O.O + O=P(Cl)(Cl)Cl --->> N#CC(F)(F)C(F)(F)C(F)(F)C(F)(F)C(F)(F)C(F)(F)C(F)(F)C(F)(F)F', 'COC(=O)C(F)(F)C(F)(F)C(F)(F)C(F)(F)C(F)(F)C(F)(F)C(F)(F)C(F)(F)F + [NH4+].[OH-] --->> NC(=O)C(F)(F)C(F)(F)C(F)(F)C(F)(F)C(F)(F)C(F)(F)C(F)(F)C(F)(F)F']}, '2': {'confidence': 0.932, 'reactions': ['N#CC(F)(F)C(F)(F)C(F)(F)C(F)(F)C(F)(F)C(F)(F)C(F)(F)C(F)(F)F + O + O=S(=O)(O)O --->> O=C(O)C(F)(F)C(F)(F)C(F)(F)C(F)(F)C(F)(F)C(F)(F)C(F)(F)C(F)(F)F', 'NC(=O)C(F)(F)C(F)(F)C(F)(F)C(F)(F)C(F)(F)C(F)(F)C(F)(F)C(F)(F)F + O.O + O=P(Cl)(Cl)Cl --->> N#CC(F)(F)C(F)(F)C(F)(F)C(F)(F)C(F)(F)C(F)(F)C(F)(F)C(F)(F)F', 'CCOC(=O)C(F)(F)C(F)(F)C(F)(F)C(F)(F)C(F)(F)C(F)(F)C(F)(F)C(F)(F)F + N --->> NC(=O)C(F)(F)C(F)(F)C(F)(F)C(F)(F)C(F)(F)C(F)(F)C(F)(F)C(F)(F)F']}, '3': {'confidence': 0.932, 'reactions': ['N#CC(F)(F)C(F)(F)C(F)(F)C(F)(F)C(F)(F)C(F)(F)C(F)(F)C(F)(F)F + O + O=S(=O)(O)O --->> O=C(O)C(F)(F)C(F)(F)C(F)(F)C(F)(F)C(F)(F)C(F)(F)C(F)(F)C(F)(F)F', 'NC(=O)C(F)(F)C(F)(F)C(F)(F)C(F)(F)C(F)(F)C(F)(F)C(F)(F)C(F)(F)F + O.O + O=P(Cl)(Cl)Cl --->> N#CC(F)(F)C(F)(F)C(F)(F)C(F)(F)C(F)(F)C(F)(F)C(F)(F)C(F)(F)F', 'COC(=O)C(F)(F)C(F)(F)C(F)(F)C(F)(F)C(F)(F)C(F)(F)C(F)(F)C(F)(F)F + N --->> NC(=O)C(F)(F)C(F)(F)C(F)(F)C(F)(F)C(F)(F)C(F)(F)C(F)(F)C(F)(F)F']}, '4': {'confidence': 0.932, 'reactions': ['N#CC(F)(F)C(F)(F)C(F)(F)C(F)(F)C(F)(F)C(F)(F)C(F)(F)C(F)(F)F + O + O=S(=O)(O)O --->> O=C(O)C(F)(F)C(F)(F)C(F)(F)C(F)(F)C(F)(F)C(F)(F)C(F)(F)C(F)(F)F', 'NC(=O)C(F)(F)C(F)(F)C(F)(F)C(F)(F)C(F)(F)C(F)(F)C(F)(F)C(F)(F)F + O.O + O=P(Cl)(Cl)Cl --->> N#CC(F)(F)C(F)(F)C(F)(F)C(F)(F)C(F)(F)C(F)(F)C(F)(F)C(F)(F)F', 'CO.N + COC(=O)C(F)(F)C(F)(F)C(F)(F)C(F)(F)C(F)(F)C(F)(F)C(F)(F)C(F)(F)F --->> NC(=O)C(F)(F)C(F)(F)C(F)(F)C(F)(F)C(F)(F)C(F)(F)C(F)(F)C(F)(F)F']}, '5': {'confidence': 0.831, 'reactions': ['CO + COC(=O)C(F)(F)C(F)(F)C(F)(F)C(F)(F)C(F)(F)C(F)(F)C(F)(F)C(F)(F)F + O + O[Na] --->> O=C(O)C(F)(F)C(F)(F)C(F)(F)C(F)(F)C(F)(F)C(F)(F)C(F)(F)C(F)(F)F']}, '6': {'confidence': 0.932, 'reactions': ['N#CC(F)(F)C(F)(F)C(F)(F)C(F)(F)C(F)(F)C(F)(F)C(F)(F)C(F)(F)F + O + O=S(=O)(O)O --->> O=C(O)C(F)(F)C(F)(F)C(F)(F)C(F)(F)C(F)(F)C(F)(F)C(F)(F)C(F)(F)F', 'NC(=O)C(F)(F)C(F)(F)C(F)(F)C(F)(F)C(F)(F)C(F)(F)C(F)(F)C(F)(F)F + O.O + O=P(Cl)(Cl)Cl --->> N#CC(F)(F)C(F)(F)C(F)(F)C(F)(F)C(F)(F)C(F)(F)C(F)(F)C(F)(F)F', 'CO + COC(=O)C(F)(F)C(F)(F)C(F)(F)C(F)(F)C(F)(F)C(F)(F)C(F)(F)C(F)(F)F + N --->> NC(=O)C(F)(F)C(F)(F)C(F)(F)C(F)(F)C(F)(F)C(F)(F)C(F)(F)C(F)(F)F']}, '7': {'confidence': 0.755, 'reactions': ['CCOC(=O)C(F)(F)C(F)(F)C(F)(F)C(F)(F)C(F)(F)C(F)(F)C(F)(F)C(F)(F)F + CO + O + O[K] --->> O=C(O)C(F)(F)C(F)(F)C(F)(F)C(F)(F)C(F)(F)C(F)(F)C(F)(F)C(F)(F)F']}, '8': {'confidence': 0.932, 'reactions': ['N#CC(F)(F)C(F)(F)C(F)(F)C(F)(F)C(F)(F)C(F)(F)C(F)(F)C(F)(F)F + O + O=S(=O)(O)O --->> O=C(O)C(F)(F)C(F)(F)C(F)(F)C(F)(F)C(F)(F)C(F)(F)C(F)(F)C(F)(F)F', 'NC(=O)C(F)(F)C(F)(F)C(F)(F)C(F)(F)C(F)(F)C(F)(F)C(F)(F)C(F)(F)F + O.O + O=P(Cl)(Cl)Cl --->> N#CC(F)(F)C(F)(F)C(F)(F)C(F)(F)C(F)(F)C(F)(F)C(F)(F)C(F)(F)F', 'O=C(F)C(F)(F)C(F)(F)C(F)(F)C(F)(F)C(F)(F)C(F)(F)C(F)(F)C(F)(F)F + [NH4+].[OH-] --->> NC(=O)C(F)(F)C(F)(F)C(F)(F)C(F)(F)C(F)(F)C(F)(F)C(F)(F)C(F)(F)F', 'O=C(Cl)C(F)(F)C(F)(F)C(F)(F)C(F)(F)C(F)(F)C(F)(F)C(F)(F)C(F)(F)F + [F-].[K+] --->> O=C(F)C(F)(F)C(F)(F)C(F)(F)C(F)(F)C(F)(F)C(F)(F)C(F)(F)C(F)(F)F']}, '9': {'confidence': 0.72, 'reactions': ['CO + COC(=O)C(F)(F)C(F)(F)C(F)(F)C(F)(F)C(F)(F)C(F)(F)C(F)(F)C(F)(F)F + O[Na] --->> O=C(O)C(F)(F)C(F)(F)C(F)(F)C(F)(F)C(F)(F)C(F)(F)C(F)(F)C(F)(F)F']}, '10': {'confidence': 0.717, 'reactions': ['CO + COC(=O)C(F)(F)C(F)(F)C(F)(F)C(F)(F)C(F)(F)C(F)(F)C(F)(F)C(F)(F)F + O + O[K] --->> O=C(O)C(F)(F)C(F)(F)C(F)(F)C(F)(F)C(F)(F)C(F)(F)C(F)(F)C(F)(F)F']}, '11': {'confidence': 0.932, 'reactions': ['N#CC(F)(F)C(F)(F)C(F)(F)C(F)(F)C(F)(F)C(F)(F)C(F)(F)C(F)(F)F + O + O=S(=O)(O)O --->> O=C(O)C(F)(F)C(F)(F)C(F)(F)C(F)(F)C(F)(F)C(F)(F)C(F)(F)C(F)(F)F', 'NC(=O)C(F)(F)C(F)(F)C(F)(F)C(F)(F)C(F)(F)C(F)(F)C(F)(F)C(F)(F)F + O.O + O=P(Cl)(Cl)Cl --->> N#CC(F)(F)C(F)(F)C(F)(F)C(F)(F)C(F)(F)C(F)(F)C(F)(F)C(F)(F)F', 'N + O=C(Cl)C(F)(F)C(F)(F)C(F)(F)C(F)(F)C(F)(F)C(F)(F)C(F)(F)C(F)(F)F --->> NC(=O)C(F)(F)C(F)(F)C(F)(F)C(F)(F)C(F)(F)C(F)(F)C(F)(F)C(F)(F)F']}, '12': {'confidence': 0.932, 'reactions': ['N#CC(F)(F)C(F)(F)C(F)(F)C(F)(F)C(F)(F)C(F)(F)C(F)(F)C(F)(F)F + O + O=S(=O)(O)O --->> O=C(O)C(F)(F)C(F)(F)C(F)(F)C(F)(F)C(F)(F)C(F)(F)C(F)(F)C(F)(F)F', 'NC(=O)C(F)(F)C(F)(F)C(F)(F)C(F)(F)C(F)(F)C(F)(F)C(F)(F)C(F)(F)F + O.O + O=P(Cl)(Cl)Cl --->> N#CC(F)(F)C(F)(F)C(F)(F)C(F)(F)C(F)(F)C(F)(F)C(F)(F)C(F)(F)F', 'O=C(F)C(F)(F)C(F)(F)C(F)(F)C(F)(F)C(F)(F)C(F)(F)C(F)(F)C(F)(F)F + [NH4+].[OH-] --->> NC(=O)C(F)(F)C(F)(F)C(F)(F)C(F)(F)C(F)(F)C(F)(F)C(F)(F)C(F)(F)F', 'COC(=O)C(F)(F)C(F)(F)C(F)(F)C(F)(F)C(F)(F)C(F)(F)C(F)(F)C(F)(F)F + F[K] --->> O=C(F)C(F)(F)C(F)(F)C(F)(F)C(F)(F)C(F)(F)C(F)(F)C(F)(F)C(F)(F)F']}, '13': {'confidence': 0.932, 'reactions': ['N#CC(F)(F)C(F)(F)C(F)(F)C(F)(F)C(F)(F)C(F)(F)C(F)(F)C(F)(F)F + O + O=S(=O)(O)O --->> O=C(O)C(F)(F)C(F)(F)C(F)(F)C(F)(F)C(F)(F)C(F)(F)C(F)(F)C(F)(F)F', 'CN(C)C=O + FC(F)(F)C(F)(F)C(F)(F)C(F)(F)C(F)(F)C(F)(F)C(F)(F)C(F)(F)I + [C-]#N.[C-]#N.[Cu+2] --->> N#CC(F)(F)C(F)(F)C(F)(F)C(F)(F)C(F)(F)C(F)(F)C(F)(F)C(F)(F)F']}, '14': {'confidence': 0.932, 'reactions': ['N#CC(F)(F)C(F)(F)C(F)(F)C(F)(F)C(F)(F)C(F)(F)C(F)(F)C(F)(F)F + O + O=S(=O)(O)O --->> O=C(O)C(F)(F)C(F)(F)C(F)(F)C(F)(F)C(F)(F)C(F)(F)C(F)(F)C(F)(F)F', 'NC(=O)C(F)(F)C(F)(F)C(F)(F)C(F)(F)C(F)(F)C(F)(F)C(F)(F)C(F)(F)F + O.O + O=P(Cl)(Cl)Cl --->> N#CC(F)(F)C(F)(F)C(F)(F)C(F)(F)C(F)(F)C(F)(F)C(F)(F)C(F)(F)F', 'O=C(F)C(F)(F)C(F)(F)C(F)(F)C(F)(F)C(F)(F)C(F)(F)C(F)(F)C(F)(F)F + [NH4+].[OH-] --->> NC(=O)C(F)(F)C(F)(F)C(F)(F)C(F)(F)C(F)(F)C(F)(F)C(F)(F)C(F)(F)F', 'F[K] + O=C(Cl)C(F)(F)C(F)(F)C(F)(F)C(F)(F)C(F)(F)C(F)(F)C(F)(F)F --->> O=C(F)C(F)(F)C(F)(F)C(F)(F)C(F)(F)C(F)(F)C(F)(F)C(F)(F)C(F)(F)F']}, '15': {'confidence': 0.932, 'reactions': ['N#CC(F)(F)C(F)(F)C(F)(F)C(F)(F)C(F)(F)C(F)(F)C(F)(F)C(F)(F)F + O + O=S(=O)(O)O --->> O=C(O)C(F)(F)C(F)(F)C(F)(F)C(F)(F)C(F)(F)C(F)(F)C(F)(F)C(F)(F)F', 'NC(=O)C(F)(F)C(F)(F)C(F)(F)C(F)(F)C(F)(F)C(F)(F)C(F)(F)C(F)(F)F + O.O + O=P(Cl)(Cl)Cl --->> N#CC(F)(F)C(F)(F)C(F)(F)C(F)(F)C(F)(F)C(F)(F)C(F)(F)C(F)(F)F', 'O=C(F)C(F)(F)C(F)(F)C(F)(F)C(F)(F)C(F)(F)C(F)(F)C(F)(F)C(F)(F)F + [NH4+].[OH-] --->> NC(=O)C(F)(F)C(F)(F)C(F)(F)C(F)(F)C(F)(F)C(F)(F)C(F)(F)C(F)(F)F', 'COC(=O)C(F)(F)C(F)(F)C(F)(F)C(F)(F)C(F)(F)C(F)(F)C(F)(F)C(F)(F)F + F --->> O=C(F)C(F)(F)C(F)(F)C(F)(F)C(F)(F)C(F)(F)C(F)(F)C(F)(F)C(F)(F)F']}}}, {'toolkit': 'RXN', 'function': 'Predict_Retrosynthesis', 'smiles': 'O=C(O)C(F)(F)C(F)(F)C(F)(F)C(F)(F)C(F)(F)C(F)(F)C(F)(F)C(F)(F)F', 'parameters': {}, 'results': {'0': {'confidence': 0.952, 'reactions': ['CC(C)=O + CC(C)=O.O=S(=O)(O)O.O=[Cr](=O)=O + OCC(F)(F)C(F)(F)C(F)(F)C(F)(F)C(F)(F)C(F)(F)C(F)(F)C(F)(F)F --->> O=C(O)C(F)(F)C(F)(F)C(F)(F)C(F)(F)C(F)(F)C(F)(F)C(F)(F)C(F)(F)F']}, '1': {'confidence': 0.932, 'reactions': ['N#CC(F)(F)C(F)(F)C(F)(F)C(F)(F)C(F)(F)C(F)(F)C(F)(F)C(F)(F)F + O + O=S(=O)(O)O --->> O=C(O)C(F)(F)C(F)(F)C(F)(F)C(F)(F)C(F)(F)C(F)(F)C(F)(F)C(F)(F)F', 'NC(=O)C(F)(F)C(F)(F)C(F)(F)C(F)(F)C(F)(F)C(F)(F)C(F)(F)C(F)(F)F + O.O + O=P(Cl)(Cl)Cl --->> N#CC(F)(F)C(F)(F)C(F)(F)C(F)(F)C(F)(F)C(F)(F)C(F)(F)C(F)(F)F', 'COC(=O)C(F)(F)C(F)(F)C(F)(F)C(F)(F)C(F)(F)C(F)(F)C(F)(F)C(F)(F)F + [NH4+].[OH-] --->> NC(=O)C(F)(F)C(F)(F)C(F)(F)C(F)(F)C(F)(F)C(F)(F)C(F)(F)C(F)(F)F']}, '2': {'confidence': 0.932, 'reactions': ['N#CC(F)(F)C(F)(F)C(F)(F)C(F)(F)C(F)(F)C(F)(F)C(F)(F)C(F)(F)F + O + O=S(=O)(O)O --->> O=C(O)C(F)(F)C(F)(F)C(F)(F)C(F)(F)C(F)(F)C(F)(F)C(F)(F)C(F)(F)F', 'NC(=O)C(F)(F)C(F)(F)C(F)(F)C(F)(F)C(F)(F)C(F)(F)C(F)(F)C(F)(F)F + O.O + O=P(Cl)(Cl)Cl --->> N#CC(F)(F)C(F)(F)C(F)(F)C(F)(F)C(F)(F)C(F)(F)C(F)(F)C(F)(F)F', 'CCOC(=O)C(F)(F)C(F)(F)C(F)(F)C(F)(F)C(F)(F)C(F)(F)C(F)(F)C(F)(F)F + N --->> NC(=O)C(F)(F)C(F)(F)C(F)(F)C(F)(F)C(F)(F)C(F)(F)C(F)(F)C(F)(F)F']}}}, {'smiles': 'O=C(O)C(F)(F)C(F)(F)C(F)(F)C(F)(F)C(F)(F)C(F)(F)C(F)(F)C(F)(F)F', 'toolkit': 'RXN', 'function': 'Predict_Retrosynthesis', 'parameters': {}, 'results': {'0': {'confidence': 0.952, 'reactions': ['CC(C)=O + CC(C)=O.O=S(=O)(O)O.O=[Cr](=O)=O + OCC(F)(F)C(F)(F)C(F)(F)C(F)(F)C(F)(F)C(F)(F)C(F)(F)C(F)(F)F --->> O=C(O)C(F)(F)C(F)(F)C(F)(F)C(F)(F)C(F)(F)C(F)(F)C(F)(F)C(F)(F)F']}, '1': {'confidence': 0.932, 'reactions': ['N#CC(F)(F)C(F)(F)C(F)(F)C(F)(F)C(F)(F)C(F)(F)C(F)(F)C(F)(F)F + O + O=S(=O)(O)O --->> O=C(O)C(F)(F)C(F)(F)C(F)(F)C(F)(F)C(F)(F)C(F)(F)C(F)(F)C(F)(F)F', 'NC(=O)C(F)(F)C(F)(F)C(F)(F)C(F)(F)C(F)(F)C(F)(F)C(F)(F)C(F)(F)F + O.O + O=P(Cl)(Cl)Cl --->> N#CC(F)(F)C(F)(F)C(F)(F)C(F)(F)C(F)(F)C(F)(F)C(F)(F)C(F)(F)F', 'COC(=O)C(F)(F)C(F)(F)C(F)(F)C(F)(F)C(F)(F)C(F)(F)C(F)(F)C(F)(F)F + [NH4+].[OH-] --->> NC(=O)C(F)(F)C(F)(F)C(F)(F)C(F)(F)C(F)(F)C(F)(F)C(F)(F)C(F)(F)F']}, '2': {'confidence': 0.932, 'reactions': ['N#CC(F)(F)C(F)(F)C(F)(F)C(F)(F)C(F)(F)C(F)(F)C(F)(F)C(F)(F)F + O + O=S(=O)(O)O --->> O=C(O)C(F)(F)C(F)(F)C(F)(F)C(F)(F)C(F)(F)C(F)(F)C(F)(F)C(F)(F)F', 'NC(=O)C(F)(F)C(F)(F)C(F)(F)C(F)(F)C(F)(F)C(F)(F)C(F)(F)C(F)(F)F + O.O + O=P(Cl)(Cl)Cl --->> N#CC(F)(F)C(F)(F)C(F)(F)C(F)(F)C(F)(F)C(F)(F)C(F)(F)C(F)(F)F', 'CCOC(=O)C(F)(F)C(F)(F)C(F)(F)C(F)(F)C(F)(F)C(F)(F)C(F)(F)C(F)(F)F + N --->> NC(=O)C(F)(F)C(F)(F)C(F)(F)C(F)(F)C(F)(F)C(F)(F)C(F)(F)C(F)(F)F']}}}, {'smiles': 'O=C(O)C(F)(F)C(F)(F)C(F)(F)C(F)(F)C(F)(F)C(F)(F)C(F)(F)C(F)(F)F', 'toolkit': 'RXN', 'function': 'Predict_Retrosynthesis', 'parameters': {}, 'results': {'0': {'confidence': 0.952, 'reactions': ['CC(C)=O + CC(C)=O.O=S(=O)(O)O.O=[Cr](=O)=O + OCC(F)(F)C(F)(F)C(F)(F)C(F)(F)C(F)(F)C(F)(F)C(F)(F)C(F)(F)F --->> O=C(O)C(F)(F)C(F)(F)C(F)(F)C(F)(F)C(F)(F)C(F)(F)C(F)(F)C(F)(F)F']}, '1': {'confidence': 0.932, 'reactions': ['N#CC(F)(F)C(F)(F)C(F)(F)C(F)(F)C(F)(F)C(F)(F)C(F)(F)C(F)(F)F + O + O=S(=O)(O)O --->> O=C(O)C(F)(F)C(F)(F)C(F)(F)C(F)(F)C(F)(F)C(F)(F)C(F)(F)C(F)(F)F', 'NC(=O)C(F)(F)C(F)(F)C(F)(F)C(F)(F)C(F)(F)C(F)(F)C(F)(F)C(F)(F)F + O.O + O=P(Cl)(Cl)Cl --->> N#CC(F)(F)C(F)(F)C(F)(F)C(F)(F)C(F)(F)C(F)(F)C(F)(F)C(F)(F)F', 'COC(=O)C(F)(F)C(F)(F)C(F)(F)C(F)(F)C(F)(F)C(F)(F)C(F)(F)C(F)(F)F + [NH4+].[OH-] --->> NC(=O)C(F)(F)C(F)(F)C(F)(F)C(F)(F)C(F)(F)C(F)(F)C(F)(F)C(F)(F)F']}, '2': {'confidence': 0.932, 'reactions': ['N#CC(F)(F)C(F)(F)C(F)(F)C(F)(F)C(F)(F)C(F)(F)C(F)(F)C(F)(F)F + O + O=S(=O)(O)O --->> O=C(O)C(F)(F)C(F)(F)C(F)(F)C(F)(F)C(F)(F)C(F)(F)C(F)(F)C(F)(F)F', 'NC(=O)C(F)(F)C(F)(F)C(F)(F)C(F)(F)C(F)(F)C(F)(F)C(F)(F)C(F)(F)F + O.O + O=P(Cl)(Cl)Cl --->> N#CC(F)(F)C(F)(F)C(F)(F)C(F)(F)C(F)(F)C(F)(F)C(F)(F)C(F)(F)F', 'CCOC(=O)C(F)(F)C(F)(F)C(F)(F)C(F)(F)C(F)(F)C(F)(F)C(F)(F)C(F)(F)F + N --->> NC(=O)C(F)(F)C(F)(F)C(F)(F)C(F)(F)C(F)(F)C(F)(F)C(F)(F)C(F)(F)F']}}}, {'smiles': 'O=C(O)C(F)(F)C(F)(F)C(F)(F)C(F)(F)C(F)(F)C(F)(F)C(F)(F)C(F)(F)F', 'toolkit': 'RXN', 'function': 'Predict_Retrosynthesis', 'parameters': {}, 'results': {'0': {'confidence': 0.952, 'reactions': ['CC(C)=O + CC(C)=O.O=S(=O)(O)O.O=[Cr](=O)=O + OCC(F)(F)C(F)(F)C(F)(F)C(F)(F)C(F)(F)C(F)(F)C(F)(F)C(F)(F)F --->> O=C(O)C(F)(F)C(F)(F)C(F)(F)C(F)(F)C(F)(F)C(F)(F)C(F)(F)C(F)(F)F']}, '1': {'confidence': 0.932, 'reactions': ['N#CC(F)(F)C(F)(F)C(F)(F)C(F)(F)C(F)(F)C(F)(F)C(F)(F)C(F)(F)F + O + O=S(=O)(O)O --->> O=C(O)C(F)(F)C(F)(F)C(F)(F)C(F)(F)C(F)(F)C(F)(F)C(F)(F)C(F)(F)F', 'NC(=O)C(F)(F)C(F)(F)C(F)(F)C(F)(F)C(F)(F)C(F)(F)C(F)(F)C(F)(F)F + O.O + O=P(Cl)(Cl)Cl --->> N#CC(F)(F)C(F)(F)C(F)(F)C(F)(F)C(F)(F)C(F)(F)C(F)(F)C(F)(F)F', 'COC(=O)C(F)(F)C(F)(F)C(F)(F)C(F)(F)C(F)(F)C(F)(F)C(F)(F)C(F)(F)F + [NH4+].[OH-] --->> NC(=O)C(F)(F)C(F)(F)C(F)(F)C(F)(F)C(F)(F)C(F)(F)C(F)(F)C(F)(F)F']}, '2': {'confidence': 0.932, 'reactions': ['N#CC(F)(F)C(F)(F)C(F)(F)C(F)(F)C(F)(F)C(F)(F)C(F)(F)C(F)(F)F + O + O=S(=O)(O)O --->> O=C(O)C(F)(F)C(F)(F)C(F)(F)C(F)(F)C(F)(F)C(F)(F)C(F)(F)C(F)(F)F', 'NC(=O)C(F)(F)C(F)(F)C(F)(F)C(F)(F)C(F)(F)C(F)(F)C(F)(F)C(F)(F)F + O.O + O=P(Cl)(Cl)Cl --->> N#CC(F)(F)C(F)(F)C(F)(F)C(F)(F)C(F)(F)C(F)(F)C(F)(F)C(F)(F)F', 'CCOC(=O)C(F)(F)C(F)(F)C(F)(F)C(F)(F)C(F)(F)C(F)(F)C(F)(F)C(F)(F)F + N --->> NC(=O)C(F)(F)C(F)(F)C(F)(F)C(F)(F)C(F)(F)C(F)(F)C(F)(F)C(F)(F)F']}}}, {'smiles': 'O=C(O)C(F)(F)C(F)(F)C(F)(F)C(F)(F)C(F)(F)C(F)(F)C(F)(F)C(F)(F)F', 'toolkit': 'RXN', 'function': 'Predict_Retrosynthesis', 'parameters': {}, 'results': {'0': {'confidence': 0.952, 'reactions': ['CC(C)=O + CC(C)=O.O=S(=O)(O)O.O=[Cr](=O)=O + OCC(F)(F)C(F)(F)C(F)(F)C(F)(F)C(F)(F)C(F)(F)C(F)(F)C(F)(F)F --->> O=C(O)C(F)(F)C(F)(F)C(F)(F)C(F)(F)C(F)(F)C(F)(F)C(F)(F)C(F)(F)F']}, '1': {'confidence': 0.932, 'reactions': ['N#CC(F)(F)C(F)(F)C(F)(F)C(F)(F)C(F)(F)C(F)(F)C(F)(F)C(F)(F)F + O + O=S(=O)(O)O --->> O=C(O)C(F)(F)C(F)(F)C(F)(F)C(F)(F)C(F)(F)C(F)(F)C(F)(F)C(F)(F)F', 'NC(=O)C(F)(F)C(F)(F)C(F)(F)C(F)(F)C(F)(F)C(F)(F)C(F)(F)C(F)(F)F + O.O + O=P(Cl)(Cl)Cl --->> N#CC(F)(F)C(F)(F)C(F)(F)C(F)(F)C(F)(F)C(F)(F)C(F)(F)C(F)(F)F', 'COC(=O)C(F)(F)C(F)(F)C(F)(F)C(F)(F)C(F)(F)C(F)(F)C(F)(F)C(F)(F)F + [NH4+].[OH-] --->> NC(=O)C(F)(F)C(F)(F)C(F)(F)C(F)(F)C(F)(F)C(F)(F)C(F)(F)C(F)(F)F']}, '2': {'confidence': 0.932, 'reactions': ['N#CC(F)(F)C(F)(F)C(F)(F)C(F)(F)C(F)(F)C(F)(F)C(F)(F)C(F)(F)F + O + O=S(=O)(O)O --->> O=C(O)C(F)(F)C(F)(F)C(F)(F)C(F)(F)C(F)(F)C(F)(F)C(F)(F)C(F)(F)F', 'NC(=O)C(F)(F)C(F)(F)C(F)(F)C(F)(F)C(F)(F)C(F)(F)C(F)(F)C(F)(F)F + O.O + O=P(Cl)(Cl)Cl --->> N#CC(F)(F)C(F)(F)C(F)(F)C(F)(F)C(F)(F)C(F)(F)C(F)(F)C(F)(F)F', 'CCOC(=O)C(F)(F)C(F)(F)C(F)(F)C(F)(F)C(F)(F)C(F)(F)C(F)(F)C(F)(F)F + N --->> NC(=O)C(F)(F)C(F)(F)C(F)(F)C(F)(F)C(F)(F)C(F)(F)C(F)(F)C(F)(F)F']}}}, {'smiles': 'O=C(O)C(F)(F)C(F)(F)C(F)(F)C(F)(F)C(F)(F)C(F)(F)C(F)(F)C(F)(F)F', 'toolkit': 'RXN', 'function': 'Predict_Retrosynthesis', 'parameters': {}, 'results': {'0': {'confidence': 0.952, 'reactions': ['CC(C)=O + CC(C)=O.O=S(=O)(O)O.O=[Cr](=O)=O + OCC(F)(F)C(F)(F)C(F)(F)C(F)(F)C(F)(F)C(F)(F)C(F)(F)C(F)(F)F --->> O=C(O)C(F)(F)C(F)(F)C(F)(F)C(F)(F)C(F)(F)C(F)(F)C(F)(F)C(F)(F)F']}, '1': {'confidence': 0.932, 'reactions': ['N#CC(F)(F)C(F)(F)C(F)(F)C(F)(F)C(F)(F)C(F)(F)C(F)(F)C(F)(F)F + O + O=S(=O)(O)O --->> O=C(O)C(F)(F)C(F)(F)C(F)(F)C(F)(F)C(F)(F)C(F)(F)C(F)(F)C(F)(F)F', 'NC(=O)C(F)(F)C(F)(F)C(F)(F)C(F)(F)C(F)(F)C(F)(F)C(F)(F)C(F)(F)F + O.O + O=P(Cl)(Cl)Cl --->> N#CC(F)(F)C(F)(F)C(F)(F)C(F)(F)C(F)(F)C(F)(F)C(F)(F)C(F)(F)F', 'COC(=O)C(F)(F)C(F)(F)C(F)(F)C(F)(F)C(F)(F)C(F)(F)C(F)(F)C(F)(F)F + [NH4+].[OH-] --->> NC(=O)C(F)(F)C(F)(F)C(F)(F)C(F)(F)C(F)(F)C(F)(F)C(F)(F)C(F)(F)F']}, '2': {'confidence': 0.932, 'reactions': ['N#CC(F)(F)C(F)(F)C(F)(F)C(F)(F)C(F)(F)C(F)(F)C(F)(F)C(F)(F)F + O + O=S(=O)(O)O --->> O=C(O)C(F)(F)C(F)(F)C(F)(F)C(F)(F)C(F)(F)C(F)(F)C(F)(F)C(F)(F)F', 'NC(=O)C(F)(F)C(F)(F)C(F)(F)C(F)(F)C(F)(F)C(F)(F)C(F)(F)C(F)(F)F + O.O + O=P(Cl)(Cl)Cl --->> N#CC(F)(F)C(F)(F)C(F)(F)C(F)(F)C(F)(F)C(F)(F)C(F)(F)C(F)(F)F', 'CCOC(=O)C(F)(F)C(F)(F)C(F)(F)C(F)(F)C(F)(F)C(F)(F)C(F)(F)C(F)(F)F + N --->> NC(=O)C(F)(F)C(F)(F)C(F)(F)C(F)(F)C(F)(F)C(F)(F)C(F)(F)C(F)(F)F']}}}, {'smiles': 'O=C(O)C(F)(F)C(F)(F)C(F)(F)C(F)(F)C(F)(F)C(F)(F)C(F)(F)C(F)(F)F', 'toolkit': 'RXN', 'function': 'Predict_Retrosynthesis', 'parameters': {}, 'results': {'0': {'confidence': 0.952, 'reactions': ['CC(C)=O + CC(C)=O.O=S(=O)(O)O.O=[Cr](=O)=O + OCC(F)(F)C(F)(F)C(F)(F)C(F)(F)C(F)(F)C(F)(F)C(F)(F)C(F)(F)F --->> O=C(O)C(F)(F)C(F)(F)C(F)(F)C(F)(F)C(F)(F)C(F)(F)C(F)(F)C(F)(F)F']}, '1': {'confidence': 0.932, 'reactions': ['N#CC(F)(F)C(F)(F)C(F)(F)C(F)(F)C(F)(F)C(F)(F)C(F)(F)C(F)(F)F + O + O=S(=O)(O)O --->> O=C(O)C(F)(F)C(F)(F)C(F)(F)C(F)(F)C(F)(F)C(F)(F)C(F)(F)C(F)(F)F', 'NC(=O)C(F)(F)C(F)(F)C(F)(F)C(F)(F)C(F)(F)C(F)(F)C(F)(F)C(F)(F)F + O.O + O=P(Cl)(Cl)Cl --->> N#CC(F)(F)C(F)(F)C(F)(F)C(F)(F)C(F)(F)C(F)(F)C(F)(F)C(F)(F)F', 'COC(=O)C(F)(F)C(F)(F)C(F)(F)C(F)(F)C(F)(F)C(F)(F)C(F)(F)C(F)(F)F + [NH4+].[OH-] --->> NC(=O)C(F)(F)C(F)(F)C(F)(F)C(F)(F)C(F)(F)C(F)(F)C(F)(F)C(F)(F)F']}, '2': {'confidence': 0.932, 'reactions': ['N#CC(F)(F)C(F)(F)C(F)(F)C(F)(F)C(F)(F)C(F)(F)C(F)(F)C(F)(F)F + O + O=S(=O)(O)O --->> O=C(O)C(F)(F)C(F)(F)C(F)(F)C(F)(F)C(F)(F)C(F)(F)C(F)(F)C(F)(F)F', 'NC(=O)C(F)(F)C(F)(F)C(F)(F)C(F)(F)C(F)(F)C(F)(F)C(F)(F)C(F)(F)F + O.O + O=P(Cl)(Cl)Cl --->> N#CC(F)(F)C(F)(F)C(F)(F)C(F)(F)C(F)(F)C(F)(F)C(F)(F)C(F)(F)F', 'CCOC(=O)C(F)(F)C(F)(F)C(F)(F)C(F)(F)C(F)(F)C(F)(F)C(F)(F)C(F)(F)F + N --->> NC(=O)C(F)(F)C(F)(F)C(F)(F)C(F)(F)C(F)(F)C(F)(F)C(F)(F)C(F)(F)F']}, '3': {'confidence': 0.932, 'reactions': ['N#CC(F)(F)C(F)(F)C(F)(F)C(F)(F)C(F)(F)C(F)(F)C(F)(F)C(F)(F)F + O + O=S(=O)(O)O --->> O=C(O)C(F)(F)C(F)(F)C(F)(F)C(F)(F)C(F)(F)C(F)(F)C(F)(F)C(F)(F)F', 'NC(=O)C(F)(F)C(F)(F)C(F)(F)C(F)(F)C(F)(F)C(F)(F)C(F)(F)C(F)(F)F + O.O + O=P(Cl)(Cl)Cl --->> N#CC(F)(F)C(F)(F)C(F)(F)C(F)(F)C(F)(F)C(F)(F)C(F)(F)C(F)(F)F', 'COC(=O)C(F)(F)C(F)(F)C(F)(F)C(F)(F)C(F)(F)C(F)(F)C(F)(F)C(F)(F)F + N --->> NC(=O)C(F)(F)C(F)(F)C(F)(F)C(F)(F)C(F)(F)C(F)(F)C(F)(F)C(F)(F)F']}, '4': {'confidence': 0.932, 'reactions': ['N#CC(F)(F)C(F)(F)C(F)(F)C(F)(F)C(F)(F)C(F)(F)C(F)(F)C(F)(F)F + O + O=S(=O)(O)O --->> O=C(O)C(F)(F)C(F)(F)C(F)(F)C(F)(F)C(F)(F)C(F)(F)C(F)(F)C(F)(F)F', 'NC(=O)C(F)(F)C(F)(F)C(F)(F)C(F)(F)C(F)(F)C(F)(F)C(F)(F)C(F)(F)F + O.O + O=P(Cl)(Cl)Cl --->> N#CC(F)(F)C(F)(F)C(F)(F)C(F)(F)C(F)(F)C(F)(F)C(F)(F)C(F)(F)F', 'CO.N + COC(=O)C(F)(F)C(F)(F)C(F)(F)C(F)(F)C(F)(F)C(F)(F)C(F)(F)C(F)(F)F --->> NC(=O)C(F)(F)C(F)(F)C(F)(F)C(F)(F)C(F)(F)C(F)(F)C(F)(F)C(F)(F)F']}, '5': {'confidence': 0.831, 'reactions': ['CO + COC(=O)C(F)(F)C(F)(F)C(F)(F)C(F)(F)C(F)(F)C(F)(F)C(F)(F)C(F)(F)F + O + O[Na] --->> O=C(O)C(F)(F)C(F)(F)C(F)(F)C(F)(F)C(F)(F)C(F)(F)C(F)(F)C(F)(F)F']}, '6': {'confidence': 0.932, 'reactions': ['N#CC(F)(F)C(F)(F)C(F)(F)C(F)(F)C(F)(F)C(F)(F)C(F)(F)C(F)(F)F + O + O=S(=O)(O)O --->> O=C(O)C(F)(F)C(F)(F)C(F)(F)C(F)(F)C(F)(F)C(F)(F)C(F)(F)C(F)(F)F', 'NC(=O)C(F)(F)C(F)(F)C(F)(F)C(F)(F)C(F)(F)C(F)(F)C(F)(F)C(F)(F)F + O.O + O=P(Cl)(Cl)Cl --->> N#CC(F)(F)C(F)(F)C(F)(F)C(F)(F)C(F)(F)C(F)(F)C(F)(F)C(F)(F)F', 'CO + COC(=O)C(F)(F)C(F)(F)C(F)(F)C(F)(F)C(F)(F)C(F)(F)C(F)(F)C(F)(F)F + N --->> NC(=O)C(F)(F)C(F)(F)C(F)(F)C(F)(F)C(F)(F)C(F)(F)C(F)(F)C(F)(F)F']}, '7': {'confidence': 0.755, 'reactions': ['CCOC(=O)C(F)(F)C(F)(F)C(F)(F)C(F)(F)C(F)(F)C(F)(F)C(F)(F)C(F)(F)F + CO + O + O[K] --->> O=C(O)C(F)(F)C(F)(F)C(F)(F)C(F)(F)C(F)(F)C(F)(F)C(F)(F)C(F)(F)F']}, '8': {'confidence': 0.932, 'reactions': ['N#CC(F)(F)C(F)(F)C(F)(F)C(F)(F)C(F)(F)C(F)(F)C(F)(F)C(F)(F)F + O + O=S(=O)(O)O --->> O=C(O)C(F)(F)C(F)(F)C(F)(F)C(F)(F)C(F)(F)C(F)(F)C(F)(F)C(F)(F)F', 'NC(=O)C(F)(F)C(F)(F)C(F)(F)C(F)(F)C(F)(F)C(F)(F)C(F)(F)C(F)(F)F + O.O + O=P(Cl)(Cl)Cl --->> N#CC(F)(F)C(F)(F)C(F)(F)C(F)(F)C(F)(F)C(F)(F)C(F)(F)C(F)(F)F', 'O=C(F)C(F)(F)C(F)(F)C(F)(F)C(F)(F)C(F)(F)C(F)(F)C(F)(F)C(F)(F)F + [NH4+].[OH-] --->> NC(=O)C(F)(F)C(F)(F)C(F)(F)C(F)(F)C(F)(F)C(F)(F)C(F)(F)C(F)(F)F', 'O=C(Cl)C(F)(F)C(F)(F)C(F)(F)C(F)(F)C(F)(F)C(F)(F)C(F)(F)C(F)(F)F + [F-].[K+] --->> O=C(F)C(F)(F)C(F)(F)C(F)(F)C(F)(F)C(F)(F)C(F)(F)C(F)(F)C(F)(F)F']}, '9': {'confidence': 0.72, 'reactions': ['CO + COC(=O)C(F)(F)C(F)(F)C(F)(F)C(F)(F)C(F)(F)C(F)(F)C(F)(F)C(F)(F)F + O[Na] --->> O=C(O)C(F)(F)C(F)(F)C(F)(F)C(F)(F)C(F)(F)C(F)(F)C(F)(F)C(F)(F)F']}, '10': {'confidence': 0.717, 'reactions': ['CO + COC(=O)C(F)(F)C(F)(F)C(F)(F)C(F)(F)C(F)(F)C(F)(F)C(F)(F)C(F)(F)F + O + O[K] --->> O=C(O)C(F)(F)C(F)(F)C(F)(F)C(F)(F)C(F)(F)C(F)(F)C(F)(F)C(F)(F)F']}, '11': {'confidence': 0.932, 'reactions': ['N#CC(F)(F)C(F)(F)C(F)(F)C(F)(F)C(F)(F)C(F)(F)C(F)(F)C(F)(F)F + O + O=S(=O)(O)O --->> O=C(O)C(F)(F)C(F)(F)C(F)(F)C(F)(F)C(F)(F)C(F)(F)C(F)(F)C(F)(F)F', 'NC(=O)C(F)(F)C(F)(F)C(F)(F)C(F)(F)C(F)(F)C(F)(F)C(F)(F)C(F)(F)F + O.O + O=P(Cl)(Cl)Cl --->> N#CC(F)(F)C(F)(F)C(F)(F)C(F)(F)C(F)(F)C(F)(F)C(F)(F)C(F)(F)F', 'N + O=C(Cl)C(F)(F)C(F)(F)C(F)(F)C(F)(F)C(F)(F)C(F)(F)C(F)(F)C(F)(F)F --->> NC(=O)C(F)(F)C(F)(F)C(F)(F)C(F)(F)C(F)(F)C(F)(F)C(F)(F)C(F)(F)F']}, '12': {'confidence': 0.932, 'reactions': ['N#CC(F)(F)C(F)(F)C(F)(F)C(F)(F)C(F)(F)C(F)(F)C(F)(F)C(F)(F)F + O + O=S(=O)(O)O --->> O=C(O)C(F)(F)C(F)(F)C(F)(F)C(F)(F)C(F)(F)C(F)(F)C(F)(F)C(F)(F)F', 'NC(=O)C(F)(F)C(F)(F)C(F)(F)C(F)(F)C(F)(F)C(F)(F)C(F)(F)C(F)(F)F + O.O + O=P(Cl)(Cl)Cl --->> N#CC(F)(F)C(F)(F)C(F)(F)C(F)(F)C(F)(F)C(F)(F)C(F)(F)C(F)(F)F', 'O=C(F)C(F)(F)C(F)(F)C(F)(F)C(F)(F)C(F)(F)C(F)(F)C(F)(F)C(F)(F)F + [NH4+].[OH-] --->> NC(=O)C(F)(F)C(F)(F)C(F)(F)C(F)(F)C(F)(F)C(F)(F)C(F)(F)C(F)(F)F', 'COC(=O)C(F)(F)C(F)(F)C(F)(F)C(F)(F)C(F)(F)C(F)(F)C(F)(F)C(F)(F)F + F[K] --->> O=C(F)C(F)(F)C(F)(F)C(F)(F)C(F)(F)C(F)(F)C(F)(F)C(F)(F)C(F)(F)F']}, '13': {'confidence': 0.932, 'reactions': ['N#CC(F)(F)C(F)(F)C(F)(F)C(F)(F)C(F)(F)C(F)(F)C(F)(F)C(F)(F)F + O + O=S(=O)(O)O --->> O=C(O)C(F)(F)C(F)(F)C(F)(F)C(F)(F)C(F)(F)C(F)(F)C(F)(F)C(F)(F)F', 'CN(C)C=O + FC(F)(F)C(F)(F)C(F)(F)C(F)(F)C(F)(F)C(F)(F)C(F)(F)C(F)(F)I + [C-]#N.[C-]#N.[Cu+2] --->> N#CC(F)(F)C(F)(F)C(F)(F)C(F)(F)C(F)(F)C(F)(F)C(F)(F)C(F)(F)F']}, '14': {'confidence': 0.932, 'reactions': ['N#CC(F)(F)C(F)(F)C(F)(F)C(F)(F)C(F)(F)C(F)(F)C(F)(F)C(F)(F)F + O + O=S(=O)(O)O --->> O=C(O)C(F)(F)C(F)(F)C(F)(F)C(F)(F)C(F)(F)C(F)(F)C(F)(F)C(F)(F)F', 'NC(=O)C(F)(F)C(F)(F)C(F)(F)C(F)(F)C(F)(F)C(F)(F)C(F)(F)C(F)(F)F + O.O + O=P(Cl)(Cl)Cl --->> N#CC(F)(F)C(F)(F)C(F)(F)C(F)(F)C(F)(F)C(F)(F)C(F)(F)C(F)(F)F', 'O=C(F)C(F)(F)C(F)(F)C(F)(F)C(F)(F)C(F)(F)C(F)(F)C(F)(F)C(F)(F)F + [NH4+].[OH-] --->> NC(=O)C(F)(F)C(F)(F)C(F)(F)C(F)(F)C(F)(F)C(F)(F)C(F)(F)C(F)(F)F', 'F[K] + O=C(Cl)C(F)(F)C(F)(F)C(F)(F)C(F)(F)C(F)(F)C(F)(F)C(F)(F)F --->> O=C(F)C(F)(F)C(F)(F)C(F)(F)C(F)(F)C(F)(F)C(F)(F)C(F)(F)C(F)(F)F']}, '15': {'confidence': 0.932, 'reactions': ['N#CC(F)(F)C(F)(F)C(F)(F)C(F)(F)C(F)(F)C(F)(F)C(F)(F)C(F)(F)F + O + O=S(=O)(O)O --->> O=C(O)C(F)(F)C(F)(F)C(F)(F)C(F)(F)C(F)(F)C(F)(F)C(F)(F)C(F)(F)F', 'NC(=O)C(F)(F)C(F)(F)C(F)(F)C(F)(F)C(F)(F)C(F)(F)C(F)(F)C(F)(F)F + O.O + O=P(Cl)(Cl)Cl --->> N#CC(F)(F)C(F)(F)C(F)(F)C(F)(F)C(F)(F)C(F)(F)C(F)(F)C(F)(F)F', 'O=C(F)C(F)(F)C(F)(F)C(F)(F)C(F)(F)C(F)(F)C(F)(F)C(F)(F)C(F)(F)F + [NH4+].[OH-] --->> NC(=O)C(F)(F)C(F)(F)C(F)(F)C(F)(F)C(F)(F)C(F)(F)C(F)(F)C(F)(F)F', 'COC(=O)C(F)(F)C(F)(F)C(F)(F)C(F)(F)C(F)(F)C(F)(F)C(F)(F)C(F)(F)F + F --->> O=C(F)C(F)(F)C(F)(F)C(F)(F)C(F)(F)C(F)(F)C(F)(F)C(F)(F)C(F)(F)F']}}}, {'smiles': 'O=C(O)C(F)(F)C(F)(F)C(F)(F)C(F)(F)C(F)(F)C(F)(F)C(F)(F)C(F)(F)F', 'toolkit': 'RXN', 'function': 'Predict_Retrosynthesis', 'parameters': {}, 'results': {'0': {'confidence': 0.952, 'reactions': ['CC(C)=O + CC(C)=O.O=S(=O)(O)O.O=[Cr](=O)=O + OCC(F)(F)C(F)(F)C(F)(F)C(F)(F)C(F)(F)C(F)(F)C(F)(F)C(F)(F)F --->> O=C(O)C(F)(F)C(F)(F)C(F)(F)C(F)(F)C(F)(F)C(F)(F)C(F)(F)C(F)(F)F']}, '1': {'confidence': 0.932, 'reactions': ['N#CC(F)(F)C(F)(F)C(F)(F)C(F)(F)C(F)(F)C(F)(F)C(F)(F)C(F)(F)F + O + O=S(=O)(O)O --->> O=C(O)C(F)(F)C(F)(F)C(F)(F)C(F)(F)C(F)(F)C(F)(F)C(F)(F)C(F)(F)F', 'NC(=O)C(F)(F)C(F)(F)C(F)(F)C(F)(F)C(F)(F)C(F)(F)C(F)(F)C(F)(F)F + O.O + O=P(Cl)(Cl)Cl --->> N#CC(F)(F)C(F)(F)C(F)(F)C(F)(F)C(F)(F)C(F)(F)C(F)(F)C(F)(F)F', 'COC(=O)C(F)(F)C(F)(F)C(F)(F)C(F)(F)C(F)(F)C(F)(F)C(F)(F)C(F)(F)F + [NH4+].[OH-] --->> NC(=O)C(F)(F)C(F)(F)C(F)(F)C(F)(F)C(F)(F)C(F)(F)C(F)(F)C(F)(F)F']}, '2': {'confidence': 0.932, 'reactions': ['N#CC(F)(F)C(F)(F)C(F)(F)C(F)(F)C(F)(F)C(F)(F)C(F)(F)C(F)(F)F + O + O=S(=O)(O)O --->> O=C(O)C(F)(F)C(F)(F)C(F)(F)C(F)(F)C(F)(F)C(F)(F)C(F)(F)C(F)(F)F', 'NC(=O)C(F)(F)C(F)(F)C(F)(F)C(F)(F)C(F)(F)C(F)(F)C(F)(F)C(F)(F)F + O.O + O=P(Cl)(Cl)Cl --->> N#CC(F)(F)C(F)(F)C(F)(F)C(F)(F)C(F)(F)C(F)(F)C(F)(F)C(F)(F)F', 'CCOC(=O)C(F)(F)C(F)(F)C(F)(F)C(F)(F)C(F)(F)C(F)(F)C(F)(F)C(F)(F)F + N --->> NC(=O)C(F)(F)C(F)(F)C(F)(F)C(F)(F)C(F)(F)C(F)(F)C(F)(F)C(F)(F)F']}}}, {'toolkit': 'RXN', 'function': 'Predict_Retrosynthesis', 'smiles': 'O=C(O)C(F)(F)C(F)(F)C(F)(F)C(F)(F)C(F)(F)C(F)(F)C(F)(F)C(F)(F)F', 'parameters': {}, 'results': {'0': {'confidence': 0.952, 'reactions': ['CC(C)=O + CC(C)=O.O=S(=O)(O)O.O=[Cr](=O)=O + OCC(F)(F)C(F)(F)C(F)(F)C(F)(F)C(F)(F)C(F)(F)C(F)(F)C(F)(F)F --->> O=C(O)C(F)(F)C(F)(F)C(F)(F)C(F)(F)C(F)(F)C(F)(F)C(F)(F)C(F)(F)F']}, '1': {'confidence': 0.932, 'reactions': ['N#CC(F)(F)C(F)(F)C(F)(F)C(F)(F)C(F)(F)C(F)(F)C(F)(F)C(F)(F)F + O + O=S(=O)(O)O --->> O=C(O)C(F)(F)C(F)(F)C(F)(F)C(F)(F)C(F)(F)C(F)(F)C(F)(F)C(F)(F)F', 'NC(=O)C(F)(F)C(F)(F)C(F)(F)C(F)(F)C(F)(F)C(F)(F)C(F)(F)C(F)(F)F + O.O + O=P(Cl)(Cl)Cl --->> N#CC(F)(F)C(F)(F)C(F)(F)C(F)(F)C(F)(F)C(F)(F)C(F)(F)C(F)(F)F', 'COC(=O)C(F)(F)C(F)(F)C(F)(F)C(F)(F)C(F)(F)C(F)(F)C(F)(F)C(F)(F)F + [NH4+].[OH-] --->> NC(=O)C(F)(F)C(F)(F)C(F)(F)C(F)(F)C(F)(F)C(F)(F)C(F)(F)C(F)(F)F']}, '2': {'confidence': 0.932, 'reactions': ['N#CC(F)(F)C(F)(F)C(F)(F)C(F)(F)C(F)(F)C(F)(F)C(F)(F)C(F)(F)F + O + O=S(=O)(O)O --->> O=C(O)C(F)(F)C(F)(F)C(F)(F)C(F)(F)C(F)(F)C(F)(F)C(F)(F)C(F)(F)F', 'NC(=O)C(F)(F)C(F)(F)C(F)(F)C(F)(F)C(F)(F)C(F)(F)C(F)(F)C(F)(F)F + O.O + O=P(Cl)(Cl)Cl --->> N#CC(F)(F)C(F)(F)C(F)(F)C(F)(F)C(F)(F)C(F)(F)C(F)(F)C(F)(F)F', 'CCOC(=O)C(F)(F)C(F)(F)C(F)(F)C(F)(F)C(F)(F)C(F)(F)C(F)(F)C(F)(F)F + N --->> NC(=O)C(F)(F)C(F)(F)C(F)(F)C(F)(F)C(F)(F)C(F)(F)C(F)(F)C(F)(F)F']}}}, {'smiles': 'O=C(O)C(F)(F)C(F)(F)C(F)(F)C(F)(F)C(F)(F)C(F)(F)C(F)(F)C(F)(F)F', 'toolkit': 'RXN', 'function': 'Predict_Retrosynthesis', 'parameters': {}, 'results': {'0': {'confidence': 0.952, 'reactions': ['CC(C)=O + CC(C)=O.O=S(=O)(O)O.O=[Cr](=O)=O + OCC(F)(F)C(F)(F)C(F)(F)C(F)(F)C(F)(F)C(F)(F)C(F)(F)C(F)(F)F --->> O=C(O)C(F)(F)C(F)(F)C(F)(F)C(F)(F)C(F)(F)C(F)(F)C(F)(F)C(F)(F)F']}, '1': {'confidence': 0.932, 'reactions': ['N#CC(F)(F)C(F)(F)C(F)(F)C(F)(F)C(F)(F)C(F)(F)C(F)(F)C(F)(F)F + O + O=S(=O)(O)O --->> O=C(O)C(F)(F)C(F)(F)C(F)(F)C(F)(F)C(F)(F)C(F)(F)C(F)(F)C(F)(F)F', 'NC(=O)C(F)(F)C(F)(F)C(F)(F)C(F)(F)C(F)(F)C(F)(F)C(F)(F)C(F)(F)F + O.O + O=P(Cl)(Cl)Cl --->> N#CC(F)(F)C(F)(F)C(F)(F)C(F)(F)C(F)(F)C(F)(F)C(F)(F)C(F)(F)F', 'COC(=O)C(F)(F)C(F)(F)C(F)(F)C(F)(F)C(F)(F)C(F)(F)C(F)(F)C(F)(F)F + [NH4+].[OH-] --->> NC(=O)C(F)(F)C(F)(F)C(F)(F)C(F)(F)C(F)(F)C(F)(F)C(F)(F)C(F)(F)F']}, '2': {'confidence': 0.932, 'reactions': ['N#CC(F)(F)C(F)(F)C(F)(F)C(F)(F)C(F)(F)C(F)(F)C(F)(F)C(F)(F)F + O + O=S(=O)(O)O --->> O=C(O)C(F)(F)C(F)(F)C(F)(F)C(F)(F)C(F)(F)C(F)(F)C(F)(F)C(F)(F)F', 'NC(=O)C(F)(F)C(F)(F)C(F)(F)C(F)(F)C(F)(F)C(F)(F)C(F)(F)C(F)(F)F + O.O + O=P(Cl)(Cl)Cl --->> N#CC(F)(F)C(F)(F)C(F)(F)C(F)(F)C(F)(F)C(F)(F)C(F)(F)C(F)(F)F', 'CCOC(=O)C(F)(F)C(F)(F)C(F)(F)C(F)(F)C(F)(F)C(F)(F)C(F)(F)C(F)(F)F + N --->> NC(=O)C(F)(F)C(F)(F)C(F)(F)C(F)(F)C(F)(F)C(F)(F)C(F)(F)C(F)(F)F']}}}, {'smiles': 'O=C(O)C(F)(F)C(F)(F)C(F)(F)C(F)(F)C(F)(F)C(F)(F)C(F)(F)C(F)(F)F', 'toolkit': 'RXN', 'function': 'Predict_Retrosynthesis', 'parameters': {}, 'results': {'0': {'confidence': 0.952, 'reactions': ['CC(C)=O + CC(C)=O.O=S(=O)(O)O.O=[Cr](=O)=O + OCC(F)(F)C(F)(F)C(F)(F)C(F)(F)C(F)(F)C(F)(F)C(F)(F)C(F)(F)F --->> O=C(O)C(F)(F)C(F)(F)C(F)(F)C(F)(F)C(F)(F)C(F)(F)C(F)(F)C(F)(F)F']}, '1': {'confidence': 0.932, 'reactions': ['N#CC(F)(F)C(F)(F)C(F)(F)C(F)(F)C(F)(F)C(F)(F)C(F)(F)C(F)(F)F + O + O=S(=O)(O)O --->> O=C(O)C(F)(F)C(F)(F)C(F)(F)C(F)(F)C(F)(F)C(F)(F)C(F)(F)C(F)(F)F', 'NC(=O)C(F)(F)C(F)(F)C(F)(F)C(F)(F)C(F)(F)C(F)(F)C(F)(F)C(F)(F)F + O.O + O=P(Cl)(Cl)Cl --->> N#CC(F)(F)C(F)(F)C(F)(F)C(F)(F)C(F)(F)C(F)(F)C(F)(F)C(F)(F)F', 'COC(=O)C(F)(F)C(F)(F)C(F)(F)C(F)(F)C(F)(F)C(F)(F)C(F)(F)C(F)(F)F + [NH4+].[OH-] --->> NC(=O)C(F)(F)C(F)(F)C(F)(F)C(F)(F)C(F)(F)C(F)(F)C(F)(F)C(F)(F)F']}, '2': {'confidence': 0.932, 'reactions': ['N#CC(F)(F)C(F)(F)C(F)(F)C(F)(F)C(F)(F)C(F)(F)C(F)(F)C(F)(F)F + O + O=S(=O)(O)O --->> O=C(O)C(F)(F)C(F)(F)C(F)(F)C(F)(F)C(F)(F)C(F)(F)C(F)(F)C(F)(F)F', 'NC(=O)C(F)(F)C(F)(F)C(F)(F)C(F)(F)C(F)(F)C(F)(F)C(F)(F)C(F)(F)F + O.O + O=P(Cl)(Cl)Cl --->> N#CC(F)(F)C(F)(F)C(F)(F)C(F)(F)C(F)(F)C(F)(F)C(F)(F)C(F)(F)F', 'CCOC(=O)C(F)(F)C(F)(F)C(F)(F)C(F)(F)C(F)(F)C(F)(F)C(F)(F)C(F)(F)F + N --->> NC(=O)C(F)(F)C(F)(F)C(F)(F)C(F)(F)C(F)(F)C(F)(F)C(F)(F)C(F)(F)F']}}}, {'smiles': 'O=C(O)C(F)(F)C(F)(F)C(F)(F)C(F)(F)C(F)(F)C(F)(F)C(F)(F)C(F)(F)F', 'toolkit': 'RXN', 'function': 'Predict_Retrosynthesis', 'parameters': {}, 'results': {'0': {'confidence': 0.952, 'reactions': ['CC(C)=O + CC(C)=O.O=S(=O)(O)O.O=[Cr](=O)=O + OCC(F)(F)C(F)(F)C(F)(F)C(F)(F)C(F)(F)C(F)(F)C(F)(F)C(F)(F)F --->> O=C(O)C(F)(F)C(F)(F)C(F)(F)C(F)(F)C(F)(F)C(F)(F)C(F)(F)C(F)(F)F']}, '1': {'confidence': 0.932, 'reactions': ['N#CC(F)(F)C(F)(F)C(F)(F)C(F)(F)C(F)(F)C(F)(F)C(F)(F)C(F)(F)F + O + O=S(=O)(O)O --->> O=C(O)C(F)(F)C(F)(F)C(F)(F)C(F)(F)C(F)(F)C(F)(F)C(F)(F)C(F)(F)F', 'NC(=O)C(F)(F)C(F)(F)C(F)(F)C(F)(F)C(F)(F)C(F)(F)C(F)(F)C(F)(F)F + O.O + O=P(Cl)(Cl)Cl --->> N#CC(F)(F)C(F)(F)C(F)(F)C(F)(F)C(F)(F)C(F)(F)C(F)(F)C(F)(F)F', 'COC(=O)C(F)(F)C(F)(F)C(F)(F)C(F)(F)C(F)(F)C(F)(F)C(F)(F)C(F)(F)F + [NH4+].[OH-] --->> NC(=O)C(F)(F)C(F)(F)C(F)(F)C(F)(F)C(F)(F)C(F)(F)C(F)(F)C(F)(F)F']}, '2': {'confidence': 0.932, 'reactions': ['N#CC(F)(F)C(F)(F)C(F)(F)C(F)(F)C(F)(F)C(F)(F)C(F)(F)C(F)(F)F + O + O=S(=O)(O)O --->> O=C(O)C(F)(F)C(F)(F)C(F)(F)C(F)(F)C(F)(F)C(F)(F)C(F)(F)C(F)(F)F', 'NC(=O)C(F)(F)C(F)(F)C(F)(F)C(F)(F)C(F)(F)C(F)(F)C(F)(F)C(F)(F)F + O.O + O=P(Cl)(Cl)Cl --->> N#CC(F)(F)C(F)(F)C(F)(F)C(F)(F)C(F)(F)C(F)(F)C(F)(F)C(F)(F)F', 'CCOC(=O)C(F)(F)C(F)(F)C(F)(F)C(F)(F)C(F)(F)C(F)(F)C(F)(F)C(F)(F)F + N --->> NC(=O)C(F)(F)C(F)(F)C(F)(F)C(F)(F)C(F)(F)C(F)(F)C(F)(F)C(F)(F)F']}}}]\n",
      "888 C(=O)(C(C(C(C(C(C(C(C(F)(F)F)(F)F)(F)F)(F)F)(F)F)(F)F)(F)F)(F)F)O O=C(O)C(F)(F)C(F)(F)C(F)(F)C(F)(F)C(F)(F)C(F)(F)C(F)(F)C(F)(F)F O=C(O)C(F)(F)C(F)(F)C(F)(F)C(F)(F)C(F)(F)C(F)(F)C(F)(F)C(F)(F)F\n",
      "888 C(=O)(C(C(C(C(C(C(C(C(F)(F)F)(F)F)(F)F)(F)F)(F)F)(F)F)(F)F)(F)F)O O=C(O)C(F)(F)C(F)(F)C(F)(F)C(F)(F)C(F)(F)C(F)(F)C(F)(F)C(F)(F)F O=C(O)C(F)(F)C(F)(F)C(F)(F)C(F)(F)C(F)(F)C(F)(F)C(F)(F)C(F)(F)F\n",
      "888 C(=O)(C(C(C(C(C(C(C(C(F)(F)F)(F)F)(F)F)(F)F)(F)F)(F)F)(F)F)(F)F)O O=C(O)C(F)(F)C(F)(F)C(F)(F)C(F)(F)C(F)(F)C(F)(F)C(F)(F)C(F)(F)F O=C(O)C(F)(F)C(F)(F)C(F)(F)C(F)(F)C(F)(F)C(F)(F)C(F)(F)C(F)(F)F\n",
      "888 C(=O)(C(C(C(C(C(C(C(C(F)(F)F)(F)F)(F)F)(F)F)(F)F)(F)F)(F)F)(F)F)O O=C(O)C(F)(F)C(F)(F)C(F)(F)C(F)(F)C(F)(F)C(F)(F)C(F)(F)C(F)(F)F O=C(O)C(F)(F)C(F)(F)C(F)(F)C(F)(F)C(F)(F)C(F)(F)C(F)(F)C(F)(F)F\n",
      "888 C(=O)(C(C(C(C(C(C(C(C(F)(F)F)(F)F)(F)F)(F)F)(F)F)(F)F)(F)F)(F)F)O O=C(O)C(F)(F)C(F)(F)C(F)(F)C(F)(F)C(F)(F)C(F)(F)C(F)(F)C(F)(F)F O=C(O)C(F)(F)C(F)(F)C(F)(F)C(F)(F)C(F)(F)C(F)(F)C(F)(F)C(F)(F)F\n",
      "888 C(=O)(C(C(C(C(C(C(C(C(F)(F)F)(F)F)(F)F)(F)F)(F)F)(F)F)(F)F)(F)F)O O=C(O)C(F)(F)C(F)(F)C(F)(F)C(F)(F)C(F)(F)C(F)(F)C(F)(F)C(F)(F)F O=C(O)C(F)(F)C(F)(F)C(F)(F)C(F)(F)C(F)(F)C(F)(F)C(F)(F)C(F)(F)F\n",
      "888 C(=O)(C(C(C(C(C(C(C(C(F)(F)F)(F)F)(F)F)(F)F)(F)F)(F)F)(F)F)(F)F)O O=C(O)C(F)(F)C(F)(F)C(F)(F)C(F)(F)C(F)(F)C(F)(F)C(F)(F)C(F)(F)F O=C(O)C(F)(F)C(F)(F)C(F)(F)C(F)(F)C(F)(F)C(F)(F)C(F)(F)C(F)(F)F\n",
      "888 C(=O)(C(C(C(C(C(C(C(C(F)(F)F)(F)F)(F)F)(F)F)(F)F)(F)F)(F)F)(F)F)O O=C(O)C(F)(F)C(F)(F)C(F)(F)C(F)(F)C(F)(F)C(F)(F)C(F)(F)C(F)(F)F O=C(O)C(F)(F)C(F)(F)C(F)(F)C(F)(F)C(F)(F)C(F)(F)C(F)(F)C(F)(F)F\n",
      "888 C(=O)(C(C(C(C(C(C(C(C(F)(F)F)(F)F)(F)F)(F)F)(F)F)(F)F)(F)F)(F)F)O O=C(O)C(F)(F)C(F)(F)C(F)(F)C(F)(F)C(F)(F)C(F)(F)C(F)(F)C(F)(F)F O=C(O)C(F)(F)C(F)(F)C(F)(F)C(F)(F)C(F)(F)C(F)(F)C(F)(F)C(F)(F)F\n",
      "888 C(=O)(C(C(C(C(C(C(C(C(F)(F)F)(F)F)(F)F)(F)F)(F)F)(F)F)(F)F)(F)F)O O=C(O)C(F)(F)C(F)(F)C(F)(F)C(F)(F)C(F)(F)C(F)(F)C(F)(F)C(F)(F)F O=C(O)C(F)(F)C(F)(F)C(F)(F)C(F)(F)C(F)(F)C(F)(F)C(F)(F)C(F)(F)F\n",
      "888 C(=O)(C(C(C(C(C(C(C(C(F)(F)F)(F)F)(F)F)(F)F)(F)F)(F)F)(F)F)(F)F)O O=C(O)C(F)(F)C(F)(F)C(F)(F)C(F)(F)C(F)(F)C(F)(F)C(F)(F)C(F)(F)F O=C(O)C(F)(F)C(F)(F)C(F)(F)C(F)(F)C(F)(F)C(F)(F)C(F)(F)C(F)(F)F\n",
      "888 C(=O)(C(C(C(C(C(C(C(C(F)(F)F)(F)F)(F)F)(F)F)(F)F)(F)F)(F)F)(F)F)O O=C(O)C(F)(F)C(F)(F)C(F)(F)C(F)(F)C(F)(F)C(F)(F)C(F)(F)C(F)(F)F O=C(O)C(F)(F)C(F)(F)C(F)(F)C(F)(F)C(F)(F)C(F)(F)C(F)(F)C(F)(F)F\n",
      "888 C(=O)(C(C(C(C(C(C(C(C(F)(F)F)(F)F)(F)F)(F)F)(F)F)(F)F)(F)F)(F)F)O O=C(O)C(F)(F)C(F)(F)C(F)(F)C(F)(F)C(F)(F)C(F)(F)C(F)(F)C(F)(F)F O=C(O)C(F)(F)C(F)(F)C(F)(F)C(F)(F)C(F)(F)C(F)(F)C(F)(F)C(F)(F)F\n",
      "888 C(=O)(C(C(C(C(C(C(C(C(F)(F)F)(F)F)(F)F)(F)F)(F)F)(F)F)(F)F)(F)F)O O=C(O)C(F)(F)C(F)(F)C(F)(F)C(F)(F)C(F)(F)C(F)(F)C(F)(F)C(F)(F)F O=C(O)C(F)(F)C(F)(F)C(F)(F)C(F)(F)C(F)(F)C(F)(F)C(F)(F)C(F)(F)F\n",
      "888 C(=O)(C(C(C(C(C(C(C(C(F)(F)F)(F)F)(F)F)(F)F)(F)F)(F)F)(F)F)(F)F)O O=C(O)C(F)(F)C(F)(F)C(F)(F)C(F)(F)C(F)(F)C(F)(F)C(F)(F)C(F)(F)F O=C(O)C(F)(F)C(F)(F)C(F)(F)C(F)(F)C(F)(F)C(F)(F)C(F)(F)C(F)(F)F\n",
      "123\n",
      "inchikey CSEBNABAWMZWIF-UHFFFAOYSA-N\n",
      "456 []\n",
      "123\n",
      "inchikey YFSUTJLHUFNCNZ-UHFFFAOYSA-N\n",
      "456 []\n",
      "123\n",
      "inchikey QZHDEAJFRJCDMF-UHFFFAOYSA-N\n",
      "456 [{'smiles': 'O=S(=O)(O)C(F)(F)C(F)(F)C(F)(F)C(F)(F)C(F)(F)C(F)(F)F', 'toolkit': 'DS4SD', 'function': 'Patents_For_Molecule', 'parameters': '', 'results': []}, {'smiles': 'O=S(=O)(O)C(F)(F)C(F)(F)C(F)(F)C(F)(F)C(F)(F)C(F)(F)F', 'toolkit': 'DS4SD', 'function': 'Patents_For_Molecule', 'parameters': '', 'results': []}, {'smiles': 'O=S(=O)(O)C(F)(F)C(F)(F)C(F)(F)C(F)(F)C(F)(F)C(F)(F)F', 'toolkit': 'DS4SD', 'function': 'Patents_For_Molecule', 'parameters': '', 'results': []}, {'smiles': 'O=S(=O)(O)C(F)(F)C(F)(F)C(F)(F)C(F)(F)C(F)(F)C(F)(F)F', 'toolkit': 'DS4SD', 'function': 'Patents_For_Molecule', 'parameters': '', 'results': []}, {'smiles': 'O=S(=O)(O)C(F)(F)C(F)(F)C(F)(F)C(F)(F)C(F)(F)C(F)(F)F', 'toolkit': 'DS4SD', 'function': 'Patents_For_Molecule', 'parameters': '', 'results': []}, {'smiles': 'O=S(=O)(O)C(F)(F)C(F)(F)C(F)(F)C(F)(F)C(F)(F)C(F)(F)F', 'toolkit': 'DS4SD', 'function': 'Patents_For_Molecule', 'parameters': '', 'results': []}, {'smiles': 'O=S(=O)(O)C(F)(F)C(F)(F)C(F)(F)C(F)(F)C(F)(F)C(F)(F)F', 'toolkit': 'DS4SD', 'function': 'Patents_For_Molecule', 'parameters': '', 'results': []}, {'smiles': 'O=S(=O)(O)C(F)(F)C(F)(F)C(F)(F)C(F)(F)C(F)(F)C(F)(F)F', 'toolkit': 'DS4SD', 'function': 'Patents_For_Molecule', 'parameters': '', 'results': []}, {'smiles': 'O=S(=O)(O)C(F)(F)C(F)(F)C(F)(F)C(F)(F)C(F)(F)C(F)(F)F', 'toolkit': 'DS4SD', 'function': 'Patents_For_Molecule', 'parameters': '', 'results': []}, {'smiles': 'O=S(=O)(O)C(F)(F)C(F)(F)C(F)(F)C(F)(F)C(F)(F)C(F)(F)F', 'toolkit': 'DS4SD', 'function': 'Patents_For_Molecule', 'parameters': '', 'results': []}, {'smiles': 'O=S(=O)(O)C(F)(F)C(F)(F)C(F)(F)C(F)(F)C(F)(F)C(F)(F)F', 'toolkit': 'DS4SD', 'function': 'Patents_For_Molecule', 'parameters': '', 'results': []}, {'smiles': 'O=S(=O)(O)C(F)(F)C(F)(F)C(F)(F)C(F)(F)C(F)(F)C(F)(F)F', 'toolkit': 'DS4SD', 'function': 'Patents_For_Molecule', 'parameters': '', 'results': []}, {'smiles': 'O=S(=O)(O)C(F)(F)C(F)(F)C(F)(F)C(F)(F)C(F)(F)C(F)(F)F', 'toolkit': 'DS4SD', 'function': 'Patents_For_Molecule', 'parameters': '', 'results': []}, {'smiles': 'O=S(=O)(O)C(F)(F)C(F)(F)C(F)(F)C(F)(F)C(F)(F)C(F)(F)F', 'toolkit': 'DS4SD', 'function': 'Patents_For_Molecule', 'parameters': '', 'results': []}, {'smiles': 'O=S(=O)(O)C(F)(F)C(F)(F)C(F)(F)C(F)(F)C(F)(F)C(F)(F)F', 'toolkit': 'DS4SD', 'function': 'Patents_For_Molecule', 'parameters': '', 'results': []}, {'smiles': 'O=S(=O)(O)C(F)(F)C(F)(F)C(F)(F)C(F)(F)C(F)(F)C(F)(F)F', 'toolkit': 'DS4SD', 'function': 'Patents_For_Molecule', 'parameters': '', 'results': []}, {'smiles': 'O=S(=O)(O)C(F)(F)C(F)(F)C(F)(F)C(F)(F)C(F)(F)C(F)(F)F', 'toolkit': 'DS4SD', 'function': 'Patents_For_Molecule', 'parameters': '', 'results': []}, {'smiles': 'O=S(=O)(O)C(F)(F)C(F)(F)C(F)(F)C(F)(F)C(F)(F)C(F)(F)F', 'toolkit': 'DS4SD', 'function': 'Patents_For_Molecule', 'parameters': '', 'results': []}, {'smiles': 'O=S(=O)(O)C(F)(F)C(F)(F)C(F)(F)C(F)(F)C(F)(F)C(F)(F)F', 'toolkit': 'DS4SD', 'function': 'Patents_For_Molecule', 'parameters': '', 'results': []}, {'smiles': 'O=S(=O)(O)C(F)(F)C(F)(F)C(F)(F)C(F)(F)C(F)(F)C(F)(F)F', 'toolkit': 'DS4SD', 'function': 'Patents_For_Molecule', 'parameters': '', 'results': []}, {'smiles': 'O=S(=O)(O)C(F)(F)C(F)(F)C(F)(F)C(F)(F)C(F)(F)C(F)(F)F', 'toolkit': 'DS4SD', 'function': 'Patents_For_Molecule', 'parameters': '', 'results': []}, {'smiles': 'O=S(=O)(O)C(F)(F)C(F)(F)C(F)(F)C(F)(F)C(F)(F)C(F)(F)F', 'toolkit': 'DS4SD', 'function': 'Patents_For_Molecule', 'parameters': '', 'results': []}, {'smiles': 'O=S(=O)(O)C(F)(F)C(F)(F)C(F)(F)C(F)(F)C(F)(F)C(F)(F)F', 'toolkit': 'DS4SD', 'function': 'Patents_For_Molecule', 'parameters': '', 'results': []}, {'smiles': 'O=S(=O)(O)C(F)(F)C(F)(F)C(F)(F)C(F)(F)C(F)(F)C(F)(F)F', 'toolkit': 'DS4SD', 'function': 'Patents_For_Molecule', 'parameters': '', 'results': []}, {'smiles': 'O=S(=O)(O)C(F)(F)C(F)(F)C(F)(F)C(F)(F)C(F)(F)C(F)(F)F', 'toolkit': 'DS4SD', 'function': 'Patents_For_Molecule', 'parameters': '', 'results': []}, {'smiles': 'O=S(=O)(O)C(F)(F)C(F)(F)C(F)(F)C(F)(F)C(F)(F)C(F)(F)F', 'toolkit': 'DS4SD', 'function': 'Patents_For_Molecule', 'parameters': '', 'results': []}, {'smiles': 'O=S(=O)(O)C(F)(F)C(F)(F)C(F)(F)C(F)(F)C(F)(F)C(F)(F)F', 'toolkit': 'DS4SD', 'function': 'Patents_For_Molecule', 'parameters': '', 'results': []}, {'smiles': 'O=S(=O)(O)C(F)(F)C(F)(F)C(F)(F)C(F)(F)C(F)(F)C(F)(F)F', 'toolkit': 'DS4SD', 'function': 'Patents_For_Molecule', 'parameters': '', 'results': []}, {'smiles': 'O=S(=O)(O)C(F)(F)C(F)(F)C(F)(F)C(F)(F)C(F)(F)C(F)(F)F', 'toolkit': 'DS4SD', 'function': 'Patents_For_Molecule', 'parameters': '', 'results': []}, {'toolkit': 'DS4SD', 'function': 'Patents_For_Molecule', 'smiles': 'O=S(=O)(O)C(F)(F)C(F)(F)C(F)(F)C(F)(F)C(F)(F)C(F)(F)F', 'parameters': '', 'results': [{'PATENT ID': 'CN103119097B'}, {'PATENT ID': 'CN201310009994'}, {'PATENT ID': 'CN106471026A'}, {'PATENT ID': 'CN201510955756'}, {'PATENT ID': 'CN201510070825'}, {'PATENT ID': 'CN201610049288'}, {'PATENT ID': 'CN201710059485'}, {'PATENT ID': 'CN111954662B'}, {'PATENT ID': 'CN202010056189'}, {'PATENT ID': 'CN104114637B'}, {'PATENT ID': 'CN105431490A'}, {'PATENT ID': 'CN105431490B'}, {'PATENT ID': 'CN201510036179'}, {'PATENT ID': 'CN107949585A'}, {'PATENT ID': 'CN107949585B'}, {'PATENT ID': 'CN107922532B'}, {'PATENT ID': 'CN107922532A'}, {'PATENT ID': 'CN109478667B'}, {'PATENT ID': 'CN201710043352'}, {'PATENT ID': 'CN201810246092'}]}, {'smiles': 'O=S(=O)(O)C(F)(F)C(F)(F)C(F)(F)C(F)(F)C(F)(F)C(F)(F)F', 'toolkit': 'DS4SD', 'function': 'Patents_For_Molecule', 'parameters': '', 'results': []}, {'smiles': 'O=S(=O)(O)C(F)(F)C(F)(F)C(F)(F)C(F)(F)C(F)(F)C(F)(F)F', 'toolkit': 'DS4SD', 'function': 'Patents_For_Molecule', 'parameters': '', 'results': []}, {'smiles': 'O=S(=O)(O)C(F)(F)C(F)(F)C(F)(F)C(F)(F)C(F)(F)C(F)(F)F', 'toolkit': 'RXN', 'function': 'Predict_Retrosynthesis', 'parameters': {}, 'results': {'0': {'confidence': 0.885, 'reactions': ['Cl + O + O=S(=O)([O-])C(F)(F)C(F)(F)C(F)(F)C(F)(F)C(F)(F)C(F)(F)F.[Na+] --->> O=S(=O)(O)C(F)(F)C(F)(F)C(F)(F)C(F)(F)C(F)(F)C(F)(F)F', 'FC(F)(F)C(F)(F)C(F)(F)C(F)(F)C(F)(F)C(F)(F)I + O + O=S(O[Na])O[Na] --->> O=S(=O)([O-])C(F)(F)C(F)(F)C(F)(F)C(F)(F)C(F)(F)C(F)(F)F.[Na+]']}}}, {'smiles': 'O=S(=O)(O)C(F)(F)C(F)(F)C(F)(F)C(F)(F)C(F)(F)C(F)(F)F', 'toolkit': 'DS4SD', 'function': 'Patents_For_Molecule', 'parameters': '', 'results': []}, {'smiles': 'O=S(=O)(O)C(F)(F)C(F)(F)C(F)(F)C(F)(F)C(F)(F)C(F)(F)F', 'toolkit': 'DS4SD', 'function': 'Patents_For_Molecule', 'parameters': '', 'results': []}, {'smiles': 'O=S(=O)(O)C(F)(F)C(F)(F)C(F)(F)C(F)(F)C(F)(F)C(F)(F)F', 'toolkit': 'DS4SD', 'function': 'Patents_For_Molecule', 'parameters': '', 'results': []}, {'smiles': 'O=S(=O)(O)C(F)(F)C(F)(F)C(F)(F)C(F)(F)C(F)(F)C(F)(F)F', 'toolkit': 'DS4SD', 'function': 'Patents_For_Molecule', 'parameters': '', 'results': []}, {'smiles': 'O=S(=O)(O)C(F)(F)C(F)(F)C(F)(F)C(F)(F)C(F)(F)C(F)(F)F', 'toolkit': 'DS4SD', 'function': 'Patents_For_Molecule', 'parameters': '', 'results': []}, {'smiles': 'O=S(=O)(O)C(F)(F)C(F)(F)C(F)(F)C(F)(F)C(F)(F)C(F)(F)F', 'toolkit': 'DS4SD', 'function': 'Patents_For_Molecule', 'parameters': '', 'results': []}, {'smiles': 'O=S(=O)(O)C(F)(F)C(F)(F)C(F)(F)C(F)(F)C(F)(F)C(F)(F)F', 'toolkit': 'DS4SD', 'function': 'Patents_For_Molecule', 'parameters': '', 'results': []}, {'smiles': 'O=S(=O)(O)C(F)(F)C(F)(F)C(F)(F)C(F)(F)C(F)(F)C(F)(F)F', 'toolkit': 'DS4SD', 'function': 'Patents_For_Molecule', 'parameters': '', 'results': []}, {'toolkit': 'DS4SD', 'function': 'Patents_For_Molecule', 'smiles': 'O=S(=O)(O)C(F)(F)C(F)(F)C(F)(F)C(F)(F)C(F)(F)C(F)(F)F', 'parameters': '', 'results': [{'PATENT ID': 'CN103119097B'}, {'PATENT ID': 'CN201310009994'}, {'PATENT ID': 'CN106471026A'}, {'PATENT ID': 'CN201510955756'}, {'PATENT ID': 'CN201510070825'}, {'PATENT ID': 'CN201610049288'}, {'PATENT ID': 'CN201710059485'}, {'PATENT ID': 'CN111954662B'}, {'PATENT ID': 'CN202010056189'}, {'PATENT ID': 'CN104114637B'}, {'PATENT ID': 'CN105431490A'}, {'PATENT ID': 'CN105431490B'}, {'PATENT ID': 'CN201510036179'}, {'PATENT ID': 'CN107949585A'}, {'PATENT ID': 'CN107949585B'}, {'PATENT ID': 'CN107922532B'}, {'PATENT ID': 'CN107922532A'}, {'PATENT ID': 'CN109478667B'}, {'PATENT ID': 'CN201710043352'}, {'PATENT ID': 'CN201810246092'}]}, {'smiles': 'O=S(=O)(O)C(F)(F)C(F)(F)C(F)(F)C(F)(F)C(F)(F)C(F)(F)F', 'toolkit': 'DS4SD', 'function': 'Patents_For_Molecule', 'parameters': '', 'results': []}, {'smiles': 'O=S(=O)(O)C(F)(F)C(F)(F)C(F)(F)C(F)(F)C(F)(F)C(F)(F)F', 'toolkit': 'DS4SD', 'function': 'Patents_For_Molecule', 'parameters': '', 'results': []}, {'smiles': 'O=S(=O)(O)C(F)(F)C(F)(F)C(F)(F)C(F)(F)C(F)(F)C(F)(F)F', 'toolkit': 'RXN', 'function': 'Predict_Retrosynthesis', 'parameters': {}, 'results': {'0': {'confidence': 0.885, 'reactions': ['Cl + O + O=S(=O)([O-])C(F)(F)C(F)(F)C(F)(F)C(F)(F)C(F)(F)C(F)(F)F.[Na+] --->> O=S(=O)(O)C(F)(F)C(F)(F)C(F)(F)C(F)(F)C(F)(F)C(F)(F)F', 'FC(F)(F)C(F)(F)C(F)(F)C(F)(F)C(F)(F)C(F)(F)I + O + O=S(O[Na])O[Na] --->> O=S(=O)([O-])C(F)(F)C(F)(F)C(F)(F)C(F)(F)C(F)(F)C(F)(F)F.[Na+]']}}}, {'smiles': 'O=S(=O)(O)C(F)(F)C(F)(F)C(F)(F)C(F)(F)C(F)(F)C(F)(F)F', 'toolkit': 'DS4SD', 'function': 'Patents_For_Molecule', 'parameters': '', 'results': []}, {'smiles': 'O=S(=O)(O)C(F)(F)C(F)(F)C(F)(F)C(F)(F)C(F)(F)C(F)(F)F', 'toolkit': 'DS4SD', 'function': 'Patents_For_Molecule', 'parameters': '', 'results': []}, {'smiles': 'O=S(=O)(O)C(F)(F)C(F)(F)C(F)(F)C(F)(F)C(F)(F)C(F)(F)F', 'toolkit': 'DS4SD', 'function': 'Patents_For_Molecule', 'parameters': '', 'results': []}, {'smiles': 'O=S(=O)(O)C(F)(F)C(F)(F)C(F)(F)C(F)(F)C(F)(F)C(F)(F)F', 'toolkit': 'DS4SD', 'function': 'Patents_For_Molecule', 'parameters': '', 'results': []}, {'smiles': 'O=S(=O)(O)C(F)(F)C(F)(F)C(F)(F)C(F)(F)C(F)(F)C(F)(F)F', 'toolkit': 'DS4SD', 'function': 'Patents_For_Molecule', 'parameters': '', 'results': []}, {'toolkit': 'RXN', 'function': 'Predict_Retrosynthesis', 'smiles': 'O=S(=O)(O)C(F)(F)C(F)(F)C(F)(F)C(F)(F)C(F)(F)C(F)(F)F', 'parameters': {'max_steps': 6, 'ai_model': '12class-tokens-2021-05-14'}, 'results': {'0': {'confidence': 0.752, 'reactions': ['CO + O=S(=O)(OCc1ccccc1)C(F)(F)C(F)(F)C(F)(F)C(F)(F)C(F)(F)C(F)(F)F + [Pd] --->> O=S(=O)(O)C(F)(F)C(F)(F)C(F)(F)C(F)(F)C(F)(F)C(F)(F)F', 'CCN(CC)CC + ClCCl + O=S(=O)(F)C(F)(F)C(F)(F)C(F)(F)C(F)(F)C(F)(F)C(F)(F)F + OCc1ccccc1 --->> O=S(=O)(OCc1ccccc1)C(F)(F)C(F)(F)C(F)(F)C(F)(F)C(F)(F)C(F)(F)F']}}}, {'smiles': 'O=S(=O)(O)C(F)(F)C(F)(F)C(F)(F)C(F)(F)C(F)(F)C(F)(F)F', 'toolkit': 'DS4SD', 'function': 'Patents_For_Molecule', 'parameters': '', 'results': []}]\n",
      "888 C(C(C(C(F)(F)S(=O)(=O)O)(F)F)(F)F)(C(C(F)(F)F)(F)F)(F)F O=S(=O)(O)C(F)(F)C(F)(F)C(F)(F)C(F)(F)C(F)(F)C(F)(F)F O=S(=O)(O)C(F)(F)C(F)(F)C(F)(F)C(F)(F)C(F)(F)C(F)(F)F\n",
      "888 C(C(C(C(F)(F)S(=O)(=O)O)(F)F)(F)F)(C(C(F)(F)F)(F)F)(F)F O=S(=O)(O)C(F)(F)C(F)(F)C(F)(F)C(F)(F)C(F)(F)C(F)(F)F O=S(=O)(O)C(F)(F)C(F)(F)C(F)(F)C(F)(F)C(F)(F)C(F)(F)F\n",
      "888 C(C(C(C(F)(F)S(=O)(=O)O)(F)F)(F)F)(C(C(F)(F)F)(F)F)(F)F O=S(=O)(O)C(F)(F)C(F)(F)C(F)(F)C(F)(F)C(F)(F)C(F)(F)F O=S(=O)(O)C(F)(F)C(F)(F)C(F)(F)C(F)(F)C(F)(F)C(F)(F)F\n",
      "888 C(C(C(C(F)(F)S(=O)(=O)O)(F)F)(F)F)(C(C(F)(F)F)(F)F)(F)F O=S(=O)(O)C(F)(F)C(F)(F)C(F)(F)C(F)(F)C(F)(F)C(F)(F)F O=S(=O)(O)C(F)(F)C(F)(F)C(F)(F)C(F)(F)C(F)(F)C(F)(F)F\n",
      "888 C(C(C(C(F)(F)S(=O)(=O)O)(F)F)(F)F)(C(C(F)(F)F)(F)F)(F)F O=S(=O)(O)C(F)(F)C(F)(F)C(F)(F)C(F)(F)C(F)(F)C(F)(F)F O=S(=O)(O)C(F)(F)C(F)(F)C(F)(F)C(F)(F)C(F)(F)C(F)(F)F\n",
      "888 C(C(C(C(F)(F)S(=O)(=O)O)(F)F)(F)F)(C(C(F)(F)F)(F)F)(F)F O=S(=O)(O)C(F)(F)C(F)(F)C(F)(F)C(F)(F)C(F)(F)C(F)(F)F O=S(=O)(O)C(F)(F)C(F)(F)C(F)(F)C(F)(F)C(F)(F)C(F)(F)F\n",
      "888 C(C(C(C(F)(F)S(=O)(=O)O)(F)F)(F)F)(C(C(F)(F)F)(F)F)(F)F O=S(=O)(O)C(F)(F)C(F)(F)C(F)(F)C(F)(F)C(F)(F)C(F)(F)F O=S(=O)(O)C(F)(F)C(F)(F)C(F)(F)C(F)(F)C(F)(F)C(F)(F)F\n",
      "888 C(C(C(C(F)(F)S(=O)(=O)O)(F)F)(F)F)(C(C(F)(F)F)(F)F)(F)F O=S(=O)(O)C(F)(F)C(F)(F)C(F)(F)C(F)(F)C(F)(F)C(F)(F)F O=S(=O)(O)C(F)(F)C(F)(F)C(F)(F)C(F)(F)C(F)(F)C(F)(F)F\n",
      "888 C(C(C(C(F)(F)S(=O)(=O)O)(F)F)(F)F)(C(C(F)(F)F)(F)F)(F)F O=S(=O)(O)C(F)(F)C(F)(F)C(F)(F)C(F)(F)C(F)(F)C(F)(F)F O=S(=O)(O)C(F)(F)C(F)(F)C(F)(F)C(F)(F)C(F)(F)C(F)(F)F\n",
      "888 C(C(C(C(F)(F)S(=O)(=O)O)(F)F)(F)F)(C(C(F)(F)F)(F)F)(F)F O=S(=O)(O)C(F)(F)C(F)(F)C(F)(F)C(F)(F)C(F)(F)C(F)(F)F O=S(=O)(O)C(F)(F)C(F)(F)C(F)(F)C(F)(F)C(F)(F)C(F)(F)F\n",
      "888 C(C(C(C(F)(F)S(=O)(=O)O)(F)F)(F)F)(C(C(F)(F)F)(F)F)(F)F O=S(=O)(O)C(F)(F)C(F)(F)C(F)(F)C(F)(F)C(F)(F)C(F)(F)F O=S(=O)(O)C(F)(F)C(F)(F)C(F)(F)C(F)(F)C(F)(F)C(F)(F)F\n",
      "888 C(C(C(C(F)(F)S(=O)(=O)O)(F)F)(F)F)(C(C(F)(F)F)(F)F)(F)F O=S(=O)(O)C(F)(F)C(F)(F)C(F)(F)C(F)(F)C(F)(F)C(F)(F)F O=S(=O)(O)C(F)(F)C(F)(F)C(F)(F)C(F)(F)C(F)(F)C(F)(F)F\n",
      "888 C(C(C(C(F)(F)S(=O)(=O)O)(F)F)(F)F)(C(C(F)(F)F)(F)F)(F)F O=S(=O)(O)C(F)(F)C(F)(F)C(F)(F)C(F)(F)C(F)(F)C(F)(F)F O=S(=O)(O)C(F)(F)C(F)(F)C(F)(F)C(F)(F)C(F)(F)C(F)(F)F\n",
      "888 C(C(C(C(F)(F)S(=O)(=O)O)(F)F)(F)F)(C(C(F)(F)F)(F)F)(F)F O=S(=O)(O)C(F)(F)C(F)(F)C(F)(F)C(F)(F)C(F)(F)C(F)(F)F O=S(=O)(O)C(F)(F)C(F)(F)C(F)(F)C(F)(F)C(F)(F)C(F)(F)F\n",
      "888 C(C(C(C(F)(F)S(=O)(=O)O)(F)F)(F)F)(C(C(F)(F)F)(F)F)(F)F O=S(=O)(O)C(F)(F)C(F)(F)C(F)(F)C(F)(F)C(F)(F)C(F)(F)F O=S(=O)(O)C(F)(F)C(F)(F)C(F)(F)C(F)(F)C(F)(F)C(F)(F)F\n",
      "888 C(C(C(C(F)(F)S(=O)(=O)O)(F)F)(F)F)(C(C(F)(F)F)(F)F)(F)F O=S(=O)(O)C(F)(F)C(F)(F)C(F)(F)C(F)(F)C(F)(F)C(F)(F)F O=S(=O)(O)C(F)(F)C(F)(F)C(F)(F)C(F)(F)C(F)(F)C(F)(F)F\n",
      "888 C(C(C(C(F)(F)S(=O)(=O)O)(F)F)(F)F)(C(C(F)(F)F)(F)F)(F)F O=S(=O)(O)C(F)(F)C(F)(F)C(F)(F)C(F)(F)C(F)(F)C(F)(F)F O=S(=O)(O)C(F)(F)C(F)(F)C(F)(F)C(F)(F)C(F)(F)C(F)(F)F\n",
      "888 C(C(C(C(F)(F)S(=O)(=O)O)(F)F)(F)F)(C(C(F)(F)F)(F)F)(F)F O=S(=O)(O)C(F)(F)C(F)(F)C(F)(F)C(F)(F)C(F)(F)C(F)(F)F O=S(=O)(O)C(F)(F)C(F)(F)C(F)(F)C(F)(F)C(F)(F)C(F)(F)F\n",
      "888 C(C(C(C(F)(F)S(=O)(=O)O)(F)F)(F)F)(C(C(F)(F)F)(F)F)(F)F O=S(=O)(O)C(F)(F)C(F)(F)C(F)(F)C(F)(F)C(F)(F)C(F)(F)F O=S(=O)(O)C(F)(F)C(F)(F)C(F)(F)C(F)(F)C(F)(F)C(F)(F)F\n",
      "888 C(C(C(C(F)(F)S(=O)(=O)O)(F)F)(F)F)(C(C(F)(F)F)(F)F)(F)F O=S(=O)(O)C(F)(F)C(F)(F)C(F)(F)C(F)(F)C(F)(F)C(F)(F)F O=S(=O)(O)C(F)(F)C(F)(F)C(F)(F)C(F)(F)C(F)(F)C(F)(F)F\n",
      "888 C(C(C(C(F)(F)S(=O)(=O)O)(F)F)(F)F)(C(C(F)(F)F)(F)F)(F)F O=S(=O)(O)C(F)(F)C(F)(F)C(F)(F)C(F)(F)C(F)(F)C(F)(F)F O=S(=O)(O)C(F)(F)C(F)(F)C(F)(F)C(F)(F)C(F)(F)C(F)(F)F\n",
      "888 C(C(C(C(F)(F)S(=O)(=O)O)(F)F)(F)F)(C(C(F)(F)F)(F)F)(F)F O=S(=O)(O)C(F)(F)C(F)(F)C(F)(F)C(F)(F)C(F)(F)C(F)(F)F O=S(=O)(O)C(F)(F)C(F)(F)C(F)(F)C(F)(F)C(F)(F)C(F)(F)F\n",
      "888 C(C(C(C(F)(F)S(=O)(=O)O)(F)F)(F)F)(C(C(F)(F)F)(F)F)(F)F O=S(=O)(O)C(F)(F)C(F)(F)C(F)(F)C(F)(F)C(F)(F)C(F)(F)F O=S(=O)(O)C(F)(F)C(F)(F)C(F)(F)C(F)(F)C(F)(F)C(F)(F)F\n",
      "888 C(C(C(C(F)(F)S(=O)(=O)O)(F)F)(F)F)(C(C(F)(F)F)(F)F)(F)F O=S(=O)(O)C(F)(F)C(F)(F)C(F)(F)C(F)(F)C(F)(F)C(F)(F)F O=S(=O)(O)C(F)(F)C(F)(F)C(F)(F)C(F)(F)C(F)(F)C(F)(F)F\n",
      "888 C(C(C(C(F)(F)S(=O)(=O)O)(F)F)(F)F)(C(C(F)(F)F)(F)F)(F)F O=S(=O)(O)C(F)(F)C(F)(F)C(F)(F)C(F)(F)C(F)(F)C(F)(F)F O=S(=O)(O)C(F)(F)C(F)(F)C(F)(F)C(F)(F)C(F)(F)C(F)(F)F\n",
      "888 C(C(C(C(F)(F)S(=O)(=O)O)(F)F)(F)F)(C(C(F)(F)F)(F)F)(F)F O=S(=O)(O)C(F)(F)C(F)(F)C(F)(F)C(F)(F)C(F)(F)C(F)(F)F O=S(=O)(O)C(F)(F)C(F)(F)C(F)(F)C(F)(F)C(F)(F)C(F)(F)F\n",
      "888 C(C(C(C(F)(F)S(=O)(=O)O)(F)F)(F)F)(C(C(F)(F)F)(F)F)(F)F O=S(=O)(O)C(F)(F)C(F)(F)C(F)(F)C(F)(F)C(F)(F)C(F)(F)F O=S(=O)(O)C(F)(F)C(F)(F)C(F)(F)C(F)(F)C(F)(F)C(F)(F)F\n",
      "888 C(C(C(C(F)(F)S(=O)(=O)O)(F)F)(F)F)(C(C(F)(F)F)(F)F)(F)F O=S(=O)(O)C(F)(F)C(F)(F)C(F)(F)C(F)(F)C(F)(F)C(F)(F)F O=S(=O)(O)C(F)(F)C(F)(F)C(F)(F)C(F)(F)C(F)(F)C(F)(F)F\n",
      "888 C(C(C(C(F)(F)S(=O)(=O)O)(F)F)(F)F)(C(C(F)(F)F)(F)F)(F)F O=S(=O)(O)C(F)(F)C(F)(F)C(F)(F)C(F)(F)C(F)(F)C(F)(F)F O=S(=O)(O)C(F)(F)C(F)(F)C(F)(F)C(F)(F)C(F)(F)C(F)(F)F\n",
      "888 C(C(C(C(F)(F)S(=O)(=O)O)(F)F)(F)F)(C(C(F)(F)F)(F)F)(F)F O=S(=O)(O)C(F)(F)C(F)(F)C(F)(F)C(F)(F)C(F)(F)C(F)(F)F O=S(=O)(O)C(F)(F)C(F)(F)C(F)(F)C(F)(F)C(F)(F)C(F)(F)F\n",
      "888 C(C(C(C(F)(F)S(=O)(=O)O)(F)F)(F)F)(C(C(F)(F)F)(F)F)(F)F O=S(=O)(O)C(F)(F)C(F)(F)C(F)(F)C(F)(F)C(F)(F)C(F)(F)F O=S(=O)(O)C(F)(F)C(F)(F)C(F)(F)C(F)(F)C(F)(F)C(F)(F)F\n",
      "888 C(C(C(C(F)(F)S(=O)(=O)O)(F)F)(F)F)(C(C(F)(F)F)(F)F)(F)F O=S(=O)(O)C(F)(F)C(F)(F)C(F)(F)C(F)(F)C(F)(F)C(F)(F)F O=S(=O)(O)C(F)(F)C(F)(F)C(F)(F)C(F)(F)C(F)(F)C(F)(F)F\n",
      "888 C(C(C(C(F)(F)S(=O)(=O)O)(F)F)(F)F)(C(C(F)(F)F)(F)F)(F)F O=S(=O)(O)C(F)(F)C(F)(F)C(F)(F)C(F)(F)C(F)(F)C(F)(F)F O=S(=O)(O)C(F)(F)C(F)(F)C(F)(F)C(F)(F)C(F)(F)C(F)(F)F\n",
      "888 C(C(C(C(F)(F)S(=O)(=O)O)(F)F)(F)F)(C(C(F)(F)F)(F)F)(F)F O=S(=O)(O)C(F)(F)C(F)(F)C(F)(F)C(F)(F)C(F)(F)C(F)(F)F O=S(=O)(O)C(F)(F)C(F)(F)C(F)(F)C(F)(F)C(F)(F)C(F)(F)F\n",
      "888 C(C(C(C(F)(F)S(=O)(=O)O)(F)F)(F)F)(C(C(F)(F)F)(F)F)(F)F O=S(=O)(O)C(F)(F)C(F)(F)C(F)(F)C(F)(F)C(F)(F)C(F)(F)F O=S(=O)(O)C(F)(F)C(F)(F)C(F)(F)C(F)(F)C(F)(F)C(F)(F)F\n",
      "888 C(C(C(C(F)(F)S(=O)(=O)O)(F)F)(F)F)(C(C(F)(F)F)(F)F)(F)F O=S(=O)(O)C(F)(F)C(F)(F)C(F)(F)C(F)(F)C(F)(F)C(F)(F)F O=S(=O)(O)C(F)(F)C(F)(F)C(F)(F)C(F)(F)C(F)(F)C(F)(F)F\n",
      "888 C(C(C(C(F)(F)S(=O)(=O)O)(F)F)(F)F)(C(C(F)(F)F)(F)F)(F)F O=S(=O)(O)C(F)(F)C(F)(F)C(F)(F)C(F)(F)C(F)(F)C(F)(F)F O=S(=O)(O)C(F)(F)C(F)(F)C(F)(F)C(F)(F)C(F)(F)C(F)(F)F\n",
      "888 C(C(C(C(F)(F)S(=O)(=O)O)(F)F)(F)F)(C(C(F)(F)F)(F)F)(F)F O=S(=O)(O)C(F)(F)C(F)(F)C(F)(F)C(F)(F)C(F)(F)C(F)(F)F O=S(=O)(O)C(F)(F)C(F)(F)C(F)(F)C(F)(F)C(F)(F)C(F)(F)F\n",
      "888 C(C(C(C(F)(F)S(=O)(=O)O)(F)F)(F)F)(C(C(F)(F)F)(F)F)(F)F O=S(=O)(O)C(F)(F)C(F)(F)C(F)(F)C(F)(F)C(F)(F)C(F)(F)F O=S(=O)(O)C(F)(F)C(F)(F)C(F)(F)C(F)(F)C(F)(F)C(F)(F)F\n",
      "888 C(C(C(C(F)(F)S(=O)(=O)O)(F)F)(F)F)(C(C(F)(F)F)(F)F)(F)F O=S(=O)(O)C(F)(F)C(F)(F)C(F)(F)C(F)(F)C(F)(F)C(F)(F)F O=S(=O)(O)C(F)(F)C(F)(F)C(F)(F)C(F)(F)C(F)(F)C(F)(F)F\n",
      "888 C(C(C(C(F)(F)S(=O)(=O)O)(F)F)(F)F)(C(C(F)(F)F)(F)F)(F)F O=S(=O)(O)C(F)(F)C(F)(F)C(F)(F)C(F)(F)C(F)(F)C(F)(F)F O=S(=O)(O)C(F)(F)C(F)(F)C(F)(F)C(F)(F)C(F)(F)C(F)(F)F\n",
      "888 C(C(C(C(F)(F)S(=O)(=O)O)(F)F)(F)F)(C(C(F)(F)F)(F)F)(F)F O=S(=O)(O)C(F)(F)C(F)(F)C(F)(F)C(F)(F)C(F)(F)C(F)(F)F O=S(=O)(O)C(F)(F)C(F)(F)C(F)(F)C(F)(F)C(F)(F)C(F)(F)F\n",
      "888 C(C(C(C(F)(F)S(=O)(=O)O)(F)F)(F)F)(C(C(F)(F)F)(F)F)(F)F O=S(=O)(O)C(F)(F)C(F)(F)C(F)(F)C(F)(F)C(F)(F)C(F)(F)F O=S(=O)(O)C(F)(F)C(F)(F)C(F)(F)C(F)(F)C(F)(F)C(F)(F)F\n",
      "888 C(C(C(C(F)(F)S(=O)(=O)O)(F)F)(F)F)(C(C(F)(F)F)(F)F)(F)F O=S(=O)(O)C(F)(F)C(F)(F)C(F)(F)C(F)(F)C(F)(F)C(F)(F)F O=S(=O)(O)C(F)(F)C(F)(F)C(F)(F)C(F)(F)C(F)(F)C(F)(F)F\n",
      "888 C(C(C(C(F)(F)S(=O)(=O)O)(F)F)(F)F)(C(C(F)(F)F)(F)F)(F)F O=S(=O)(O)C(F)(F)C(F)(F)C(F)(F)C(F)(F)C(F)(F)C(F)(F)F O=S(=O)(O)C(F)(F)C(F)(F)C(F)(F)C(F)(F)C(F)(F)C(F)(F)F\n",
      "888 C(C(C(C(F)(F)S(=O)(=O)O)(F)F)(F)F)(C(C(F)(F)F)(F)F)(F)F O=S(=O)(O)C(F)(F)C(F)(F)C(F)(F)C(F)(F)C(F)(F)C(F)(F)F O=S(=O)(O)C(F)(F)C(F)(F)C(F)(F)C(F)(F)C(F)(F)C(F)(F)F\n",
      "888 C(C(C(C(F)(F)S(=O)(=O)O)(F)F)(F)F)(C(C(F)(F)F)(F)F)(F)F O=S(=O)(O)C(F)(F)C(F)(F)C(F)(F)C(F)(F)C(F)(F)C(F)(F)F O=S(=O)(O)C(F)(F)C(F)(F)C(F)(F)C(F)(F)C(F)(F)C(F)(F)F\n",
      "888 C(C(C(C(F)(F)S(=O)(=O)O)(F)F)(F)F)(C(C(F)(F)F)(F)F)(F)F O=S(=O)(O)C(F)(F)C(F)(F)C(F)(F)C(F)(F)C(F)(F)C(F)(F)F O=S(=O)(O)C(F)(F)C(F)(F)C(F)(F)C(F)(F)C(F)(F)C(F)(F)F\n",
      "888 C(C(C(C(F)(F)S(=O)(=O)O)(F)F)(F)F)(C(C(F)(F)F)(F)F)(F)F O=S(=O)(O)C(F)(F)C(F)(F)C(F)(F)C(F)(F)C(F)(F)C(F)(F)F O=S(=O)(O)C(F)(F)C(F)(F)C(F)(F)C(F)(F)C(F)(F)C(F)(F)F\n",
      "888 C(C(C(C(F)(F)S(=O)(=O)O)(F)F)(F)F)(C(C(F)(F)F)(F)F)(F)F O=S(=O)(O)C(F)(F)C(F)(F)C(F)(F)C(F)(F)C(F)(F)C(F)(F)F O=S(=O)(O)C(F)(F)C(F)(F)C(F)(F)C(F)(F)C(F)(F)C(F)(F)F\n",
      "888 C(C(C(C(F)(F)S(=O)(=O)O)(F)F)(F)F)(C(C(F)(F)F)(F)F)(F)F O=S(=O)(O)C(F)(F)C(F)(F)C(F)(F)C(F)(F)C(F)(F)C(F)(F)F O=S(=O)(O)C(F)(F)C(F)(F)C(F)(F)C(F)(F)C(F)(F)C(F)(F)F\n",
      "888 C(C(C(C(F)(F)S(=O)(=O)O)(F)F)(F)F)(C(C(F)(F)F)(F)F)(F)F O=S(=O)(O)C(F)(F)C(F)(F)C(F)(F)C(F)(F)C(F)(F)C(F)(F)F O=S(=O)(O)C(F)(F)C(F)(F)C(F)(F)C(F)(F)C(F)(F)C(F)(F)F\n",
      "123\n",
      "inchikey QZHDEAJFRJCDMF-UHFFFAOYSA-M\n",
      "456 [{'toolkit': 'RXN', 'function': 'Predict_Retrosynthesis', 'smiles': 'O=S(=O)([O-])C(F)(F)C(F)(F)C(F)(F)C(F)(F)C(F)(F)C(F)(F)F', 'parameters': {'max_steps': 6, 'ai_model': '12class-tokens-2021-05-14'}, 'results': {'0': {'confidence': 0.0, 'reactions': ['O=S(=O)([O-])C(F)(F)C(F)(F)C(F)(F)C(F)(F)C(F)(F)C(F)(F)F --->> O=S(=O)([O-])C(F)(F)C(F)(F)C(F)(F)C(F)(F)C(F)(F)C(F)(F)F']}}}]\n",
      "888 C(C(C(C(F)(F)S(=O)(=O)[O-])(F)F)(F)F)(C(C(F)(F)F)(F)F)(F)F O=S(=O)([O-])C(F)(F)C(F)(F)C(F)(F)C(F)(F)C(F)(F)C(F)(F)F O=S(=O)([O-])C(F)(F)C(F)(F)C(F)(F)C(F)(F)C(F)(F)C(F)(F)F\n"
     ]
    },
    {
     "data": {
      "text/markdown": [
       "<span style=\"color: #d00\">No matching analysis results found for any of the molecules in your working set</span> <br> \n"
      ],
      "text/plain": [
       "<IPython.core.display.Markdown object>"
      ]
     },
     "execution_count": 21,
     "metadata": {},
     "output_type": "execute_result"
    }
   ],
   "source": [
    "%openad enrich molecules with analysis"
   ]
  },
  {
   "cell_type": "code",
   "execution_count": null,
   "id": "64a3d2e9-7262-4f09-b58e-d3e80d098385",
   "metadata": {},
   "outputs": [],
   "source": []
  }
 ],
 "metadata": {
  "jupyterlab-rise": {
   "footer": "<h3>World!</h3>",
   "header": "<h1>Hello</h1>"
  },
  "kernelspec": {
   "display_name": "ad-moe",
   "language": "python",
   "name": "ad-moe"
  },
  "language_info": {
   "codemirror_mode": {
    "name": "ipython",
    "version": 3
   },
   "file_extension": ".py",
   "mimetype": "text/x-python",
   "name": "python",
   "nbconvert_exporter": "python",
   "pygments_lexer": "ipython3",
   "version": "3.11.7"
  }
 },
 "nbformat": 4,
 "nbformat_minor": 5
}
