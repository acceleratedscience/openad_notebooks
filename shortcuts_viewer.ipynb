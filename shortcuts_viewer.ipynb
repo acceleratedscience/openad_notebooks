{
 "cells": [
  {
   "cell_type": "code",
   "execution_count": null,
   "id": "34c0e161-ba65-4636-9d9e-242f9c8ca72b",
   "metadata": {
    "jupyter": {
     "source_hidden": true
    },
    "tags": []
   },
   "outputs": [],
   "source": [
    "# Import styles\n",
    "import sys\n",
    "sys.path.append('./styles')\n",
    "from init_style import init\n",
    "init()"
   ]
  },
  {
   "cell_type": "markdown",
   "id": "cce67907-de89-480e-8537-39e731c6d244",
   "metadata": {
    "execution": {
     "iopub.execute_input": "2024-10-04T03:30:40.080512Z",
     "iopub.status.busy": "2024-10-04T03:30:40.080259Z",
     "iopub.status.idle": "2024-10-04T03:30:40.099960Z",
     "shell.execute_reply": "2024-10-04T03:30:40.098306Z",
     "shell.execute_reply.started": "2024-10-04T03:30:40.080490Z"
    },
    "tags": []
   },
   "source": [
    "<!-- Header banner -->\n",
    "<div class=\"banner\"><div>Short Cuts and Viewers</div><b>OpenAD <span>Tutorial</span></b></div>"
   ]
  },
  {
   "cell_type": "markdown",
   "id": "ee519fe0-730f-4777-8a0c-515ce2d35eb5",
   "metadata": {},
   "source": [
    "## Substituting Data & merging into molecule working sets"
   ]
  },
  {
   "cell_type": "code",
   "execution_count": null,
   "id": "5919788e-49bb-4fc7-98dd-93db204a375f",
   "metadata": {
    "tags": []
   },
   "outputs": [],
   "source": [
    "# setup properties and molecules you wish to work with\n",
    "properties_all = ['molecular_weight', 'number_of_aromatic_rings', 'number_of_h_acceptors', 'number_of_atoms','number_of_rings', 'number_of_rotatable_bonds', 'number_of_large_rings', 'number_of_heterocycles', 'number_of_stereocenters','is_scaffold', 'bertz', 'tpsa', 'logp', 'qed', 'plogp', 'penalized_logp', 'lipinski', 'sas', 'esol']\n",
    "a_molecule_list = [ 'O=C(O)C(F)(OC(O)(F)C(F)(F)C(F)(F)F)C(F)(F)F', 'ON(O)C(F)(OC(F)(F)C(F)(F)C(F)(F)F)C(F)(F)F', 'C(C(C1C(=C(C(=O)O1)O)O)O)O' ]"
   ]
  },
  {
   "cell_type": "markdown",
   "id": "55e6b56d-215a-4551-8c77-898e372a6196",
   "metadata": {},
   "source": [
    "run property generation and merge molecules into the molecules working set which is a set of molecules we manage in memory for you"
   ]
  },
  {
   "cell_type": "code",
   "execution_count": null,
   "id": "20bb31a9-9273-46f6-ade2-3c6a8b2b88d1",
   "metadata": {
    "scrolled": true,
    "tags": []
   },
   "outputs": [],
   "source": [
    "%openad prop get molecule property {properties_all} for  {a_molecule_list} merge with mols"
   ]
  },
  {
   "cell_type": "markdown",
   "id": "9b6071c9-a490-4ab9-ba78-c4a852d8c0fb",
   "metadata": {},
   "source": [
    "## Using @MOLS substitution of in memory working sets"
   ]
  },
  {
   "cell_type": "markdown",
   "id": "effc24c7-6972-4cdc-8a0c-9f1d63ac478c",
   "metadata": {
    "execution": {
     "iopub.execute_input": "2024-10-04T03:13:09.864898Z",
     "iopub.status.busy": "2024-10-04T03:13:09.864595Z",
     "iopub.status.idle": "2024-10-04T03:13:09.881167Z",
     "shell.execute_reply": "2024-10-04T03:13:09.879916Z",
     "shell.execute_reply.started": "2024-10-04T03:13:09.864869Z"
    },
    "tags": []
   },
   "source": [
    "We can aso substitute with the molecuels we just merged as well as any other molecules we choose to add to the list from pubchem"
   ]
  },
  {
   "cell_type": "code",
   "execution_count": null,
   "id": "6c983a45-9aa9-44a4-bd80-b40e10c888c0",
   "metadata": {
    "tags": []
   },
   "outputs": [],
   "source": [
    "%openad add molecule CCO force\n",
    "%openad prop get molecule property lipinski for  @mols merge with mols"
   ]
  },
  {
   "cell_type": "markdown",
   "id": "f73458cd-1e4a-4468-ac9e-85491ce35e45",
   "metadata": {
    "execution": {
     "iopub.execute_input": "2024-10-04T03:16:57.765236Z",
     "iopub.status.busy": "2024-10-04T03:16:57.764991Z",
     "iopub.status.idle": "2024-10-04T03:16:57.780652Z",
     "shell.execute_reply": "2024-10-04T03:16:57.780020Z",
     "shell.execute_reply.started": "2024-10-04T03:16:57.765215Z"
    },
    "tags": []
   },
   "source": [
    "## Molecule Viewer"
   ]
  },
  {
   "cell_type": "markdown",
   "id": "9a35ddbc-60c8-4111-8821-fd46c821b029",
   "metadata": {},
   "source": [
    "The Molecule Viewer allows you to view molecules in a list and then select them and view their properties in detail"
   ]
  },
  {
   "cell_type": "code",
   "execution_count": null,
   "id": "bb222a15-ac8e-4745-aa56-bf69d7ac9466",
   "metadata": {
    "tags": []
   },
   "outputs": [],
   "source": [
    "%openad show molecules"
   ]
  },
  {
   "cell_type": "markdown",
   "id": "1d801398-a44c-423d-915d-882456e1b7b8",
   "metadata": {},
   "source": [
    "## View a molecule from the list or Pubchem"
   ]
  },
  {
   "cell_type": "markdown",
   "id": "a5639de1-c26f-4230-afda-6d93d4e66440",
   "metadata": {
    "execution": {
     "iopub.execute_input": "2024-10-04T03:19:52.619151Z",
     "iopub.status.busy": "2024-10-04T03:19:52.618897Z",
     "iopub.status.idle": "2024-10-04T03:19:52.636567Z",
     "shell.execute_reply": "2024-10-04T03:19:52.635321Z",
     "shell.execute_reply.started": "2024-10-04T03:19:52.619128Z"
    },
    "tags": []
   },
   "source": [
    "pull a molecule direcfrom pubchem and view it"
   ]
  },
  {
   "cell_type": "code",
   "execution_count": null,
   "id": "fd1203b4-cc6a-48b0-b620-89ab4909ccd1",
   "metadata": {
    "tags": []
   },
   "outputs": [],
   "source": [
    "%openad show molecule dopamine"
   ]
  },
  {
   "cell_type": "code",
   "execution_count": null,
   "id": "c621f543-ccc9-4c35-a615-eb0c18206e1d",
   "metadata": {
    "tags": []
   },
   "outputs": [],
   "source": [
    "%openad show protein 'NAYTRRYSSISSTIMDVDSTISSGRSTPAMMNGQGSTTSSSKNIAYNCCWDQCQACFNSSPDLADHIRSIHVDGQRGGVFVCLWKGCKVYNTPSTSQSWLQRHMLTHSGDKPFKCVVGGCNASFASQGGLARHVPTHFSQQNSSKVSSQPKAKEESPSKAGMNKRRKLKNKRRRSLPRPHDFFDAQTLDAIRHRAICFNLSAHIESLGKGHSVVFHSTVIAKRKEDSGKIKLLLHWMPEDILPDVWVNESERHQLKTKVVHLSKLPKDTALLLDPNIYRTMPQKRLKRTLIRKVFNLYLSKQ'"
   ]
  },
  {
   "cell_type": "markdown",
   "id": "7c3e63bb-d6e9-4e47-9d0b-55ff470cf18d",
   "metadata": {},
   "source": [
    "## Add more molecules by name from Pubchem "
   ]
  },
  {
   "cell_type": "code",
   "execution_count": null,
   "id": "75408647-5ee2-4b50-ba08-fb1b21c25c8c",
   "metadata": {
    "tags": []
   },
   "outputs": [],
   "source": [
    "%openad add molecule tritace"
   ]
  },
  {
   "cell_type": "code",
   "execution_count": null,
   "id": "bcb17cd0-4f63-46d4-98c9-8ce7df47a0dc",
   "metadata": {
    "tags": []
   },
   "outputs": [],
   "source": [
    "%openad add molecule aspirin force\n",
    "%openad add molecule ibuprofen force\n"
   ]
  },
  {
   "cell_type": "code",
   "execution_count": null,
   "id": "e8299d74-364f-4d94-9266-7365dd850511",
   "metadata": {
    "tags": []
   },
   "outputs": [],
   "source": [
    "%openad add molecule C(C(F)(F)F)OF.C(C(F)(F)F)OF.C(C(F)(F)F)F.C(F)F.C(F)F.C(F)F.C(F)F.C(F)S(=O)(=O)[N-]C(=O)F.C(F)(F)(F)F.[K+] force"
   ]
  },
  {
   "cell_type": "code",
   "execution_count": null,
   "id": "e7f0f56b-d015-4b11-9245-0c4cfff92acf",
   "metadata": {
    "tags": []
   },
   "outputs": [],
   "source": [
    "%openad show molecules"
   ]
  },
  {
   "cell_type": "markdown",
   "id": "be14043e-59b0-4be0-ae8f-0cb16cfa9652",
   "metadata": {
    "execution": {
     "iopub.execute_input": "2024-09-30T06:22:33.014313Z",
     "iopub.status.busy": "2024-09-30T06:22:33.013997Z",
     "iopub.status.idle": "2024-09-30T06:22:33.024355Z",
     "shell.execute_reply": "2024-09-30T06:22:33.023655Z",
     "shell.execute_reply.started": "2024-09-30T06:22:33.014284Z"
    },
    "tags": []
   },
   "source": [
    "## Substitute Molecules in working set into a standard property generation"
   ]
  },
  {
   "cell_type": "code",
   "execution_count": null,
   "id": "71c312ec-e5c1-4753-be0f-23f5e95e0ba2",
   "metadata": {
    "tags": []
   },
   "outputs": [],
   "source": [
    "%openad prop get molecule property lipinski for @mols"
   ]
  },
  {
   "cell_type": "markdown",
   "id": "f730ea5d-833f-4eaa-931c-27202d7a2c66",
   "metadata": {},
   "source": [
    "## Working with Result sets"
   ]
  },
  {
   "cell_type": "markdown",
   "id": "af71eb57-baf3-46fe-9320-ceac038eeb34",
   "metadata": {},
   "source": [
    "you can open data frames as result sets using the dataviewer with the following command"
   ]
  },
  {
   "cell_type": "code",
   "execution_count": null,
   "id": "edd736bf-6c06-4bcc-b591-dd5a2d8e1571",
   "metadata": {
    "tags": []
   },
   "outputs": [],
   "source": [
    "%openad result open"
   ]
  },
  {
   "cell_type": "code",
   "execution_count": null,
   "id": "afc238a7-3bf2-4866-8472-dbed58c87a54",
   "metadata": {},
   "outputs": [],
   "source": []
  }
 ],
 "metadata": {
  "kernelspec": {
   "display_name": "ad-venv",
   "language": "python",
   "name": "ad-venv"
  },
  "language_info": {
   "codemirror_mode": {
    "name": "ipython",
    "version": 3
   },
   "file_extension": ".py",
   "mimetype": "text/x-python",
   "name": "python",
   "nbconvert_exporter": "python",
   "pygments_lexer": "ipython3",
   "version": "3.11.7"
  }
 },
 "nbformat": 4,
 "nbformat_minor": 5
}
